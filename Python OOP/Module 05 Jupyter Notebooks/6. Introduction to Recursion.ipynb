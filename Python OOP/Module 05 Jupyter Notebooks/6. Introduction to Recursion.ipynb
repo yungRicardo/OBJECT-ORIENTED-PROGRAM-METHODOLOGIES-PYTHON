{
 "cells": [
  {
   "cell_type": "markdown",
   "metadata": {},
   "source": [
    "# Introduction to Recursion\n",
    "\n",
    "In this lecture we will go over the basics of Recursion.\n",
    "\n",
    "## What is recursion  \n",
    "Recursion is a way of programming or coding a problem, in which a function calls itself one or more times within its' body and the function must terminate.  \n",
    "   \n",
    "If a function definition fulfils this condition, we call it a recursive function.  \n",
    "\n",
    "Base case: A recursive function must converge to the base case in order to terminate.\n",
    "\n",
    "## What are the uses of recursion?\n",
    "\n",
    "* There are two main uses of recursion. \n",
    " * The first is when recursion is used as a technique in which a function makes one or more calls to itself. \n",
    " * The second is when a data structure uses smaller instances of the exact same type of data structure when it represents itself. You will learn about this in C S 3B.\n",
    "\n",
    "Recursion actually occurs in the real world, such as fractal patterns seen in plants!\n",
    "\n",
    "## Why use Recursion?\n",
    "\n",
    "Recursion provides a powerful alternative for performing repetitions of tasks in which a loop is not ideal. Most modern programming languages support recursion and recursion serves as a great tool for building out particular data structures."
   ]
  },
  {
   "cell_type": "markdown",
   "metadata": {},
   "source": [
    "### Let's start with our version of an a program to compute the power of a number"
   ]
  },
  {
   "cell_type": "code",
   "execution_count": null,
   "metadata": {},
   "outputs": [],
   "source": [
    "def my_power(number, exp):\n",
    "    \"\"\" Compute number ** exp (exp must be an int)\n",
    "    \"\"\"\n",
    "    if (type(exp) != int):\n",
    "        raise ValueError\n",
    "\n",
    "    if (exp == 0):\n",
    "        return 1.\n",
    "    if (exp < 0):\n",
    "        return 1. / my_power(number, -exp)\n",
    "    else:\n",
    "        return number * my_power(number, exp - 1)"
   ]
  },
  {
   "cell_type": "code",
   "execution_count": null,
   "metadata": {},
   "outputs": [],
   "source": [
    "print(f\"{my_power(2.4, 3)} vs. {(2.4 ** 3)}\") \n",
    "print(f\"{my_power(1.23, 9)} vs.{(1.23 ** 9)}\") \n",
    "print(f\"{my_power(5535, -29)} vs. {(5535 ** -29)}\") \n",
    "print(f\"{my_power(2.,32)} vs. {(2. ** 32)}\")"
   ]
  },
  {
   "cell_type": "markdown",
   "metadata": {},
   "source": [
    "#### Let's try with a float exp"
   ]
  },
  {
   "cell_type": "code",
   "execution_count": null,
   "metadata": {},
   "outputs": [],
   "source": [
    "print(f\"{my_power(4, 1.5)} vs. {(4 ** 1.5)}\")"
   ]
  },
  {
   "cell_type": "markdown",
   "metadata": {},
   "source": [
    "#### We definined our own home-made version of the built-in exponential operator, **, which we call my_pow().  \n",
    "- In our version, we only care about integer exponents,    \n",
    " - so we raise an exception if a non-int is passed as an exponent.  \n",
    "- In the client, we test to see if I get the same results as ** and, of course, we do, as long as an integer exponent is passed in.   \n",
    "- The odd thing about this method is that it calls itself.    \n",
    "- Recursion is sometimes defined as a function or method calling itself, and my_pow() certainly does that. \n",
    "- There is more to it than that, but this simple description usually helps when thinking about the concept.    \n",
    "- This method my_pow() used to compute a base to an exp power, say 2.44 or \"2.4 raised to the 4th power\" which is"
   ]
  },
  {
   "cell_type": "markdown",
   "metadata": {},
   "source": [
    "#### In the first example we raise 2.4 to the 3rd power (2.4 ** 3)"
   ]
  },
  {
   "cell_type": "code",
   "execution_count": null,
   "metadata": {},
   "outputs": [],
   "source": [
    " 2.4 * 2.4 * 2.4"
   ]
  },
  {
   "cell_type": "code",
   "execution_count": null,
   "metadata": {},
   "outputs": [],
   "source": [
    "print(f\"{my_power(2.4, 3)} vs. {(2.4 ** 3)}\")"
   ]
  },
  {
   "cell_type": "code",
   "execution_count": null,
   "metadata": {},
   "outputs": [],
   "source": [
    "def my_power(number, exp):\n",
    "    if (type(exp) != int):\n",
    "        raise ValueError\n",
    "\n",
    "    if (exp == 0):\n",
    "        return 1.\n",
    "    if (exp < 0):\n",
    "        return 1. / my_power(number, -exp)\n",
    "    else:\n",
    "        return number * my_power(number, exp - 1)\n",
    "    \n",
    "my_power(2.4, 3)"
   ]
  },
  {
   "cell_type": "markdown",
   "metadata": {},
   "source": [
    "#### Now let's run the program in the visualizer  https://pythontutor.com/visualize.html#mode=edit\n",
    "\n",
    "def my_power(number, exp):  \n",
    "\n",
    "    if (type(exp) != int):    \n",
    "        raise ValueError\n",
    "    if (exp == 0):\n",
    "        return 1.\n",
    "    elif (exp < 0):\n",
    "        return 1. / my_power(number, -exp)\n",
    "    else:\n",
    "        return number * my_power(number, exp - 1)\n",
    "    \n",
    "my_power(2.4, 3)\n"
   ]
  },
  {
   "cell_type": "markdown",
   "metadata": {},
   "source": [
    "# Factorial Example\n",
    "We'll start this introduction with an example of recursion- a factorial function.\n",
    "\n",
    "In this part of the lecture we will explain recursion through an example excercise of creating the factorial function.\n",
    "    \n",
    "The factorial function is denoted with an exclamation point and is defined as the product of the integers from 1 to *n*. Formally, we can state this as:\n",
    "\n",
    "$$ n! = n·(n-1)·(n-2)... 3·2·1 $$\n",
    "\n",
    "Note, **if n = 0, then n! = 1**. This is important to take into account, because it will serve as our *base case*. "
   ]
  },
  {
   "cell_type": "markdown",
   "metadata": {},
   "source": [
    "## First we will compute factorial using iteration "
   ]
  },
  {
   "cell_type": "code",
   "execution_count": null,
   "metadata": {},
   "outputs": [],
   "source": [
    "def factorial(n): \n",
    "    if n < 0: \n",
    "        return 0   # The factorial of a negative number is undefined.\n",
    "    elif n == 0 or n == 1: \n",
    "        return 1\n",
    "    else: \n",
    "        fact = 1\n",
    "        while(n > 1): \n",
    "            fact *= n \n",
    "            n -= 1\n",
    "        return fact\n",
    "    \n",
    "factorial(5)"
   ]
  },
  {
   "cell_type": "markdown",
   "metadata": {},
   "source": [
    "## Now let's compute the factorial recursively"
   ]
  },
  {
   "cell_type": "markdown",
   "metadata": {},
   "source": [
    "Take this example:\n",
    "$$4! = 4 · 3 · 2 · 1 = 24. $$   \n",
    "    \n",
    "So how can we state this in a recursive manner? This is where the concept of **base case** comes in.\n",
    "\n",
    "**Base case** is a key part of understanding recursion.   \n",
    "  \n",
    "Let's rewrite the above equation of 4! so it looks like this:\n",
    "\n",
    "$$ 4! = 4 · (3 · 2 · 1) = 24 $$\n",
    "\n",
    "Notice that this is the same as:\n",
    "\n",
    "$$ 4! = 4 · 3! = 24 $$\n",
    "\n",
    "Meaning we can rewrite the formal recursion definition in terms of recursion like so:\n",
    "\n",
    "$$ n! = n·(n−1)!$$\n",
    "\n",
    "Note, **if n = 0, then n! = 1**. This means the **base case** occurs once n=0, the *recursive cases* are defined in the equation above. Whenever you are trying to develop a recursive solution it is very important to think about the base case, as your solution will need to return the base case once all the recursive cases have been worked through. Let's look at how we can create the factorial function in Python:\n",
    "___"
   ]
  },
  {
   "cell_type": "code",
   "execution_count": null,
   "metadata": {},
   "outputs": [],
   "source": [
    "def fact(n):\n",
    "    '''\n",
    "    Returns factorial of n (n!).\n",
    "    Note use of recursion\n",
    "    '''\n",
    "    # BASE CASE!\n",
    "    if n == 0:\n",
    "        return 1\n",
    "    \n",
    "    # Recursion!\n",
    "    else:\n",
    "        return n * fact(n-1)"
   ]
  },
  {
   "cell_type": "markdown",
   "metadata": {},
   "source": [
    "Let's see it in action!"
   ]
  },
  {
   "cell_type": "code",
   "execution_count": null,
   "metadata": {},
   "outputs": [],
   "source": [
    "fact(5)"
   ]
  },
  {
   "cell_type": "markdown",
   "metadata": {
    "collapsed": true
   },
   "source": [
    "Note how we had an if statement to check if a base case occured. Without it this function would not have successfully completed running. We can visualize the recursion with the following figure:"
   ]
  },
  {
   "cell_type": "code",
   "execution_count": null,
   "metadata": {},
   "outputs": [],
   "source": [
    "from IPython.display import Image\n",
    "from IPython.core.display import HTML \n",
    "Image(url= 'http://faculty.cs.niu.edu/~freedman/241/241notes/recur.gif')"
   ]
  },
  {
   "cell_type": "markdown",
   "metadata": {
    "collapsed": true
   },
   "source": [
    "We can follow this flow chart from the top, reaching the base case, and then working our way back up.\n",
    "\n",
    "# Conclusion\n",
    "\n",
    "Recursion is a powerful tool, but it can be a tricky concept to implement. In the next lectures we will go over a few more example problems for recursion. Then afterwards you'll be faced with some real interview questions involving recursion!"
   ]
  }
 ],
 "metadata": {
  "kernelspec": {
   "display_name": "Python 3 (ipykernel)",
   "language": "python",
   "name": "python3"
  },
  "language_info": {
   "codemirror_mode": {
    "name": "ipython",
    "version": 3
   },
   "file_extension": ".py",
   "mimetype": "text/x-python",
   "name": "python",
   "nbconvert_exporter": "python",
   "pygments_lexer": "ipython3",
   "version": "3.11.5"
  }
 },
 "nbformat": 4,
 "nbformat_minor": 1
}
