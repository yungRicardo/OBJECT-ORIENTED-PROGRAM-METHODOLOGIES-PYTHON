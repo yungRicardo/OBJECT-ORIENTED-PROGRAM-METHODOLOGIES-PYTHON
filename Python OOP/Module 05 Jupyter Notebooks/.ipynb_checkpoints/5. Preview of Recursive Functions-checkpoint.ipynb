{
 "cells": [
  {
   "cell_type": "markdown",
   "metadata": {},
   "source": [
    "# Recursive Fucntions"
   ]
  },
  {
   "cell_type": "markdown",
   "metadata": {},
   "source": [
    "## What is Recursion?\n",
    "Basically, a function is said to be recursive if it calls itself. Below is a recursive function that prints the phrase “Hello World” a total of count times:"
   ]
  },
  {
   "cell_type": "markdown",
   "metadata": {},
   "source": [
    "A note:  Please try the recursive functions presented here on https://pythontutor.com/visualize.html#mode=edit."
   ]
  },
  {
   "cell_type": "code",
   "execution_count": 2,
   "metadata": {},
   "outputs": [
    {
     "name": "stdout",
     "output_type": "stream",
     "text": [
      "3\n",
      "2\n",
      "1\n"
     ]
    }
   ],
   "source": [
    "def hello_world(count):\n",
    "    if (count < 1):\n",
    "        return \n",
    "    print(count)\n",
    "    hello_world(count - 1)\n",
    "    \n",
    "hello_world(3)"
   ]
  },
  {
   "cell_type": "code",
   "execution_count": null,
   "metadata": {},
   "outputs": [],
   "source": []
  }
 ],
 "metadata": {
  "kernelspec": {
   "display_name": "Python 3 (ipykernel)",
   "language": "python",
   "name": "python3"
  },
  "language_info": {
   "codemirror_mode": {
    "name": "ipython",
    "version": 3
   },
   "file_extension": ".py",
   "mimetype": "text/x-python",
   "name": "python",
   "nbconvert_exporter": "python",
   "pygments_lexer": "ipython3",
   "version": "3.11.5"
  }
 },
 "nbformat": 4,
 "nbformat_minor": 2
}
