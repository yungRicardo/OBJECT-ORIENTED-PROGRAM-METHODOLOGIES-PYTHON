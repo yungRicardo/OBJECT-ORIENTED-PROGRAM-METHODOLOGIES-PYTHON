{
 "cells": [
  {
   "cell_type": "markdown",
   "metadata": {},
   "source": [
    "# Looping Through Lists and Strings"
   ]
  },
  {
   "cell_type": "markdown",
   "metadata": {},
   "source": [
    "## Looping through a string"
   ]
  },
  {
   "cell_type": "markdown",
   "metadata": {},
   "source": [
    "We can loop through any sequence     \n",
    "- here we will explore strings and lists. Let's first look at looping through a string."
   ]
  },
  {
   "cell_type": "markdown",
   "metadata": {},
   "source": [
    "First we will iterate over the str directly, \"for\" tracks the length"
   ]
  },
  {
   "cell_type": "code",
   "execution_count": 7,
   "metadata": {},
   "outputs": [
    {
     "name": "stdout",
     "output_type": "stream",
     "text": [
      "M - i - c - k - e - y -   - M - o - u - s - e - "
     ]
    }
   ],
   "source": [
    "for my_character in \"Mickey Mouse\":\n",
    "    print(f\"{my_character} - \", end='')"
   ]
  },
  {
   "cell_type": "markdown",
   "metadata": {},
   "source": [
    "Next we will iterate using the range()"
   ]
  },
  {
   "cell_type": "code",
   "execution_count": 11,
   "metadata": {},
   "outputs": [
    {
     "name": "stdout",
     "output_type": "stream",
     "text": [
      "String length = 12\n",
      "M - i - c - k - e - y -   - M - o - u - s - e - "
     ]
    }
   ],
   "source": [
    "the_string = \"Mickey Mouse\"\n",
    "print(f\"String length = {len(the_string)}\")\n",
    "for position in range(0,len(the_string)):\n",
    "    print(f\"{the_string[position]} - \", end='')"
   ]
  },
  {
   "cell_type": "markdown",
   "metadata": {},
   "source": [
    "## Looping through a list"
   ]
  },
  {
   "cell_type": "code",
   "execution_count": 12,
   "metadata": {},
   "outputs": [
    {
     "name": "stdout",
     "output_type": "stream",
     "text": [
      "21 - 0 - -33 - 22 - 0 - 1000 - 21 - 12 - "
     ]
    }
   ],
   "source": [
    "for a_number in [21, 0, -33, 22, 0, 1000, 21, 12]:\n",
    "    print(f\"{a_number} - \", end='')"
   ]
  },
  {
   "cell_type": "markdown",
   "metadata": {},
   "source": [
    "#### And since lists can be heterogeneous, we can even do this:"
   ]
  },
  {
   "cell_type": "code",
   "execution_count": 13,
   "metadata": {},
   "outputs": [
    {
     "name": "stdout",
     "output_type": "stream",
     "text": [
      "Mickey - 3.14159 - Mouse - -100 - "
     ]
    }
   ],
   "source": [
    "for some_item in [\"Mickey\", 3.14159, \"Mouse\", -100]:\n",
    "    print(f\"{some_item} - \", end='')"
   ]
  },
  {
   "cell_type": "markdown",
   "metadata": {},
   "source": [
    "#### Here we are computing the len() of each item    \n",
    "- this won't run on a list containing floats because floats are not supported by len()"
   ]
  },
  {
   "cell_type": "code",
   "execution_count": 15,
   "metadata": {},
   "outputs": [
    {
     "name": "stdout",
     "output_type": "stream",
     "text": [
      "6 - 7 - 5 - "
     ]
    },
    {
     "ename": "TypeError",
     "evalue": "object of type 'int' has no len()",
     "output_type": "error",
     "traceback": [
      "\u001b[1;31m---------------------------------------------------------------------------\u001b[0m",
      "\u001b[1;31mTypeError\u001b[0m                                 Traceback (most recent call last)",
      "\u001b[1;32m<ipython-input-15-de2c5d12b924>\u001b[0m in \u001b[0;36m<module>\u001b[1;34m\u001b[0m\n\u001b[0;32m      1\u001b[0m \u001b[1;32mfor\u001b[0m \u001b[0msome_item\u001b[0m \u001b[1;32min\u001b[0m \u001b[1;33m[\u001b[0m\u001b[1;34m\"Mickey\"\u001b[0m\u001b[1;33m,\u001b[0m \u001b[1;34m\"3.14159\"\u001b[0m\u001b[1;33m,\u001b[0m \u001b[1;34m\"Mouse\"\u001b[0m\u001b[1;33m,\u001b[0m \u001b[1;33m-\u001b[0m\u001b[1;36m100\u001b[0m\u001b[1;33m]\u001b[0m\u001b[1;33m:\u001b[0m\u001b[1;33m\u001b[0m\u001b[1;33m\u001b[0m\u001b[0m\n\u001b[1;32m----> 2\u001b[1;33m     \u001b[0mprint\u001b[0m\u001b[1;33m(\u001b[0m\u001b[1;34mf\"{len(some_item)} - \"\u001b[0m\u001b[1;33m,\u001b[0m \u001b[0mend\u001b[0m\u001b[1;33m=\u001b[0m\u001b[1;34m''\u001b[0m\u001b[1;33m)\u001b[0m\u001b[1;33m\u001b[0m\u001b[1;33m\u001b[0m\u001b[0m\n\u001b[0m",
      "\u001b[1;31mTypeError\u001b[0m: object of type 'int' has no len()"
     ]
    }
   ],
   "source": [
    "for some_item in [\"Mickey\", 3.14159, \"Mouse\", -100]:\n",
    "    print(f\"{len(some_item)} - \", end='')"
   ]
  },
  {
   "cell_type": "code",
   "execution_count": 17,
   "metadata": {},
   "outputs": [
    {
     "name": "stdout",
     "output_type": "stream",
     "text": [
      "6 - 7 - 5 - 4 - "
     ]
    }
   ],
   "source": [
    "for some_item in [\"Mickey\", \"3.14159\", \"Mouse\", \"-100\"]:\n",
    "    print(f\"{len(some_item)} - \", end='')"
   ]
  },
  {
   "cell_type": "markdown",
   "metadata": {},
   "source": [
    "#### Here we are doing a \"division\" operation, this won't run on a list containing strings"
   ]
  },
  {
   "cell_type": "code",
   "execution_count": 18,
   "metadata": {},
   "outputs": [
    {
     "ename": "TypeError",
     "evalue": "unsupported operand type(s) for /: 'str' and 'int'",
     "output_type": "error",
     "traceback": [
      "\u001b[1;31m---------------------------------------------------------------------------\u001b[0m",
      "\u001b[1;31mTypeError\u001b[0m                                 Traceback (most recent call last)",
      "\u001b[1;32m<ipython-input-18-2d9c98830f44>\u001b[0m in \u001b[0;36m<module>\u001b[1;34m\u001b[0m\n\u001b[0;32m      1\u001b[0m \u001b[1;32mfor\u001b[0m \u001b[0msome_item\u001b[0m \u001b[1;32min\u001b[0m \u001b[1;33m[\u001b[0m\u001b[1;34m\"Mickey\"\u001b[0m\u001b[1;33m,\u001b[0m \u001b[1;36m3.14159\u001b[0m\u001b[1;33m,\u001b[0m \u001b[1;34m\"Mouse\"\u001b[0m\u001b[1;33m,\u001b[0m \u001b[1;33m-\u001b[0m\u001b[1;36m100\u001b[0m\u001b[1;33m]\u001b[0m\u001b[1;33m:\u001b[0m\u001b[1;33m\u001b[0m\u001b[1;33m\u001b[0m\u001b[0m\n\u001b[1;32m----> 2\u001b[1;33m     \u001b[0mprint\u001b[0m\u001b[1;33m(\u001b[0m\u001b[1;34mf\"{some_item / 2} - \"\u001b[0m\u001b[1;33m,\u001b[0m \u001b[0mend\u001b[0m\u001b[1;33m=\u001b[0m\u001b[1;34m''\u001b[0m\u001b[1;33m)\u001b[0m\u001b[1;33m\u001b[0m\u001b[1;33m\u001b[0m\u001b[0m\n\u001b[0m",
      "\u001b[1;31mTypeError\u001b[0m: unsupported operand type(s) for /: 'str' and 'int'"
     ]
    }
   ],
   "source": [
    "for some_item in [\"Mickey\", 3.14159, \"Mouse\", -100]:\n",
    "    print(f\"{some_item / 2} - \", end='')"
   ]
  },
  {
   "cell_type": "markdown",
   "metadata": {},
   "source": [
    "Print the type of each item in the list"
   ]
  },
  {
   "cell_type": "code",
   "execution_count": 19,
   "metadata": {},
   "outputs": [
    {
     "name": "stdout",
     "output_type": "stream",
     "text": [
      "<class 'str'> - <class 'float'> - <class 'str'> - <class 'int'> - "
     ]
    }
   ],
   "source": [
    "for some_item in [\"Mickey\", 3.14159, \"Mouse\", -100]:\n",
    "    print(f\"{type(some_item)} - \", end ='')"
   ]
  },
  {
   "cell_type": "code",
   "execution_count": 20,
   "metadata": {},
   "outputs": [
    {
     "name": "stdout",
     "output_type": "stream",
     "text": [
      "[Mickey] is a string\n",
      "[3.14159] is a number\n",
      "[Mouse] is a string\n",
      "[[1, 1, 1]] is something I can't use\n",
      "[-100] is a number\n"
     ]
    }
   ],
   "source": [
    "for some_item in [\"Mickey\", 3.14159, \"Mouse\", [1, 1, 1], -100]:\n",
    "    the_type_of_this_item = type(some_item)\n",
    "    if the_type_of_this_item == int or the_type_of_this_item == float:\n",
    "        print(f\"[{str(some_item)}] is a number\")\n",
    "    elif the_type_of_this_item == str:\n",
    "        print(f\"[{str(some_item)}] is a string\")\n",
    "    else:\n",
    "        print(f\"[{str(some_item)}] is something I can't use\")"
   ]
  },
  {
   "cell_type": "markdown",
   "metadata": {},
   "source": [
    "#### Okay ... that's interesting, but how can we leverage it? We apply the type() function, then compare its return value (using ==) with the type we are interested in. For example:"
   ]
  },
  {
   "cell_type": "code",
   "execution_count": 23,
   "metadata": {},
   "outputs": [
    {
     "name": "stdout",
     "output_type": "stream",
     "text": [
      "[Mickey] is a string\n",
      "[3.14159] is a float\n",
      "[Mouse] is a string\n",
      "[[1, 1, 1]] is a list\n",
      "[-100] is an int\n",
      "[{2, 4, 7}] is something I can't use\n"
     ]
    }
   ],
   "source": [
    "for some_item in [\"Mickey\", 3.14159, \"Mouse\", [1, 1, 1], -100, {2,4,7}]:\n",
    "    if type(some_item) == int:\n",
    "        print(f\"[{str(some_item)}] is an int\")\n",
    "    elif type(some_item) == float:\n",
    "        print(f\"[{str(some_item)}] is a float\")\n",
    "    elif type(some_item) == str:\n",
    "        print(f\"[{str(some_item)}] is a string\")\n",
    "    elif type(some_item) == list:\n",
    "        print(f\"[{str(some_item)}] is a list\")\n",
    "    else:\n",
    "        print(f\"[{str(some_item)}] is something I can't use\")"
   ]
  },
  {
   "cell_type": "code",
   "execution_count": 24,
   "metadata": {},
   "outputs": [
    {
     "name": "stdout",
     "output_type": "stream",
     "text": [
      "{1, 3, 6, 9}\n"
     ]
    }
   ],
   "source": [
    "set1 = {3, 6, 1, 9}\n",
    "print(set1)"
   ]
  },
  {
   "cell_type": "code",
   "execution_count": 25,
   "metadata": {},
   "outputs": [],
   "source": [
    "set1.add(99)"
   ]
  },
  {
   "cell_type": "code",
   "execution_count": 26,
   "metadata": {},
   "outputs": [
    {
     "name": "stdout",
     "output_type": "stream",
     "text": [
      "{1, 99, 3, 6, 9}\n"
     ]
    }
   ],
   "source": [
    "print(set1)"
   ]
  },
  {
   "cell_type": "code",
   "execution_count": 27,
   "metadata": {},
   "outputs": [
    {
     "name": "stdout",
     "output_type": "stream",
     "text": [
      "{1, 99, 3, 6, 9}\n"
     ]
    }
   ],
   "source": [
    "set1.add(3)\n",
    "print(set1)"
   ]
  },
  {
   "cell_type": "code",
   "execution_count": 28,
   "metadata": {},
   "outputs": [
    {
     "ename": "TypeError",
     "evalue": "'set' object is not subscriptable",
     "output_type": "error",
     "traceback": [
      "\u001b[1;31m---------------------------------------------------------------------------\u001b[0m",
      "\u001b[1;31mTypeError\u001b[0m                                 Traceback (most recent call last)",
      "\u001b[1;32m<ipython-input-28-d27c0eee2e56>\u001b[0m in \u001b[0;36m<module>\u001b[1;34m\u001b[0m\n\u001b[1;32m----> 1\u001b[1;33m \u001b[0mset1\u001b[0m\u001b[1;33m[\u001b[0m\u001b[1;36m1\u001b[0m\u001b[1;33m]\u001b[0m\u001b[1;33m\u001b[0m\u001b[1;33m\u001b[0m\u001b[0m\n\u001b[0m",
      "\u001b[1;31mTypeError\u001b[0m: 'set' object is not subscriptable"
     ]
    }
   ],
   "source": [
    "set1[1]"
   ]
  },
  {
   "cell_type": "code",
   "execution_count": null,
   "metadata": {},
   "outputs": [],
   "source": [
    "set1"
   ]
  }
 ],
 "metadata": {
  "kernelspec": {
   "display_name": "Python 3",
   "language": "python",
   "name": "python3"
  },
  "language_info": {
   "codemirror_mode": {
    "name": "ipython",
    "version": 3
   },
   "file_extension": ".py",
   "mimetype": "text/x-python",
   "name": "python",
   "nbconvert_exporter": "python",
   "pygments_lexer": "ipython3",
   "version": "3.8.8"
  }
 },
 "nbformat": 4,
 "nbformat_minor": 2
}
