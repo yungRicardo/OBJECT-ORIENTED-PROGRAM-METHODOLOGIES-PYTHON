{
 "cells": [
  {
   "cell_type": "markdown",
   "metadata": {},
   "source": [
    "# Logical and Containment Operators"
   ]
  },
  {
   "cell_type": "markdown",
   "metadata": {},
   "source": [
    "## Logical Operators "
   ]
  },
  {
   "cell_type": "markdown",
   "metadata": {},
   "source": [
    "These are the Boolean operations, ordered by ascending priority:"
   ]
  },
  {
   "cell_type": "markdown",
   "metadata": {},
   "source": [
    "| Operation \t| Result \t| Notes \t|\n",
    "|:---------:\t|:-------------------------------------:\t|:-----:\t|\n",
    "| x or y \t| if x is false, then y, else x \t| (1) \t|\n",
    "| x and y \t| if x is false, then x, else y \t| (2) \t|\n",
    "| not x \t| if x is false, then True , else False \t| (3) \t|"
   ]
  },
  {
   "cell_type": "markdown",
   "metadata": {},
   "source": [
    "1. This is a short-circuit operator, so it only evaluates the second argument if the first one is false.\n",
    "\n",
    "2. This is is a short-circuit operator, so it only evaluates the second argument if the first one is true.\n",
    "\n",
    "3. <code>not</code> has a lower priority than non-Boolean operators, so <code>not a == b</code> is interpreted as <code>not (a == b) </code> not (a == b), and <code>a == not b</code> is a syntax error.\n"
   ]
  },
  {
   "cell_type": "code",
   "execution_count": null,
   "metadata": {},
   "outputs": [],
   "source": [
    "state_tax = input(\"Does your state have income tax (y or n)? \")"
   ]
  },
  {
   "cell_type": "markdown",
   "metadata": {},
   "source": [
    "We are prompting the user for a \"y or n\" response, but we actually want to accept y or Y or n or N.\n",
    "\n",
    "If the user types an upper-case Y instead of a lower-case y in response to:"
   ]
  },
  {
   "cell_type": "code",
   "execution_count": null,
   "metadata": {},
   "outputs": [],
   "source": [
    "state_tax = input(\"Does your state have income tax (y or n)? \")"
   ]
  },
  {
   "cell_type": "markdown",
   "metadata": {},
   "source": [
    "then the test:"
   ]
  },
  {
   "cell_type": "code",
   "execution_count": null,
   "metadata": {},
   "outputs": [],
   "source": [
    "if state_tax == 'y':\n",
    "    "
   ]
  },
  {
   "cell_type": "markdown",
   "metadata": {},
   "source": [
    "and"
   ]
  },
  {
   "cell_type": "code",
   "execution_count": null,
   "metadata": {},
   "outputs": [],
   "source": [
    "state_tax == 'Y'"
   ]
  },
  {
   "cell_type": "markdown",
   "metadata": {},
   "source": [
    "using the boolean or operator like this:"
   ]
  },
  {
   "cell_type": "code",
   "execution_count": null,
   "metadata": {},
   "outputs": [],
   "source": [
    "if (state_tax == 'y') or (state_tax == 'Y'):\n",
    "    print(state_tax)"
   ]
  },
  {
   "cell_type": "markdown",
   "metadata": {},
   "source": [
    "## The or, and and not, operators are defined like so:\n",
    "### or"
   ]
  },
  {
   "cell_type": "markdown",
   "metadata": {},
   "source": [
    "|  a |  b |  a or b |\n",
    "|-------|-------|---------|\n",
    "| True | True | True |\n",
    "| False | True | True |\n",
    "| True | False | True |\n",
    "| False | False | False |"
   ]
  },
  {
   "cell_type": "code",
   "execution_count": null,
   "metadata": {},
   "outputs": [],
   "source": [
    "a = True\n",
    "b = True\n",
    "a or b"
   ]
  },
  {
   "cell_type": "code",
   "execution_count": null,
   "metadata": {},
   "outputs": [],
   "source": [
    "a = False\n",
    "b = True\n",
    "a or b"
   ]
  },
  {
   "cell_type": "code",
   "execution_count": null,
   "metadata": {},
   "outputs": [],
   "source": [
    "a = False\n",
    "b = False\n",
    "a or b"
   ]
  },
  {
   "cell_type": "code",
   "execution_count": null,
   "metadata": {},
   "outputs": [],
   "source": [
    "a = True\n",
    "b = False\n",
    "a or b"
   ]
  },
  {
   "cell_type": "markdown",
   "metadata": {},
   "source": [
    "### and"
   ]
  },
  {
   "cell_type": "markdown",
   "metadata": {},
   "source": [
    "|  a    |  b    |  a and b |\n",
    "|-------|-------|----------|\n",
    "| True  | True  | True     |\n",
    "| False | True  | False    |\n",
    "| True  | False | False    |\n",
    "| False | False | False    |"
   ]
  },
  {
   "cell_type": "code",
   "execution_count": null,
   "metadata": {},
   "outputs": [],
   "source": [
    "a = True\n",
    "b = True\n",
    "a and b"
   ]
  },
  {
   "cell_type": "code",
   "execution_count": null,
   "metadata": {},
   "outputs": [],
   "source": [
    "a = False\n",
    "b = True\n",
    "a and b"
   ]
  },
  {
   "cell_type": "code",
   "execution_count": null,
   "metadata": {},
   "outputs": [],
   "source": [
    "a = True\n",
    "b = False\n",
    "a and b"
   ]
  },
  {
   "cell_type": "code",
   "execution_count": null,
   "metadata": {},
   "outputs": [],
   "source": [
    "a = False\n",
    "b = False\n",
    "a and b"
   ]
  },
  {
   "cell_type": "markdown",
   "metadata": {},
   "source": [
    "### not"
   ]
  },
  {
   "cell_type": "markdown",
   "metadata": {},
   "source": [
    "|  a    |  not a |\n",
    "|-------|--------|\n",
    "| True  | False  |\n",
    "| False | True   |"
   ]
  },
  {
   "cell_type": "code",
   "execution_count": null,
   "metadata": {},
   "outputs": [],
   "source": [
    "a = True\n",
    "not a"
   ]
  },
  {
   "cell_type": "code",
   "execution_count": null,
   "metadata": {},
   "outputs": [],
   "source": [
    "a = False\n",
    "not a"
   ]
  },
  {
   "cell_type": "markdown",
   "metadata": {},
   "source": [
    "With these statements, you can build rather complex logical expressions. \n",
    "* You will see and create many, and there are lots of examples in the text. \n",
    "* For now the important thing to remember is that whenever a Boolean expression is called for, it evaluates to either True or False, and this is interpreted by the larger statement (the if statement, e.g.) after which a certain action is taken as a result."
   ]
  },
  {
   "cell_type": "markdown",
   "metadata": {},
   "source": [
    "## An Example\n",
    "### Pay attention to:\n",
    "\n",
    "1. Indentation\n",
    "2. User Input\n",
    "3. Extraction of an individual character from the user's input string\n",
    "4. Use of sys.exit()\n",
    "5. The boolean expression including compound Boolean expressions,\n"
   ]
  },
  {
   "cell_type": "code",
   "execution_count": null,
   "metadata": {},
   "outputs": [],
   "source": [
    "a = False\n",
    "print(type(a))"
   ]
  },
  {
   "cell_type": "code",
   "execution_count": null,
   "metadata": {},
   "outputs": [],
   "source": [
    "\"\"\" compute tax owed based on state and income \"\"\"\n",
    "\n",
    "while True\n",
    "    state_tax = input(\"Does your state have  income tax (y or n)? \"\n",
    "\n",
    "    if (state_tax == 'n') or (state_tax == 'N'):\n",
    "        tax_owed = 0\n",
    "        break\n",
    "\n",
    "    elif (state_tax == 'y') or (state_tax == 'Y'):\n",
    "        income = int( input( \"What is your annual income? \" ) )\n",
    "        if income < 20000:\n",
    "            tax_rate = 0\n",
    "        elif income < 40000:\n",
    "            tax_rate = .13\n",
    "        elif income < 70000:\n",
    "            tax_rate = .22\n",
    "        else:\n",
    "            tax_rate = .34\n",
    "        tax_owed = income * tax_rate\n",
    "        break\n",
    "\n",
    "    print(\"Please answer y or n\")\n",
    "\n",
    "print(f\"Tax owed is ${tax_owed:.2f}\")"
   ]
  },
  {
   "cell_type": "markdown",
   "metadata": {},
   "source": [
    "Be careful to use double == , not single =.  \n",
    "* In Python the single = operator means assignment, and \n",
    "* the double == means comparison for equality."
   ]
  },
  {
   "cell_type": "markdown",
   "metadata": {},
   "source": [
    "## The containment operator: in"
   ]
  },
  {
   "cell_type": "markdown",
   "metadata": {},
   "source": [
    "### Determining if string_1 is contained in string_2"
   ]
  },
  {
   "cell_type": "code",
   "execution_count": null,
   "metadata": {},
   "outputs": [],
   "source": [
    "string_1 = \"Foothill\"\n",
    "string_2 = \"Foothill College\"\n",
    "\n",
    "if string_1 in string_2:\n",
    "    print(string_1, \"is contained in\", string_2)\n",
    "else:\n",
    "    print(string_1, \"is not contained in\", string_2)"
   ]
  },
  {
   "cell_type": "code",
   "execution_count": null,
   "metadata": {},
   "outputs": [],
   "source": [
    "string_1 = \"DeAnza\"\n",
    "string_2 = \"Foothill College\"\n",
    "\n",
    "if string_1 in string_2:\n",
    "    print(string_1, \"is contained in\", string_2)\n",
    "else:\n",
    "    print(string_1, \"is not contained in\", string_2)"
   ]
  },
  {
   "cell_type": "markdown",
   "metadata": {},
   "source": [
    "### Here is another example, play with this one"
   ]
  },
  {
   "cell_type": "code",
   "execution_count": null,
   "metadata": {},
   "outputs": [],
   "source": [
    "def in__string_demonstration(test, master):\n",
    "    if test in master:\n",
    "        print(f\"Yes, '{test}' is in '{master}'.\")\n",
    "    else:\n",
    "        print(f\"No, '{test}' is not in '{master}'.\")\n",
    "\n",
    "master_string = \"abcdeABCDE12345\"\n",
    "\n",
    "test_string = \"C\"\n",
    "in__string_demonstration(test_string, master_string)\n",
    "\n",
    "test_string = \"bcde\"\n",
    "in__string_demonstration(test_string, master_string)\n",
    "\n",
    "test_string = \"bcDe\"\n",
    "in__string_demonstration(test_string, master_string)\n",
    "\n",
    "test_string = \"P\"\n",
    "in__string_demonstration(test_string, master_string)\n",
    "\n",
    "test_string = \"E12\"\n",
    "in__string_demonstration(test_string, master_string)"
   ]
  },
  {
   "cell_type": "markdown",
   "metadata": {},
   "source": [
    "### The same operator \"in\" has a slightly different (but similar) meaning when used with lists. \n",
    "\n",
    "\n",
    "#### A typical example has the form"
   ]
  },
  {
   "cell_type": "code",
   "execution_count": null,
   "metadata": {},
   "outputs": [],
   "source": [
    "def in__list_demonstration(test, master):\n",
    "    if test in master:\n",
    "        print(f\"Yes, '{test}' is in '{master}'.\\n\")\n",
    "    else:\n",
    "        print(f\"No, '{test}' is not in '{master}'.\\n\")\n",
    "\n",
    "\n",
    "test_list = [\"dog\", \"cat\", \"snake\", \"turtle\", \"rabbit\",\n",
    "                        \"goldfish\", 1, 3, 5, 7, 11, 13, 17, [11, 13]]\n",
    "\n",
    "test_object = \"snake\"\n",
    "in__list_demonstration(test_object, test_list)\n",
    "\n",
    "test_object = \"SNAKE\"\n",
    "in__list_demonstration(test_object, test_list)\n",
    "\n",
    "test_object = 11\n",
    "in__list_demonstration(test_object, test_list)\n",
    "\n",
    "test_object = \"11, 13\"\n",
    "in__list_demonstration(test_object, test_list)\n",
    "\n",
    "test_object = [11, 13]\n",
    "in__list_demonstration(test_object, test_list)\n",
    "\n",
    "test_object = \"5\"\n",
    "in__list_demonstration(test_object, test_list)"
   ]
  },
  {
   "cell_type": "markdown",
   "metadata": {},
   "source": [
    "Be sure you understand why in the last test printed \"No, 5 is NOT in SOME_PETS_AND_PRIMES.\" You'll have to look closely at the source code. Ask in the forums if you have any doubts."
   ]
  },
  {
   "cell_type": "code",
   "execution_count": null,
   "metadata": {},
   "outputs": [],
   "source": []
  }
 ],
 "metadata": {
  "kernelspec": {
   "display_name": "Python 3",
   "language": "python",
   "name": "python3"
  },
  "language_info": {
   "codemirror_mode": {
    "name": "ipython",
    "version": 3
   },
   "file_extension": ".py",
   "mimetype": "text/x-python",
   "name": "python",
   "nbconvert_exporter": "python",
   "pygments_lexer": "ipython3",
   "version": "3.8.8"
  }
 },
 "nbformat": 4,
 "nbformat_minor": 2
}
