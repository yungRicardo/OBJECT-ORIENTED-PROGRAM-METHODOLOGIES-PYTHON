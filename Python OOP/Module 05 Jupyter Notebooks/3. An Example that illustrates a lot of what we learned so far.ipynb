{
 "cells": [
  {
   "cell_type": "markdown",
   "metadata": {},
   "source": [
    "## Let's put everything we've learned so far into a program that gets a valid password from a user."
   ]
  },
  {
   "cell_type": "markdown",
   "metadata": {},
   "source": [
    "#### named constants for acceptable password length"
   ]
  },
  {
   "cell_type": "code",
   "execution_count": null,
   "metadata": {},
   "outputs": [],
   "source": [
    "MIN_LEN = 6\n",
    "MAX_LEN = 15"
   ]
  },
  {
   "cell_type": "markdown",
   "metadata": {},
   "source": [
    "The password\n",
    "- Must begin with an alphabetic character\n",
    "- Must be between 6 and 15 alphanumeric characters"
   ]
  },
  {
   "cell_type": "code",
   "execution_count": null,
   "metadata": {},
   "outputs": [],
   "source": [
    "\"\"\" program that lets the user choose a new password.\n",
    "    it tests for a valid sequence (numbers, letters, good length, etc.  \"\"\"\n",
    "\n",
    "# intended constant length limits for program\n",
    "MIN_LEN = 6\n",
    "MAX_LEN = 15\n",
    "\n",
    "\n",
    "def get_password():\n",
    "    validated = False\n",
    "    while not validated:\n",
    "        password = input(f\"Enter a password from {MIN_LEN} to {MAX_LEN} \"\n",
    "                         f\"characters or 'q' to quit): \")\n",
    "\n",
    "        length = len(password)\n",
    "\n",
    "        # test for quit first\n",
    "        if (length == 1) and (password[0] == 'q' or password[0] == 'Q'):\n",
    "            print(\"\\nUser canceled session; no password defined.\\n\")\n",
    "            break  # break from while loop, leave validated False\n",
    "\n",
    "        validated = True  # assume the password is valid until proven invalid\n",
    "\n",
    "        # test for reasonable length\n",
    "        if not (MIN_LEN <= length <= MAX_LEN):\n",
    "            print(f\"Password length must be between {MIN_LEN} and {MAX_LEN} \"\n",
    "                  f\"characters, inclusive.\\n\")\n",
    "            validated = False\n",
    "\n",
    "        # allow only letters and numbers\n",
    "        for k in range(length):\n",
    "            letter = password[k]  # store in local variable so we can reuse\n",
    "            if 'a' <= letter <= 'z':\n",
    "                continue  # the for loop, we have a good lower case letter\n",
    "            elif 'A' <= letter <= 'Z':\n",
    "                continue  # the for loop, we have a good upper case letter\n",
    "            elif '0' <= letter <= '9':\n",
    "                continue  # the for loop, we have a good numeral\n",
    "            else:\n",
    "                #  this letter is not one of the three legal types\n",
    "                print(\"Use only A-Z, a-z or 0-9, please.\\n\")\n",
    "                validated = False\n",
    "                break  # from the for loop leaving validated as false\n",
    "\n",
    "        # if we made it here, it is the proper length and has legal chars\n",
    "        # but is the first character a letter?\n",
    "        letter = password[0]\n",
    "        if (letter >= '0' and letter <= '9'):\n",
    "            print(\"First character of the new password must be a letter, not a number.\\n\")\n",
    "            validated = False\n",
    "\n",
    "    if validated is True:\n",
    "        print(f\"\\nYour password {password} has been accepted.\\n\")\n",
    "        return password\n",
    "    else:\n",
    "        return None"
   ]
  },
  {
   "cell_type": "code",
   "execution_count": null,
   "metadata": {},
   "outputs": [],
   "source": [
    "get_password()"
   ]
  },
  {
   "cell_type": "markdown",
   "metadata": {},
   "source": [
    "#### So far so good, now let's take advanatge of a Python str method"
   ]
  },
  {
   "cell_type": "code",
   "execution_count": null,
   "metadata": {},
   "outputs": [],
   "source": [
    "\"\"\" program that lets the user choose a new password.\n",
    "    it tests for a valid sequence (numbers, letters, good length, etc.  \"\"\"\n",
    "\n",
    "# intended constant length limits for program\n",
    "MIN_LEN = 6\n",
    "MAX_LEN = 15\n",
    "\n",
    "\n",
    "def get_password():\n",
    "    validated = False\n",
    "    while not validated:\n",
    "        password = input(f\"Enter a password from {MIN_LEN} to {MAX_LEN} \"\n",
    "                         f\"characters or 'q' to quit): \")\n",
    "\n",
    "        length = len(password)\n",
    "\n",
    "        # test for quit first\n",
    "        if (length == 1) and (password[0] == 'q' or password[0] == 'Q'):\n",
    "            print(\"\\nUser canceled session; no password defined.\\n\")\n",
    "            break  # break from while loop, leave validated False\n",
    "\n",
    "        validated = True  # assume the password is valid until proven invalid\n",
    "\n",
    "        # test for reasonable length\n",
    "        if not (MIN_LEN <= length <= MAX_LEN):\n",
    "            print(f\"Password length must be between {MIN_LEN} and {MAX_LEN} \"\n",
    "                  f\"characters, inclusive.\\n\")\n",
    "            validated = False\n",
    "\n",
    "        # allow only letters and numbers\n",
    "        for k in range(length):\n",
    "            letter = password[k]   # store in local variable so we can reuse\n",
    "            if letter.isalnum():\n",
    "                continue #  the for loop, we have a good letter or number\n",
    "            else:\n",
    "                #  this letter is not one of the three legal types\n",
    "                print(\"Use only A-Z, a-z or 0-9, please.\\n\")\n",
    "                validated = False\n",
    "                break  # from the for loop leaving validated as false\n",
    "            \"\"\"\n",
    "            letter = password[k]  # store in local variable so we can reuse\n",
    "            if 'a' <= letter <= 'z':\n",
    "                continue  # the for loop, we have a good lower case letter\n",
    "            elif 'A' <= letter <= 'Z':\n",
    "                continue  # the for loop, we have a good upper case letter\n",
    "            elif '0' <= letter <= '9':\n",
    "                continue  # the for loop, we have a good numeral\n",
    "            else:\n",
    "                #  this letter is not one of the three legal types\n",
    "                print(\"Use only A-Z, a-z or 0-9, please.\\n\")\n",
    "                validated = False\n",
    "                break  # from the for loop leaving validated as false\n",
    "            \"\"\"  \n",
    "\n",
    "        # if we made it here, it is the proper length and has legal chars\n",
    "        # but is the first character a letter?\n",
    "        letter = password[0]\n",
    "        if (letter >= '0' and letter <= '9'):\n",
    "            print(\"First character of the new password must be a letter, not a number.\\n\")\n",
    "            validated = False\n",
    "\n",
    "    if validated is True:\n",
    "        print(f\"\\nYour password {password} has been accepted.\\n\")\n",
    "        return password\n",
    "    else:\n",
    "        return None"
   ]
  },
  {
   "cell_type": "code",
   "execution_count": null,
   "metadata": {},
   "outputs": [],
   "source": [
    "get_password()"
   ]
  },
  {
   "cell_type": "markdown",
   "metadata": {},
   "source": [
    "#### More concisely we can replace"
   ]
  },
  {
   "cell_type": "markdown",
   "metadata": {},
   "source": [
    "if 'a' <= letter <= 'z':\n",
    "    continue  # the for loop, we have a good lower case letter\n",
    "elif 'A' <= letter <= 'Z':\n",
    "    continue  # the for loop, we have a good upper case letter\n",
    "elif '0' <= letter <= '9':\n",
    "    continue  # the for loop, we have a good numeral            "
   ]
  },
  {
   "cell_type": "markdown",
   "metadata": {},
   "source": [
    "#### With"
   ]
  },
  {
   "cell_type": "markdown",
   "metadata": {},
   "source": [
    "if letter.isalnum():\n",
    "    continue #  the for loop, we have a good letter or number"
   ]
  },
  {
   "cell_type": "markdown",
   "metadata": {},
   "source": [
    "#### We can replace the first \"is alpha\" character verification code"
   ]
  },
  {
   "cell_type": "markdown",
   "metadata": {},
   "source": [
    "letter = password[0]\n",
    "if (letter >= '0' and letter <= '9'):\n",
    "    print(\"First character of the new password must be a letter, not a number.\\n\")\n",
    "    validated = False"
   ]
  },
  {
   "cell_type": "markdown",
   "metadata": {},
   "source": [
    "#### With"
   ]
  },
  {
   "cell_type": "code",
   "execution_count": null,
   "metadata": {},
   "outputs": [],
   "source": [
    "if not letter.isalpha():\n",
    "    print(\"First character must be a letter (non-numeric).\\n\")"
   ]
  }
 ],
 "metadata": {
  "kernelspec": {
   "display_name": "Python 3",
   "language": "python",
   "name": "python3"
  },
  "language_info": {
   "codemirror_mode": {
    "name": "ipython",
    "version": 3
   },
   "file_extension": ".py",
   "mimetype": "text/x-python",
   "name": "python",
   "nbconvert_exporter": "python",
   "pygments_lexer": "ipython3",
   "version": "3.8.8"
  }
 },
 "nbformat": 4,
 "nbformat_minor": 2
}
