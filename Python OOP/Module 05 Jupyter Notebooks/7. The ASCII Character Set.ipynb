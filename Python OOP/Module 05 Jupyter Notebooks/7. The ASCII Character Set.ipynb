{
 "cells": [
  {
   "cell_type": "markdown",
   "id": "79bafd05",
   "metadata": {},
   "source": [
    "### Print the ASCII Character Set"
   ]
  },
  {
   "cell_type": "code",
   "execution_count": 1,
   "id": "f9833995",
   "metadata": {},
   "outputs": [
    {
     "name": "stdout",
     "output_type": "stream",
     "text": [
      "The ascii Character Set (printable characters)\n",
      "Decimal: 32 =     Decimal: 33 = !  Decimal: 34 = \"   Decimal: 35 = #\n",
      "Decimal: 36 = $   Decimal: 37 = %  Decimal: 38 = &   Decimal: 39 = '\n",
      "Decimal: 40 = (   Decimal: 41 = )  Decimal: 42 = *   Decimal: 43 = +\n",
      "Decimal: 44 = ,   Decimal: 45 = -  Decimal: 46 = .   Decimal: 47 = /\n",
      "Decimal: 48 = 0   Decimal: 49 = 1  Decimal: 50 = 2   Decimal: 51 = 3\n",
      "Decimal: 52 = 4   Decimal: 53 = 5  Decimal: 54 = 6   Decimal: 55 = 7\n",
      "Decimal: 56 = 8   Decimal: 57 = 9  Decimal: 58 = :   Decimal: 59 = ;\n",
      "Decimal: 60 = <   Decimal: 61 = =  Decimal: 62 = >   Decimal: 63 = ?\n",
      "Decimal: 64 = @   Decimal: 65 = A  Decimal: 66 = B   Decimal: 67 = C\n",
      "Decimal: 68 = D   Decimal: 69 = E  Decimal: 70 = F   Decimal: 71 = G\n",
      "Decimal: 72 = H   Decimal: 73 = I  Decimal: 74 = J   Decimal: 75 = K\n",
      "Decimal: 76 = L   Decimal: 77 = M  Decimal: 78 = N   Decimal: 79 = O\n",
      "Decimal: 80 = P   Decimal: 81 = Q  Decimal: 82 = R   Decimal: 83 = S\n",
      "Decimal: 84 = T   Decimal: 85 = U  Decimal: 86 = V   Decimal: 87 = W\n",
      "Decimal: 88 = X   Decimal: 89 = Y  Decimal: 90 = Z   Decimal: 91 = [\n",
      "Decimal: 92 = \\   Decimal: 93 = ]  Decimal: 94 = ^   Decimal: 95 = _\n",
      "Decimal: 96 = `   Decimal: 97 = a  Decimal: 98 = b   Decimal: 99 = c\n",
      "Decimal: 100 = d   Decimal: 101 = e  Decimal: 102 = f   Decimal: 103 = g\n",
      "Decimal: 104 = h   Decimal: 105 = i  Decimal: 106 = j   Decimal: 107 = k\n",
      "Decimal: 108 = l   Decimal: 109 = m  Decimal: 110 = n   Decimal: 111 = o\n",
      "Decimal: 112 = p   Decimal: 113 = q  Decimal: 114 = r   Decimal: 115 = s\n",
      "Decimal: 116 = t   Decimal: 117 = u  Decimal: 118 = v   Decimal: 119 = w\n",
      "Decimal: 120 = x   Decimal: 121 = y  Decimal: 122 = z   Decimal: 123 = {\n",
      "Decimal: 124 = |   Decimal: 125 = }  Decimal: 126 = ~   Decimal: 127 = \n",
      "Decimal: 128 =    Decimal: 129 =   Decimal: 130 =    Decimal: 131 = \n",
      "Decimal: 132 =    Decimal: 133 = ",
      "  Decimal: 134 =    Decimal: 135 = \n",
      "Decimal: 136 =    Decimal: 137 =   Decimal: 138 =    Decimal: 139 = \n",
      "Decimal: 140 =    Decimal: 141 =   Decimal: 142 =    Decimal: 143 = \n",
      "Decimal: 144 =    Decimal: 145 =   Decimal: 146 =    Decimal: 147 = \n",
      "Decimal: 148 =    Decimal: 149 =   Decimal: 150 =    Decimal: 151 = \n",
      "Decimal: 152 =    Decimal: 153 =   Decimal: 154 =    Decimal: 155 = \n",
      "Decimal: 156 =    Decimal: 157 =   Decimal: 158 =    Decimal: 159 = \n",
      "Decimal: 160 =     Decimal: 161 = ¡  Decimal: 162 = ¢   Decimal: 163 = £\n",
      "Decimal: 164 = ¤   Decimal: 165 = ¥  Decimal: 166 = ¦   Decimal: 167 = §\n",
      "Decimal: 168 = ¨   Decimal: 169 = ©  Decimal: 170 = ª   Decimal: 171 = «\n",
      "Decimal: 172 = ¬   Decimal: 173 = ­  Decimal: 174 = ®   Decimal: 175 = ¯\n",
      "Decimal: 176 = °   Decimal: 177 = ±  Decimal: 178 = ²   Decimal: 179 = ³\n",
      "Decimal: 180 = ´   Decimal: 181 = µ  Decimal: 182 = ¶   Decimal: 183 = ·\n",
      "Decimal: 184 = ¸   Decimal: 185 = ¹  Decimal: 186 = º   Decimal: 187 = »\n",
      "Decimal: 188 = ¼   Decimal: 189 = ½  Decimal: 190 = ¾   Decimal: 191 = ¿\n",
      "Decimal: 192 = À   Decimal: 193 = Á  Decimal: 194 = Â   Decimal: 195 = Ã\n",
      "Decimal: 196 = Ä   Decimal: 197 = Å  Decimal: 198 = Æ   Decimal: 199 = Ç\n",
      "Decimal: 200 = È   Decimal: 201 = É  Decimal: 202 = Ê   Decimal: 203 = Ë\n",
      "Decimal: 204 = Ì   Decimal: 205 = Í  Decimal: 206 = Î   Decimal: 207 = Ï\n",
      "Decimal: 208 = Ð   Decimal: 209 = Ñ  Decimal: 210 = Ò   Decimal: 211 = Ó\n",
      "Decimal: 212 = Ô   Decimal: 213 = Õ  Decimal: 214 = Ö   Decimal: 215 = ×\n",
      "Decimal: 216 = Ø   Decimal: 217 = Ù  Decimal: 218 = Ú   Decimal: 219 = Û\n",
      "Decimal: 220 = Ü   Decimal: 221 = Ý  Decimal: 222 = Þ   Decimal: 223 = ß\n",
      "Decimal: 224 = à   Decimal: 225 = á  Decimal: 226 = â   Decimal: 227 = ã\n",
      "Decimal: 228 = ä   Decimal: 229 = å  Decimal: 230 = æ   Decimal: 231 = ç\n",
      "Decimal: 232 = è   Decimal: 233 = é  Decimal: 234 = ê   Decimal: 235 = ë\n",
      "Decimal: 236 = ì   Decimal: 237 = í  Decimal: 238 = î   Decimal: 239 = ï\n",
      "Decimal: 240 = ð   Decimal: 241 = ñ  Decimal: 242 = ò   Decimal: 243 = ó\n",
      "Decimal: 244 = ô   Decimal: 245 = õ  Decimal: 246 = ö   Decimal: 247 = ÷\n",
      "Decimal: 248 = ø   Decimal: 249 = ù  Decimal: 250 = ú   Decimal: 251 = û\n",
      "Decimal: 252 = ü   Decimal: 253 = ý  Decimal: 254 = þ   Decimal: 255 = ÿ\n"
     ]
    }
   ],
   "source": [
    "print('The ascii Character Set (printable characters)')\n",
    "for char in range(32, 255, 4):\n",
    "    print('Decimal:', char,'=', chr(char), '  Decimal:', char + 1,'=', chr(char + 1), \\\n",
    "          ' Decimal:', char + 2,'=', chr(char + 2), '  Decimal:', char + 3,'=', chr(char + 3))"
   ]
  },
  {
   "cell_type": "code",
   "execution_count": null,
   "id": "83a61d16",
   "metadata": {},
   "outputs": [],
   "source": [
    "chr(65)"
   ]
  },
  {
   "cell_type": "code",
   "execution_count": null,
   "id": "8dfdf0f7",
   "metadata": {},
   "outputs": [],
   "source": [
    "ord('A') "
   ]
  },
  {
   "cell_type": "markdown",
   "id": "67128295",
   "metadata": {},
   "source": [
    "The complete ASCII Character Set\n",
    "https://theasciicode.com.ar/"
   ]
  },
  {
   "cell_type": "code",
   "execution_count": 8,
   "id": "a1f8c83c",
   "metadata": {},
   "outputs": [
    {
     "name": "stdout",
     "output_type": "stream",
     "text": [
      "The ascii Character Set (printable characters)\n",
      "Decimal: 32 =     Decimal: 33 = !  Decimal: 34 = \"   Decimal: 35 = #\n",
      "Decimal: 36 = $   Decimal: 37 = %  Decimal: 38 = &   Decimal: 39 = '\n",
      "Decimal: 40 = (   Decimal: 41 = )  Decimal: 42 = *   Decimal: 43 = +\n",
      "Decimal: 44 = ,   Decimal: 45 = -  Decimal: 46 = .   Decimal: 47 = /\n",
      "Decimal: 48 = 0   Decimal: 49 = 1  Decimal: 50 = 2   Decimal: 51 = 3\n",
      "Decimal: 52 = 4   Decimal: 53 = 5  Decimal: 54 = 6   Decimal: 55 = 7\n",
      "Decimal: 56 = 8   Decimal: 57 = 9  Decimal: 58 = :   Decimal: 59 = ;\n",
      "Decimal: 60 = <   Decimal: 61 = =  Decimal: 62 = >   Decimal: 63 = ?\n",
      "Decimal: 64 = @   Decimal: 65 = A  Decimal: 66 = B   Decimal: 67 = C\n",
      "Decimal: 68 = D   Decimal: 69 = E  Decimal: 70 = F   Decimal: 71 = G\n",
      "Decimal: 72 = H   Decimal: 73 = I  Decimal: 74 = J   Decimal: 75 = K\n",
      "Decimal: 76 = L   Decimal: 77 = M  Decimal: 78 = N   Decimal: 79 = O\n",
      "Decimal: 80 = P   Decimal: 81 = Q  Decimal: 82 = R   Decimal: 83 = S\n",
      "Decimal: 84 = T   Decimal: 85 = U  Decimal: 86 = V   Decimal: 87 = W\n",
      "Decimal: 88 = X   Decimal: 89 = Y  Decimal: 90 = Z   Decimal: 91 = [\n",
      "Decimal: 92 = \\   Decimal: 93 = ]  Decimal: 94 = ^   Decimal: 95 = _\n",
      "Decimal: 96 = `   Decimal: 97 = a  Decimal: 98 = b   Decimal: 99 = c\n",
      "Decimal: 100 = d   Decimal: 101 = e  Decimal: 102 = f   Decimal: 103 = g\n",
      "Decimal: 104 = h   Decimal: 105 = i  Decimal: 106 = j   Decimal: 107 = k\n",
      "Decimal: 108 = l   Decimal: 109 = m  Decimal: 110 = n   Decimal: 111 = o\n",
      "Decimal: 112 = p   Decimal: 113 = q  Decimal: 114 = r   Decimal: 115 = s\n",
      "Decimal: 116 = t   Decimal: 117 = u  Decimal: 118 = v   Decimal: 119 = w\n",
      "Decimal: 120 = x   Decimal: 121 = y  Decimal: 122 = z   Decimal: 123 = {\n",
      "Decimal: 124 = |   Decimal: 125 = }  Decimal: 126 = ~   Decimal: 127 = \n"
     ]
    }
   ],
   "source": [
    "print('The ascii Character Set (printable characters)')\n",
    "for char in range(32, 127, 4):\n",
    "    print('Decimal:', char,'=', chr(char), '  Decimal:', char + 1,'=', chr(char + 1), \\\n",
    "          ' Decimal:', char + 2,'=', chr(char + 2), '  Decimal:', char + 3,'=', chr(char + 3))"
   ]
  },
  {
   "cell_type": "code",
   "execution_count": 6,
   "id": "1dab65e8",
   "metadata": {
    "collapsed": true
   },
   "outputs": [
    {
     "ename": "NameError",
     "evalue": "name 'unichr' is not defined",
     "output_type": "error",
     "traceback": [
      "\u001b[1;31m---------------------------------------------------------------------------\u001b[0m",
      "\u001b[1;31mNameError\u001b[0m                                 Traceback (most recent call last)",
      "\u001b[1;32m<ipython-input-6-a4371c4ba614>\u001b[0m in \u001b[0;36m<module>\u001b[1;34m\u001b[0m\n\u001b[1;32m----> 1\u001b[1;33m \u001b[0munichr\u001b[0m\u001b[1;33m(\u001b[0m\u001b[1;36m247\u001b[0m\u001b[1;33m)\u001b[0m\u001b[1;33m\u001b[0m\u001b[1;33m\u001b[0m\u001b[0m\n\u001b[0m",
      "\u001b[1;31mNameError\u001b[0m: name 'unichr' is not defined"
     ]
    }
   ],
   "source": []
  },
  {
   "cell_type": "code",
   "execution_count": null,
   "id": "d2d64b4f",
   "metadata": {},
   "outputs": [],
   "source": []
  }
 ],
 "metadata": {
  "kernelspec": {
   "display_name": "Python 3",
   "language": "python",
   "name": "python3"
  },
  "language_info": {
   "codemirror_mode": {
    "name": "ipython",
    "version": 3
   },
   "file_extension": ".py",
   "mimetype": "text/x-python",
   "name": "python",
   "nbconvert_exporter": "python",
   "pygments_lexer": "ipython3",
   "version": "3.8.8"
  }
 },
 "nbformat": 4,
 "nbformat_minor": 5
}
