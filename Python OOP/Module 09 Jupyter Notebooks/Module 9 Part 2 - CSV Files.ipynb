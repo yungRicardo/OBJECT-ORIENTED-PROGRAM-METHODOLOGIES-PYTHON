{
 "cells": [
  {
   "cell_type": "markdown",
   "id": "2765dd68",
   "metadata": {},
   "source": [
    "# CSV (Comma Seperated Variable) Files\n",
    "- This is a very common format used to send data between programs\n",
    "- The data consists of 5 fields, each seperated by a comma\n",
    " - The fileds cn be variable length\n",
    "- Data that you want to process will often be supplied as a CSV file"
   ]
  },
  {
   "cell_type": "code",
   "execution_count": null,
   "id": "00047b8a",
   "metadata": {},
   "outputs": [],
   "source": [
    "%%writefile parts.csv\n",
    "0,0.0291087962962963,1,BATTERY,2.58\n",
    "0,0.0637731481481481,1,BATTERY,2.58\n",
    "0,0.0984375000000000,1,BATTERY,2.58\n",
    "0,0.1331134259259260,1,BATTERY,2.58\n",
    "0,0.1677893518518520,1,BATTERY,2.58\n",
    "0,0.2024652777777780,1,BATTERY,2.58\n",
    "0,0.2371296296296300,1,BATTERY,2.58\n",
    "0,0.2718055555555560,1,BATTERY,2.58\n",
    "0,1.75,20,CABLE,10.50\n",
    "25,149.99,BATTERY CHARGER, 25.6"
   ]
  },
  {
   "cell_type": "code",
   "execution_count": null,
   "id": "aab90ee4",
   "metadata": {},
   "outputs": [],
   "source": [
    "my_csv = open('parts.csv', 'r')"
   ]
  },
  {
   "cell_type": "code",
   "execution_count": null,
   "id": "d50a10d0",
   "metadata": {},
   "outputs": [],
   "source": [
    "for line in open('parts.csv'):\n",
    "    print(line)"
   ]
  },
  {
   "cell_type": "markdown",
   "id": "ac23f5c1",
   "metadata": {},
   "source": [
    "#### The split() method splits a string into a list"
   ]
  },
  {
   "cell_type": "code",
   "execution_count": null,
   "id": "e1d1ebef",
   "metadata": {},
   "outputs": [],
   "source": [
    "for line in open('parts.csv'):\n",
    "    print(line.split(\",\"))"
   ]
  },
  {
   "cell_type": "code",
   "execution_count": null,
   "id": "f0dc8a4f",
   "metadata": {},
   "outputs": [],
   "source": []
  }
 ],
 "metadata": {
  "kernelspec": {
   "display_name": "Python 3",
   "language": "python",
   "name": "python3"
  },
  "language_info": {
   "codemirror_mode": {
    "name": "ipython",
    "version": 3
   },
   "file_extension": ".py",
   "mimetype": "text/x-python",
   "name": "python",
   "nbconvert_exporter": "python",
   "pygments_lexer": "ipython3",
   "version": "3.8.8"
  }
 },
 "nbformat": 4,
 "nbformat_minor": 5
}
