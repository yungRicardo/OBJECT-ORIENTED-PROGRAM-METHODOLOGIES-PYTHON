{
 "cells": [
  {
   "cell_type": "markdown",
   "metadata": {},
   "source": [
    "# Errors and Exception Handling\n",
    "\n",
    "In this lecture we will learn more about Errors and Exception Handling in Python. You've definitely already encountered errors by this point in the course. For example:"
   ]
  },
  {
   "cell_type": "code",
   "execution_count": null,
   "metadata": {},
   "outputs": [],
   "source": [
    "print('Hello)"
   ]
  },
  {
   "cell_type": "markdown",
   "metadata": {},
   "source": [
    "Note how we get a SyntaxError, with the further description that it was an EOL (End of Line Error) while scanning the string literal. This is specific enough for us to see that we forgot a single quote at the end of the line. Understanding these various error types will help you debug your code much faster. \n",
    "\n",
    "This type of error and description is known as an Exception. Even if a statement or expression is syntactically correct, it may cause an error when an attempt is made to execute it. Errors detected during execution are called exceptions and are not unconditionally fatal.\n",
    "\n",
    "You can check out the full list of built-in exceptions [here](https://docs.python.org/3/library/exceptions.html). Now let's learn how to handle errors and exceptions in our own code."
   ]
  },
  {
   "cell_type": "markdown",
   "metadata": {},
   "source": [
    "## try and except\n",
    "\n",
    "The basic terminology and syntax used to handle errors in Python are the <code>try</code> and <code>except</code> statements. The code which can cause an exception to occur is put in the <code>try</code> block and the code handling the exception is then put in the <code>except</code> block of code. The syntax follows:\n",
    "\n",
    "    try:\n",
    "       You do your operations here...\n",
    "       ...\n",
    "    except ExceptionI:\n",
    "       If there is ExceptionI, then execute this block.\n",
    "    except ExceptionII:\n",
    "       If there is ExceptionII, then execute this block.\n",
    "       ...\n",
    "    else:\n",
    "       If there is no exception then execute this block. \n",
    "       \n",
    "Built-in Exceptions https://www.tutorialspoint.com/python/python_exceptions.htm  \n",
    "  \n",
    "We can also just check for any exception with just using <code>except:</code> To get a better understanding of all this let's check out an example: We will look at some code that opens and writes a file:"
   ]
  },
  {
   "cell_type": "code",
   "execution_count": null,
   "metadata": {},
   "outputs": [],
   "source": [
    "try:\n",
    "    f = open('testfile','w')\n",
    "    f.write('Test write this')\n",
    "except IOError:\n",
    "    # This will only check for an IOError exception and then execute this print statement\n",
    "    print(\"Error: Could not find file or read data\")\n",
    "else:\n",
    "    print(\"Content written successfully\")\n",
    "    f.close()"
   ]
  },
  {
   "cell_type": "markdown",
   "metadata": {},
   "source": [
    "Now let's see what would happen if we did not have write permission (opening only with 'r'):\n",
    "\n",
    "First let do it without the **try/except logic**"
   ]
  },
  {
   "cell_type": "code",
   "execution_count": null,
   "metadata": {},
   "outputs": [],
   "source": [
    "f = open('testfile','r')\n",
    "f.write('Test write this')"
   ]
  },
  {
   "cell_type": "markdown",
   "metadata": {},
   "source": [
    "Now let's try it with the **try/except logic**    \n",
    "- Notice the `else` block, it executes if no `except` blocks are executed"
   ]
  },
  {
   "cell_type": "code",
   "execution_count": null,
   "metadata": {},
   "outputs": [],
   "source": [
    "try:\n",
    "    f = open('testfile','r')\n",
    "    f.write('Test write this')\n",
    "except IOError:\n",
    "    # This will only check for an IOError exception and then execute this print statement\n",
    "    print(\"Error: Could not find file or write data\")\n",
    "else:\n",
    "    print(\"Content written successfully\")\n",
    "    f.close()"
   ]
  },
  {
   "cell_type": "markdown",
   "metadata": {},
   "source": [
    "Great! Notice how we only printed our custom message! The code still ran and we were able to continue doing actions and running code blocks. This is extremely useful when you have to account for possible input errors in your code. You can be prepared for the error and keep running code, instead of your code just breaking as we saw above.\n",
    "\n",
    "We could have also just said <code>except:</code> if we weren't sure what exception would occur. For example:     \n",
    "- it catches all exceptions"
   ]
  },
  {
   "cell_type": "code",
   "execution_count": null,
   "metadata": {},
   "outputs": [],
   "source": [
    "try:\n",
    "    f = open('testfile','r')\n",
    "    f.write('Test write this')\n",
    "except:\n",
    "    # This will check for any exception and then execute this print statement\n",
    "    print(\"Error: Could not find file or read data\")\n",
    "else:\n",
    "    print(\"Content written successfully\")\n",
    "    f.close()"
   ]
  },
  {
   "cell_type": "markdown",
   "metadata": {},
   "source": [
    "Great! Now we don't actually need to memorize that list of exception types! Now what if we kept wanting to run additional code after the `except and else blocks`? This is where <code>finally</code> comes in.\n",
    "## finally\n",
    "The <code>finally:</code> block of code will always be run regardless if there was an exception in the <code>try</code> code block. The syntax is:\n",
    "\n",
    "    try:\n",
    "       Code block here\n",
    "       ...\n",
    "       Due to any exception, this code may be skipped!\n",
    "    except:\n",
    "        Catches w=exceptions\n",
    "    else:\n",
    "        Runs if no exceptions occured\n",
    "    finally:\n",
    "       This code block would always be executed.\n",
    "\n",
    "For example:"
   ]
  },
  {
   "cell_type": "code",
   "execution_count": null,
   "metadata": {},
   "outputs": [],
   "source": [
    "try:\n",
    "    f = open(\"testfile\", \"w\")\n",
    "    f.write(\"Test write statement\")\n",
    "    f.close()\n",
    "finally:\n",
    "    print(\"Always execute finally code blocks\")"
   ]
  },
  {
   "cell_type": "code",
   "execution_count": null,
   "metadata": {},
   "outputs": [],
   "source": [
    "try:\n",
    "    f = open('testfile','r')\n",
    "    f.write('Test write this')\n",
    "except:\n",
    "    # This will check for any exception and then execute this print statement\n",
    "    print(\"Error: Could not find file or write data\")\n",
    "else:\n",
    "    print(\"Content written successfully\")\n",
    "    f.close()\n",
    "finally:\n",
    "    print(\"Always execute finally code blocks\")"
   ]
  },
  {
   "cell_type": "markdown",
   "metadata": {},
   "source": [
    "We can use this in conjunction with <code>except</code>. Let's see a new example that will take into account a user providing the wrong input:"
   ]
  },
  {
   "cell_type": "code",
   "execution_count": null,
   "metadata": {},
   "outputs": [],
   "source": [
    "def askint():\n",
    "    try:\n",
    "        val = int(input(\"Please enter an integer: \"))\n",
    "    except:\n",
    "        print(\"Looks like you did not enter an integer!\")\n",
    "    finally:\n",
    "        print(\"Finally, I executed!\")\n",
    "    print('val =', val)"
   ]
  },
  {
   "cell_type": "code",
   "execution_count": null,
   "metadata": {},
   "outputs": [],
   "source": [
    "askint()"
   ]
  },
  {
   "cell_type": "code",
   "execution_count": null,
   "metadata": {},
   "outputs": [],
   "source": [
    "askint()"
   ]
  },
  {
   "cell_type": "markdown",
   "metadata": {},
   "source": [
    "Notice how we got an error when trying to print val (because it was never properly assigned). Let's remedy this by asking the user and checking to make sure the input type is an integer:"
   ]
  },
  {
   "cell_type": "code",
   "execution_count": null,
   "metadata": {},
   "outputs": [],
   "source": [
    "def askint():\n",
    "    try:\n",
    "        val = int(input(\"Please enter an integer: \"))\n",
    "    except:\n",
    "        print(\"Looks like you did not enter an integer!\")\n",
    "        val = int(input(\"Try again-Please enter an integer: \"))\n",
    "    finally:\n",
    "        print(\"Finally, I executed!\")\n",
    "    print(val)"
   ]
  },
  {
   "cell_type": "code",
   "execution_count": null,
   "metadata": {},
   "outputs": [],
   "source": [
    "askint()"
   ]
  },
  {
   "cell_type": "markdown",
   "metadata": {},
   "source": [
    "Hmmm...that only did one check. How can we continually keep checking? We can use a **while** loop!"
   ]
  },
  {
   "cell_type": "code",
   "execution_count": null,
   "metadata": {},
   "outputs": [],
   "source": [
    "def askint():\n",
    "    while True:\n",
    "        try:\n",
    "            val = int(input(\"Please enter an integer: \"))\n",
    "        except:\n",
    "            print(\"Looks like you did not enter an integer!\")\n",
    "            continue\n",
    "        else:\n",
    "            print(\"Yep that's an integer!\")\n",
    "            break\n",
    "        finally:\n",
    "            print(\"Finally, I executed!\")\n",
    "        print('val =', val)"
   ]
  },
  {
   "cell_type": "code",
   "execution_count": null,
   "metadata": {},
   "outputs": [],
   "source": [
    "askint()"
   ]
  },
  {
   "cell_type": "markdown",
   "metadata": {},
   "source": [
    "So why did our function print \"Finally, I executed!\" after each trial, yet it never printed `val` itself? This is because with a try/except/finally clause, any <code>continue</code> or <code>break</code> statements are reserved until *after* the try clause is completed. This means that even though a successful input of **3** brought us to the <code>else:</code> block, and a <code>break</code> statement was thrown, the try clause continued through to <code>finally:</code> before breaking out of the while loop. And since <code>print(val)</code> was outside the try clause, the <code>break</code> statement prevented it from running.\n",
    "\n",
    "Let's make one final adjustment:"
   ]
  },
  {
   "cell_type": "code",
   "execution_count": null,
   "metadata": {},
   "outputs": [],
   "source": [
    "def askint():\n",
    "    while True:\n",
    "        try:\n",
    "            val = int(input(\"Please enter an integer: \"))\n",
    "        except:\n",
    "            print(\"Looks like you did not enter an integer!\")\n",
    "            continue\n",
    "        else:\n",
    "            print(\"Yep that's an integer!\")\n",
    "            print('val =', val)\n",
    "            break\n",
    "        finally:\n",
    "            print(\"Finally, I executed!\")"
   ]
  },
  {
   "cell_type": "code",
   "execution_count": null,
   "metadata": {},
   "outputs": [],
   "source": [
    "askint()"
   ]
  },
  {
   "cell_type": "markdown",
   "metadata": {},
   "source": [
    "**Great! Now you know how to handle errors and exceptions in Python with the try, except, else, and finally notation!**"
   ]
  }
 ],
 "metadata": {
  "kernelspec": {
   "display_name": "Python 3",
   "language": "python",
   "name": "python3"
  },
  "language_info": {
   "codemirror_mode": {
    "name": "ipython",
    "version": 3
   },
   "file_extension": ".py",
   "mimetype": "text/x-python",
   "name": "python",
   "nbconvert_exporter": "python",
   "pygments_lexer": "ipython3",
   "version": "3.8.8"
  }
 },
 "nbformat": 4,
 "nbformat_minor": 1
}
