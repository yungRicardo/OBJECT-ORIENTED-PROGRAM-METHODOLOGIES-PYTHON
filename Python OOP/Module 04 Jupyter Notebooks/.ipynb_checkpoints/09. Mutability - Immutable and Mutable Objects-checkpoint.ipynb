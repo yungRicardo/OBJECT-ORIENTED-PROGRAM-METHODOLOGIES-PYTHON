{
 "cells": [
  {
   "cell_type": "markdown",
   "id": "733c4d3c",
   "metadata": {},
   "source": [
    "Mutability - Immutable and Mutable Objects    \n",
    "- Whether an object is immutable or mutable is a decision the Python designers made based upon performance considerations.\n",
    "    \n",
    "- Mutable objects consume more memory and processing time bit they are more flexible."
   ]
  },
  {
   "cell_type": "markdown",
   "id": "03d989b6",
   "metadata": {},
   "source": [
    "Strings in Python are considered as basic as numbers.     \n",
    "- No amount of activity will change the value 8 to anything else     \n",
    "- and in Python, no amount of activity will change the string “eight” to anything else.    "
   ]
  },
  {
   "cell_type": "code",
   "execution_count": null,
   "id": "2578cdb7",
   "metadata": {},
   "outputs": [],
   "source": []
  },
  {
   "cell_type": "markdown",
   "id": "74cceed5",
   "metadata": {},
   "source": [
    "Performance: knowing that a str is immutable makes it easy to construct.    \n",
    "- a str has fixed storage requirements.     \n",
    "    \n",
    "This is also one of the reasons for the distinction between tuples and lists. "
   ]
  },
  {
   "cell_type": "code",
   "execution_count": null,
   "id": "e90cac20",
   "metadata": {},
   "outputs": [],
   "source": []
  },
  {
   "cell_type": "code",
   "execution_count": null,
   "id": "7e39aaaa",
   "metadata": {},
   "outputs": [],
   "source": []
  }
 ],
 "metadata": {
  "kernelspec": {
   "display_name": "Python 3 (ipykernel)",
   "language": "python",
   "name": "python3"
  },
  "language_info": {
   "codemirror_mode": {
    "name": "ipython",
    "version": 3
   },
   "file_extension": ".py",
   "mimetype": "text/x-python",
   "name": "python",
   "nbconvert_exporter": "python",
   "pygments_lexer": "ipython3",
   "version": "3.11.5"
  }
 },
 "nbformat": 4,
 "nbformat_minor": 5
}
