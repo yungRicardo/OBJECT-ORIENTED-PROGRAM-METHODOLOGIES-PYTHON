{
 "cells": [
  {
   "cell_type": "markdown",
   "id": "c068976a",
   "metadata": {},
   "source": [
    "## Extracting a Character from a string"
   ]
  },
  {
   "cell_type": "code",
   "execution_count": 1,
   "id": "89e9553a",
   "metadata": {},
   "outputs": [
    {
     "name": "stdout",
     "output_type": "stream",
     "text": [
      "Original string: I attend Foothill College\n",
      "Character in position 0 is: I \n",
      "and character in position 5 is: e\n"
     ]
    }
   ],
   "source": [
    "my_str = \"I attend Foothill College\"\n",
    "\n",
    "let_1 = my_str[0]  # extract the 1st character\n",
    "let_2 = my_str[5]  # extract the 6th character\n",
    "\n",
    "print(f\"Original string: {my_str}\")\n",
    "print(f\"Character in position 0 is: {let_1} \\nand character in position 5 is: {let_2}\")    "
   ]
  },
  {
   "cell_type": "markdown",
   "id": "34035d78",
   "metadata": {},
   "source": [
    "An str object is immutible, it cannot be changed"
   ]
  },
  {
   "cell_type": "markdown",
   "id": "798c5449",
   "metadata": {},
   "source": [
    "#### Let's try item assignment"
   ]
  },
  {
   "cell_type": "code",
   "execution_count": 2,
   "id": "0de289cc",
   "metadata": {},
   "outputs": [
    {
     "ename": "TypeError",
     "evalue": "'str' object does not support item assignment",
     "output_type": "error",
     "traceback": [
      "\u001b[1;31m---------------------------------------------------------------------------\u001b[0m",
      "\u001b[1;31mTypeError\u001b[0m                                 Traceback (most recent call last)",
      "\u001b[1;32m<ipython-input-2-21c345847b2f>\u001b[0m in \u001b[0;36m<module>\u001b[1;34m\u001b[0m\n\u001b[1;32m----> 1\u001b[1;33m \u001b[0mmy_str\u001b[0m\u001b[1;33m[\u001b[0m\u001b[1;36m0\u001b[0m\u001b[1;33m]\u001b[0m \u001b[1;33m=\u001b[0m \u001b[1;34m\"G\"\u001b[0m\u001b[1;33m\u001b[0m\u001b[1;33m\u001b[0m\u001b[0m\n\u001b[0m",
      "\u001b[1;31mTypeError\u001b[0m: 'str' object does not support item assignment"
     ]
    }
   ],
   "source": [
    "my_str[0] = \"G\""
   ]
  },
  {
   "cell_type": "code",
   "execution_count": 4,
   "id": "f185a54d",
   "metadata": {},
   "outputs": [
    {
     "name": "stdout",
     "output_type": "stream",
     "text": [
      "1682057861760\n",
      "1682058589728\n"
     ]
    },
    {
     "data": {
      "text/plain": [
       "'G attend Foothill College'"
      ]
     },
     "execution_count": 4,
     "metadata": {},
     "output_type": "execute_result"
    }
   ],
   "source": [
    "my_str = \"I attend Foothill College\"\n",
    "print(id(my_str))\n",
    "my_str = \"G\" + my_str[1:]\n",
    "print(id(my_str))\n",
    "my_str"
   ]
  },
  {
   "cell_type": "markdown",
   "id": "fac90747",
   "metadata": {},
   "source": [
    "# Slicing"
   ]
  },
  {
   "cell_type": "code",
   "execution_count": 6,
   "id": "98930a7b",
   "metadata": {},
   "outputs": [
    {
     "name": "stdout",
     "output_type": "stream",
     "text": [
      "Slice in position 2 through 8 (not including 8) is 'attend'\n"
     ]
    }
   ],
   "source": [
    "my_string = \"I attend Foothill College\"\n",
    "first_sub = my_string[2:8]\n",
    "print(f\"Slice in position 2 through 8 (not including 8) is '{first_sub}'\")"
   ]
  },
  {
   "cell_type": "code",
   "execution_count": 7,
   "id": "3f4af9ca",
   "metadata": {},
   "outputs": [
    {
     "data": {
      "text/plain": [
       "' att'"
      ]
     },
     "execution_count": 7,
     "metadata": {},
     "output_type": "execute_result"
    }
   ],
   "source": [
    "my_string[1:5] # returns characters 1 through 4"
   ]
  },
  {
   "cell_type": "code",
   "execution_count": 8,
   "id": "62a25b23",
   "metadata": {},
   "outputs": [
    {
     "name": "stdout",
     "output_type": "stream",
     "text": [
      "Slice in position 0 through 8 (not including 8) is 'I attend'\n"
     ]
    }
   ],
   "source": [
    "my_string = \"I attend Foothill College\"\n",
    "first_sub = my_string[0:8]\n",
    "print(f\"Slice in position 0 through 8 (not including 8) is '{first_sub}'\")"
   ]
  },
  {
   "cell_type": "code",
   "execution_count": 9,
   "id": "3d70d647",
   "metadata": {},
   "outputs": [
    {
     "name": "stdout",
     "output_type": "stream",
     "text": [
      "Slice in position 0 through 8 is 'I attend'\n"
     ]
    }
   ],
   "source": [
    "beginning = 0\n",
    "end_plus_1 = 8\n",
    "first_sub = my_string[beginning:end_plus_1]\n",
    "print(f\"Slice in position {beginning} through {end_plus_1} is '{first_sub}'\")"
   ]
  },
  {
   "cell_type": "code",
   "execution_count": null,
   "id": "fa6853b5",
   "metadata": {},
   "outputs": [],
   "source": [
    "my_string = \"I attend Foothill College\"\n",
    "print(f\"length of my_string is: {len(my_string)}\")\n",
    "some_sub = my_string[8:len(my_string)]\n",
    "print(f\"Slice is '{some_sub}'\")"
   ]
  },
  {
   "cell_type": "markdown",
   "id": "b98f6dc6",
   "metadata": {},
   "source": [
    "## Has the same result as"
   ]
  },
  {
   "cell_type": "code",
   "execution_count": null,
   "id": "2368b94d",
   "metadata": {},
   "outputs": [],
   "source": [
    "my_string = \"I attend Foothill College\"\n",
    "some_sub = my_string[8:]\n",
    "print(f\"Slice is '{some_sub}'\")"
   ]
  },
  {
   "cell_type": "code",
   "execution_count": null,
   "id": "4774724f",
   "metadata": {},
   "outputs": [],
   "source": [
    "my_string = \"I attend Foothill College\"\n",
    "some_sub = my_string[0:10:2]\n",
    "print(f\"Slice is '{some_sub}'\")"
   ]
  },
  {
   "cell_type": "markdown",
   "id": "0a068a2f",
   "metadata": {},
   "source": [
    "## Counting from the End"
   ]
  },
  {
   "cell_type": "code",
   "execution_count": 10,
   "id": "833e4cf8",
   "metadata": {},
   "outputs": [
    {
     "name": "stdout",
     "output_type": "stream",
     "text": [
      "Slice is 'e'\n"
     ]
    }
   ],
   "source": [
    "my_string = \"I attend Foothill College\"\n",
    "some_sub = my_string[-1:]\n",
    "print(f\"Slice is '{some_sub}'\")"
   ]
  },
  {
   "cell_type": "code",
   "execution_count": 11,
   "id": "571c543a",
   "metadata": {},
   "outputs": [
    {
     "name": "stdout",
     "output_type": "stream",
     "text": [
      "Slice is 'e'\n"
     ]
    }
   ],
   "source": [
    "my_string = \"I attend Foothill College\"\n",
    "some_sub = my_string[-1:]\n",
    "print(f\"Slice is '{some_sub}'\")"
   ]
  },
  {
   "cell_type": "code",
   "execution_count": 13,
   "id": "1ebf8d4d",
   "metadata": {},
   "outputs": [
    {
     "name": "stdout",
     "output_type": "stream",
     "text": [
      "Slice is 'Foothill College'\n"
     ]
    }
   ],
   "source": [
    "my_string = \"I attend Foothill College\"\n",
    "some_sub = my_string[-16:]\n",
    "print(f\"Slice is '{some_sub}'\")"
   ]
  },
  {
   "cell_type": "markdown",
   "id": "a9d3d01c",
   "metadata": {},
   "source": [
    "## Changing a Character in a String?"
   ]
  },
  {
   "cell_type": "code",
   "execution_count": 14,
   "id": "2124ba87",
   "metadata": {},
   "outputs": [
    {
     "name": "stdout",
     "output_type": "stream",
     "text": [
      "BEFORE CHANGE: My middle initial is M, if you must know.\n"
     ]
    }
   ],
   "source": [
    "declaration = \"My middle initial is M, if you must know.\"\n",
    "print(f\"BEFORE CHANGE: {declaration}\")"
   ]
  },
  {
   "cell_type": "code",
   "execution_count": 15,
   "id": "3963dcc8",
   "metadata": {},
   "outputs": [
    {
     "name": "stdout",
     "output_type": "stream",
     "text": [
      "id before 0x187a2834570\n",
      "AFTER CHANGE: My middle initial is G, if you must know.\n",
      "id after 0x187a28344b0\n"
     ]
    }
   ],
   "source": [
    "print(f\"id before {hex(id(declaration))}\")\n",
    "k = 21\n",
    "declaration = declaration[:k] + \"G\" + declaration[k + 1:]\n",
    "print(f\"AFTER CHANGE: {declaration}\")\n",
    "print(f\"id after {hex(id(declaration))}\")"
   ]
  },
  {
   "cell_type": "code",
   "execution_count": null,
   "id": "d57916be",
   "metadata": {},
   "outputs": [],
   "source": [
    "Another example"
   ]
  },
  {
   "cell_type": "code",
   "execution_count": 16,
   "id": "305a6f63",
   "metadata": {},
   "outputs": [
    {
     "name": "stdout",
     "output_type": "stream",
     "text": [
      "BEFORE CHANGE: My middle initial is M, if you must know.\n",
      "id before 0x187a2834ab0\n",
      "AFTER CHANGE: My middle initial is G, if you must know.\n",
      "id after 0x187a28344b0\n",
      "1682058726064\n",
      "My middle initial is M, if you must know.\n"
     ]
    }
   ],
   "source": [
    "declaration = \"My middle initial is M, if you must know.\"\n",
    "print(f\"BEFORE CHANGE: {declaration}\")\n",
    "print(f\"id before {hex(id(declaration))}\")\n",
    "k = 21\n",
    "a = declaration\n",
    "declaration = declaration[:k] + \"G\" + declaration[k + 1:]\n",
    "print(f\"AFTER CHANGE: {declaration}\")\n",
    "print(f\"id after {hex(id(declaration))}\")\n",
    "print(id(a))\n",
    "print(a)"
   ]
  },
  {
   "cell_type": "markdown",
   "id": "7a496888",
   "metadata": {},
   "source": [
    "## Performing the same operation with an f-str"
   ]
  },
  {
   "cell_type": "code",
   "execution_count": 17,
   "id": "eba1e780",
   "metadata": {},
   "outputs": [
    {
     "name": "stdout",
     "output_type": "stream",
     "text": [
      "id of declaration before 0x187a2834870\n",
      "My middle initial is G, if you must know.\n",
      "id of declaration after 0x187a2834690\n"
     ]
    }
   ],
   "source": [
    "declaration = \"My middle initial is M, if you must know.\"\n",
    "print(f\"id of declaration before {hex(id(declaration))}\")\n",
    "declaration = f\"{declaration[:k]}G{declaration[k + 1:]}\"\n",
    "print(declaration)\n",
    "print(f\"id of declaration after {hex(id(declaration))}\")"
   ]
  },
  {
   "cell_type": "code",
   "execution_count": 19,
   "id": "8e31edf6",
   "metadata": {},
   "outputs": [],
   "source": [
    "new_str = f\"id of declaration after {hex(id(declaration))}\""
   ]
  },
  {
   "cell_type": "code",
   "execution_count": 20,
   "id": "074aa853",
   "metadata": {},
   "outputs": [
    {
     "name": "stdout",
     "output_type": "stream",
     "text": [
      "id of declaration after 0x187a2834690\n"
     ]
    }
   ],
   "source": [
    "print(new_str)"
   ]
  },
  {
   "cell_type": "code",
   "execution_count": null,
   "id": "3620aa7f",
   "metadata": {},
   "outputs": [],
   "source": []
  }
 ],
 "metadata": {
  "kernelspec": {
   "display_name": "Python 3 (ipykernel)",
   "language": "python",
   "name": "python3"
  },
  "language_info": {
   "codemirror_mode": {
    "name": "ipython",
    "version": 3
   },
   "file_extension": ".py",
   "mimetype": "text/x-python",
   "name": "python",
   "nbconvert_exporter": "python",
   "pygments_lexer": "ipython3",
   "version": "3.11.5"
  }
 },
 "nbformat": 4,
 "nbformat_minor": 5
}
