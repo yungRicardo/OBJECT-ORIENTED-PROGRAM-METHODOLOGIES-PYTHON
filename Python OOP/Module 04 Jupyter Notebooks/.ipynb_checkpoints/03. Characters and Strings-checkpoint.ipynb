{
 "cells": [
  {
   "cell_type": "markdown",
   "id": "c8278a51",
   "metadata": {},
   "source": [
    "## The Length of a String"
   ]
  },
  {
   "cell_type": "code",
   "execution_count": 1,
   "id": "4e93d375",
   "metadata": {},
   "outputs": [
    {
     "name": "stdout",
     "output_type": "stream",
     "text": [
      "The two string lengths: 23 and 4\n"
     ]
    }
   ],
   "source": [
    "hi_there_p = \"Hello there. Python is \"\n",
    "easy = \"easy\"\n",
    "print (f\"The two string lengths: {len(hi_there_p)} and {len(easy)}\") "
   ]
  },
  {
   "cell_type": "markdown",
   "id": "cb0053cf",
   "metadata": {},
   "source": [
    "### Here's an example of an expression inside len()'s parens. Focus on the second line which has a concatenation operator inside the parens:"
   ]
  },
  {
   "cell_type": "code",
   "execution_count": 4,
   "id": "8e33b88a",
   "metadata": {},
   "outputs": [
    {
     "name": "stdout",
     "output_type": "stream",
     "text": [
      "The complete string length is 27\n"
     ]
    }
   ],
   "source": [
    "hi_there_p = \"Hello there. Python is \"\n",
    "length_of_entire_string = len(hi_there_p + easy)\n",
    "print (f\"The complete string length is {length_of_entire_string}\") "
   ]
  },
  {
   "cell_type": "markdown",
   "id": "8af53fae",
   "metadata": {},
   "source": [
    "### Individual Characters and ASCII Codes"
   ]
  },
  {
   "cell_type": "code",
   "execution_count": null,
   "id": "d6f67ea8",
   "metadata": {},
   "outputs": [],
   "source": [
    "let_1 = \"F\"\n",
    "let_2 = \"H\"\n",
    "\n",
    "print(f\"The letters are {let_1} and {let_2}\") "
   ]
  },
  {
   "cell_type": "markdown",
   "id": "fe7d5eb6",
   "metadata": {},
   "source": [
    "### It's important to understand that these two assignment statements are different"
   ]
  },
  {
   "cell_type": "code",
   "execution_count": 6,
   "id": "9eb0b349",
   "metadata": {},
   "outputs": [
    {
     "data": {
      "text/plain": [
       "'35'"
      ]
     },
     "execution_count": 6,
     "metadata": {},
     "output_type": "execute_result"
    }
   ],
   "source": [
    "x = 3\n",
    "y = \"3\""
   ]
  },
  {
   "cell_type": "code",
   "execution_count": 4,
   "id": "d5b663bf",
   "metadata": {},
   "outputs": [
    {
     "data": {
      "text/plain": [
       "8"
      ]
     },
     "execution_count": 4,
     "metadata": {},
     "output_type": "execute_result"
    }
   ],
   "source": [
    "x + 5 "
   ]
  },
  {
   "cell_type": "markdown",
   "id": "e235e996",
   "metadata": {},
   "source": [
    "The variable x points to the actual numeric 3, whereas the variable y points to the ASCII or Unicode representation for the character"
   ]
  },
  {
   "cell_type": "markdown",
   "id": "5995ce07",
   "metadata": {},
   "source": [
    "### ASCII    \n",
    "- ASCII is an older encoding for the \n",
    "  - English alphabet ('A', 'a', 'B', 'b', etc.) plus \n",
    "  - numerals (''0', '1', '2', ... '9') and \n",
    "  - a few symbols ('$', '^', '#', etc.)\n",
    "  - it is an 8-bit encoding (therefore there are 256 possible character in the ASCII Character Set  "
   ]
  },
  {
   "cell_type": "markdown",
   "id": "028f9658",
   "metadata": {},
   "source": [
    "### Unicode    \n",
    "- The newer Unicode format includes ASCII as a subset (loosely speaking) but has over a million characters, each one stored in **three 8-bit bytes***. "
   ]
  },
  {
   "cell_type": "code",
   "execution_count": 9,
   "id": "ddd566da",
   "metadata": {},
   "outputs": [
    {
     "name": "stdout",
     "output_type": "stream",
     "text": [
      "65 66 97 98 35\n"
     ]
    }
   ],
   "source": [
    "# the source code\n",
    "print (ord(\"A\"), ord(\"B\"), ord(\"a\"), ord(\"b\"), ord(\"#\"))\n",
    "\n",
    "# will, at run time, display 65 66 97 98 35"
   ]
  },
  {
   "cell_type": "code",
   "execution_count": 13,
   "id": "b67a814a",
   "metadata": {},
   "outputs": [
    {
     "name": "stdout",
     "output_type": "stream",
     "text": [
      "<built-in method upper of str object at 0x000001998C125F30>\n"
     ]
    }
   ],
   "source": [
    "print(\"a\".upper())"
   ]
  },
  {
   "cell_type": "code",
   "execution_count": 14,
   "id": "6a720b78",
   "metadata": {},
   "outputs": [
    {
     "name": "stdout",
     "output_type": "stream",
     "text": [
      "The code for A is 65\n",
      "The code for $ is 36\n"
     ]
    }
   ],
   "source": [
    "let_A = \"A\"\n",
    "ascii_A = ord(let_A)\n",
    "let_dol = \"$\"\n",
    "ascii_dol = ord(let_dol)\n",
    "print (f\"The code for {let_A} is {ascii_A}\")\n",
    "print (f\"The code for {let_dol} is {ascii_dol}\")"
   ]
  },
  {
   "cell_type": "markdown",
   "id": "2c662888",
   "metadata": {},
   "source": [
    "### What if you want to go the other way?  You know the ascii code for a character and you want to produce the character. "
   ]
  },
  {
   "cell_type": "code",
   "execution_count": 15,
   "id": "5b770ef2",
   "metadata": {},
   "outputs": [
    {
     "name": "stdout",
     "output_type": "stream",
     "text": [
      "The character with ASCII code 70 is F\n"
     ]
    }
   ],
   "source": [
    "ascii_F = 70\n",
    "let_F = chr(ascii_F)\n",
    "print(f\"The character with ASCII code {ascii_F} is {let_F}\")"
   ]
  },
  {
   "cell_type": "markdown",
   "id": "1a72e972",
   "metadata": {},
   "source": [
    "### Just a reminder about ' and \""
   ]
  },
  {
   "cell_type": "code",
   "execution_count": 9,
   "id": "ad4ace48",
   "metadata": {},
   "outputs": [
    {
     "name": "stdout",
     "output_type": "stream",
     "text": [
      "F. H. College\n"
     ]
    }
   ],
   "source": [
    "let_1 = \"F\"\n",
    "let_2 = 'H'\n",
    "type_of_inst = 'College'\n",
    "full_string = let_1 + \". \" + let_2 + '. ' + type_of_inst\n",
    "\n",
    "print(full_string) "
   ]
  },
  {
   "cell_type": "markdown",
   "id": "91a9d7a7",
   "metadata": {},
   "source": [
    "#### What if you wanted to create the str    I don't have any more vacation."
   ]
  },
  {
   "cell_type": "code",
   "execution_count": 18,
   "id": "04532743",
   "metadata": {},
   "outputs": [
    {
     "data": {
      "text/plain": [
       "\"I don't have any more vacation\""
      ]
     },
     "execution_count": 18,
     "metadata": {},
     "output_type": "execute_result"
    }
   ],
   "source": [
    "'I don't have any more vacation'"
   ]
  },
  {
   "cell_type": "code",
   "execution_count": 17,
   "id": "16d34d79",
   "metadata": {},
   "outputs": [
    {
     "data": {
      "text/plain": [
       "\"I don't have any more vacation\""
      ]
     },
     "execution_count": 17,
     "metadata": {},
     "output_type": "execute_result"
    }
   ],
   "source": [
    "\"I don't have any more vacation\""
   ]
  },
  {
   "cell_type": "markdown",
   "id": "5fb0a58e",
   "metadata": {},
   "source": [
    "Strings vs. Longer Numbers"
   ]
  },
  {
   "cell_type": "code",
   "execution_count": 12,
   "id": "308e3c10",
   "metadata": {},
   "outputs": [
    {
     "name": "stdout",
     "output_type": "stream",
     "text": [
      "3.14159 3.14159\n"
     ]
    }
   ],
   "source": [
    "pi_approx = 3.14159\n",
    "pi_strng = \"3.14159\"\n",
    "\n",
    "print(pi_approx, pi_strng)"
   ]
  },
  {
   "cell_type": "markdown",
   "id": "96c94592",
   "metadata": {},
   "source": [
    "Here, pi_approx stores a numeric float 3.14159, whereas the value in pi_strng is (a reference to) the set of ASCII codes for the individual characters '3', '.', '1', '4', '1', etc."
   ]
  },
  {
   "cell_type": "markdown",
   "id": "c49014f4",
   "metadata": {},
   "source": [
    "#### Special Character Syntax for Tabs, Newlines, etc."
   ]
  },
  {
   "cell_type": "markdown",
   "id": "e059e3f8",
   "metadata": {},
   "source": [
    "The t (tab) character"
   ]
  },
  {
   "cell_type": "code",
   "execution_count": 13,
   "id": "a1d4026f",
   "metadata": {},
   "outputs": [
    {
     "name": "stdout",
     "output_type": "stream",
     "text": [
      "Output:\n",
      "3\t3\t3\n"
     ]
    }
   ],
   "source": [
    "x = 3\n",
    "y = '3'\n",
    "print(f\"Output:\\n{str(x)}\\t{str(y)}\\t{str(y)}\")"
   ]
  },
  {
   "cell_type": "markdown",
   "id": "4886dd34",
   "metadata": {},
   "source": [
    "The \\\\ character:"
   ]
  },
  {
   "cell_type": "code",
   "execution_count": 19,
   "id": "ff2e3e51",
   "metadata": {},
   "outputs": [
    {
     "name": "stdout",
     "output_type": "stream",
     "text": [
      "Output:\\3\\3\n"
     ]
    }
   ],
   "source": [
    "x = 3\n",
    "y = '3'\n",
    "print(f\"Output:\\\\{str(x)}\\\\{str(y)}\")"
   ]
  },
  {
   "cell_type": "code",
   "execution_count": 21,
   "id": "85f56712",
   "metadata": {},
   "outputs": [
    {
     "data": {
      "text/plain": [
       "92"
      ]
     },
     "execution_count": 21,
     "metadata": {},
     "output_type": "execute_result"
    }
   ],
   "source": [
    "ord(\"\\\\\")"
   ]
  }
 ],
 "metadata": {
  "kernelspec": {
   "display_name": "Python 3 (ipykernel)",
   "language": "python",
   "name": "python3"
  },
  "language_info": {
   "codemirror_mode": {
    "name": "ipython",
    "version": 3
   },
   "file_extension": ".py",
   "mimetype": "text/x-python",
   "name": "python",
   "nbconvert_exporter": "python",
   "pygments_lexer": "ipython3",
   "version": "3.11.5"
  }
 },
 "nbformat": 4,
 "nbformat_minor": 5
}
