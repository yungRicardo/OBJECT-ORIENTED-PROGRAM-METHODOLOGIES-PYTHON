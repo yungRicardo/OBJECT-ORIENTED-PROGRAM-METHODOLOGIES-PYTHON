{
 "cells": [
  {
   "cell_type": "markdown",
   "metadata": {},
   "source": [
    "# Digging Deeper into Data Types\n",
    "- I've been introducing topics on a \"need to know\" basis - just exposing you to the concepts that you need for the project.    \n",
    " - For example, we learned just enough about ints and floats to get our menu processing and temperature conversions done.\n",
    "\n",
    " - You are about to learn about some container data types: strings, tuples and lists, sets, and later dictionaries.  \n",
    "  - You can think of container objects like boxes that hold items (objects) of any data type.     \n",
    "   - All of the items in a container object are often called a collection.    \n",
    "   \n",
    " - Some collection object maintain the sequence of the items in the collection\n",
    "  \n",
    "\n",
    "- A word of caution, if you've studied another programming language, you'll want to read carefully - there are some profound differences in the way Python handles data."
   ]
  },
  {
   "cell_type": "markdown",
   "metadata": {},
   "source": [
    "# This section introduces some of the built-in collection objects\n",
    "Later in the class you will learn how to create custom Classes which you can tailor to be Collection Objects"
   ]
  },
  {
   "cell_type": "markdown",
   "metadata": {},
   "source": [
    "* A sequence is a data structure that stores a collection\n",
    "of items in a specific order.\n",
    " * A sequence can have items of different types.\n",
    "* With a sequence, you can do the following:\n",
    " * Add and remove items\n",
    " * Work with individual items or groups of items\n",
    " * Determine whether a value is in the sequence\n",
    " * Look for duplicate or unique items\n",
    " * Loop through the sequence and do something with\n",
    "each item\n",
    " * Work with items that match certain conditions. "
   ]
  },
  {
   "cell_type": "markdown",
   "metadata": {},
   "source": [
    "# Container Objects\n",
    "* Strings\n",
    "* Lists\n",
    "* Tuples\n",
    "* Sets\n",
    "* Dictionaries"
   ]
  },
  {
   "cell_type": "markdown",
   "metadata": {},
   "source": [
    "Container objects contains a collection of other objects, each member of the collection is an **item**\n",
    "* Strings, Lists, and Tuples are also sequence objects\n",
    " * That is, they present their contents in the same sequence every time you access them unless they are specifically reordered\n",
    "* Sets and Dictionary are not sequence objects\n",
    " * Python does not guarantee ordering\n",
    "* Collection objects are either **mutable or immutable** depending on their type    \n",
    " - Lists and Dictionaries are **mutable**\n",
    " - Strings and Sets are **immutable**\n",
    "* Collection Objects are **Iterables**"
   ]
  },
  {
   "cell_type": "markdown",
   "metadata": {},
   "source": [
    "## Integers\n",
    "- Object ID\n",
    "- Alias"
   ]
  },
  {
   "cell_type": "code",
   "execution_count": 3,
   "metadata": {
    "scrolled": true
   },
   "outputs": [
    {
     "name": "stdout",
     "output_type": "stream",
     "text": [
      "0x7ff9795f3030\n",
      "0x7ff9795f3030\n",
      "<class 'int'>\n"
     ]
    }
   ],
   "source": [
    "a = 73\n",
    "print(hex(id(73)))\n",
    "print(hex(id(a)))\n",
    "print(type(a))"
   ]
  },
  {
   "cell_type": "markdown",
   "metadata": {},
   "source": [
    "b is an alias of a"
   ]
  },
  {
   "cell_type": "code",
   "execution_count": 4,
   "metadata": {},
   "outputs": [
    {
     "name": "stdout",
     "output_type": "stream",
     "text": [
      "0x7ff9795f3030\n"
     ]
    }
   ],
   "source": [
    "b = a\n",
    "print(hex(id(b)))"
   ]
  },
  {
   "cell_type": "markdown",
   "metadata": {},
   "source": [
    "Integers are immutable\n",
    "- When we add 1 to a\n",
    " - a new object is created"
   ]
  },
  {
   "cell_type": "code",
   "execution_count": 5,
   "metadata": {},
   "outputs": [
    {
     "name": "stdout",
     "output_type": "stream",
     "text": [
      "0x7ff9795f3050\n"
     ]
    }
   ],
   "source": [
    "a = a + 1\n",
    "print(hex(id(a)))"
   ]
  },
  {
   "cell_type": "markdown",
   "metadata": {},
   "source": [
    "b is not affected\n",
    "- b still references 73"
   ]
  },
  {
   "cell_type": "code",
   "execution_count": 6,
   "metadata": {},
   "outputs": [
    {
     "name": "stdout",
     "output_type": "stream",
     "text": [
      "a = 74\n",
      "b = 73\n"
     ]
    }
   ],
   "source": [
    "print(f\"a = {a}\")\n",
    "print(f\"b = {b}\")"
   ]
  },
  {
   "cell_type": "markdown",
   "metadata": {},
   "source": [
    "## String"
   ]
  },
  {
   "cell_type": "markdown",
   "metadata": {},
   "source": [
    "* A string is a collection of characters 0-9, a-z, A-Z, + - / ? spaces and many more\n",
    "* Strings are immutable (they cannot be change)\n",
    "* Strings are iterables"
   ]
  },
  {
   "cell_type": "code",
   "execution_count": 7,
   "metadata": {},
   "outputs": [
    {
     "name": "stdout",
     "output_type": "stream",
     "text": [
      "0x248bef67710\n"
     ]
    }
   ],
   "source": [
    "my_string = 'This is a string'\n",
    "print(hex(id(my_string)))"
   ]
  },
  {
   "cell_type": "code",
   "execution_count": 8,
   "metadata": {},
   "outputs": [
    {
     "name": "stdout",
     "output_type": "stream",
     "text": [
      "0x248bef67710\n"
     ]
    }
   ],
   "source": [
    "your_string = my_string\n",
    "print(hex(id(your_string)))"
   ]
  },
  {
   "cell_type": "code",
   "execution_count": 9,
   "metadata": {},
   "outputs": [
    {
     "name": "stdout",
     "output_type": "stream",
     "text": [
      "id of my_string before the assigment 0x248bef67710\n",
      "id of my_string after the assigment 0x248bef69d30\n",
      "id of your_string after the assigment 0x248bef69d30\n"
     ]
    }
   ],
   "source": [
    "print(f\"id of my_string before the assigment {hex(id(my_string))}\")\n",
    "my_string = \"Foothill\"\n",
    "print(f\"id of my_string after the assigment {hex(id(my_string))}\")\n",
    "your_string = my_string\n",
    "print(f\"id of your_string after the assigment {hex(id(my_string))}\")"
   ]
  },
  {
   "cell_type": "markdown",
   "metadata": {},
   "source": [
    "- Did you notice what happened here?\n",
    "- your_string is an alias of my_string\n",
    " - you_string and my_string both reference the same string"
   ]
  },
  {
   "cell_type": "markdown",
   "metadata": {},
   "source": [
    "Now let's assign your_string to a different string"
   ]
  },
  {
   "cell_type": "code",
   "execution_count": 10,
   "metadata": {},
   "outputs": [
    {
     "name": "stdout",
     "output_type": "stream",
     "text": [
      "0x248bef6da30\n"
     ]
    }
   ],
   "source": [
    "your_string = \"Your name\"\n",
    "print(hex(id(your_string)))"
   ]
  },
  {
   "cell_type": "code",
   "execution_count": 11,
   "metadata": {},
   "outputs": [
    {
     "name": "stdout",
     "output_type": "stream",
     "text": [
      "Foothill\n",
      "2511464734000\n"
     ]
    }
   ],
   "source": [
    "print(my_string)\n",
    "my_string\n",
    "print(id(my_string))"
   ]
  },
  {
   "cell_type": "code",
   "execution_count": 12,
   "metadata": {},
   "outputs": [
    {
     "name": "stdout",
     "output_type": "stream",
     "text": [
      "0x248bef6e2b0\n"
     ]
    }
   ],
   "source": [
    "my_string = 'This is another string'\n",
    "print(hex(id(my_string)))"
   ]
  },
  {
   "cell_type": "code",
   "execution_count": 13,
   "metadata": {},
   "outputs": [
    {
     "name": "stdout",
     "output_type": "stream",
     "text": [
      "This is another string with an extension\n",
      "0x248bef506f0\n"
     ]
    }
   ],
   "source": [
    "my_string = my_string + ' with an extension'\n",
    "print(my_string)\n",
    "print(hex(id(my_string)))"
   ]
  },
  {
   "cell_type": "markdown",
   "metadata": {},
   "source": [
    "A string is an iterable\n",
    "- We can access item in to string in a for loop"
   ]
  },
  {
   "cell_type": "code",
   "execution_count": 16,
   "metadata": {},
   "outputs": [
    {
     "name": "stdout",
     "output_type": "stream",
     "text": [
      "T\n",
      "h\n",
      "i\n",
      "s\n",
      " \n",
      "i\n",
      "s\n",
      " \n",
      "a\n",
      "n\n",
      "o\n",
      "t\n",
      "h\n",
      "e\n",
      "r\n",
      " \n",
      "s\n",
      "t\n",
      "r\n",
      "i\n",
      "n\n",
      "g\n",
      " \n",
      "w\n",
      "i\n",
      "t\n",
      "h\n",
      " \n",
      "a\n",
      "n\n",
      " \n",
      "e\n",
      "x\n",
      "t\n",
      "e\n",
      "n\n",
      "s\n",
      "i\n",
      "o\n",
      "n\n"
     ]
    }
   ],
   "source": [
    "for char in my_string:\n",
    "    print(char)"
   ]
  },
  {
   "cell_type": "code",
   "execution_count": 17,
   "metadata": {},
   "outputs": [
    {
     "name": "stdout",
     "output_type": "stream",
     "text": [
      "T 0x248baede430\n",
      "h 0x248ba9e4870\n",
      "i 0x248ba9e4770\n",
      "s 0x248ba9be3f0\n",
      "  0x248bb0567b0\n",
      "i 0x248ba9e4770\n",
      "s 0x248ba9be3f0\n",
      "  0x248bb0567b0\n",
      "a 0x248baea5f30\n",
      "n 0x248ba9e4830\n",
      "o 0x248ba9dfd30\n",
      "t 0x248ba9df5f0\n",
      "h 0x248ba9e4870\n",
      "e 0x248ba9ea730\n",
      "r 0x248ba9af9b0\n",
      "  0x248bb0567b0\n",
      "s 0x248ba9be3f0\n",
      "t 0x248ba9df5f0\n",
      "r 0x248ba9af9b0\n",
      "i 0x248ba9e4770\n",
      "n 0x248ba9e4830\n",
      "g 0x248baf04230\n",
      "  0x248bb0567b0\n",
      "w 0x248baebfbb0\n",
      "i 0x248ba9e4770\n",
      "t 0x248ba9df5f0\n",
      "h 0x248ba9e4870\n",
      "  0x248bb0567b0\n",
      "a 0x248baea5f30\n",
      "n 0x248ba9e4830\n",
      "  0x248bb0567b0\n",
      "e 0x248ba9ea730\n",
      "x 0x248ba9944b0\n",
      "t 0x248ba9df5f0\n",
      "e 0x248ba9ea730\n",
      "n 0x248ba9e4830\n",
      "s 0x248ba9be3f0\n",
      "i 0x248ba9e4770\n",
      "o 0x248ba9dfd30\n",
      "n 0x248ba9e4830\n"
     ]
    }
   ],
   "source": [
    "for char in my_string:\n",
    "    print(char, hex(id(char)))"
   ]
  },
  {
   "cell_type": "markdown",
   "metadata": {},
   "source": [
    "## List\n",
    "* a list is a mutable collection of objects\n",
    "* a list is an **iterable**"
   ]
  },
  {
   "cell_type": "code",
   "execution_count": 19,
   "metadata": {},
   "outputs": [
    {
     "name": "stdout",
     "output_type": "stream",
     "text": [
      "[]\n",
      "lst = [1, 2, 3]\n",
      "0x248bef1f380\n"
     ]
    }
   ],
   "source": [
    "empty_list = []\n",
    "print(empty_list)\n",
    "lst = [1, 2, 3]\n",
    "print(f\"lst = {lst}\")\n",
    "print(hex(id(lst)))"
   ]
  },
  {
   "cell_type": "code",
   "execution_count": 20,
   "metadata": {},
   "outputs": [
    {
     "name": "stdout",
     "output_type": "stream",
     "text": [
      "1\n"
     ]
    }
   ],
   "source": [
    "print(lst[0])"
   ]
  },
  {
   "cell_type": "code",
   "execution_count": 22,
   "metadata": {},
   "outputs": [
    {
     "name": "stdout",
     "output_type": "stream",
     "text": [
      "lst = [99, 2, 3]\n",
      "0x248bef1f380\n"
     ]
    }
   ],
   "source": [
    "lst[0] = 99\n",
    "print(f\"lst = {lst}\")\n",
    "print(hex(id(lst)))"
   ]
  },
  {
   "cell_type": "code",
   "execution_count": 23,
   "metadata": {},
   "outputs": [
    {
     "name": "stdout",
     "output_type": "stream",
     "text": [
      "id of my_lst 0x248bef1f380\n"
     ]
    }
   ],
   "source": [
    "my_list = lst\n",
    "print(f\"id of my_lst {hex(id(my_list))}\")"
   ]
  },
  {
   "cell_type": "code",
   "execution_count": 24,
   "metadata": {},
   "outputs": [],
   "source": [
    "my_list = [4, 'Foothill College', ['a', 'list of strings'], 99.99]"
   ]
  },
  {
   "cell_type": "code",
   "execution_count": 25,
   "metadata": {},
   "outputs": [
    {
     "name": "stdout",
     "output_type": "stream",
     "text": [
      "[4, 'Foothill College', ['a', 'list of strings'], 99.99]\n",
      "id of my_lst 0x248bef221c0\n"
     ]
    }
   ],
   "source": [
    "print(my_list)\n",
    "print(f\"id of my_lst {hex(id(my_list))}\")"
   ]
  },
  {
   "cell_type": "code",
   "execution_count": 31,
   "metadata": {},
   "outputs": [
    {
     "name": "stdout",
     "output_type": "stream",
     "text": [
      "<class 'str'>\n"
     ]
    }
   ],
   "source": [
    "print(type(my_list[1]))"
   ]
  },
  {
   "cell_type": "code",
   "execution_count": 32,
   "metadata": {},
   "outputs": [
    {
     "data": {
      "text/plain": [
       "[4, 'Foothill College', ['a', 'list of strings'], 99.99]"
      ]
     },
     "execution_count": 32,
     "metadata": {},
     "output_type": "execute_result"
    }
   ],
   "source": [
    "my_list"
   ]
  },
  {
   "cell_type": "code",
   "execution_count": 33,
   "metadata": {},
   "outputs": [
    {
     "name": "stdout",
     "output_type": "stream",
     "text": [
      "type = <class 'list'>\n",
      "[4, 'Foothill College', ['a', 'list of strings'], 99.99]\n",
      "id of my_list is: 0x248bef221c0\n"
     ]
    }
   ],
   "source": [
    "print('type =', type(my_list))\n",
    "print(my_list)\n",
    "print('id of my_list is:', hex(id(my_list)))"
   ]
  },
  {
   "cell_type": "code",
   "execution_count": 34,
   "metadata": {},
   "outputs": [
    {
     "name": "stdout",
     "output_type": "stream",
     "text": [
      "['a', 'list of strings']\n"
     ]
    }
   ],
   "source": [
    "item2 = my_list[2]\n",
    "print(item2)"
   ]
  },
  {
   "cell_type": "code",
   "execution_count": 35,
   "metadata": {},
   "outputs": [
    {
     "data": {
      "text/plain": [
       "['This', 'is a', 'new', 'list']"
      ]
     },
     "execution_count": 35,
     "metadata": {},
     "output_type": "execute_result"
    }
   ],
   "source": [
    "new_item = [\"This\", \"is a\", \"new\", \"list\"]\n",
    "new_item"
   ]
  },
  {
   "cell_type": "code",
   "execution_count": 36,
   "metadata": {},
   "outputs": [
    {
     "data": {
      "text/plain": [
       "[4, 'Foothill College', ['This', 'is a', 'new', 'list']]"
      ]
     },
     "execution_count": 36,
     "metadata": {},
     "output_type": "execute_result"
    }
   ],
   "source": [
    "my_list = [4, 'Foothill College', new_item]\n",
    "my_list"
   ]
  },
  {
   "cell_type": "code",
   "execution_count": 37,
   "metadata": {},
   "outputs": [
    {
     "name": "stdout",
     "output_type": "stream",
     "text": [
      "[5, 'Foothill College', ['This', 'is a', 'new', 'list']]\n",
      "id of my_list is: 2511465134336\n"
     ]
    }
   ],
   "source": [
    "my_list[0] = 5\n",
    "print(my_list)\n",
    "print('id of my_list is:', id(my_list))"
   ]
  },
  {
   "cell_type": "markdown",
   "metadata": {},
   "source": [
    "A list is an iterable"
   ]
  },
  {
   "cell_type": "code",
   "execution_count": 38,
   "metadata": {},
   "outputs": [
    {
     "name": "stdout",
     "output_type": "stream",
     "text": [
      "5\n",
      "Foothill College\n",
      "['This', 'is a', 'new', 'list']\n"
     ]
    }
   ],
   "source": [
    "for item in my_list:\n",
    "    print(item)"
   ]
  },
  {
   "cell_type": "markdown",
   "metadata": {},
   "source": [
    "## Tuples"
   ]
  },
  {
   "cell_type": "markdown",
   "metadata": {},
   "source": [
    "A **tuple** is similar to a list but it is **immutable** (items can not be added or removed)"
   ]
  },
  {
   "cell_type": "code",
   "execution_count": 39,
   "metadata": {},
   "outputs": [],
   "source": [
    "my_tuple = (4, 'Foothill College', ['a', 'list of strings'])"
   ]
  },
  {
   "cell_type": "code",
   "execution_count": 40,
   "metadata": {},
   "outputs": [
    {
     "name": "stdout",
     "output_type": "stream",
     "text": [
      "My_tuple =  (4, 'Foothill College', ['a', 'list of strings'])\n",
      "type of my_tuple =  <class 'tuple'>\n",
      "The id of my_tuple is: 0x248beee49c0\n"
     ]
    }
   ],
   "source": [
    "print(f\"My_tuple = \", my_tuple)\n",
    "print('type of my_tuple = ', type(my_tuple))\n",
    "print('The id of my_tuple is:', hex(id(my_tuple)))"
   ]
  },
  {
   "cell_type": "markdown",
   "metadata": {},
   "source": [
    "## Change item 0 in my_tuple"
   ]
  },
  {
   "cell_type": "code",
   "execution_count": 41,
   "metadata": {},
   "outputs": [
    {
     "ename": "TypeError",
     "evalue": "'tuple' object does not support item assignment",
     "output_type": "error",
     "traceback": [
      "\u001b[1;31m---------------------------------------------------------------------------\u001b[0m",
      "\u001b[1;31mTypeError\u001b[0m                                 Traceback (most recent call last)",
      "\u001b[1;32m<ipython-input-41-7202c080a1da>\u001b[0m in \u001b[0;36m<module>\u001b[1;34m\u001b[0m\n\u001b[1;32m----> 1\u001b[1;33m \u001b[0mmy_tuple\u001b[0m\u001b[1;33m[\u001b[0m\u001b[1;36m0\u001b[0m\u001b[1;33m]\u001b[0m \u001b[1;33m=\u001b[0m \u001b[1;36m5\u001b[0m\u001b[1;33m\u001b[0m\u001b[1;33m\u001b[0m\u001b[0m\n\u001b[0m",
      "\u001b[1;31mTypeError\u001b[0m: 'tuple' object does not support item assignment"
     ]
    }
   ],
   "source": [
    "my_tuple[0] = 5"
   ]
  },
  {
   "cell_type": "code",
   "execution_count": null,
   "metadata": {},
   "outputs": [],
   "source": [
    "my_tuple = (5, 'Foothill College', ['a', 'list of strings'])\n",
    "print('The id of my_tuple is:', hex(id(my_tuple)))"
   ]
  },
  {
   "cell_type": "markdown",
   "metadata": {},
   "source": [
    "Note that we cannot mutate (change) the tuple"
   ]
  },
  {
   "cell_type": "markdown",
   "metadata": {},
   "source": [
    "# A set\n",
    "* a set is a mutable collection of objects\n",
    "* the items in a set are unique\n",
    " * if you append an item to a set which is already in the set, it will not be added\n",
    " * the items in a set must be **hashable**, this is similar to the items being immutable, we will cover this later\n",
    "* the contents of the set are **not sorted**\n",
    "* a set is an **iterable**"
   ]
  },
  {
   "cell_type": "code",
   "execution_count": 56,
   "metadata": {},
   "outputs": [
    {
     "name": "stdout",
     "output_type": "stream",
     "text": [
      "type is: <class 'set'>\n",
      "my_set = {8, 2, 6, 7}\n",
      "id of my_set: = 0x248bef47820\n"
     ]
    }
   ],
   "source": [
    "my_set = {6, 2, 8, 7}\n",
    "print('type is:', type(my_set))\n",
    "print('my_set =', my_set)\n",
    "print('id of my_set: =', hex(id(my_set)))"
   ]
  },
  {
   "cell_type": "markdown",
   "metadata": {},
   "source": [
    "my_set is **mutable**"
   ]
  },
  {
   "cell_type": "code",
   "execution_count": 57,
   "metadata": {},
   "outputs": [
    {
     "name": "stdout",
     "output_type": "stream",
     "text": [
      "my_set = {2, 3, 6, 7, 8}\n",
      "id of my_set: = 0x248bef47820\n"
     ]
    }
   ],
   "source": [
    "my_set.add(3)\n",
    "print('my_set =', my_set)\n",
    "print('id of my_set: =', hex(id(my_set)))"
   ]
  },
  {
   "cell_type": "code",
   "execution_count": 58,
   "metadata": {},
   "outputs": [
    {
     "name": "stdout",
     "output_type": "stream",
     "text": [
      "my_set = {2, 3, 6, 7, 8}\n",
      "id of my_set: = 0x248bef47820\n"
     ]
    }
   ],
   "source": [
    "my_set.add(7)\n",
    "print('my_set =', my_set)\n",
    "print('id of my_set: =', hex(id(my_set)))"
   ]
  },
  {
   "cell_type": "markdown",
   "metadata": {},
   "source": [
    "my_set is an **iterable**"
   ]
  },
  {
   "cell_type": "code",
   "execution_count": 59,
   "metadata": {},
   "outputs": [
    {
     "name": "stdout",
     "output_type": "stream",
     "text": [
      "2\n",
      "3\n",
      "6\n",
      "7\n",
      "8\n"
     ]
    }
   ],
   "source": [
    "for item in my_set:\n",
    "    print(item)"
   ]
  },
  {
   "cell_type": "code",
   "execution_count": 60,
   "metadata": {},
   "outputs": [
    {
     "name": "stdout",
     "output_type": "stream",
     "text": [
      "my_set = {(1, 2), (1, 3)}\n",
      "id of my_set: = 0x248bef47580\n"
     ]
    }
   ],
   "source": [
    "my_set = {(1, 3), (1, 2)}\n",
    "print(f\"my_set = {my_set}\")\n",
    "print('id of my_set: =', hex(id(my_set)))"
   ]
  },
  {
   "cell_type": "code",
   "execution_count": 48,
   "metadata": {},
   "outputs": [
    {
     "name": "stdout",
     "output_type": "stream",
     "text": [
      "item = (1, 2)\n",
      "item type is <class 'tuple'>\n",
      "item = (1, 3)\n",
      "item type is <class 'tuple'>\n"
     ]
    }
   ],
   "source": [
    "for item in my_set:\n",
    "    print(f\"item = {item}\")\n",
    "    print(f\"item type is {type(item)}\")"
   ]
  },
  {
   "cell_type": "code",
   "execution_count": 50,
   "metadata": {},
   "outputs": [
    {
     "name": "stdout",
     "output_type": "stream",
     "text": [
      "item = (1, 2)\n",
      "item type is <class 'tuple'>\n",
      "item = (1, 3)\n",
      "item type is <class 'tuple'>\n",
      "item = (5, 3, 6)\n",
      "item type is <class 'tuple'>\n"
     ]
    }
   ],
   "source": [
    "my_set.add((5, 3, 6))\n",
    "for item in my_set:\n",
    "    print(f\"item = {item}\")\n",
    "    print(f\"item type is {type(item)}\")"
   ]
  },
  {
   "cell_type": "code",
   "execution_count": 61,
   "metadata": {},
   "outputs": [
    {
     "name": "stdout",
     "output_type": "stream",
     "text": [
      "item = Foothill College\n",
      "item type is <class 'str'>\n",
      "item = (1, 2)\n",
      "item type is <class 'tuple'>\n",
      "item = (1, 3)\n",
      "item type is <class 'tuple'>\n",
      "0x248bef47580\n"
     ]
    }
   ],
   "source": [
    "my_set.add('Foothill College')\n",
    "for item in my_set:\n",
    "    print(f\"item = {item}\")\n",
    "    print(f\"item type is {type(item)}\")\n",
    "print(hex(id(my_set)))"
   ]
  },
  {
   "cell_type": "code",
   "execution_count": 52,
   "metadata": {},
   "outputs": [],
   "source": [
    "my_set = {'Foothill', 5}"
   ]
  },
  {
   "cell_type": "markdown",
   "metadata": {},
   "source": [
    "# dict (Dictionaries)"
   ]
  },
  {
   "cell_type": "markdown",
   "metadata": {},
   "source": [
    "A **dict** organizes data values by association **key:value pairs**\n",
    "A dict object is mutable and an iterable"
   ]
  },
  {
   "cell_type": "markdown",
   "metadata": {},
   "source": [
    "### create an empty dict object"
   ]
  },
  {
   "cell_type": "code",
   "execution_count": 62,
   "metadata": {},
   "outputs": [
    {
     "name": "stdout",
     "output_type": "stream",
     "text": [
      "type is: <class 'dict'>\n"
     ]
    }
   ],
   "source": [
    "my_dict = {}\n",
    "print('type is:', type(my_dict))"
   ]
  },
  {
   "cell_type": "code",
   "execution_count": 63,
   "metadata": {},
   "outputs": [
    {
     "name": "stdout",
     "output_type": "stream",
     "text": [
      "{'name': 'Mike', 'occupation': 'Teacher'}\n",
      "id of my_dict =: 2511464792960\n"
     ]
    }
   ],
   "source": [
    "my_dict[\"name\"] = \"Mike\"\n",
    "my_dict[\"occupation\"] = 'Teacher'\n",
    "print(my_dict)\n",
    "print(\"id of my_dict =:\", id(my_dict))"
   ]
  },
  {
   "cell_type": "markdown",
   "metadata": {},
   "source": [
    "Add items to my_dict"
   ]
  },
  {
   "cell_type": "code",
   "execution_count": 64,
   "metadata": {},
   "outputs": [
    {
     "name": "stdout",
     "output_type": "stream",
     "text": [
      "{'name': 'Mike', 'occupation': 'Teacher', 'gender': 'male'}\n",
      "id of my_dict =: 2511464792960\n"
     ]
    }
   ],
   "source": [
    "my_dict[\"gender\"] = \"male\"\n",
    "print(my_dict)\n",
    "print(\"id of my_dict =:\", id(my_dict))"
   ]
  },
  {
   "cell_type": "code",
   "execution_count": 65,
   "metadata": {},
   "outputs": [
    {
     "name": "stdout",
     "output_type": "stream",
     "text": [
      "{'name': 'Mike', 'occupation': 'Teacher', 'gender': 'male', 'diet': ('fruit', 'veggies')}\n",
      "id of my_dict =: 2511464792960\n"
     ]
    }
   ],
   "source": [
    "my_dict[\"diet\"] = (\"fruit\",\"veggies\")\n",
    "print(my_dict)\n",
    "print(\"id of my_dict =:\", id(my_dict))"
   ]
  },
  {
   "cell_type": "markdown",
   "metadata": {},
   "source": [
    "Iterating through a dict"
   ]
  },
  {
   "cell_type": "code",
   "execution_count": 66,
   "metadata": {},
   "outputs": [
    {
     "name": "stdout",
     "output_type": "stream",
     "text": [
      "name Mike\n",
      "occupation Teacher\n",
      "gender male\n",
      "diet ('fruit', 'veggies')\n"
     ]
    }
   ],
   "source": [
    "for key in my_dict:\n",
    "    print(key, my_dict[key])"
   ]
  },
  {
   "cell_type": "markdown",
   "metadata": {},
   "source": [
    "# We will cover each of these object types in detail later"
   ]
  },
  {
   "cell_type": "code",
   "execution_count": null,
   "metadata": {},
   "outputs": [],
   "source": []
  }
 ],
 "metadata": {
  "kernelspec": {
   "display_name": "Python 3 (ipykernel)",
   "language": "python",
   "name": "python3"
  },
  "language_info": {
   "codemirror_mode": {
    "name": "ipython",
    "version": 3
   },
   "file_extension": ".py",
   "mimetype": "text/x-python",
   "name": "python",
   "nbconvert_exporter": "python",
   "pygments_lexer": "ipython3",
   "version": "3.11.5"
  }
 },
 "nbformat": 4,
 "nbformat_minor": 2
}
