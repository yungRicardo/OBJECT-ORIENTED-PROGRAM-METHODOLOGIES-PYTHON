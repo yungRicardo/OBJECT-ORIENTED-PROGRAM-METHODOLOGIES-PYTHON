{
 "cells": [
  {
   "cell_type": "markdown",
   "id": "3f826a1a",
   "metadata": {},
   "source": [
    "#### We can do a lot with list comprehensions.    \n",
    "- One thing we may want to do is create a list using a different data object, like a string or another list.  \n",
    "- In your assignment this week you will need to create a list of integers from a list of tuples.     \n",
    " - Let's prepare for this by creating a list from a string."
   ]
  },
  {
   "cell_type": "code",
   "execution_count": 10,
   "id": "74378fd7",
   "metadata": {},
   "outputs": [],
   "source": [
    "my_string = \"I am not a number!\""
   ]
  },
  {
   "cell_type": "markdown",
   "id": "ce40e1ad",
   "metadata": {},
   "source": [
    "#### Remember that we can access each character in the string using bracket notation.    \n",
    "- Note the special characters in the in string."
   ]
  },
  {
   "cell_type": "code",
   "execution_count": 3,
   "id": "5eef3fc0",
   "metadata": {},
   "outputs": [
    {
     "name": "stdout",
     "output_type": "stream",
     "text": [
      "The first character of \"I am not a number!\" is \"I\"\n"
     ]
    }
   ],
   "source": [
    "print(f\"The first character of \\\"{my_string}\\\" is \\\"{my_string[0]}\\\"\")"
   ]
  },
  {
   "cell_type": "markdown",
   "id": "ba3e233f",
   "metadata": {},
   "source": [
    "We could use a loop to print the sentence vertically:"
   ]
  },
  {
   "cell_type": "code",
   "execution_count": null,
   "id": "3488fdd4",
   "metadata": {},
   "outputs": [],
   "source": [
    "for i in range(len(my_string)):\n",
    "    print(my_string[i])"
   ]
  },
  {
   "cell_type": "markdown",
   "id": "8c8d0470",
   "metadata": {},
   "source": [
    "#### We can combine this with our list comprehension techniques to create a list of the individual letters"
   ]
  },
  {
   "cell_type": "code",
   "execution_count": 20,
   "id": "2820f475",
   "metadata": {},
   "outputs": [
    {
     "name": "stdout",
     "output_type": "stream",
     "text": [
      "['I', ' ', 'a', 'm', ' ', 'n', 'o', 't', ' ', 'a', ' ', 'n', 'u', 'm', 'b', 'e', 'r', '!']\n"
     ]
    }
   ],
   "source": [
    "my_list = [my_string[i] for i in range(len(my_string))]\n",
    "print(my_list)"
   ]
  },
  {
   "cell_type": "markdown",
   "id": "c4d725e2",
   "metadata": {},
   "source": [
    "Let's break that down a bit, starting from the inside out.  We've seen all this before, just not all together.\n",
    "\n",
    "- len(my_string) gives us (\"returns\") the length of the string. In this case 18.\n",
    "\n",
    "- So range(len(my_string)) really becomes range(18).\n",
    "\n",
    "- Together with the for loop, we end up repeating something 18 times, with i changing each time (0, 1, 2....17).\n",
    "\n",
    "- The thing we repeat is my_string[i], which gives us the \"ith\" character in the string.\n",
    "\n",
    "- So all together we get \"I\", \" \", \"a\". \"m\", etc. Since we've put this whole statement into a list, we have a list comprehension. The result is what we want - a list of the individual characters:"
   ]
  },
  {
   "cell_type": "markdown",
   "id": "b2c8a9ef",
   "metadata": {},
   "source": [
    "Try it, and play around. Can you modify the range function so that you get a list with the characters in backward order? Or every third character instead of every character?\n",
    "- range(start, stop, step)"
   ]
  },
  {
   "cell_type": "code",
   "execution_count": 27,
   "id": "c665cab3",
   "metadata": {},
   "outputs": [],
   "source": [
    "my_list = [my_string[i] for i in range(0, len(my_string), 3)]"
   ]
  },
  {
   "cell_type": "code",
   "execution_count": 28,
   "id": "ff099bea",
   "metadata": {},
   "outputs": [
    {
     "data": {
      "text/plain": [
       "['I', 'm', 'o', 'a', 'u', 'e']"
      ]
     },
     "execution_count": 28,
     "metadata": {},
     "output_type": "execute_result"
    }
   ],
   "source": [
    "my_list"
   ]
  },
  {
   "cell_type": "code",
   "execution_count": null,
   "id": "1d13df94",
   "metadata": {},
   "outputs": [],
   "source": []
  }
 ],
 "metadata": {
  "kernelspec": {
   "display_name": "Python 3 (ipykernel)",
   "language": "python",
   "name": "python3"
  },
  "language_info": {
   "codemirror_mode": {
    "name": "ipython",
    "version": 3
   },
   "file_extension": ".py",
   "mimetype": "text/x-python",
   "name": "python",
   "nbconvert_exporter": "python",
   "pygments_lexer": "ipython3",
   "version": "3.11.5"
  }
 },
 "nbformat": 4,
 "nbformat_minor": 5
}
