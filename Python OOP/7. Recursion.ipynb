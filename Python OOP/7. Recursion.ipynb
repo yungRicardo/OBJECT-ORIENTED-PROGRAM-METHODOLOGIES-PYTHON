{
 "cells": [
  {
   "cell_type": "markdown",
   "id": "20e64ed1",
   "metadata": {},
   "source": [
    "### Python Tutor  \n",
    "- A note: Please try the recursive functions presented here on https://pythontutor.com/visualize.html#mode=edit."
   ]
  },
  {
   "cell_type": "markdown",
   "id": "ec17a6cb",
   "metadata": {},
   "source": [
    "### Requirements for a recursive function  \n",
    "- The function must have a base-case (the case where no further recursive calls are made.)  \n",
    "- The function must call itself  (the recursive call)\n",
    "- Each time the function calls itself (the recursive call), we must move toward the base-case"
   ]
  },
  {
   "cell_type": "code",
   "execution_count": null,
   "id": "76e983a2",
   "metadata": {},
   "outputs": [],
   "source": [
    "def hello_world(count):\n",
    "    if (count < 1):   \n",
    "        return \n",
    "    print(\"Hello World!\")\n",
    "    hello_world(count - 1)\n",
    "    \n",
    "hello_world(3)"
   ]
  },
  {
   "cell_type": "markdown",
   "id": "34305157",
   "metadata": {},
   "source": [
    "### Computing the power of a number  \n",
    "- This method my_pow() used to compute a base to an exp power, say 2.4**4 or \"2.4 raised to the 4th power\" which is: \n",
    " - 2.4 * 2.4 * 2.4 * 2.4"
   ]
  },
  {
   "cell_type": "code",
   "execution_count": null,
   "id": "1ac32156",
   "metadata": {},
   "outputs": [],
   "source": [
    "\"\"\" home made power method ------------------------------- \"\"\"\n",
    "def my_power(number, exp):\n",
    "    try:\n",
    "        if (type(exp) != int):\n",
    "            raise ValueError\n",
    "    except:\n",
    "        return \"float not allowed for exponent\"\n",
    "    if (exp == 0):    # The base case\n",
    "        return 1.\n",
    "    if (exp < 0):\n",
    "        return 1. / my_power(number, -exp)\n",
    "    else:\n",
    "        return number * my_power(number, exp - 1)  #  The recurive call\n",
    "                                                   #  Notice that the exp is being decrement toward the base case\n",
    "  \n",
    "def main():\n",
    "    print(f\"Computed with my_power {my_power(2.4, 4)} vs Computed with ** {(2.4 ** 4)}\")\n",
    "    print(f\"Computed with my_power {my_power(1.23, 9)} vs Computed with ** {(1.23 ** 9)}\")\n",
    "\n",
    "    print(f\"Computed with my_power {my_power(5535, -29)} vs Computed with ** {(5535 ** -29)}\")\n",
    "    print(f\"Computed with my_power {my_power(2.,32)} vs Computed with ** {(2. ** 32)}\")\n",
    "    print(f\"Computed with my_power {my_power(4, 1.5)} vs Computed with ** {(4 ** 1.5)}\")\n",
    "\n",
    "if __name__ == \"__main__\":\n",
    "    main()\n",
    "    "
   ]
  },
  {
   "cell_type": "markdown",
   "id": "e37f80de",
   "metadata": {},
   "source": [
    "### Computing a factorial  \n",
    "5! = 5 * 4 * 3 * 2 * 1\n",
    "\n",
    "5! = 5 * 4!\n",
    "\n",
    "5! = 5 * 4 * 3!\n",
    "\n",
    "5! = 5 * 4 * 3 * 2!\n",
    "\n",
    "5! = 5 * 4 * 3 * 2 * 1"
   ]
  },
  {
   "cell_type": "code",
   "execution_count": null,
   "id": "e958da44",
   "metadata": {},
   "outputs": [],
   "source": [
    "def factorial(x):\n",
    "    \"\"\"This is a recursive function\n",
    "    to find the factorial of an integer\"\"\"\n",
    "\n",
    "    if x == 1:    # The base case\n",
    "        return 1\n",
    "    else:\n",
    "        return (x * factorial(x-1))   # The recursive call\n",
    "                                      # Notice that x is decremented toward the base case\n",
    "\n",
    "\n",
    "num = 3\n",
    "print(\"The factorial of\", num, \"is\", factorial(num))"
   ]
  },
  {
   "cell_type": "code",
   "execution_count": null,
   "id": "6f460c38",
   "metadata": {},
   "outputs": [],
   "source": []
  },
  {
   "cell_type": "code",
   "execution_count": null,
   "id": "5c14b24d",
   "metadata": {},
   "outputs": [],
   "source": []
  },
  {
   "cell_type": "code",
   "execution_count": null,
   "id": "0bd9ed87",
   "metadata": {},
   "outputs": [],
   "source": []
  },
  {
   "cell_type": "code",
   "execution_count": null,
   "id": "98bb99df",
   "metadata": {},
   "outputs": [],
   "source": []
  }
 ],
 "metadata": {
  "kernelspec": {
   "display_name": "Python 3 (ipykernel)",
   "language": "python",
   "name": "python3"
  },
  "language_info": {
   "codemirror_mode": {
    "name": "ipython",
    "version": 3
   },
   "file_extension": ".py",
   "mimetype": "text/x-python",
   "name": "python",
   "nbconvert_exporter": "python",
   "pygments_lexer": "ipython3",
   "version": "3.11.4"
  }
 },
 "nbformat": 4,
 "nbformat_minor": 5
}
