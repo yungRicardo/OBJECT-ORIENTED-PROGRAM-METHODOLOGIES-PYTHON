{
 "cells": [
  {
   "cell_type": "markdown",
   "metadata": {},
   "source": [
    "Summary of Where We Are\n",
    "\n",
    "This last discussion was so important it is worth summarizing without all the excess verbiage."
   ]
  },
  {
   "cell_type": "markdown",
   "metadata": {},
   "source": [
    "Changes to Parameters **inside** of functions\n",
    "\n",
    "When you pass immutable data (like ints, floats, strings, etc.) into a function using arguments (i.e., by placing variables(objects) inside the parentheses), the method cannot make any changes to those arguments.  When the function returns to the client, whatever values those variables had before are still there.\n",
    "\n",
    "Notice that in the above statement we say this applies to immutable objects"
   ]
  },
  {
   "cell_type": "markdown",
   "metadata": {},
   "source": [
    "Why is this?\n",
    "* Immutible objects cannot be changed\n",
    "* If we assigned a different value to the \"variable\" a new object is created"
   ]
  },
  {
   "cell_type": "markdown",
   "metadata": {},
   "source": [
    "As we saw \n",
    "* if you pass mutable objects to a function\n",
    " * and it is mutated (modified) in the function\n",
    "* the object referenced in the argument is mutated"
   ]
  },
  {
   "cell_type": "code",
   "execution_count": null,
   "metadata": {},
   "outputs": [],
   "source": []
  }
 ],
 "metadata": {
  "kernelspec": {
   "display_name": "Python 3",
   "language": "python",
   "name": "python3"
  },
  "language_info": {
   "codemirror_mode": {
    "name": "ipython",
    "version": 3
   },
   "file_extension": ".py",
   "mimetype": "text/x-python",
   "name": "python",
   "nbconvert_exporter": "python",
   "pygments_lexer": "ipython3",
   "version": "3.8.8"
  }
 },
 "nbformat": 4,
 "nbformat_minor": 4
}
