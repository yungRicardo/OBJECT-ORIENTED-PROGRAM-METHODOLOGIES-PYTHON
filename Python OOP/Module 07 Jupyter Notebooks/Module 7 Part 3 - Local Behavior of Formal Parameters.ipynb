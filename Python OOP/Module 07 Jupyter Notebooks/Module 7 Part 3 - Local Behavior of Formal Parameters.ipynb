{
 "cells": [
  {
   "cell_type": "markdown",
   "metadata": {},
   "source": [
    "### Using parameters (as we should) we can define call adder() which allows us to use many different arguments"
   ]
  },
  {
   "cell_type": "code",
   "execution_count": 1,
   "metadata": {},
   "outputs": [],
   "source": [
    "def adder(a, b): \n",
    "    return a + b"
   ]
  },
  {
   "cell_type": "code",
   "execution_count": 2,
   "metadata": {},
   "outputs": [
    {
     "name": "stdout",
     "output_type": "stream",
     "text": [
      "ans_1: 8.00, ans_2: 48.10, ans_3: -63.00\n"
     ]
    }
   ],
   "source": [
    "# note the use of unpacking \n",
    "x, z, a, b = 10.2, 35.9, 18, -81 \n",
    "\n",
    "ans_1 = adder(3, 5)\n",
    "ans_2 = adder(x - 1, z + 3)\n",
    "ans_3 = adder(a, b)  # a, b meant only for main,\n",
    "                     # different from adder's params a, b\n",
    "\n",
    "print(f\"ans_1:{ans_1:5.2f}, ans_2: {ans_2:5.2f}, ans_3: {ans_3:5.2f}\")"
   ]
  },
  {
   "cell_type": "markdown",
   "metadata": {},
   "source": [
    "### However, what if we removed the formal parameters from the definition of adder() and instead tried to use global variables, a and b, to pass the information?"
   ]
  },
  {
   "cell_type": "code",
   "execution_count": 4,
   "metadata": {},
   "outputs": [],
   "source": [
    "# function definition\n",
    "def adder():\n",
    "    return a + b"
   ]
  },
  {
   "cell_type": "markdown",
   "metadata": {},
   "source": [
    "#### The function calls would look very different and much more confusing.  We could no longer pass adder() arguments.  Instead we would have to \"prep\" the global variables prior to the function call:"
   ]
  },
  {
   "cell_type": "code",
   "execution_count": 5,
   "metadata": {},
   "outputs": [
    {
     "name": "stdout",
     "output_type": "stream",
     "text": [
      "8\n"
     ]
    }
   ],
   "source": [
    "a = 3\n",
    "b = 5\n",
    "y = adder()\n",
    "print(y)"
   ]
  },
  {
   "cell_type": "markdown",
   "metadata": {},
   "source": [
    "and"
   ]
  },
  {
   "cell_type": "code",
   "execution_count": 8,
   "metadata": {},
   "outputs": [
    {
     "name": "stdout",
     "output_type": "stream",
     "text": [
      "48.099999999999994\n"
     ]
    }
   ],
   "source": [
    "x, z, a, b = 10.2, 35.9, x - 1, z + 3\n",
    "\n",
    "ans_2 = adder()\n",
    "print(ans_2)"
   ]
  },
  {
   "cell_type": "code",
   "execution_count": 9,
   "metadata": {},
   "outputs": [],
   "source": [
    "# function definitions -----------------------------\n",
    "def adder_plus(a, b):\n",
    "    \"\"\" adds the arguments plus \"an amount to be added \"\"\"\n",
    "    \n",
    "    b += int(input(\"how much extra should I add? \"))\n",
    "\n",
    "    print(f\"\\nb (inside function) = {b}\\n\")\n",
    "   \n",
    "    return a + b"
   ]
  },
  {
   "cell_type": "code",
   "execution_count": 10,
   "metadata": {},
   "outputs": [
    {
     "name": "stdout",
     "output_type": "stream",
     "text": [
      "b (before call) = 8\n",
      "\n",
      "how much extra should I add? 10\n",
      "\n",
      "b (inside function) = 18\n",
      "\n",
      "answer = 27 , b (after call) = 8\n"
     ]
    }
   ],
   "source": [
    "# main program -----------------------------------\n",
    "\"\"\" another example of parameter passing \"\"\"\n",
    "\n",
    "a, b = 9, 8\n",
    "\n",
    "print(f\"b (before call) = {b}\\n\")\n",
    "ans = adder_plus(a, b)\n",
    "print(f\"answer = {ans} , b (after call) = {b}\")"
   ]
  },
  {
   "cell_type": "markdown",
   "metadata": {},
   "source": [
    "### Let's look at what happens when we \"update\" an int"
   ]
  },
  {
   "cell_type": "code",
   "execution_count": 11,
   "metadata": {},
   "outputs": [
    {
     "name": "stdout",
     "output_type": "stream",
     "text": [
      "a = 5  id of a: 0x7ffe8a3427b0\n",
      "\n",
      "After the update\n",
      "a = 14 id of a: 0x7ffe8a3428d0\n"
     ]
    }
   ],
   "source": [
    "a = 5\n",
    "print(f\"a = {a}  id of a: {hex(id(a))}\")\n",
    "a = a + 9\n",
    "print(\"\\nAfter the update\")\n",
    "print(f\"a = {a} id of a: {hex(id(a))}\")"
   ]
  },
  {
   "cell_type": "markdown",
   "metadata": {},
   "source": [
    "### Danger -- Why was b updated in main?"
   ]
  },
  {
   "cell_type": "code",
   "execution_count": 23,
   "metadata": {},
   "outputs": [],
   "source": [
    "# function definitions -----------------------------\n",
    "def adder_plus(a, b):\n",
    "    \"\"\" adds the arguments plus \"an amount to be added\"\"\"\n",
    "\n",
    "    b += [(input(\"what should I concatinate to b? \"))]    # b is a variable reference a new object\n",
    "\n",
    "    print(f\"\\nb (inside function) = {b},   id b = {hex(id(b))}\\n\")\n",
    "   \n",
    "    return a + b"
   ]
  },
  {
   "cell_type": "code",
   "execution_count": 24,
   "metadata": {},
   "outputs": [
    {
     "name": "stdout",
     "output_type": "stream",
     "text": [
      "b in main (before call) = ['World']   id b = 0x1b19ac87e00\n",
      "\n",
      "what should I concatinate to b? 50\n",
      "\n",
      "b (inside function) = ['World', '50'],   id b = 0x1b19ac87e00\n",
      "\n",
      "\n",
      "ans = ['Hello', 'World', '50'] \n",
      "b (outside of the function, after call) = ['World', '50']   id b = 0x1b19ac87e00\n",
      "\n"
     ]
    }
   ],
   "source": [
    "# main program -----------------------------------\n",
    "\"\"\" another example of parameter passing \"\"\"\n",
    "\n",
    "a, b = ['Hello'], ['World']\n",
    "\n",
    "print(f\"b in main (before call) = {b}   id b = {hex(id(b))}\\n\")\n",
    "\n",
    "ans = adder_plus(a, b)\n",
    "print(f\"\\nans = {ans} \\nb (outside of the function, after call) = {b}   id b = {hex(id(b))}\\n\")"
   ]
  },
  {
   "cell_type": "markdown",
   "metadata": {},
   "source": [
    "### Danger -- Why was b updated in main?"
   ]
  },
  {
   "cell_type": "code",
   "execution_count": 30,
   "metadata": {},
   "outputs": [
    {
     "name": "stdout",
     "output_type": "stream",
     "text": [
      "how much extra should I add? 50\n",
      "\n",
      "inside the function, b = [2, 50]\n",
      "\n",
      "In main, ans = [1, 2, 50]\n",
      "In main, two = [2, 50]\n",
      "In main, b = ['World', '50']\n"
     ]
    }
   ],
   "source": [
    "# main program -----------------------------------\n",
    "def adder_plus(a, b):\n",
    "    b.append(int(input(\"how much extra should I add? \")))\n",
    "    print(f\"\\ninside the function, b = {b}\\n\")\n",
    "    return a + b\n",
    "\n",
    "one, two = [1], [2]\n",
    "\n",
    "ans = adder_plus(one, two)\n",
    "\n",
    "print(f\"In main, ans = {ans}\")\n",
    "print(f\"In main, two = {two}\")\n",
    "print(f\"In main, b = {b}\")"
   ]
  },
  {
   "cell_type": "markdown",
   "metadata": {},
   "source": [
    "Let's try and figure out the difference between the next two examples"
   ]
  },
  {
   "cell_type": "code",
   "execution_count": 31,
   "metadata": {},
   "outputs": [
    {
     "name": "stdout",
     "output_type": "stream",
     "text": [
      "two (before call) = [1, 2, 3]\n",
      "b (inside function - before the assignment) = [1, 2, 3] id(b) 0x1b19ac790c0\n",
      "b (inside function - after the assignment) =  [9, 9, 9] id(b) 0x1b19ac7fc40\n",
      "two (after call) = [1, 2, 3]\n"
     ]
    }
   ],
   "source": [
    "# function definitions -----------------------------\n",
    "def experiment_1(b):\n",
    "    \"\"\" tests aspects of changing values in a function \"\"\"\n",
    "    print(f\"b (inside function - before the assignment) = {b} id(b) {hex(id(b))}\")\n",
    "    b = [9, 9, 9]\n",
    "    print(f\"b (inside function - after the assignment) =  {b} id(b) {hex(id(b))}\")\n",
    "\n",
    "\n",
    "# main program -----------------------------------\n",
    "two = [1, 2, 3]\n",
    "print(f\"two (before call) = {two}\")\n",
    "experiment_1(two)\n",
    "print(f\"two (after call) = {two}\")\n"
   ]
  },
  {
   "cell_type": "code",
   "execution_count": 32,
   "metadata": {},
   "outputs": [
    {
     "name": "stdout",
     "output_type": "stream",
     "text": [
      "two (before call) = [1, 2, 3]\n",
      "b (inside function - before the assignment) = [1, 2, 3] id(b) 0x1b19ac7b5c0\n",
      "b (inside function - after the assignment) = 99 id(b) 0x7ffe8a343370\n",
      "two (after call) = [1, 2, 3]\n"
     ]
    }
   ],
   "source": [
    "# function definitions -----------------------------\n",
    "def experiment_1(b):\n",
    "    \"\"\" tests aspects of changing values in a function \"\"\"\n",
    "    print(f\"b (inside function - before the assignment) = {b} id(b) {hex(id(b))}\")\n",
    "    b = 99\n",
    "    print(f\"b (inside function - after the assignment) = {b} id(b) {hex(id(b))}\")\n",
    "\n",
    "\n",
    "# main program -----------------------------------\n",
    "two = [1, 2, 3]\n",
    "print(f\"two (before call) = {two}\")\n",
    "experiment_1(two)\n",
    "print(f\"two (after call) = {two}\")"
   ]
  },
  {
   "cell_type": "code",
   "execution_count": null,
   "metadata": {},
   "outputs": [],
   "source": []
  },
  {
   "cell_type": "code",
   "execution_count": null,
   "metadata": {},
   "outputs": [],
   "source": []
  }
 ],
 "metadata": {
  "kernelspec": {
   "display_name": "Python 3",
   "language": "python",
   "name": "python3"
  },
  "language_info": {
   "codemirror_mode": {
    "name": "ipython",
    "version": 3
   },
   "file_extension": ".py",
   "mimetype": "text/x-python",
   "name": "python",
   "nbconvert_exporter": "python",
   "pygments_lexer": "ipython3",
   "version": "3.8.8"
  }
 },
 "nbformat": 4,
 "nbformat_minor": 4
}
