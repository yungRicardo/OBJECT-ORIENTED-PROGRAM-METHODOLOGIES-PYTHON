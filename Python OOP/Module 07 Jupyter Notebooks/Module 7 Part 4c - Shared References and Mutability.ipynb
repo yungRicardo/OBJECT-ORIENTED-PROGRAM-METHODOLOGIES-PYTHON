{
 "cells": [
  {
   "cell_type": "markdown",
   "metadata": {},
   "source": [
    "## Shared References and Mutability"
   ]
  },
  {
   "cell_type": "markdown",
   "metadata": {},
   "source": [
    "The following sets up a shared reference between the **str** variables my_var_1 and my_var_2"
   ]
  },
  {
   "cell_type": "code",
   "execution_count": 1,
   "metadata": {},
   "outputs": [
    {
     "name": "stdout",
     "output_type": "stream",
     "text": [
      "my_var_1: hello\n",
      "\n",
      "my_var_2: hello\n"
     ]
    }
   ],
   "source": [
    "my_var_1 = 'hello'\n",
    "my_var_2 = my_var_1\n",
    "print(f\"my_var_1: {my_var_1}\\n\")\n",
    "print(f\"my_var_2: {my_var_2}\")"
   ]
  },
  {
   "cell_type": "code",
   "execution_count": 2,
   "metadata": {},
   "outputs": [
    {
     "name": "stdout",
     "output_type": "stream",
     "text": [
      "id of my_var_1 0x1d8e576b770\n",
      "\n",
      "id of my_var_2 0x1d8e576b770\n"
     ]
    }
   ],
   "source": [
    "print(f\"id of my_var_1 {hex(id(my_var_1))}\\n\")\n",
    "print(f\"id of my_var_2 {hex(id(my_var_2))}\")"
   ]
  },
  {
   "cell_type": "code",
   "execution_count": 3,
   "metadata": {},
   "outputs": [],
   "source": [
    "my_var_2 = my_var_2 + ' world!'"
   ]
  },
  {
   "cell_type": "code",
   "execution_count": 4,
   "metadata": {},
   "outputs": [
    {
     "name": "stdout",
     "output_type": "stream",
     "text": [
      "id of my_var_1 0x1d8e576b770\n",
      "\n",
      "id of my_var_2 0x1d8e57626b0\n"
     ]
    }
   ],
   "source": [
    "print(f\"id of my_var_1 {hex(id(my_var_1))}\\n\")\n",
    "print(f\"id of my_var_2 {hex(id(my_var_2))}\")"
   ]
  },
  {
   "cell_type": "markdown",
   "metadata": {},
   "source": [
    "### Be careful if the variable type is mutable!\n",
    "\n",
    "Here we create a list (*my_list_1*) and create a variable (*my_list_2*) referencing the same list object:"
   ]
  },
  {
   "cell_type": "code",
   "execution_count": 5,
   "metadata": {},
   "outputs": [],
   "source": [
    "my_list_1 = [1, 2, 3]\n",
    "my_list_2 = my_list_1"
   ]
  },
  {
   "cell_type": "markdown",
   "metadata": {},
   "source": [
    "As we can see they have the same memory address (shared reference):"
   ]
  },
  {
   "cell_type": "code",
   "execution_count": 6,
   "metadata": {},
   "outputs": [
    {
     "name": "stdout",
     "output_type": "stream",
     "text": [
      "id of my_list_1 0x1d8e5737b80\n",
      "\n",
      "id of my_list_2 0x1d8e5737b80\n",
      "\n"
     ]
    }
   ],
   "source": [
    "print(f\"id of my_list_1 {hex(id(my_list_1))}\\n\")\n",
    "print(f\"id of my_list_2 {hex(id(my_list_2))}\\n\")"
   ]
  },
  {
   "cell_type": "markdown",
   "metadata": {},
   "source": [
    "Now we modify the list referenced by *my_list_2*:"
   ]
  },
  {
   "cell_type": "code",
   "execution_count": 7,
   "metadata": {},
   "outputs": [],
   "source": [
    "my_list_2.append(4)"
   ]
  },
  {
   "cell_type": "code",
   "execution_count": 8,
   "metadata": {},
   "outputs": [
    {
     "name": "stdout",
     "output_type": "stream",
     "text": [
      "id of my_list_2 0x1d8e5737b80\n",
      "\n"
     ]
    }
   ],
   "source": [
    "print(f\"id of my_list_2 {hex(id(my_list_2))}\\n\")"
   ]
  },
  {
   "cell_type": "markdown",
   "metadata": {},
   "source": [
    "*my_list_2* has been modified:"
   ]
  },
  {
   "cell_type": "code",
   "execution_count": 9,
   "metadata": {},
   "outputs": [
    {
     "name": "stdout",
     "output_type": "stream",
     "text": [
      "[1, 2, 3, 4]\n"
     ]
    }
   ],
   "source": [
    "print(my_list_2)"
   ]
  },
  {
   "cell_type": "markdown",
   "metadata": {},
   "source": [
    "And since my_list_1 references the same list object, it has also changed:"
   ]
  },
  {
   "cell_type": "code",
   "execution_count": 10,
   "metadata": {},
   "outputs": [
    {
     "name": "stdout",
     "output_type": "stream",
     "text": [
      "[1, 2, 3, 4]\n"
     ]
    }
   ],
   "source": [
    "print(my_list_1)"
   ]
  },
  {
   "cell_type": "markdown",
   "metadata": {},
   "source": [
    "As you can see, both variables still share the same reference:"
   ]
  },
  {
   "cell_type": "code",
   "execution_count": 11,
   "metadata": {},
   "outputs": [
    {
     "name": "stdout",
     "output_type": "stream",
     "text": [
      "id of my_list_1 0x1d8e5737b80\n",
      "\n",
      "id of my_list_2 0x1d8e5737b80\n",
      "\n"
     ]
    }
   ],
   "source": [
    "print(f\"id of my_list_1 {hex(id(my_list_1))}\\n\")\n",
    "print(f\"id of my_list_2 {hex(id(my_list_2))}\\n\")"
   ]
  },
  {
   "cell_type": "markdown",
   "metadata": {},
   "source": [
    "### Behind the scenes with Python's memory manager----"
   ]
  },
  {
   "cell_type": "markdown",
   "metadata": {},
   "source": [
    "Recall from a few lectures back:"
   ]
  },
  {
   "cell_type": "code",
   "execution_count": 12,
   "metadata": {},
   "outputs": [],
   "source": [
    "a = 10.\n",
    "b = 10."
   ]
  },
  {
   "cell_type": "code",
   "execution_count": 13,
   "metadata": {},
   "outputs": [
    {
     "name": "stdout",
     "output_type": "stream",
     "text": [
      "id of a: 0x1d8e57591f0\n",
      "id of b: 0x1d8e57595f0\n"
     ]
    }
   ],
   "source": [
    "print(f\"id of a: {hex(id(a))}\")\n",
    "print(f\"id of b: {hex(id(b))}\")"
   ]
  },
  {
   "cell_type": "markdown",
   "metadata": {},
   "source": [
    "Same object id (memory address)!!\n",
    "\n",
    "This is safe for Python to do because integer objects are **immutable**. \n",
    "\n",
    "So, even though *a* and *b* initially shared the same mempry address, we can never modify *a*'s value by \"modifying\" *b*'s value. \n",
    "\n",
    "The only way to change *b*'s value is to change it's reference, which will never affect *a*."
   ]
  },
  {
   "cell_type": "code",
   "execution_count": 14,
   "metadata": {},
   "outputs": [],
   "source": [
    "b = 11.\n",
    "c = 12."
   ]
  },
  {
   "cell_type": "code",
   "execution_count": 15,
   "metadata": {},
   "outputs": [
    {
     "name": "stdout",
     "output_type": "stream",
     "text": [
      "id of a: 0x1d8e57591f0\n",
      "id of b: 0x1d8e5759310\n",
      "id of c: 0x1d8e57596d0\n"
     ]
    }
   ],
   "source": [
    "print(f\"id of a: {hex(id(a))}\")\n",
    "print(f\"id of b: {hex(id(b))}\")\n",
    "print(f\"id of c: {hex(id(c))}\")"
   ]
  },
  {
   "cell_type": "markdown",
   "metadata": {},
   "source": [
    "However, for mutable objects, Python's memory manager does not do this, since that would **not** be safe."
   ]
  },
  {
   "cell_type": "code",
   "execution_count": 18,
   "metadata": {},
   "outputs": [],
   "source": [
    "my_list_1 = [1, 2, 3]\n",
    "my_list_2 = [1, 2, 3]"
   ]
  },
  {
   "cell_type": "markdown",
   "metadata": {},
   "source": [
    "As you can see, although the two variables were assigned identical \"contents\", their object IDs (memory addresses) are not the same:"
   ]
  },
  {
   "cell_type": "code",
   "execution_count": 17,
   "metadata": {
    "scrolled": true
   },
   "outputs": [
    {
     "name": "stdout",
     "output_type": "stream",
     "text": [
      "id of a: 0x1d8e5745f00\n",
      "id of b: 0x1d8e5737180\n"
     ]
    }
   ],
   "source": [
    "print(f\"id of a: {hex(id(my_list_1))}\")\n",
    "print(f\"id of b: {hex(id(my_list_2))}\")"
   ]
  }
 ],
 "metadata": {
  "kernelspec": {
   "display_name": "Python 3",
   "language": "python",
   "name": "python3"
  },
  "language_info": {
   "codemirror_mode": {
    "name": "ipython",
    "version": 3
   },
   "file_extension": ".py",
   "mimetype": "text/x-python",
   "name": "python",
   "nbconvert_exporter": "python",
   "pygments_lexer": "ipython3",
   "version": "3.8.8"
  }
 },
 "nbformat": 4,
 "nbformat_minor": 2
}
