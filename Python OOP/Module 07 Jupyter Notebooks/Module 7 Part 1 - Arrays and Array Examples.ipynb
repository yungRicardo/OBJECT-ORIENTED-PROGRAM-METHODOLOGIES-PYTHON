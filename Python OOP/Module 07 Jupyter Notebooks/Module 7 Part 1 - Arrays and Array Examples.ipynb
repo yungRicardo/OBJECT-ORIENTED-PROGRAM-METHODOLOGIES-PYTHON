{
 "cells": [
  {
   "cell_type": "markdown",
   "metadata": {},
   "source": [
    "# Array\n",
    "* Most programming languages have ordered, fixed length, random access data structures called arrays.    \n",
    " * Python does not have built-in array type but its' list type can be used in a way comparable to how arrays are used in other languages.\n",
    "* The Computer Science definiton of an array    \n",
    " * An array is a container object  \n",
    " * That holds a fixed number of values of a single type.  \n",
    " * The length of an array is established when the array is created."
   ]
  },
  {
   "cell_type": "markdown",
   "metadata": {},
   "source": [
    "* Lets create an array named student, which contains 20 int objects which can be stored in this array  \n",
    " * Here is one way to declare and allocate the array."
   ]
  },
  {
   "cell_type": "code",
   "execution_count": null,
   "metadata": {},
   "outputs": [],
   "source": [
    "array_size = 20\n",
    "student = [0 for k in range(array_size)]"
   ]
  },
  {
   "cell_type": "code",
   "execution_count": null,
   "metadata": {},
   "outputs": [],
   "source": [
    "student"
   ]
  },
  {
   "cell_type": "code",
   "execution_count": null,
   "metadata": {},
   "outputs": [],
   "source": [
    "for k in range(len(student)):\n",
    "    print (f\"student[{k}] is {student[k]}\")"
   ]
  },
  {
   "cell_type": "code",
   "execution_count": null,
   "metadata": {},
   "outputs": [],
   "source": [
    "student[0] = 25\n",
    "print(student[0])"
   ]
  },
  {
   "cell_type": "markdown",
   "metadata": {},
   "source": [
    "Since our array is just a list used in a specific way, we can use any function or method that applies to lists here, too. For example, to get the size of a list-based array we use len():"
   ]
  },
  {
   "cell_type": "code",
   "execution_count": null,
   "metadata": {},
   "outputs": [],
   "source": [
    "student = [k for k in range(array_size)]\n",
    "print(\"The length of student is\",len(student))\n",
    "for k in range(len(student)):\n",
    "    print (f\"student[{k}] is {student[k]}\")"
   ]
  },
  {
   "cell_type": "markdown",
   "metadata": {},
   "source": [
    "Usually, after the initial definition of the array, each array element is accessed or modified in a way that brings out the group nature of arrays. For example, to set every array element to 7 later in the program, we could use the following loop:"
   ]
  },
  {
   "cell_type": "code",
   "execution_count": null,
   "metadata": {},
   "outputs": [],
   "source": [
    "for k in range(array_size):\n",
    "    student[k] = 7"
   ]
  },
  {
   "cell_type": "code",
   "execution_count": null,
   "metadata": {},
   "outputs": [],
   "source": [
    "student"
   ]
  },
  {
   "cell_type": "code",
   "execution_count": null,
   "metadata": {},
   "outputs": [],
   "source": [
    "for k in range(len(student)):\n",
    "    if (k % 2 == 0):\n",
    "        student[k] = -5\n",
    "    else:\n",
    "        student[k] = k * k"
   ]
  },
  {
   "cell_type": "code",
   "execution_count": null,
   "metadata": {},
   "outputs": [],
   "source": [
    "for k in range(len(student)):\n",
    "    print (f\"student #{k} is {student[k]}\")"
   ]
  },
  {
   "cell_type": "markdown",
   "metadata": {},
   "source": [
    "## Define a custom class for array"
   ]
  },
  {
   "cell_type": "markdown",
   "metadata": {},
   "source": [
    "* This is the first time we have seen a custom class\n",
    "* We will go into much more detail later"
   ]
  },
  {
   "cell_type": "code",
   "execution_count": null,
   "metadata": {},
   "outputs": [],
   "source": [
    "\"\"\"\n",
    "File: arrays.py\n",
    "\n",
    "An Array is a restricted list whose clients can use\n",
    "only [], len, iter, and str.\n",
    "\n",
    "To instantiate, use\n",
    "\n",
    "<variable> = array(<capacity>, <optional fill value>)\n",
    "\n",
    "The fill value is None by default.\n",
    "\"\"\"\n",
    "\n",
    "class Array():\n",
    "    \"\"\"Represents an array.\"\"\"\n",
    "\n",
    "    def __init__(self, capacity, fillValue = None):\n",
    "        \"\"\"Capacity is the static size of the array.\n",
    "        fillValue is placed at each position.\"\"\"\n",
    "        self.items = list()\n",
    "        self.capacity = capacity\n",
    "        for count in range(capacity):\n",
    "            self.items.append(fillValue)\n",
    "\n",
    "    def __len__(self):\n",
    "        \"\"\"-> The capacity of the array.\"\"\"\n",
    "        return len(self.items)\n",
    "\n",
    "    def __str__(self):\n",
    "        \"\"\"-> The string representation of the array.\"\"\"\n",
    "        return 'contents = ' + str(self.items)\n",
    "\n",
    "    def __iter__(self):\n",
    "        \"\"\"Supports iteration over a view of an array.\"\"\"\n",
    "        return iter(self.items)\n",
    "\n",
    "    def getitem(self, index):\n",
    "        \"\"\"Subscript operator for access at index.\"\"\"\n",
    "        if index < self.capacity and index >= 0:\n",
    "            return self.items[index]\n",
    "        else:\n",
    "            return(\"index out of range\")\n",
    "\n",
    "    def setitem(self, index, newItem):\n",
    "        \"\"\"Subscript operator for replacement at index.\"\"\"\n",
    "        if index < self.capacity and index >= 0:        \n",
    "            self.items[index] = newItem\n",
    "        else:\n",
    "            print(\"index out of range\")"
   ]
  },
  {
   "cell_type": "markdown",
   "metadata": {},
   "source": [
    "### Create an instance of my_array"
   ]
  },
  {
   "cell_type": "code",
   "execution_count": null,
   "metadata": {},
   "outputs": [],
   "source": [
    "my_array = Array(5)"
   ]
  },
  {
   "cell_type": "code",
   "execution_count": null,
   "metadata": {},
   "outputs": [],
   "source": [
    "hex(id(my_array))"
   ]
  },
  {
   "cell_type": "code",
   "execution_count": null,
   "metadata": {},
   "outputs": [],
   "source": [
    "my_array.capacity"
   ]
  },
  {
   "cell_type": "code",
   "execution_count": null,
   "metadata": {},
   "outputs": [],
   "source": [
    "print(type(my_array))"
   ]
  },
  {
   "cell_type": "code",
   "execution_count": null,
   "metadata": {},
   "outputs": [],
   "source": [
    "my_array.__len__()"
   ]
  },
  {
   "cell_type": "code",
   "execution_count": null,
   "metadata": {},
   "outputs": [],
   "source": [
    "print(my_array)"
   ]
  },
  {
   "cell_type": "code",
   "execution_count": null,
   "metadata": {},
   "outputs": [],
   "source": [
    "my_array.setitem(2, 7)\n",
    "my_array.setitem(3, 8)"
   ]
  },
  {
   "cell_type": "markdown",
   "metadata": {},
   "source": [
    "Try and update an array item which is outside of the array"
   ]
  },
  {
   "cell_type": "code",
   "execution_count": null,
   "metadata": {},
   "outputs": [],
   "source": [
    "my_array.setitem(5, 10)"
   ]
  },
  {
   "cell_type": "code",
   "execution_count": null,
   "metadata": {},
   "outputs": [],
   "source": [
    "print(my_array.getitem(2))\n",
    "print(my_array.getitem(3))"
   ]
  },
  {
   "cell_type": "code",
   "execution_count": null,
   "metadata": {},
   "outputs": [],
   "source": [
    "type(my_array.getitem(2))"
   ]
  },
  {
   "cell_type": "code",
   "execution_count": null,
   "metadata": {},
   "outputs": [],
   "source": [
    "my_array.getitem(2) + my_array.getitem(3)"
   ]
  },
  {
   "cell_type": "code",
   "execution_count": null,
   "metadata": {},
   "outputs": [],
   "source": [
    "print(my_array.getitem(0))\n",
    "print(my_array.getitem(1))\n",
    "print(my_array.getitem(2))\n",
    "print(my_array.getitem(3))\n",
    "print(my_array.getitem(4))\n",
    "print(my_array.getitem(5))"
   ]
  },
  {
   "cell_type": "code",
   "execution_count": null,
   "metadata": {},
   "outputs": [],
   "source": [
    "for x in my_array:\n",
    "    print(x)"
   ]
  },
  {
   "cell_type": "code",
   "execution_count": null,
   "metadata": {},
   "outputs": [],
   "source": [
    "my_array_1 = Array(6, \"Foothill\")"
   ]
  },
  {
   "cell_type": "code",
   "execution_count": null,
   "metadata": {},
   "outputs": [],
   "source": [
    "print(hex(id(my_array)))\n",
    "print(hex(id(my_array_1)))"
   ]
  },
  {
   "cell_type": "code",
   "execution_count": null,
   "metadata": {},
   "outputs": [],
   "source": [
    "print(type(my_array_1))"
   ]
  },
  {
   "cell_type": "code",
   "execution_count": null,
   "metadata": {},
   "outputs": [],
   "source": [
    "my_array_1.capacity"
   ]
  },
  {
   "cell_type": "code",
   "execution_count": null,
   "metadata": {},
   "outputs": [],
   "source": [
    "my_array_1.__len__()"
   ]
  },
  {
   "cell_type": "code",
   "execution_count": null,
   "metadata": {},
   "outputs": [],
   "source": [
    "print(my_array_1)"
   ]
  },
  {
   "cell_type": "code",
   "execution_count": null,
   "metadata": {},
   "outputs": [],
   "source": [
    "my_array_1.setitem(2, 70)\n",
    "my_array_1.setitem(3, 80)"
   ]
  },
  {
   "cell_type": "code",
   "execution_count": null,
   "metadata": {},
   "outputs": [],
   "source": [
    "print(my_array_1.getitem(1))\n",
    "print(my_array_1.getitem(2))\n",
    "print(my_array_1.getitem(3))"
   ]
  },
  {
   "cell_type": "markdown",
   "metadata": {},
   "source": [
    "### Notice that my_array remains and is unchanged"
   ]
  },
  {
   "cell_type": "code",
   "execution_count": null,
   "metadata": {},
   "outputs": [],
   "source": [
    "print(my_array.getitem(1))\n",
    "print(my_array.getitem(2))\n",
    "print(my_array.getitem(3))"
   ]
  },
  {
   "cell_type": "markdown",
   "metadata": {},
   "source": [
    "### Now will extend this class to ensure that\n",
    "* We only allow the specifed data type to be used\n",
    "* The client will get \"friendly\" error messages"
   ]
  },
  {
   "cell_type": "code",
   "execution_count": null,
   "metadata": {},
   "outputs": [],
   "source": [
    "\"\"\"\n",
    "File: arrays.py\n",
    "\n",
    "An Array is a restricted list whose clients can use\n",
    "only [], len, iter, and str.\n",
    "\n",
    "To instantiate, use\n",
    "\n",
    "<variable> = array(<capacity>, <optional fill value>)\n",
    "\n",
    "The fill value is None by default.\n",
    "\"\"\"\n",
    "\n",
    "class Array(object):\n",
    "    \"\"\"Represents an array.\"\"\"\n",
    "\n",
    "    def __init__(self, capacity, item_type, fillValue = None):\n",
    "        \"\"\"Capacity is the static size of the array.\n",
    "        fillValue is placed at each position.\"\"\"\n",
    "        self.items = list()\n",
    "        self.item_type = item_type\n",
    "        self.capacity = capacity\n",
    "        for count in range(capacity):\n",
    "            self.items.append(fillValue)\n",
    "\n",
    "    def __len__(self):\n",
    "        \"\"\"-> The capacity of the array.\"\"\"\n",
    "        return len(self.items)\n",
    "\n",
    "    def __str__(self):\n",
    "        \"\"\"-> The string representation of the array.\"\"\"\n",
    "        return 'contents = ' + str(self.items)\n",
    "\n",
    "    def __iter__(self):\n",
    "        \"\"\"Supports iteration over a view of an array.\"\"\"\n",
    "        return iter(self.items)\n",
    "\n",
    "    def getitem(self, index):\n",
    "        \"\"\"Subscript operator for access at index.\"\"\"\n",
    "        if index < self.capacity and index >= 0:\n",
    "            return self.items[index]\n",
    "        else:\n",
    "            return(\"index out of range\")\n",
    "\n",
    "    def setitem(self, index, newItem):\n",
    "        \"\"\"Subscript operator for replacement at index.\"\"\"\n",
    "        if type(newItem) == self.item_type:\n",
    "            if index < self.capacity and index >= 0:        \n",
    "                self.items[index] = newItem\n",
    "            else:\n",
    "                print(\"index out of range\")\n",
    "        else:\n",
    "            print(\"Invalid Item type\")"
   ]
  },
  {
   "cell_type": "code",
   "execution_count": null,
   "metadata": {},
   "outputs": [],
   "source": [
    "my_array = Array(5, str)"
   ]
  },
  {
   "cell_type": "code",
   "execution_count": null,
   "metadata": {},
   "outputs": [],
   "source": [
    "my_array.setitem(2, 7)"
   ]
  },
  {
   "cell_type": "code",
   "execution_count": null,
   "metadata": {},
   "outputs": [],
   "source": [
    "my_array.setitem(3, \"8\")"
   ]
  },
  {
   "cell_type": "code",
   "execution_count": null,
   "metadata": {},
   "outputs": [],
   "source": [
    "print(my_array)"
   ]
  },
  {
   "cell_type": "code",
   "execution_count": null,
   "metadata": {},
   "outputs": [],
   "source": [
    "my_array_1 = Array(5, float)"
   ]
  },
  {
   "cell_type": "code",
   "execution_count": null,
   "metadata": {},
   "outputs": [],
   "source": [
    "my_array_1.setitem(3, 20.1)"
   ]
  },
  {
   "cell_type": "code",
   "execution_count": null,
   "metadata": {},
   "outputs": [],
   "source": [
    "print(my_array_1)"
   ]
  },
  {
   "cell_type": "code",
   "execution_count": null,
   "metadata": {},
   "outputs": [],
   "source": [
    "my_array_1.setitem(1, 5)"
   ]
  },
  {
   "cell_type": "code",
   "execution_count": null,
   "metadata": {},
   "outputs": [],
   "source": [
    "\"\"\"\n",
    "File: arrays.py\n",
    "\n",
    "An Array is a restricted list whose clients can use\n",
    "only [], len, iter, and str.\n",
    "\n",
    "To instantiate, use\n",
    "\n",
    "<variable> = array(<capacity>, <optional fill value>)\n",
    "\n",
    "The fill value is None by default.\n",
    "\"\"\"\n",
    "\n",
    "class Array(object):\n",
    "    \"\"\"Represents an array.\"\"\"\n",
    "\n",
    "    def __init__(self, capacity, item_type, fillValue = None):\n",
    "        \"\"\"Capacity is the static size of the array.\n",
    "        fillValue is placed at each position.\"\"\"\n",
    "        self.items = list()\n",
    "        self.item_type = item_type\n",
    "        self.capacity = capacity\n",
    "        for count in range(capacity):\n",
    "            self.items.append(fillValue)\n",
    "\n",
    "    def __len__(self):\n",
    "        \"\"\"-> The capacity of the array.\"\"\"\n",
    "        return len(self.items)\n",
    "\n",
    "    def __str__(self):\n",
    "        \"\"\"-> The string representation of the array.\"\"\"\n",
    "        return 'contents = ' + str(self.items)\n",
    "\n",
    "    def __iter__(self):\n",
    "        \"\"\"Supports iteration over a view of an array.\"\"\"\n",
    "        return iter(self.items)\n",
    "\n",
    "    def getitem(self, index):\n",
    "        \"\"\"Subscript operator for access at index.\"\"\"\n",
    "        if index < self.capacity and index >= 0:\n",
    "            return self.items[index]\n",
    "        else:\n",
    "            return(\"index out of range\")\n",
    "\n",
    "    def setitem(self, index, newItem):\n",
    "        \"\"\"Subscript operator for replacement at index.\"\"\"\n",
    "        if type(newItem) == self.item_type:\n",
    "            if index < self.capacity and index >= 0:        \n",
    "                self.items[index] = newItem\n",
    "            else:\n",
    "                print(\"index out of range\")\n",
    "        else:\n",
    "            print(\"Invalid Item type\")"
   ]
  },
  {
   "cell_type": "code",
   "execution_count": null,
   "metadata": {},
   "outputs": [],
   "source": [
    "my_array = Array(10, int)"
   ]
  },
  {
   "cell_type": "code",
   "execution_count": null,
   "metadata": {},
   "outputs": [],
   "source": [
    "my_array.setitem(9, 99)"
   ]
  },
  {
   "cell_type": "code",
   "execution_count": null,
   "metadata": {},
   "outputs": [],
   "source": [
    "my_array.getitem(9)"
   ]
  },
  {
   "cell_type": "code",
   "execution_count": null,
   "metadata": {},
   "outputs": [],
   "source": [
    "my_array.__str__()"
   ]
  },
  {
   "cell_type": "code",
   "execution_count": null,
   "metadata": {},
   "outputs": [],
   "source": [
    "hex(id(my_array))"
   ]
  },
  {
   "cell_type": "code",
   "execution_count": null,
   "metadata": {},
   "outputs": [],
   "source": [
    "my_array.__repr__()"
   ]
  },
  {
   "cell_type": "code",
   "execution_count": null,
   "metadata": {},
   "outputs": [],
   "source": []
  }
 ],
 "metadata": {
  "kernelspec": {
   "display_name": "Python 3",
   "language": "python",
   "name": "python3"
  },
  "language_info": {
   "codemirror_mode": {
    "name": "ipython",
    "version": 3
   },
   "file_extension": ".py",
   "mimetype": "text/x-python",
   "name": "python",
   "nbconvert_exporter": "python",
   "pygments_lexer": "ipython3",
   "version": "3.8.8"
  }
 },
 "nbformat": 4,
 "nbformat_minor": 4
}
