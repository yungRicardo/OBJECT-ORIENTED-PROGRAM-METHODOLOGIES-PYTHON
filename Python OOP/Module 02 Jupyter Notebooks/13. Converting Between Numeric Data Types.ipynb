{
 "cells": [
  {
   "cell_type": "markdown",
   "id": "a6c5c86a",
   "metadata": {},
   "source": [
    "### Compatibility and Conversion Between Two Numeric Types"
   ]
  },
  {
   "cell_type": "markdown",
   "id": "fe7aa80f",
   "metadata": {},
   "source": [
    "#### Implicit Widening"
   ]
  },
  {
   "cell_type": "code",
   "execution_count": null,
   "id": "170a0812",
   "metadata": {},
   "outputs": [],
   "source": [
    "x = 3\n",
    "y = 1.9\n",
    "answer = x / y\n",
    "print (\"x / y =\", answer)"
   ]
  },
  {
   "cell_type": "code",
   "execution_count": null,
   "id": "180d1d5d",
   "metadata": {},
   "outputs": [],
   "source": [
    "# this source\n",
    "x = 30\n",
    "y = 7\n",
    "answer = 17.5 + (x / y)\n",
    "print(\"17.5 + (x / y) =\", answer)\n",
    "\n",
    "# produces"
   ]
  },
  {
   "cell_type": "markdown",
   "id": "08c80621",
   "metadata": {},
   "source": [
    "#### Implicit Narrowing"
   ]
  },
  {
   "cell_type": "code",
   "execution_count": null,
   "id": "65ca5282",
   "metadata": {},
   "outputs": [],
   "source": [
    "# this source\n",
    "x = 30\n",
    "y = 7\n",
    "answer = x // y\n",
    "print(\"x // y =\", answer)"
   ]
  },
  {
   "cell_type": "markdown",
   "id": "f646ebb7",
   "metadata": {},
   "source": [
    "#### Narrowing and then widening"
   ]
  },
  {
   "cell_type": "code",
   "execution_count": null,
   "id": "d8e3ff45",
   "metadata": {},
   "outputs": [],
   "source": [
    "# this source\n",
    "x = 30\n",
    "y = 7\n",
    "answer = 17.5 + (x // y)\n",
    "print(\"17.5 + (x // y) =\", answer)"
   ]
  },
  {
   "cell_type": "markdown",
   "id": "f8bf9645",
   "metadata": {},
   "source": [
    "#### Explicit Numeric Widening or Narrowing"
   ]
  },
  {
   "cell_type": "code",
   "execution_count": null,
   "id": "f44aacdf",
   "metadata": {},
   "outputs": [],
   "source": [
    "answer = 17.5 + float(30 / 7)   # float() not really necessary\n",
    "print(\"17.5 + float(30 / 7) =\", answer)"
   ]
  },
  {
   "cell_type": "code",
   "execution_count": null,
   "id": "8f4a920f",
   "metadata": {},
   "outputs": [],
   "source": [
    "answer = 17.5 + int(30 / 7)   # int() makes a difference\n",
    "print(\"17.5 + int(30 / 7) =\", answer)"
   ]
  },
  {
   "cell_type": "markdown",
   "id": "3e98ae89",
   "metadata": {},
   "source": [
    "#### Why do these two \"programs\" give different results?"
   ]
  },
  {
   "cell_type": "code",
   "execution_count": null,
   "id": "6d221115",
   "metadata": {},
   "outputs": [],
   "source": [
    "answer = 17.5 + int(-5 / 3)\n",
    "print(\"17.5 + int(-5 / 3) =\", answer)"
   ]
  },
  {
   "cell_type": "code",
   "execution_count": null,
   "id": "c0935e32",
   "metadata": {},
   "outputs": [],
   "source": [
    "answer = 17.5 + (-5 // 3)\n",
    "print(\"17.5 + (-5 // 3) =\", answer)"
   ]
  },
  {
   "cell_type": "code",
   "execution_count": null,
   "id": "8454e612",
   "metadata": {},
   "outputs": [],
   "source": [
    "-5 / 3"
   ]
  },
  {
   "cell_type": "code",
   "execution_count": null,
   "id": "0d0db2fe",
   "metadata": {},
   "outputs": [],
   "source": [
    "-5 // 3"
   ]
  },
  {
   "cell_type": "markdown",
   "id": "eec096c2",
   "metadata": {},
   "source": [
    "#### Converting from Strings to Numbers"
   ]
  },
  {
   "cell_type": "code",
   "execution_count": null,
   "id": "197bd9a9",
   "metadata": {},
   "outputs": [],
   "source": [
    "first_num = \"1024\"\n",
    "second_num = \"-3.55\"\n",
    "\n",
    "answer = int(first_num) * float(second_num)\n",
    "print(answer)"
   ]
  },
  {
   "cell_type": "markdown",
   "id": "56e34b7c",
   "metadata": {},
   "source": [
    "#### Illegal and Legal Numeric string-to-Numeric Conversions"
   ]
  },
  {
   "cell_type": "markdown",
   "id": "c535bbd2",
   "metadata": {},
   "source": [
    "The constructors int() and float() can do a lot.  For example, they'll happily ignore leading or trailing spaces"
   ]
  },
  {
   "cell_type": "code",
   "execution_count": null,
   "id": "4d5be41e",
   "metadata": {},
   "outputs": [],
   "source": [
    "third_num_float = float (\"   42.6   \")\n",
    "print(third_num_float) "
   ]
  },
  {
   "cell_type": "markdown",
   "id": "e8f73196",
   "metadata": {},
   "source": [
    "But they won't tolerate illegal characters or numbers they can't understand.    \n",
    "- Any of the following will produce an error"
   ]
  },
  {
   "cell_type": "code",
   "execution_count": null,
   "id": "60456245",
   "metadata": {},
   "outputs": [],
   "source": [
    "third_num_flt = float (\"42.  6\")\n",
    "third_num_flt = float (\"Fourty Two\")\n",
    "third_num_flt = float (\"21.34.56\")\n",
    "third_num_flt = float (\"x=3\")"
   ]
  }
 ],
 "metadata": {
  "kernelspec": {
   "display_name": "Python 3",
   "language": "python",
   "name": "python3"
  },
  "language_info": {
   "codemirror_mode": {
    "name": "ipython",
    "version": 3
   },
   "file_extension": ".py",
   "mimetype": "text/x-python",
   "name": "python",
   "nbconvert_exporter": "python",
   "pygments_lexer": "ipython3",
   "version": "3.8.8"
  }
 },
 "nbformat": 4,
 "nbformat_minor": 5
}
