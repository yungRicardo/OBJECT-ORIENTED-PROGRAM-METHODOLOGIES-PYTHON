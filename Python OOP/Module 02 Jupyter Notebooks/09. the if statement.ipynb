{
 "cells": [
  {
   "cell_type": "markdown",
   "id": "ee3ce905",
   "metadata": {},
   "source": [
    "# if statement"
   ]
  },
  {
   "cell_type": "markdown",
   "id": "41f153be",
   "metadata": {},
   "source": [
    "- x > y is a relatinal expression that returns a boolean value   \n",
    "- it can also be written (x > y)"
   ]
  },
  {
   "cell_type": "code",
   "execution_count": 9,
   "id": "e87ae784",
   "metadata": {},
   "outputs": [
    {
     "name": "stdout",
     "output_type": "stream",
     "text": [
      "True\n",
      "either way, i want to tell you ...\n"
     ]
    }
   ],
   "source": [
    "x = 10\n",
    "y = 20\n",
    "\n",
    "if x > y:\n",
    "    x = x + 4\n",
    "    print(\"x = \", x)\n",
    "\n",
    "print(\"either way, i want to tell you ...\")"
   ]
  },
  {
   "cell_type": "markdown",
   "id": "adbdae90",
   "metadata": {},
   "source": [
    "- Here's an if statement in a program that tests a user response. We are checking whether or not the user typed a negative age:    \n",
    "- Let's run it twice\n",
    " - First enter 18\n",
    " - Next enter -10"
   ]
  },
  {
   "cell_type": "code",
   "execution_count": 16,
   "id": "df03324b",
   "metadata": {},
   "outputs": [
    {
     "name": "stdout",
     "output_type": "stream",
     "text": [
      "How old are you? 0\n",
      "You say you're 0 years old.\n"
     ]
    }
   ],
   "source": [
    "# get user's age and convert to int\n",
    "user_age = int(input(\"How old are you? \"))\n",
    "\n",
    "\n",
    "# give them a warning if they entered a negative number\n",
    "if user_age < 0:\n",
    "    print(\"Your age cannot be negative\")\n",
    "\n",
    "# either way, echo their input\n",
    "print(f\"You say you're {user_age} years old.\")"
   ]
  },
  {
   "cell_type": "markdown",
   "id": "023ec221",
   "metadata": {},
   "source": [
    "- What if we want to terminate the program if an invalid number is entered"
   ]
  },
  {
   "cell_type": "code",
   "execution_count": 17,
   "id": "3a40915c",
   "metadata": {},
   "outputs": [
    {
     "name": "stdout",
     "output_type": "stream",
     "text": [
      "How old are you? -1\n",
      "Your age connot be negative\n"
     ]
    },
    {
     "ename": "SystemExit",
     "evalue": "",
     "output_type": "error",
     "traceback": [
      "An exception has occurred, use %tb to see the full traceback.\n",
      "\u001b[1;31mSystemExit\u001b[0m\n"
     ]
    }
   ],
   "source": [
    "\"\"\"program that requests age and ends if negative\"\"\"\n",
    "import sys\n",
    "\n",
    "# get user's age and convert to int\n",
    "user_age = int(input(\"How old are you? \"))\n",
    "\n",
    "# make sure they entered a non-negative number; end if not\n",
    "if user_age < 0:\n",
    "    print(\"Your age connot be negative\")\n",
    "    sys.exit()\n",
    "\n",
    "# if we fall through here, they typed a positive or zero age - good.\n",
    "print(f\"Got it. You're {user_age} years old.\" )"
   ]
  },
  {
   "cell_type": "code",
   "execution_count": null,
   "id": "72b732ef",
   "metadata": {},
   "outputs": [],
   "source": []
  },
  {
   "cell_type": "code",
   "execution_count": null,
   "id": "1c5dd69f",
   "metadata": {},
   "outputs": [],
   "source": []
  }
 ],
 "metadata": {
  "kernelspec": {
   "display_name": "Python 3",
   "language": "python",
   "name": "python3"
  },
  "language_info": {
   "codemirror_mode": {
    "name": "ipython",
    "version": 3
   },
   "file_extension": ".py",
   "mimetype": "text/x-python",
   "name": "python",
   "nbconvert_exporter": "python",
   "pygments_lexer": "ipython3",
   "version": "3.8.8"
  }
 },
 "nbformat": 4,
 "nbformat_minor": 5
}
