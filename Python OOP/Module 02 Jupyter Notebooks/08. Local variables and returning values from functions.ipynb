{
 "cells": [
  {
   "cell_type": "markdown",
   "id": "186dca6a",
   "metadata": {},
   "source": [
    "### Local Variables in Functions"
   ]
  },
  {
   "cell_type": "markdown",
   "id": "0ac23453",
   "metadata": {},
   "source": [
    "If the following two functions appear in the same program:"
   ]
  },
  {
   "cell_type": "code",
   "execution_count": null,
   "id": "b1a48c75",
   "metadata": {},
   "outputs": [],
   "source": [
    "def dog():\n",
    "    bird = \"Tweetie\"\n",
    "    # function statements ...\n",
    "  \n",
    "def cat():\n",
    "    bird = input(\"enter a bird's name\")\n",
    "    # function statements ..."
   ]
  },
  {
   "cell_type": "markdown",
   "id": "506a0bf7",
   "metadata": {},
   "source": [
    "- The two references to bird are distinct and unrelated. The same is true when we assign variables with the same name in both\n",
    "- the main program and a function elsewhere in the same .py file."
   ]
  },
  {
   "cell_type": "markdown",
   "id": "fa81b414",
   "metadata": {},
   "source": [
    "- The two references to bird are distinct and unrelated. \n",
    "- The same is true when we assign variables with the same name in both the main program and a function elsewhere in the same .py file. \n",
    "- We can test this claim by writing a short test program -- a good idea whenever learning a new concept."
   ]
  },
  {
   "cell_type": "code",
   "execution_count": 6,
   "id": "47b24dee",
   "metadata": {},
   "outputs": [
    {
     "name": "stdout",
     "output_type": "stream",
     "text": [
      "The value of who_am_i from the main module is Mike\n",
      "The value of who_am_i in my_func is Susan\n",
      "Mike\n"
     ]
    }
   ],
   "source": [
    "def my_func():\n",
    "    # use who_am_i without making any assignment\n",
    "    who_am_i = \"Susan\"\n",
    "    print(f\"The value of who_am_i in my_func is {who_am_i}\")\n",
    "\n",
    "\n",
    "# main program -----------------------------------\n",
    "\n",
    "who_am_i = \"Mike\"\n",
    "          \n",
    "def main():\n",
    "\n",
    "    my_func()\n",
    "\n",
    "    # does the use on the RHS in my_func() affect main's who_am_i?\n",
    "    print(who_am_i)\n",
    "\n",
    "\n",
    "\n",
    "print(f\"The value of who_am_i from the main module is {who_am_i}\")\n",
    "\n",
    "if __name__ == \"__main__\":\n",
    "    main()"
   ]
  },
  {
   "cell_type": "code",
   "execution_count": 11,
   "id": "bb0b99f9",
   "metadata": {},
   "outputs": [
    {
     "name": "stdout",
     "output_type": "stream",
     "text": [
      "Printed by the main module Paul\n",
      "('who_am_i in main()', 2349137661872)\n",
      "('name in my_func()', 2349137661872)\n",
      "Printed by my_func() Mike\n",
      "Printed by main() Mike\n"
     ]
    }
   ],
   "source": [
    "# function definitions -----------------------------\n",
    "\n",
    "\n",
    "def my_func(name):\n",
    "    # use the argument who_am_i without making any assignment\n",
    "    print((\"name in my_func()\",id(name)))\n",
    "    print(\"Printed by my_func()\", name)\n",
    "\n",
    "\n",
    "# main program -----------------------------------\n",
    "\n",
    "who_am_i = \"Paul\"   # who_am_i is local in the module\n",
    "\n",
    "def main():\n",
    "    who_am_i = \"Mike\"\n",
    "    print(((\"who_am_i in main()\",id(who_am_i))))\n",
    "    my_func(who_am_i)\n",
    "\n",
    "    # does the use on the RHS in my_func() affect main's who_am_i?\n",
    "    print(\"Printed by main()\", who_am_i)\n",
    "    \n",
    "print(\"Printed by the main module\", who_am_i)\n",
    "\n",
    "\n",
    "\n",
    "if __name__ == \"__main__\":\n",
    "    main()"
   ]
  },
  {
   "cell_type": "markdown",
   "id": "087e0ca8",
   "metadata": {},
   "source": [
    "- Lets look at the same module\n",
    "- But this time we will set who_am_i in my_func()"
   ]
  },
  {
   "cell_type": "code",
   "execution_count": 12,
   "id": "c807003d",
   "metadata": {},
   "outputs": [
    {
     "name": "stdout",
     "output_type": "stream",
     "text": [
      "Printed by my_func() Paul\n",
      "Printed by main() Mike\n",
      "Printed by module Sally\n"
     ]
    }
   ],
   "source": [
    "# function definitions -----------------------------\n",
    "\n",
    "\n",
    "def my_func(name):\n",
    "    # use the argument who_am_i without making any assignment\n",
    "    name = \"Paul\"\n",
    "    print(\"Printed by my_func()\", name)\n",
    "\n",
    "\n",
    "# main program -----------------------------------\n",
    "\n",
    "who_am_i = \"Sally\"   # who_am_i is local in the module\n",
    "\n",
    "def main():\n",
    "    who_am_i = \"Mike\"\n",
    "    my_func(who_am_i)\n",
    "\n",
    "    # does the use on the RHS in my_func() affect main's who_am_i?\n",
    "    print(\"Printed by main()\", who_am_i)\n",
    "\n",
    "\n",
    "\n",
    "if __name__ == \"__main__\":\n",
    "    main()\n",
    "    \n",
    "print(\"Printed by module\", who_am_i)"
   ]
  },
  {
   "cell_type": "markdown",
   "id": "e99177d7",
   "metadata": {},
   "source": [
    "### Returning Values from Functions"
   ]
  },
  {
   "cell_type": "code",
   "execution_count": 13,
   "id": "b2e06104",
   "metadata": {},
   "outputs": [],
   "source": [
    "def abalone():\n",
    "    # function statements, then ...\n",
    "\n",
    "    return (1.020203)  #  omit parens if you want\n",
    "  \n",
    "    # possibly other function statements .."
   ]
  },
  {
   "cell_type": "code",
   "execution_count": 14,
   "id": "e94db58b",
   "metadata": {},
   "outputs": [
    {
     "name": "stdout",
     "output_type": "stream",
     "text": [
      "1.020203\n"
     ]
    }
   ],
   "source": [
    "x = abalone()\n",
    "print(x)"
   ]
  },
  {
   "cell_type": "markdown",
   "id": "1d280509",
   "metadata": {},
   "source": [
    "- returns can be anythere within the functiob"
   ]
  },
  {
   "cell_type": "code",
   "execution_count": 18,
   "id": "6221d6c9",
   "metadata": {},
   "outputs": [],
   "source": [
    "def monsters(monster):   \n",
    "    if monster == \"GREEN\":\n",
    "        return 1.020203\n",
    "    elif monster == \"RED\":\n",
    "        return x\n",
    "    elif monster == \"PURPLE\":\n",
    "        return (1.020203 + x) / 5\n",
    "    else:\n",
    "        return 999"
   ]
  },
  {
   "cell_type": "code",
   "execution_count": 17,
   "id": "191022b2",
   "metadata": {},
   "outputs": [
    {
     "name": "stdout",
     "output_type": "stream",
     "text": [
      "1.020203\n"
     ]
    }
   ],
   "source": [
    "value = monsters(\"GREEN\")\n",
    "print(value)"
   ]
  },
  {
   "cell_type": "code",
   "execution_count": 19,
   "id": "69a23d86",
   "metadata": {},
   "outputs": [
    {
     "name": "stdout",
     "output_type": "stream",
     "text": [
      "999\n"
     ]
    }
   ],
   "source": [
    "value = monsters(\"ORANGE\")\n",
    "print(value)"
   ]
  },
  {
   "cell_type": "markdown",
   "id": "3c33fe95",
   "metadata": {},
   "source": [
    "- Is anything returned by a function that does not have a return statement?"
   ]
  },
  {
   "cell_type": "code",
   "execution_count": 25,
   "id": "27dd61ee",
   "metadata": {},
   "outputs": [],
   "source": [
    "def print_value(value):\n",
    "    print(value)"
   ]
  },
  {
   "cell_type": "code",
   "execution_count": 22,
   "id": "c5d74bd1",
   "metadata": {},
   "outputs": [
    {
     "name": "stdout",
     "output_type": "stream",
     "text": [
      "25\n"
     ]
    }
   ],
   "source": [
    "print_value(25)"
   ]
  },
  {
   "cell_type": "code",
   "execution_count": 26,
   "id": "8da78663",
   "metadata": {},
   "outputs": [
    {
     "name": "stdout",
     "output_type": "stream",
     "text": [
      "50\n",
      "50\n"
     ]
    }
   ],
   "source": [
    "ret = print_value(50)\n",
    "print(ret)"
   ]
  },
  {
   "cell_type": "code",
   "execution_count": null,
   "id": "eea37c78",
   "metadata": {},
   "outputs": [],
   "source": []
  }
 ],
 "metadata": {
  "kernelspec": {
   "display_name": "Python 3",
   "language": "python",
   "name": "python3"
  },
  "language_info": {
   "codemirror_mode": {
    "name": "ipython",
    "version": 3
   },
   "file_extension": ".py",
   "mimetype": "text/x-python",
   "name": "python",
   "nbconvert_exporter": "python",
   "pygments_lexer": "ipython3",
   "version": "3.8.8"
  }
 },
 "nbformat": 4,
 "nbformat_minor": 5
}
