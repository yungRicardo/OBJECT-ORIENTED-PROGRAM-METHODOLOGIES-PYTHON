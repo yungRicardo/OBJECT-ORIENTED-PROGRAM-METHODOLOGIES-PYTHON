{
 "cells": [
  {
   "cell_type": "markdown",
   "id": "9b42de0c",
   "metadata": {},
   "source": [
    "String Terminology    \n",
    "    \n",
    "A character string, or just string, is a natural language sequence. It is a series of letters, numerals or special symbols like \"This is the ** 3rd ** best day of my life!!!\".  Sometimes we refer to constructs like this as string literals to distinguish them from string objects or variables which we will talk about a little later.  For now, you can use the term string or string literal to refer to anything inside double quotes \"like this\"."
   ]
  },
  {
   "cell_type": "markdown",
   "id": "9e719db7",
   "metadata": {},
   "source": [
    "print()    \n",
    "    \n",
    "In the Hello World! program we saw the statement like"
   ]
  },
  {
   "cell_type": "code",
   "execution_count": null,
   "id": "50423d30",
   "metadata": {},
   "outputs": [],
   "source": [
    "print(\"Hello World!\")"
   ]
  },
  {
   "cell_type": "markdown",
   "id": "37958505",
   "metadata": {},
   "source": [
    "String Examples"
   ]
  },
  {
   "cell_type": "code",
   "execution_count": null,
   "id": "7455c3b2",
   "metadata": {},
   "outputs": [],
   "source": [
    "# concatenate some string literals\n",
    "print(\"Hello there, big\" + \" blue won\" + \"derful WORLD.  \"\n",
    "      + \"Python is a powerful tool.\")"
   ]
  },
  {
   "cell_type": "markdown",
   "id": "b8379cff",
   "metadata": {},
   "source": [
    "Use the string literails as seperate arguments"
   ]
  },
  {
   "cell_type": "code",
   "execution_count": null,
   "id": "e9074393",
   "metadata": {},
   "outputs": [],
   "source": [
    "print(\"Hello there, big\", \" blue won\", \"derful WORLD.  \",\n",
    "      \"Python is a powerful tool.\")"
   ]
  },
  {
   "cell_type": "code",
   "execution_count": null,
   "id": "a8530628",
   "metadata": {},
   "outputs": [],
   "source": [
    "# concatenate an int onto a string after converting with str()\n",
    "some_number = -7\n",
    "some_number = (some_number - 2) / 3\n",
    "print(\"\\n\\nsome_number is \" + str(some_number) + \".  Impressed?\")"
   ]
  },
  {
   "cell_type": "markdown",
   "id": "e7f1b15a",
   "metadata": {},
   "source": [
    "Let's look at /, // and % again    \n",
    "    \n",
    "\"True\" division"
   ]
  },
  {
   "cell_type": "code",
   "execution_count": null,
   "id": "c9eb39e3",
   "metadata": {},
   "outputs": [],
   "source": [
    "print(\"-7 divided by 2 is \"\n",
    "      + str(-7 / 2))"
   ]
  },
  {
   "cell_type": "code",
   "execution_count": null,
   "id": "ca978e8b",
   "metadata": {},
   "outputs": [],
   "source": [
    "print(\"-7 divided by 2 is \" +\n",
    "      str(-7 / 2))"
   ]
  },
  {
   "cell_type": "markdown",
   "id": "77f21932",
   "metadata": {},
   "source": [
    "Floor division"
   ]
  },
  {
   "cell_type": "code",
   "execution_count": null,
   "id": "ec2bcce8",
   "metadata": {},
   "outputs": [],
   "source": [
    "print(\"-7 floor-divided by 2 is\",\n",
    "      (-7 // 2))"
   ]
  },
  {
   "cell_type": "markdown",
   "id": "6f77727a",
   "metadata": {},
   "source": [
    "Mod (remainder)"
   ]
  },
  {
   "cell_type": "code",
   "execution_count": null,
   "id": "8804e419",
   "metadata": {},
   "outputs": [],
   "source": [
    "print(\"-7 mod 2 \", \n",
    "      \"is\", (-7 % 2), \"and ... \\n... that's all for now.\")"
   ]
  },
  {
   "cell_type": "code",
   "execution_count": null,
   "id": "9690e774",
   "metadata": {},
   "outputs": [],
   "source": []
  }
 ],
 "metadata": {
  "kernelspec": {
   "display_name": "Python 3",
   "language": "python",
   "name": "python3"
  },
  "language_info": {
   "codemirror_mode": {
    "name": "ipython",
    "version": 3
   },
   "file_extension": ".py",
   "mimetype": "text/x-python",
   "name": "python",
   "nbconvert_exporter": "python",
   "pygments_lexer": "ipython3",
   "version": "3.8.8"
  }
 },
 "nbformat": 4,
 "nbformat_minor": 5
}
