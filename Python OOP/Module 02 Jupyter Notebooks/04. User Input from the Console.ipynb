{
 "cells": [
  {
   "cell_type": "markdown",
   "id": "1a982b74",
   "metadata": {},
   "source": [
    "The Long Way to collect input"
   ]
  },
  {
   "cell_type": "code",
   "execution_count": null,
   "id": "1a7ee0ee",
   "metadata": {},
   "outputs": [],
   "source": [
    "# prepare a question for the user\n",
    "str_question = \"What high school did you attend? \"\n",
    "\n",
    "# show the user the question ...\n",
    "print( str_question, end = '' )"
   ]
  },
  {
   "cell_type": "markdown",
   "id": "f343a0b3",
   "metadata": {},
   "source": [
    "Get the (string) Response"
   ]
  },
  {
   "cell_type": "code",
   "execution_count": null,
   "id": "66e66ed6",
   "metadata": {},
   "outputs": [],
   "source": [
    "# ... and get a response\n",
    "str_user_answer = input()\n",
    "print(\"My high school is \" + str_user_answer)\n"
   ]
  },
  {
   "cell_type": "markdown",
   "id": "da1fea53",
   "metadata": {},
   "source": [
    "Prompt and Answer All at Once"
   ]
  },
  {
   "cell_type": "code",
   "execution_count": null,
   "id": "752b0a44",
   "metadata": {},
   "outputs": [],
   "source": [
    "# prepare a question for the user\n",
    "str_question = \"What high school did you attend? \"\n",
    "\n",
    "# show the user the question ... and get a response\n",
    "str_user_answer = input(str_question)\n",
    "\n",
    "# be sure it works\n",
    "print( \"You typed:\", str_user_answer )"
   ]
  },
  {
   "cell_type": "markdown",
   "id": "f063fd4d",
   "metadata": {},
   "source": [
    "Or, we can put the literal inside the input statement instead of using a string variable for the prompt!"
   ]
  },
  {
   "cell_type": "code",
   "execution_count": null,
   "id": "263e34fb",
   "metadata": {},
   "outputs": [],
   "source": [
    "# show the user the question ... and get a response\n",
    "str_user_answer = input(\"What high school did you attend? \")\n",
    "\n",
    "# be sure it works\n",
    "print(\"You typed:\", str_user_answer)"
   ]
  },
  {
   "cell_type": "markdown",
   "id": "16e502d5",
   "metadata": {},
   "source": [
    "Some Terminoloy"
   ]
  },
  {
   "cell_type": "markdown",
   "id": "f193ef79",
   "metadata": {},
   "source": [
    "The Function Argument and Function Return"
   ]
  },
  {
   "cell_type": "code",
   "execution_count": null,
   "id": "89330bb8",
   "metadata": {},
   "outputs": [],
   "source": [
    "str_user_ans = input(\"What high school did you attend? \")"
   ]
  },
  {
   "cell_type": "code",
   "execution_count": null,
   "id": "a83d89d8",
   "metadata": {},
   "outputs": [],
   "source": [
    "print(str_user_ans)"
   ]
  },
  {
   "cell_type": "markdown",
   "id": "7a0f6090",
   "metadata": {},
   "source": [
    "\"What high school did you attend? \" is the argument    \n",
    "    \n",
    "The string entered by the user is returned and referenced by the varaible str_user_ans"
   ]
  }
 ],
 "metadata": {
  "kernelspec": {
   "display_name": "Python 3",
   "language": "python",
   "name": "python3"
  },
  "language_info": {
   "codemirror_mode": {
    "name": "ipython",
    "version": 3
   },
   "file_extension": ".py",
   "mimetype": "text/x-python",
   "name": "python",
   "nbconvert_exporter": "python",
   "pygments_lexer": "ipython3",
   "version": "3.8.8"
  }
 },
 "nbformat": 4,
 "nbformat_minor": 5
}
