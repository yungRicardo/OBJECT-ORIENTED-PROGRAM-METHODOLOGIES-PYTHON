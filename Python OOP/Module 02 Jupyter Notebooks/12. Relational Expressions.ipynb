{
 "cells": [
  {
   "cell_type": "markdown",
   "id": "d8f494f8",
   "metadata": {},
   "source": [
    "#### Python supports the full set of relational operators"
   ]
  },
  {
   "cell_type": "markdown",
   "id": "16b262b9",
   "metadata": {},
   "source": [
    "- Relational operators\n",
    " - == is equal      \n",
    " - \\< is less than     \n",
    " - \\> is greater than    \n",
    " - \\<= is less than or equal    \n",
    " - \\>= is greater than or equal    \n",
    " - \\!= is not equal    "
   ]
  },
  {
   "cell_type": "code",
   "execution_count": 1,
   "id": "2d0a2ad3",
   "metadata": {},
   "outputs": [],
   "source": [
    "a = 5\n",
    "b = 10"
   ]
  },
  {
   "cell_type": "code",
   "execution_count": 2,
   "id": "c0fc09f4",
   "metadata": {},
   "outputs": [
    {
     "name": "stdout",
     "output_type": "stream",
     "text": [
      "5 is < 10\n"
     ]
    }
   ],
   "source": [
    "if a < b:\n",
    "    print(f\"{a} is < {b}\")"
   ]
  },
  {
   "cell_type": "markdown",
   "id": "8e8d9971",
   "metadata": {},
   "source": [
    "The if suceeds if the relation operator evaluates to True"
   ]
  },
  {
   "cell_type": "code",
   "execution_count": 3,
   "id": "c080bcf2",
   "metadata": {},
   "outputs": [
    {
     "data": {
      "text/plain": [
       "True"
      ]
     },
     "execution_count": 3,
     "metadata": {},
     "output_type": "execute_result"
    }
   ],
   "source": [
    "a < b"
   ]
  },
  {
   "cell_type": "code",
   "execution_count": 4,
   "id": "8f5ddd49",
   "metadata": {},
   "outputs": [
    {
     "data": {
      "text/plain": [
       "False"
      ]
     },
     "execution_count": 4,
     "metadata": {},
     "output_type": "execute_result"
    }
   ],
   "source": [
    "a > b"
   ]
  },
  {
   "cell_type": "markdown",
   "id": "8b5ca77c",
   "metadata": {},
   "source": [
    "#### A quick review\n",
    "- Increment and Decrement Operators and Their Cousins"
   ]
  },
  {
   "cell_type": "code",
   "execution_count": 8,
   "id": "c16da257",
   "metadata": {},
   "outputs": [],
   "source": [
    "a = 5\n",
    "b = 10"
   ]
  },
  {
   "cell_type": "code",
   "execution_count": 6,
   "id": "9ebe3c87",
   "metadata": {},
   "outputs": [
    {
     "name": "stdout",
     "output_type": "stream",
     "text": [
      "6\n"
     ]
    }
   ],
   "source": [
    "a += 1  # this is the same as a = a + 1\n",
    "print(a)"
   ]
  },
  {
   "cell_type": "code",
   "execution_count": 7,
   "id": "7954055f",
   "metadata": {},
   "outputs": [
    {
     "name": "stdout",
     "output_type": "stream",
     "text": [
      "12\n"
     ]
    }
   ],
   "source": [
    "a += a\n",
    "print(a)"
   ]
  },
  {
   "cell_type": "code",
   "execution_count": null,
   "id": "34fd4910",
   "metadata": {},
   "outputs": [],
   "source": [
    "a = 5\n",
    "b = 10"
   ]
  },
  {
   "cell_type": "code",
   "execution_count": null,
   "id": "b49c0585",
   "metadata": {},
   "outputs": [],
   "source": [
    "a -= 1\n",
    "print(a)"
   ]
  },
  {
   "cell_type": "code",
   "execution_count": null,
   "id": "e27d8927",
   "metadata": {},
   "outputs": [],
   "source": [
    "b *= 5\n",
    "print(b)"
   ]
  },
  {
   "cell_type": "code",
   "execution_count": 9,
   "id": "23f37aa7",
   "metadata": {},
   "outputs": [
    {
     "name": "stdout",
     "output_type": "stream",
     "text": [
      "2.0\n"
     ]
    }
   ],
   "source": [
    "b /= a\n",
    "print(b)"
   ]
  },
  {
   "cell_type": "code",
   "execution_count": 11,
   "id": "a9eb01e3",
   "metadata": {},
   "outputs": [
    {
     "data": {
      "text/plain": [
       "2.2"
      ]
     },
     "execution_count": 11,
     "metadata": {},
     "output_type": "execute_result"
    }
   ],
   "source": [
    "11/5"
   ]
  },
  {
   "cell_type": "code",
   "execution_count": null,
   "id": "f5beb78c",
   "metadata": {},
   "outputs": [],
   "source": [
    "11//5"
   ]
  },
  {
   "cell_type": "code",
   "execution_count": null,
   "id": "1716d350",
   "metadata": {},
   "outputs": [],
   "source": []
  },
  {
   "cell_type": "markdown",
   "id": "d5bca500",
   "metadata": {},
   "source": [
    "### Compatibility and Conversion Between Two Numeric Types"
   ]
  },
  {
   "cell_type": "markdown",
   "id": "461f6cd5",
   "metadata": {},
   "source": [
    "#### Implicit Widening"
   ]
  },
  {
   "cell_type": "code",
   "execution_count": 12,
   "id": "08fb0f0d",
   "metadata": {},
   "outputs": [
    {
     "name": "stdout",
     "output_type": "stream",
     "text": [
      "x / y = 1.5789473684210527\n"
     ]
    }
   ],
   "source": [
    "x = 3\n",
    "y = 1.9\n",
    "answer = x / y\n",
    "print (\"x / y =\", answer)"
   ]
  },
  {
   "cell_type": "code",
   "execution_count": 13,
   "id": "cb1dfa58",
   "metadata": {},
   "outputs": [
    {
     "name": "stdout",
     "output_type": "stream",
     "text": [
      "17.5 + (x / y) = 21.785714285714285\n"
     ]
    }
   ],
   "source": [
    "# this source\n",
    "x = 30\n",
    "y = 7\n",
    "answer = 17.5 + (x / y)\n",
    "print(\"17.5 + (x / y) =\", answer)\n",
    "\n",
    "# produces"
   ]
  },
  {
   "cell_type": "markdown",
   "id": "38e06df0",
   "metadata": {},
   "source": [
    "#### Implicit Narrowing"
   ]
  },
  {
   "cell_type": "code",
   "execution_count": null,
   "id": "a2b85944",
   "metadata": {},
   "outputs": [],
   "source": [
    "# this source\n",
    "x = 30\n",
    "y = 7\n",
    "answer = x // y\n",
    "print(\"x // y =\", answer)"
   ]
  },
  {
   "cell_type": "markdown",
   "id": "35b880ee",
   "metadata": {},
   "source": [
    "#### Narrowing and then widening"
   ]
  },
  {
   "cell_type": "code",
   "execution_count": 14,
   "id": "a8540b30",
   "metadata": {},
   "outputs": [
    {
     "name": "stdout",
     "output_type": "stream",
     "text": [
      "17.5 + (x // y) = 21.5\n"
     ]
    }
   ],
   "source": [
    "# this source\n",
    "x = 30\n",
    "y = 7\n",
    "answer = 17.5 + (x // y)\n",
    "print(\"17.5 + (x // y) =\", answer)"
   ]
  },
  {
   "cell_type": "markdown",
   "id": "1f9aa5ce",
   "metadata": {},
   "source": [
    "#### Explicit Numeric Widening or Narrowing"
   ]
  },
  {
   "cell_type": "code",
   "execution_count": 17,
   "id": "5831e5c1",
   "metadata": {},
   "outputs": [
    {
     "name": "stdout",
     "output_type": "stream",
     "text": [
      "17.5 + float(30 / 7) = 21.785714285714285\n"
     ]
    }
   ],
   "source": [
    "answer = 17.5 + float(30 / 7)   # float() not really necessary\n",
    "print(\"17.5 + float(30 / 7) =\", answer)"
   ]
  },
  {
   "cell_type": "code",
   "execution_count": 16,
   "id": "4c25a7f6",
   "metadata": {},
   "outputs": [
    {
     "name": "stdout",
     "output_type": "stream",
     "text": [
      "17.5 + int(30 / 7) = 21.5\n"
     ]
    }
   ],
   "source": [
    "answer = 17.5 + int(30 / 7)   # int() makes a difference\n",
    "print(\"17.5 + int(30 / 7) =\", answer)"
   ]
  },
  {
   "cell_type": "markdown",
   "id": "697256b2",
   "metadata": {},
   "source": [
    "#### Why do these two \"programs\" give different results?"
   ]
  },
  {
   "cell_type": "code",
   "execution_count": 18,
   "id": "e27a428d",
   "metadata": {},
   "outputs": [
    {
     "name": "stdout",
     "output_type": "stream",
     "text": [
      "17.5 + int(-5 / 3) = 16.5\n"
     ]
    }
   ],
   "source": [
    "answer = 17.5 + int(-5 / 3)\n",
    "print(\"17.5 + int(-5 / 3) =\", answer)"
   ]
  },
  {
   "cell_type": "code",
   "execution_count": 19,
   "id": "a28835fb",
   "metadata": {},
   "outputs": [
    {
     "name": "stdout",
     "output_type": "stream",
     "text": [
      "17.5 + (-5 // 3) = 15.5\n"
     ]
    }
   ],
   "source": [
    "answer = 17.5 + (-5 // 3)\n",
    "print(\"17.5 + (-5 // 3) =\", answer)"
   ]
  },
  {
   "cell_type": "code",
   "execution_count": 21,
   "id": "addd949a",
   "metadata": {},
   "outputs": [
    {
     "name": "stdout",
     "output_type": "stream",
     "text": [
      "-1.6666666666666667\n",
      "-2\n"
     ]
    }
   ],
   "source": [
    "print(-5 / 3)\n",
    "print(-5 // 3)"
   ]
  },
  {
   "cell_type": "code",
   "execution_count": null,
   "id": "d2897082",
   "metadata": {},
   "outputs": [],
   "source": [
    "-5 // 3"
   ]
  },
  {
   "cell_type": "markdown",
   "id": "28752cd3",
   "metadata": {},
   "source": [
    "#### Converting from Strings to Numbers"
   ]
  },
  {
   "cell_type": "code",
   "execution_count": 22,
   "id": "ff4eccc5",
   "metadata": {},
   "outputs": [
    {
     "name": "stdout",
     "output_type": "stream",
     "text": [
      "-3635.2\n"
     ]
    }
   ],
   "source": [
    "first_num = \"1024\"\n",
    "second_num = \"-3.55\"\n",
    "\n",
    "answer = int(first_num) * float(second_num)\n",
    "print(answer)"
   ]
  },
  {
   "cell_type": "markdown",
   "id": "aafdf7a7",
   "metadata": {},
   "source": [
    "#### Illegal and Legal Numeric string-to-Numeric Conversions"
   ]
  },
  {
   "cell_type": "markdown",
   "id": "a08e033e",
   "metadata": {},
   "source": [
    "The constructors int() and float() can do a lot.  For example, they'll happily ignore leading or trailing spaces"
   ]
  },
  {
   "cell_type": "code",
   "execution_count": 25,
   "id": "d5e3f7fd",
   "metadata": {},
   "outputs": [
    {
     "name": "stdout",
     "output_type": "stream",
     "text": [
      "42.0\n"
     ]
    }
   ],
   "source": [
    "third_num_float = float (\"   42   \")\n",
    "print(third_num_float) "
   ]
  },
  {
   "cell_type": "markdown",
   "id": "be00e2e5",
   "metadata": {},
   "source": [
    "But they won't tolerate illegal characters or numbers they can't understand.    \n",
    "- Any of the following will produce an error"
   ]
  },
  {
   "cell_type": "code",
   "execution_count": 26,
   "id": "2808212c",
   "metadata": {},
   "outputs": [
    {
     "ename": "ValueError",
     "evalue": "could not convert string to float: '42.  6'",
     "output_type": "error",
     "traceback": [
      "\u001b[1;31m---------------------------------------------------------------------------\u001b[0m",
      "\u001b[1;31mValueError\u001b[0m                                Traceback (most recent call last)",
      "\u001b[1;32m<ipython-input-26-6263fdbb7a13>\u001b[0m in \u001b[0;36m<module>\u001b[1;34m\u001b[0m\n\u001b[1;32m----> 1\u001b[1;33m \u001b[0mthird_num_flt\u001b[0m \u001b[1;33m=\u001b[0m \u001b[0mfloat\u001b[0m \u001b[1;33m(\u001b[0m\u001b[1;34m\"42.  6\"\u001b[0m\u001b[1;33m)\u001b[0m\u001b[1;33m\u001b[0m\u001b[1;33m\u001b[0m\u001b[0m\n\u001b[0m\u001b[0;32m      2\u001b[0m \u001b[0mthird_num_flt\u001b[0m \u001b[1;33m=\u001b[0m \u001b[0mfloat\u001b[0m \u001b[1;33m(\u001b[0m\u001b[1;34m\"Fourty Two\"\u001b[0m\u001b[1;33m)\u001b[0m\u001b[1;33m\u001b[0m\u001b[1;33m\u001b[0m\u001b[0m\n\u001b[0;32m      3\u001b[0m \u001b[0mthird_num_flt\u001b[0m \u001b[1;33m=\u001b[0m \u001b[0mfloat\u001b[0m \u001b[1;33m(\u001b[0m\u001b[1;34m\"21.34.56\"\u001b[0m\u001b[1;33m)\u001b[0m\u001b[1;33m\u001b[0m\u001b[1;33m\u001b[0m\u001b[0m\n\u001b[0;32m      4\u001b[0m \u001b[0mthird_num_flt\u001b[0m \u001b[1;33m=\u001b[0m \u001b[0mfloat\u001b[0m \u001b[1;33m(\u001b[0m\u001b[1;34m\"x=3\"\u001b[0m\u001b[1;33m)\u001b[0m\u001b[1;33m\u001b[0m\u001b[1;33m\u001b[0m\u001b[0m\n",
      "\u001b[1;31mValueError\u001b[0m: could not convert string to float: '42.  6'"
     ]
    }
   ],
   "source": [
    "third_num_flt = float (\"42.  6\")\n",
    "third_num_flt = float (\"Fourty Two\")\n",
    "third_num_flt = float (\"21.34.56\")\n",
    "third_num_flt = float (\"x=3\")"
   ]
  },
  {
   "cell_type": "code",
   "execution_count": null,
   "id": "7bb7a68f",
   "metadata": {},
   "outputs": [],
   "source": []
  }
 ],
 "metadata": {
  "kernelspec": {
   "display_name": "Python 3",
   "language": "python",
   "name": "python3"
  },
  "language_info": {
   "codemirror_mode": {
    "name": "ipython",
    "version": 3
   },
   "file_extension": ".py",
   "mimetype": "text/x-python",
   "name": "python",
   "nbconvert_exporter": "python",
   "pygments_lexer": "ipython3",
   "version": "3.8.8"
  }
 },
 "nbformat": 4,
 "nbformat_minor": 5
}
