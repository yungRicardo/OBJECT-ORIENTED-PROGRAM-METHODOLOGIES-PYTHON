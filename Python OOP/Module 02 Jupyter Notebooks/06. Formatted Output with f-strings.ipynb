{
 "cells": [
  {
   "cell_type": "markdown",
   "id": "f7290054",
   "metadata": {},
   "source": [
    "# f-strings"
   ]
  },
  {
   "cell_type": "markdown",
   "id": "dc48d9e8",
   "metadata": {},
   "source": [
    "- f-strings are probably the most exciting recent Python enhancement (besides some significant speed improvement in 3.7) . First, make sure you are using Python 3.6 or later. "
   ]
  },
  {
   "cell_type": "code",
   "execution_count": null,
   "id": "f8c4efa6",
   "metadata": {},
   "outputs": [],
   "source": [
    "answer = f\"I'm okay!\"\n",
    "print(answer)"
   ]
  },
  {
   "cell_type": "markdown",
   "id": "847937b4",
   "metadata": {},
   "source": [
    "Here the f-string is not adding any value"
   ]
  },
  {
   "cell_type": "markdown",
   "id": "81ac9131",
   "metadata": {},
   "source": [
    "It could have been written"
   ]
  },
  {
   "cell_type": "code",
   "execution_count": null,
   "id": "8bf60503",
   "metadata": {},
   "outputs": [],
   "source": [
    "answer = \"I'm okay!\"\n",
    "print(answer)"
   ]
  },
  {
   "cell_type": "raw",
   "id": "e292e2fa",
   "metadata": {},
   "source": [
    "Here you can see the beginning of the power of f-strings"
   ]
  },
  {
   "cell_type": "code",
   "execution_count": null,
   "id": "d6c8f71e",
   "metadata": {},
   "outputs": [],
   "source": [
    "my_name = \"Mike\"\n",
    "my_location = \"Foothill College\"\n",
    "greeting = f\"Hi, I'm {my_name} from {my_location}\"\n",
    "print(greeting)"
   ]
  },
  {
   "cell_type": "markdown",
   "id": "b406b307",
   "metadata": {},
   "source": [
    "Specify the number of decimal in a float"
   ]
  },
  {
   "cell_type": "code",
   "execution_count": null,
   "id": "099eea8f",
   "metadata": {},
   "outputs": [],
   "source": [
    "my_number = 123.4567\n",
    "output = f\"{my_number:.2f}\"\n",
    "print(output)"
   ]
  },
  {
   "cell_type": "markdown",
   "id": "1906b8cc",
   "metadata": {},
   "source": [
    "## This is just the beginning    \n",
    "There is much more about f-string coming up later"
   ]
  },
  {
   "cell_type": "code",
   "execution_count": null,
   "id": "b5850e9c",
   "metadata": {},
   "outputs": [],
   "source": []
  }
 ],
 "metadata": {
  "kernelspec": {
   "display_name": "Python 3",
   "language": "python",
   "name": "python3"
  },
  "language_info": {
   "codemirror_mode": {
    "name": "ipython",
    "version": 3
   },
   "file_extension": ".py",
   "mimetype": "text/x-python",
   "name": "python",
   "nbconvert_exporter": "python",
   "pygments_lexer": "ipython3",
   "version": "3.8.8"
  }
 },
 "nbformat": 4,
 "nbformat_minor": 5
}
