{
 "cells": [
  {
   "cell_type": "markdown",
   "id": "5bc57a16",
   "metadata": {},
   "source": [
    "The if statement is a one-way choice: if the condition is true we do something, if not we don't. We would now like an either/or, or two-way choice: if the condition is true, do this, if not, do that. Once we can accomplish that, we can respond one way if the user is under age, and another way if the user is 21 or older."
   ]
  },
  {
   "cell_type": "markdown",
   "id": "23f5c30c",
   "metadata": {},
   "source": [
    "- Let's run this with 3 different input values\n",
    " - 21\n",
    " - 24\n",
    " - 18"
   ]
  },
  {
   "cell_type": "code",
   "execution_count": null,
   "id": "28fabaa7",
   "metadata": {},
   "outputs": [],
   "source": [
    "\"\"\"program that 'cards' a potential liquor consumer\"\"\"\n",
    "\n",
    "# get user's age and convert to int\n",
    "user_age = int (input(\"How old are you? \"))\n",
    "\n",
    "if (user_age >= 21):\n",
    "    print(\"Enjoy your beer.\")\n",
    "else:\n",
    "    print(\"Sorry, I can't serve you.\")\n",
    "\n",
    "print(\"Have a nice day.\")"
   ]
  },
  {
   "cell_type": "markdown",
   "id": "534d73a1",
   "metadata": {},
   "source": [
    "### Here is a console application that gets a number from the user and tells the user whether or not the number is even or odd.  \n",
    "- Make sure you can follow the logic - why does this program give the correct answer?  \n",
    "- You have to understand the % operator to answer that question.\n",
    "- Let's test it with 3 values\n",
    "- 3    \n",
    "- 28    \n",
    "- -101    "
   ]
  },
  {
   "cell_type": "code",
   "execution_count": 2,
   "id": "ccbc8e22",
   "metadata": {},
   "outputs": [
    {
     "name": "stdout",
     "output_type": "stream",
     "text": [
      "Enter an int: 4\n",
      "4 is even.\n"
     ]
    }
   ],
   "source": [
    "\"\"\"test whether or not a user-entered integer is even or odd using %\"\"\"\n",
    "\n",
    "# get user's age and store both as string and int\n",
    "user_str = input(\"Enter an int: \")\n",
    "user_int = int (user_str)\n",
    "\n",
    "if (user_int % 2 == 0):\n",
    "   print(f\"{user_str} is even.\")\n",
    "else:\n",
    "   print(f\"{user_str} is odd.\")"
   ]
  },
  {
   "cell_type": "markdown",
   "id": "9e13c479",
   "metadata": {},
   "source": [
    "### Style Indentation Errors (Program May Run Perfectly)"
   ]
  },
  {
   "cell_type": "markdown",
   "id": "74c84301",
   "metadata": {},
   "source": [
    "- Identify the \"Style\" error in each of the following\n",
    " - The code runs correctly but there are style errors"
   ]
  },
  {
   "cell_type": "code",
   "execution_count": 5,
   "id": "5f6d1c36",
   "metadata": {},
   "outputs": [
    {
     "name": "stdout",
     "output_type": "stream",
     "text": [
      "4 is even.\n",
      "Stated another way, 4 is a multiple of 2.\n"
     ]
    }
   ],
   "source": [
    "if (user_int % 2 == 0):\n",
    "   print(f\"{user_int} is even.\")\n",
    "   print(f\"Stated another way, {user_str} is a multiple of 2.\")\n",
    "else:\n",
    "    print(f\"{user_int} is odd.\")\n",
    "    print(f\"In other words, {user_str} is NOT a multiple of 2.\")"
   ]
  },
  {
   "cell_type": "code",
   "execution_count": 6,
   "id": "97e0552f",
   "metadata": {},
   "outputs": [
    {
     "name": "stdout",
     "output_type": "stream",
     "text": [
      "user_str is even.\n"
     ]
    }
   ],
   "source": [
    "# if-block on same line as condition. it hides the logic\n",
    "if (user_int % 2 == 0):   print(f\"user_str is even.\")"
   ]
  },
  {
   "cell_type": "code",
   "execution_count": 7,
   "id": "5152ee46",
   "metadata": {},
   "outputs": [
    {
     "name": "stdout",
     "output_type": "stream",
     "text": [
      "4 is even.\n"
     ]
    }
   ],
   "source": [
    "# programmer intentionally making the logic difficult to follow\n",
    "if (user_int % 2 == 0):   print(f\"{user_str} is even.\")\n",
    "else:   print(f\"{user_str} is odd.\")"
   ]
  },
  {
   "cell_type": "markdown",
   "id": "e9dcc63b",
   "metadata": {},
   "source": [
    "### Logic Errors (Program Runs, but Not as Desired)\n",
    "- Test with 3 and then with 6"
   ]
  },
  {
   "cell_type": "code",
   "execution_count": 11,
   "id": "ddc8ef57",
   "metadata": {},
   "outputs": [
    {
     "name": "stdout",
     "output_type": "stream",
     "text": [
      "Enter an integer 9\n",
      "9 is odd.\n",
      "In other words, 9 is NOT a multiple of 2.\n"
     ]
    }
   ],
   "source": [
    "user_str = int(input(\"Enter an integer \"))\n",
    "user_int = int(user_str)\n",
    "if (user_int % 2 == 0):\n",
    "    print(f\"{user_int} is even.\")\n",
    "    print(f\"Stated another way, {user_str} is a multiple of 2.\")\n",
    "else:\n",
    "    print(f\"{user_int} is odd.\")\n",
    "    print(f\"In other words, {user_str} is NOT a multiple of 2.\")"
   ]
  },
  {
   "cell_type": "code",
   "execution_count": null,
   "id": "d5335864",
   "metadata": {},
   "outputs": [],
   "source": []
  }
 ],
 "metadata": {
  "kernelspec": {
   "display_name": "Python 3",
   "language": "python",
   "name": "python3"
  },
  "language_info": {
   "codemirror_mode": {
    "name": "ipython",
    "version": 3
   },
   "file_extension": ".py",
   "mimetype": "text/x-python",
   "name": "python",
   "nbconvert_exporter": "python",
   "pygments_lexer": "ipython3",
   "version": "3.8.8"
  }
 },
 "nbformat": 4,
 "nbformat_minor": 5
}
