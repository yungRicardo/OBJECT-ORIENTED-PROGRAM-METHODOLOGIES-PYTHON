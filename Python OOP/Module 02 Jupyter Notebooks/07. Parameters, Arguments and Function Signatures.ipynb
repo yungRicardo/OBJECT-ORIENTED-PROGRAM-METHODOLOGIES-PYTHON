{
 "cells": [
  {
   "cell_type": "markdown",
   "id": "933e3fbd",
   "metadata": {},
   "source": [
    "Passing Arguments to Functions"
   ]
  },
  {
   "cell_type": "code",
   "execution_count": null,
   "id": "d41f9d1d",
   "metadata": {},
   "outputs": [],
   "source": [
    "print(\"Hey there!\")"
   ]
  },
  {
   "cell_type": "markdown",
   "id": "543c979a",
   "metadata": {},
   "source": [
    "The string literal \"Hey There!\" is called an \"argument\" to the function.  We use the same vocabulary in math."
   ]
  },
  {
   "cell_type": "markdown",
   "id": "b4989030",
   "metadata": {},
   "source": [
    "Speaking of math, let's do some math!  Let's say we want a function that adds two numbers and returns the sum to the client. We can pass the two numbers down into the function through the function call by placing them inside the functions parentheses"
   ]
  },
  {
   "cell_type": "code",
   "execution_count": null,
   "id": "bc5996d5",
   "metadata": {},
   "outputs": [],
   "source": [
    "def adder(a, b):  # definition of adder\n",
    "    \"\"\" adds the arguments passed and returns sum to client \"\"\"\n",
    "    temp = a + b\n",
    "    return temp\n",
    "\n",
    "adder(5, 10) # 5 and 10 are the arguments which are passed to the function\n",
    "             # they are referenced in the function paramenters"
   ]
  },
  {
   "cell_type": "code",
   "execution_count": null,
   "id": "4570ddf1",
   "metadata": {},
   "outputs": [],
   "source": [
    "def adder(a, b):  # definition of adder\n",
    "    \"\"\" adds the arguments passed and returns sum to client \"\"\"\n",
    "    return a + b\n",
    "\n",
    "adder(5, 10) # 5 and 10 are the arguments which are passed to the function\n",
    "             # they are referenced in the function paramenters"
   ]
  },
  {
   "cell_type": "code",
   "execution_count": null,
   "id": "ecfd96da",
   "metadata": {},
   "outputs": [],
   "source": [
    "x = 50\n",
    "y = 100\n",
    "adder(x, y)"
   ]
  },
  {
   "cell_type": "markdown",
   "id": "d4243b8d",
   "metadata": {},
   "source": [
    "Terminology    \n",
    "- a and b are referred to as paramenters in the function, they are in the functions namespace\n",
    "- x and y are referred to as arguments form the \"clients\" point of view, they are in the modules namespace"
   ]
  },
  {
   "cell_type": "markdown",
   "id": "21160004",
   "metadata": {},
   "source": [
    "In this case, the function is called with two different arguments, 3 and 5. Arguments can be constants, object references or expressions:"
   ]
  },
  {
   "cell_type": "code",
   "execution_count": null,
   "id": "d2dfd52f",
   "metadata": {},
   "outputs": [],
   "source": [
    "x = 10\n",
    "z = 20\n",
    "y = adder(x, z)\n",
    "y = adder(x * 3 - 1, 5 / z)  # here the argument is an expression\n",
    "y = adder(y, y)"
   ]
  },
  {
   "cell_type": "code",
   "execution_count": null,
   "id": "b810e537",
   "metadata": {},
   "outputs": [],
   "source": [
    "print(adder(x, z))\n",
    "print(adder(x * 3 - 1, 5 / z))\n",
    "print(adder(y, y))"
   ]
  },
  {
   "cell_type": "markdown",
   "id": "8b5096a2",
   "metadata": {},
   "source": [
    "In this case, the function is called with two different arguments, 3 and 5. Arguments can be constants, object references or expressions"
   ]
  },
  {
   "cell_type": "code",
   "execution_count": null,
   "id": "ba0238c8",
   "metadata": {},
   "outputs": [],
   "source": [
    "def adder(a, b):  # definition of adder"
   ]
  },
  {
   "cell_type": "markdown",
   "id": "244ad53b",
   "metadata": {},
   "source": [
    "- def adder(a, b):  is the first line of the function definition   \n",
    "- adder(a, b) is the signature of the function\n",
    "- a and b are called formal parameters.    \n",
    "- They are nothing more than local variables used inside the function whose values are obtained from the arguments passed down from the client.      \n",
    "- Note that there is a relationship between arguments, which are passed through a function call, and parameters, the variables used in the function that will point to the arguments."
   ]
  },
  {
   "cell_type": "markdown",
   "id": "aa90efc8",
   "metadata": {},
   "source": [
    "In the function call:"
   ]
  },
  {
   "cell_type": "code",
   "execution_count": null,
   "id": "1014cfc3",
   "metadata": {},
   "outputs": [],
   "source": [
    "y = adder(3, 5)"
   ]
  },
  {
   "cell_type": "code",
   "execution_count": null,
   "id": "8dcb2527",
   "metadata": {},
   "outputs": [],
   "source": [
    "print(adder)"
   ]
  },
  {
   "cell_type": "markdown",
   "id": "c121b25d",
   "metadata": {},
   "source": [
    "the value of argument 3 is passed to the parameter a (equivalent to a = 3 inside the function), and 5 to the b."
   ]
  },
  {
   "cell_type": "code",
   "execution_count": null,
   "id": "87faa5ab",
   "metadata": {},
   "outputs": [],
   "source": [
    "y = adder(x, z)"
   ]
  },
  {
   "cell_type": "markdown",
   "id": "47b5835d",
   "metadata": {},
   "source": [
    "the memory address of x the object is reference by formal parameter a, and the contents of z are is referenced by b."
   ]
  },
  {
   "cell_type": "markdown",
   "id": "ee7b44cf",
   "metadata": {},
   "source": [
    "In the function call:"
   ]
  },
  {
   "cell_type": "code",
   "execution_count": null,
   "id": "02e80a7c",
   "metadata": {},
   "outputs": [],
   "source": [
    "y = adder(x * 3 - 1, 5 / z)\n",
    "print(y)"
   ]
  },
  {
   "cell_type": "markdown",
   "id": "3d69b30b",
   "metadata": {},
   "source": [
    "In the statement above, the two expressions are evaluated, and their results are referenced by a and b, respectively. Here is hw we would incorporate adder() into a module"
   ]
  },
  {
   "cell_type": "markdown",
   "id": "1ab41c33",
   "metadata": {},
   "source": [
    "Here is a possible version of adder():"
   ]
  },
  {
   "cell_type": "code",
   "execution_count": null,
   "id": "298cd12f",
   "metadata": {},
   "outputs": [],
   "source": [
    "def adder(a, b):\n",
    "    \"\"\" adds the arguments passed and returns sum to client \"\"\"\n",
    "    temp = a + b\n",
    "    return temp\n",
    "\n",
    "\n",
    "def main():\n",
    "    x = 10.2\n",
    "    y = 35.9\n",
    "    z = adder(x, y)\n",
    "    print(f\"Producing {x:.2f} + {y:.2f} = {z:.2f}\")\n",
    "\n",
    "\n",
    "if __name__ == \"__main__\":\n",
    "    main()"
   ]
  },
  {
   "cell_type": "code",
   "execution_count": null,
   "id": "d51a543f",
   "metadata": {},
   "outputs": [],
   "source": [
    "result = adder(\"Hi\", \" there\")  # What's going to happen here?  Can the strings be added together?\n",
    "print(result)"
   ]
  },
  {
   "cell_type": "markdown",
   "id": "fc031e2a",
   "metadata": {},
   "source": [
    " - The data type of the arguments must be compatible with the use of the formal parameters in the function.  \n",
    " - If we try to pass \"hi\" and 2 as arguments to our adder function, we get an error when the interpreter tries to add these  -objects together.   \n",
    "- Interestingly, passing \"hi\" and \"there\" works just fine.  Python is different from other languages in that variable type is not enforced until you try to do something undefined, like adding a number to a string.  \n",
    " - What happens when you send \"hi\" and \"there\" to adder? "
   ]
  },
  {
   "cell_type": "markdown",
   "id": "2415eda5",
   "metadata": {},
   "source": [
    "## Function Signatures"
   ]
  },
  {
   "cell_type": "markdown",
   "id": "1cc49ef3",
   "metadata": {},
   "source": [
    "- When we talk about a function informally, we often omit the parameter details.    \n",
    "- I might say, \"adder() this ...\" or \"adder() that ... \" in a sentence, but the parentheses are placed there to emphasize that it is a function.  \n",
    "- They do not mean that the function takes no arguments.  \n",
    "- The signature of the adder() function is shown when we describe it fully.   \n",
    "- It is adder(a, b) along with the docstring that describes the formal parameters and return value, if any."
   ]
  },
  {
   "cell_type": "code",
   "execution_count": null,
   "id": "1a788aed",
   "metadata": {},
   "outputs": [],
   "source": [
    "def adder(a, b):\n",
    "    \"\"\" Add the two arguments a, b \"\"\""
   ]
  }
 ],
 "metadata": {
  "kernelspec": {
   "display_name": "Python 3",
   "language": "python",
   "name": "python3"
  },
  "language_info": {
   "codemirror_mode": {
    "name": "ipython",
    "version": 3
   },
   "file_extension": ".py",
   "mimetype": "text/x-python",
   "name": "python",
   "nbconvert_exporter": "python",
   "pygments_lexer": "ipython3",
   "version": "3.8.8"
  }
 },
 "nbformat": 4,
 "nbformat_minor": 5
}
