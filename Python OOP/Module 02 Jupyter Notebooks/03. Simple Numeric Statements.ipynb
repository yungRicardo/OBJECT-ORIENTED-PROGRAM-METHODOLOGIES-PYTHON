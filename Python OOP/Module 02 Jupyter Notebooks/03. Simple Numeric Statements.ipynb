{
 "cells": [
  {
   "cell_type": "markdown",
   "id": "e46f966d",
   "metadata": {},
   "source": [
    "Intergers   \n",
    "1, 2, 3, 4 are integers, so are -1, -2, -3, -4    \n",
    "they don't have decimals points"
   ]
  },
  {
   "cell_type": "code",
   "execution_count": null,
   "id": "ded70b97",
   "metadata": {},
   "outputs": [],
   "source": [
    "2 + 4"
   ]
  },
  {
   "cell_type": "markdown",
   "id": "83f9f3c0",
   "metadata": {},
   "source": [
    "Floats    \n",
    "1.2, 2.0, 3.3, 4.999 are floats"
   ]
  },
  {
   "cell_type": "code",
   "execution_count": null,
   "id": "ef989ac7",
   "metadata": {},
   "outputs": [],
   "source": [
    "1.2 + 4.99"
   ]
  },
  {
   "cell_type": "code",
   "execution_count": null,
   "id": "783a15e6",
   "metadata": {},
   "outputs": [],
   "source": [
    "5 + 5.1"
   ]
  },
  {
   "cell_type": "code",
   "execution_count": null,
   "id": "12c02ddf",
   "metadata": {},
   "outputs": [],
   "source": [
    "5 + 5."
   ]
  },
  {
   "cell_type": "markdown",
   "id": "745ccb69",
   "metadata": {},
   "source": [
    "Narrowing"
   ]
  },
  {
   "cell_type": "code",
   "execution_count": null,
   "id": "93f08214",
   "metadata": {},
   "outputs": [],
   "source": [
    "int(5.55555)"
   ]
  },
  {
   "cell_type": "markdown",
   "id": "771e0bcf",
   "metadata": {},
   "source": [
    "Note that 5 and 5.5 are different objects"
   ]
  },
  {
   "cell_type": "code",
   "execution_count": null,
   "id": "1f5526d6",
   "metadata": {},
   "outputs": [],
   "source": [
    "id(5.55555)"
   ]
  },
  {
   "cell_type": "code",
   "execution_count": null,
   "id": "99061daa",
   "metadata": {},
   "outputs": [],
   "source": [
    "id(5)"
   ]
  },
  {
   "cell_type": "markdown",
   "id": "b0a37f79",
   "metadata": {},
   "source": [
    "When you mix ints and floats, the result is a float. (This is referred to as widening)"
   ]
  },
  {
   "cell_type": "code",
   "execution_count": null,
   "id": "8373e4d8",
   "metadata": {},
   "outputs": [],
   "source": [
    "5.5 + 10"
   ]
  },
  {
   "cell_type": "markdown",
   "id": "af4c0e7b",
   "metadata": {},
   "source": [
    "Assignment statements"
   ]
  },
  {
   "cell_type": "code",
   "execution_count": null,
   "id": "d94cdda2",
   "metadata": {},
   "outputs": [],
   "source": [
    "some_number = 34\n",
    "print(some_number)"
   ]
  },
  {
   "cell_type": "code",
   "execution_count": null,
   "id": "26348130",
   "metadata": {},
   "outputs": [],
   "source": [
    "some_number = -10              # overwrites the 34 with -10\n",
    "print(some_number)"
   ]
  },
  {
   "cell_type": "code",
   "execution_count": null,
   "id": "f92db06d",
   "metadata": {},
   "outputs": [],
   "source": [
    "some_number = some_number + 3  # adds 3 to the -10 making\n",
    "                               # it -7\n",
    "print(some_number)"
   ]
  },
  {
   "cell_type": "code",
   "execution_count": null,
   "id": "77b26c29",
   "metadata": {},
   "outputs": [],
   "source": [
    "print(id(some_number))\n",
    "some_number = some_number + 3  # adds 3 to the -10 making\n",
    "                               # it -7\n",
    "print(some_number)\n",
    "print(id(some_number)) "
   ]
  },
  {
   "cell_type": "code",
   "execution_count": null,
   "id": "c9ddef83",
   "metadata": {},
   "outputs": [],
   "source": [
    "some_number += 1               # special notation that adds 1 to\n",
    "                               # some_number making it -6\n",
    "print(some_number)"
   ]
  },
  {
   "cell_type": "code",
   "execution_count": null,
   "id": "331986fa",
   "metadata": {},
   "outputs": [],
   "source": [
    "some_number1 = (some_number + 1) / 2  # adds 1 to some_number, making\n",
    "                                     # it -5, then divides by 2 \n",
    "                                     # making it ...  \n",
    "print(some_number1)"
   ]
  },
  {
   "cell_type": "code",
   "execution_count": null,
   "id": "f454e8a2",
   "metadata": {},
   "outputs": [],
   "source": [
    "some_number1 = some_number + 1 / 2 \n",
    "print(some_number1)"
   ]
  },
  {
   "cell_type": "markdown",
   "id": "9c7ccc50",
   "metadata": {},
   "source": [
    "Let do the same operations and look at what the variable some_number is referencing as at step"
   ]
  },
  {
   "cell_type": "code",
   "execution_count": null,
   "id": "ffe4f3bf",
   "metadata": {},
   "outputs": [],
   "source": [
    "some_number = 34\n",
    "print(some_number,id(some_number), type(some_number))"
   ]
  },
  {
   "cell_type": "code",
   "execution_count": null,
   "id": "7958915f",
   "metadata": {},
   "outputs": [],
   "source": [
    "some_number = 10              # overwrites the 34 with a -10\n",
    "print(some_number,id(some_number), type(some_number))"
   ]
  },
  {
   "cell_type": "code",
   "execution_count": null,
   "id": "1dba77b7",
   "metadata": {},
   "outputs": [],
   "source": [
    "some_number = some_number + 3  # adds 3 to the -10 making\n",
    "                               # it -7\n",
    "print(some_number,id(some_number), type(some_number))"
   ]
  },
  {
   "cell_type": "code",
   "execution_count": null,
   "id": "2b529b7f",
   "metadata": {},
   "outputs": [],
   "source": [
    "some_number += 1               # special notation that adds 1 to\n",
    "                               # some_number making it -6\n",
    "print(some_number,id(some_number), type(some_number))"
   ]
  },
  {
   "cell_type": "code",
   "execution_count": null,
   "id": "1b3f526d",
   "metadata": {},
   "outputs": [],
   "source": [
    "some_number = (some_number + 1) / 2  # adds 1 to some_number, making\n",
    "                                     # it -5, then divides by 2 \n",
    "                                     # making it ...  \n",
    "print(some_number,id(some_number), type(some_number))\n"
   ]
  },
  {
   "cell_type": "markdown",
   "id": "7f05d0ff",
   "metadata": {},
   "source": [
    "and now lets assign some_number to 34"
   ]
  },
  {
   "cell_type": "code",
   "execution_count": null,
   "id": "01d6e5fa",
   "metadata": {},
   "outputs": [],
   "source": [
    "some_number = 34\n",
    "print(some_number,id(some_number), type(some_number))"
   ]
  },
  {
   "cell_type": "markdown",
   "id": "d0aed6c8",
   "metadata": {},
   "source": [
    "Integer Arithmetic"
   ]
  },
  {
   "cell_type": "code",
   "execution_count": null,
   "id": "49af6c69",
   "metadata": {},
   "outputs": [],
   "source": [
    "answer = 14 // 3\n",
    "print( \"answer is\", answer )\n",
    "\n",
    "answer = 14 % 3\n",
    "print( \"answer is\", answer )"
   ]
  },
  {
   "cell_type": "code",
   "execution_count": null,
   "id": "2affa794",
   "metadata": {},
   "outputs": [],
   "source": []
  }
 ],
 "metadata": {
  "kernelspec": {
   "display_name": "Python 3",
   "language": "python",
   "name": "python3"
  },
  "language_info": {
   "codemirror_mode": {
    "name": "ipython",
    "version": 3
   },
   "file_extension": ".py",
   "mimetype": "text/x-python",
   "name": "python",
   "nbconvert_exporter": "python",
   "pygments_lexer": "ipython3",
   "version": "3.8.8"
  }
 },
 "nbformat": 4,
 "nbformat_minor": 5
}
