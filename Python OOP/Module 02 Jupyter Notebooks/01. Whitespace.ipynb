{
 "cells": [
  {
   "cell_type": "markdown",
   "id": "35673d33",
   "metadata": {},
   "source": [
    "# Whitespace"
   ]
  },
  {
   "cell_type": "markdown",
   "id": "4f016f30",
   "metadata": {},
   "source": [
    "In Python, whitespace means spaces, blank lines, and tabs.         \n",
    "- Unlike some languages, in Python, whitespace has an actual, programmatic meaning. In other words, it is not just used for human readability and style.    \n",
    "- Adding or removing whitespace might create a fatal syntax error or it might change the behavior of the program.    \n",
    "- On the other hand, some whitespace omissions or modifications may be legal and/or may not change the run at all. Each situation has to be analyzed."
   ]
  },
  {
   "cell_type": "markdown",
   "id": "e1e4d97d",
   "metadata": {},
   "source": [
    "Since we have not covered enough Python statements to fully explain the meaning of the following examples, they may be read lightly for now.    \n",
    "- They are meant to help you preview some situations in which whitespace might -- or might not -- make a difference to your program \"compilation (syntax checking) or run."
   ]
  },
  {
   "cell_type": "markdown",
   "id": "3c1241d6",
   "metadata": {},
   "source": [
    "When we get to looping, we'll see that the statements to be repeated in the loop must all be indented, and furthermore, \n",
    "- they must be indented by the same amount:"
   ]
  },
  {
   "cell_type": "code",
   "execution_count": 3,
   "id": "89276136",
   "metadata": {},
   "outputs": [
    {
     "name": "stdout",
     "output_type": "stream",
     "text": [
      "0   H\n",
      "unicode for  H  is  72 \n",
      "\n",
      "1   I\n",
      "unicode for  I  is  73 \n",
      "\n",
      "2    \n",
      "unicode for     is  32 \n",
      "\n",
      "3   M\n",
      "unicode for  M  is  77 \n",
      "\n",
      "4   O\n",
      "unicode for  O  is  79 \n",
      "\n",
      "5   M\n",
      "unicode for  M  is  77 \n",
      "\n",
      "6   .\n",
      "unicode for  .  is  46 \n",
      "\n"
     ]
    }
   ],
   "source": [
    "my_string = \"Hi Mom.\"\n",
    "\n",
    "# our \"for loop\" which contains two statements to be repeated\n",
    "upper_str = my_string.upper()\n",
    "for i in range(0, len(my_string)):\n",
    "    print(i, \" \", upper_str[i])\n",
    "    print(\"unicode for \", upper_str[i], \" is \", ord(upper_str[i]),\"\\n\")"
   ]
  },
  {
   "cell_type": "markdown",
   "id": "515c98a1",
   "metadata": {},
   "source": [
    "If statements in that loop are indented by different amounts, you'll get a syntax error:"
   ]
  },
  {
   "cell_type": "code",
   "execution_count": 4,
   "id": "e985473a",
   "metadata": {},
   "outputs": [
    {
     "ename": "IndentationError",
     "evalue": "unexpected indent (<ipython-input-4-5b7ee053cbd4>, line 7)",
     "output_type": "error",
     "traceback": [
      "\u001b[1;36m  File \u001b[1;32m\"<ipython-input-4-5b7ee053cbd4>\"\u001b[1;36m, line \u001b[1;32m7\u001b[0m\n\u001b[1;33m    print(\"unicode for \", upper_str[i], \" is \", ord(upper_str[i]))\u001b[0m\n\u001b[1;37m    ^\u001b[0m\n\u001b[1;31mIndentationError\u001b[0m\u001b[1;31m:\u001b[0m unexpected indent\n"
     ]
    }
   ],
   "source": [
    "my_string = \"Hi Mom.\"\n",
    "\n",
    "# our \"for loop\" which contains two statements to be repeated\n",
    "upper_str = my_string.upper()\n",
    "for i in range(0, len(my_string)):\n",
    "    print(i, \" \", upper_str[i])\n",
    "        print(\"unicode for \", upper_str[i], \" is \", ord(upper_str[i]))"
   ]
  },
  {
   "cell_type": "markdown",
   "id": "7e99b496",
   "metadata": {},
   "source": [
    "If you forget to indent a statement in a loop completely, it may \"compile\" and run, but the output will not be what the programmer intended:"
   ]
  },
  {
   "cell_type": "code",
   "execution_count": 5,
   "id": "6f6772e8",
   "metadata": {},
   "outputs": [
    {
     "name": "stdout",
     "output_type": "stream",
     "text": [
      "0   H\n",
      "1   I\n",
      "2    \n",
      "3   M\n",
      "4   O\n",
      "5   M\n",
      "6   .\n",
      "unicode for  .  is  46\n"
     ]
    }
   ],
   "source": [
    "my_string = \"Hi Mom.\"\n",
    "\n",
    "# our \"for loop\" which contains two statements to be repeated\n",
    "upper_str = my_string.upper()\n",
    "for i in range(0, len(my_string)):\n",
    "    print(i, \" \", upper_str[i])\n",
    "print(\"unicode for \", upper_str[i], \" is \", ord(upper_str[i]))"
   ]
  },
  {
   "cell_type": "markdown",
   "id": "f7c62ded",
   "metadata": {},
   "source": [
    "# Examples where Whitespace Does Not Matter to Python -- but May Matter to Human programmers"
   ]
  },
  {
   "cell_type": "markdown",
   "id": "565871f7",
   "metadata": {},
   "source": [
    "Comments Can Be Indented with No Error."
   ]
  },
  {
   "cell_type": "code",
   "execution_count": 8,
   "id": "89dcdfde",
   "metadata": {},
   "outputs": [
    {
     "name": "stdout",
     "output_type": "stream",
     "text": [
      "Hello World\n",
      "Let's keep in touch.\n",
      "\n"
     ]
    }
   ],
   "source": [
    "\"\"\"\n",
    "     simple \"Hello World\" program\n",
    "\"\"\"\n",
    "\n",
    "\n",
    "   # a few output statements in our first experiment\n",
    "print(\"Hello World\")\n",
    "       # Here is the 2nd line\n",
    "print(\"Let's keep in touch.\\n\")"
   ]
  },
  {
   "cell_type": "markdown",
   "id": "55841e19",
   "metadata": {},
   "source": [
    "## Continuation lines allow us to make a long statement on a single line. By default they will be -- and should be -- indented by your IDE in a sensible way:"
   ]
  },
  {
   "cell_type": "code",
   "execution_count": 9,
   "id": "ab9bd9c8",
   "metadata": {},
   "outputs": [
    {
     "name": "stdout",
     "output_type": "stream",
     "text": [
      "Hello World Let's keep in touch.  If you need me for  support in any way, I'm here for you.\n"
     ]
    }
   ],
   "source": [
    "# typical continuation line indentation\n",
    "print(\"Hello World\"\n",
    "      \" Let's keep in touch.  If you need me for \"\n",
    "      \" support in any way, I'm here for you.\")"
   ]
  },
  {
   "cell_type": "markdown",
   "id": "10cac0a0",
   "metadata": {},
   "source": [
    "Note: This indentation only happens if the continuation line is implied by an unfinished parentheses block - here, the print( ... ) parens. We'll talk more about this, later."
   ]
  },
  {
   "cell_type": "markdown",
   "id": "e7a90145",
   "metadata": {},
   "source": [
    "But an alternate style (also acceptable) would not affect the run:"
   ]
  },
  {
   "cell_type": "code",
   "execution_count": 11,
   "id": "65fe145a",
   "metadata": {},
   "outputs": [
    {
     "name": "stdout",
     "output_type": "stream",
     "text": [
      "Hello World Let's keep in touch.  If you need me for  support in any way, I'm here for you.\n"
     ]
    }
   ],
   "source": [
    "# alternate acceptable indentation\n",
    "print(\"Hello World\"\n",
    "   \" Let's keep in touch.  If you need me for \"\n",
    "   \" support in any way, I'm here for you.\")"
   ]
  },
  {
   "cell_type": "markdown",
   "id": "75dbe993",
   "metadata": {},
   "source": [
    "Even a horribly indented continuation line will be okay for Python, but bad for a job interview:"
   ]
  },
  {
   "cell_type": "code",
   "execution_count": 12,
   "id": "f11f345c",
   "metadata": {},
   "outputs": [
    {
     "name": "stdout",
     "output_type": "stream",
     "text": [
      "Hello World Let's keep in touch.  If you need me for  support in any way, I'm here for you.\n"
     ]
    }
   ],
   "source": [
    "# alternate acceptable indentation\n",
    "print(\"Hello World\"\n",
    "       \" Let's keep in touch.  If you need me for \"\n",
    "\" support in any way, I'm here for you.\")"
   ]
  },
  {
   "cell_type": "markdown",
   "id": "95618cc4",
   "metadata": {},
   "source": [
    "Here's another good example of a continuation line with good use of whitespace indentation that facilitates understanding the code:"
   ]
  },
  {
   "cell_type": "markdown",
   "id": "abc38329",
   "metadata": {},
   "source": [
    "Which is more readable\n",
    "- this"
   ]
  },
  {
   "cell_type": "code",
   "execution_count": 19,
   "id": "8bee9317",
   "metadata": {},
   "outputs": [
    {
     "data": {
      "text/plain": [
       "10"
      ]
     },
     "execution_count": 19,
     "metadata": {},
     "output_type": "execute_result"
    }
   ],
   "source": [
    "my_sum = 1 + 2 + 3 + 4\n",
    "+ 6 + 7 + 8 + 9\n",
    "+ 10"
   ]
  },
  {
   "cell_type": "markdown",
   "id": "a6a21098",
   "metadata": {},
   "source": [
    "- or this"
   ]
  },
  {
   "cell_type": "code",
   "execution_count": 21,
   "id": "9e05079f",
   "metadata": {},
   "outputs": [
    {
     "ename": "IndentationError",
     "evalue": "unexpected indent (<ipython-input-21-4b24371be343>, line 2)",
     "output_type": "error",
     "traceback": [
      "\u001b[1;36m  File \u001b[1;32m\"<ipython-input-21-4b24371be343>\"\u001b[1;36m, line \u001b[1;32m2\u001b[0m\n\u001b[1;33m    + 6 + 7 + 8 + 9\u001b[0m\n\u001b[1;37m    ^\u001b[0m\n\u001b[1;31mIndentationError\u001b[0m\u001b[1;31m:\u001b[0m unexpected indent\n"
     ]
    }
   ],
   "source": [
    "my_sum = 1 + 2 + 3 + 4 + 5\n",
    "         + 6 + 7 + 8 + 9\n",
    "         + 10"
   ]
  },
  {
   "cell_type": "markdown",
   "id": "92d91181",
   "metadata": {},
   "source": [
    "So how do we fix the error\n",
    "- Use the \\ as a continuations character"
   ]
  },
  {
   "cell_type": "code",
   "execution_count": 22,
   "id": "7e0e582b",
   "metadata": {},
   "outputs": [],
   "source": [
    "my_sum = 1 + 2 + 3 + 4 + 5 \\\n",
    "         + 6 + 7 + 8 + 9   \\\n",
    "         + 10"
   ]
  },
  {
   "cell_type": "markdown",
   "id": "047c9189",
   "metadata": {},
   "source": [
    "my_sum = 1 + 2 + 3 + 4 + 5\n",
    "    + 6 + 7 + 8 + 9\n",
    "    + 10"
   ]
  },
  {
   "cell_type": "code",
   "execution_count": 23,
   "id": "ef6e20a6",
   "metadata": {},
   "outputs": [
    {
     "data": {
      "text/plain": [
       "55"
      ]
     },
     "execution_count": 23,
     "metadata": {},
     "output_type": "execute_result"
    }
   ],
   "source": [
    "my_sum"
   ]
  },
  {
   "cell_type": "markdown",
   "id": "eb6e9939",
   "metadata": {},
   "source": [
    "### Whitespace in the Middle of Lines Usually Has No Effect On the Syntax or Run"
   ]
  },
  {
   "cell_type": "code",
   "execution_count": 25,
   "id": "684e94bf",
   "metadata": {},
   "outputs": [
    {
     "name": "stdout",
     "output_type": "stream",
     "text": [
      "1\n",
      "2\n",
      "3\n",
      "4\n",
      "1\n",
      "2\n",
      "3\n",
      "4\n",
      "1\n",
      "2\n",
      "3\n",
      "4\n"
     ]
    }
   ],
   "source": [
    "for i in range(1, 5):\n",
    "    print(i)\n",
    "\n",
    "for   i in range(1, 5):\n",
    "    print( i )\n",
    "\n",
    "for   i   in range( 1,5 ):\n",
    "    print( i )"
   ]
  },
  {
   "cell_type": "markdown",
   "id": "ce950bc3",
   "metadata": {},
   "source": [
    "#### These are also mid-line whitespace variants which are legal and equivalent. However, only the first is acceptable style. The rest will incur point penalties (see style rules for details):"
   ]
  },
  {
   "cell_type": "code",
   "execution_count": 26,
   "id": "a050fe8b",
   "metadata": {},
   "outputs": [],
   "source": [
    "my_sum = 1 + 2 + 3 + 4 + 5\n",
    "\n",
    "# equivalent to above but bad whitespace choices\n",
    "my_sum=1+2+3+4+5\n",
    "my_sum =1 +2 + 3 +   4 +   5\n",
    "my_sum=1     + 2 + 3 + 4 + 5"
   ]
  },
  {
   "cell_type": "markdown",
   "id": "7b353461",
   "metadata": {},
   "source": [
    "## Style Reminder"
   ]
  },
  {
   "cell_type": "markdown",
   "id": "1002f604",
   "metadata": {},
   "source": [
    "As you read my sample program fragments, notice how I indent and try to use a similar, or equally rational style. \n",
    "- Use the style used in the recommended PEP 8 -- Style Guide for Python Code and adapt that style. Do not mix styles - stick to one.  \n",
    "- Be careful: if the book or one of my modules contains a typo, it should be obvious based on the style rules. \n",
    "- Don't copy incorrect indentation, even from these sources, into your assignments.\n",
    "\n",
    "Remember, you only get full credit for assignments if you use correct style.\n"
   ]
  },
  {
   "cell_type": "code",
   "execution_count": null,
   "id": "7ec9cee6",
   "metadata": {},
   "outputs": [],
   "source": []
  }
 ],
 "metadata": {
  "kernelspec": {
   "display_name": "Python 3",
   "language": "python",
   "name": "python3"
  },
  "language_info": {
   "codemirror_mode": {
    "name": "ipython",
    "version": 3
   },
   "file_extension": ".py",
   "mimetype": "text/x-python",
   "name": "python",
   "nbconvert_exporter": "python",
   "pygments_lexer": "ipython3",
   "version": "3.8.8"
  }
 },
 "nbformat": 4,
 "nbformat_minor": 5
}
