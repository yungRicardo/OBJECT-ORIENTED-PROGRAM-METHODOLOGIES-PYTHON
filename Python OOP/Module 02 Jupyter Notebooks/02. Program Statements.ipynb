{
 "cells": [
  {
   "cell_type": "markdown",
   "id": "28fb327b",
   "metadata": {},
   "source": [
    "# Program Statements\n",
    "- Python allow considerable flixibilitity in writing Python statements    \n",
    "- Always keep in mind that you want you program to be as \"readable\" as possible."
   ]
  },
  {
   "cell_type": "markdown",
   "id": "0e9dd68d",
   "metadata": {},
   "source": [
    "## Here are some examples"
   ]
  },
  {
   "cell_type": "markdown",
   "id": "6f53cb02",
   "metadata": {},
   "source": [
    "- One statemet per line\n",
    "- This is the style that you should use unless it presents a readibility problem"
   ]
  },
  {
   "cell_type": "code",
   "execution_count": null,
   "id": "f2280b19",
   "metadata": {},
   "outputs": [],
   "source": [
    "# simple \"Hello World\" program\n",
    "print(\"Hello World.\")\n",
    "print(\"Let's keep in touch.\")"
   ]
  },
  {
   "cell_type": "markdown",
   "id": "b4638d22",
   "metadata": {},
   "source": [
    "- Or we could write both statement on the same line seperated by   ;    \n",
    "- Two is not the limit, but it gets harder to read"
   ]
  },
  {
   "cell_type": "code",
   "execution_count": null,
   "id": "084c5829",
   "metadata": {},
   "outputs": [],
   "source": [
    "# simple \"Hello World\" program\n",
    "print(\"Hello World.\"); print(\"Let's keep in touch.\")"
   ]
  },
  {
   "cell_type": "markdown",
   "id": "5d16599c",
   "metadata": {},
   "source": [
    "- Even this is legal\n",
    "- It gives the same result as the single line example    \n",
    "- Add a '\\' character at the end of each line to be continued\n",
    " - What is the \\ character called?    "
   ]
  },
  {
   "cell_type": "code",
   "execution_count": null,
   "id": "2a9eaf44",
   "metadata": {},
   "outputs": [],
   "source": [
    "print (                      \\\n",
    "         \"Hello World.\"      \\\n",
    "      )"
   ]
  },
  {
   "cell_type": "markdown",
   "id": "f021bcc4",
   "metadata": {},
   "source": [
    "- The character, \\\\, cannot be used to continue a string if it inside the quotes.   \n",
    "- It only has the effect of continuation outside quotes. \n",
    "- Long strings can be continued in a variety of ways, one of which is closing the quote on the top line and reopening it on the next line"
   ]
  },
  {
   "cell_type": "markdown",
   "id": "9fc969b7",
   "metadata": {},
   "source": [
    "- In this example Python treats the two strings as a single arguement    \n",
    "- It concatinates the strings\n",
    " - This results in a \"single\" string\n",
    " - When passing arguements to functions, Python evaluates the arguement before passing it to the function\n",
    "   - Remember arguements are sererated by a ,  (comma)    "
   ]
  },
  {
   "cell_type": "code",
   "execution_count": null,
   "id": "53a030d6",
   "metadata": {},
   "outputs": [],
   "source": [
    "print(\"Hello World.\"\n",
    "      \"Let's keep in touch.\")"
   ]
  },
  {
   "cell_type": "markdown",
   "id": "addf3e30",
   "metadata": {},
   "source": [
    "## A diversion to argument passing to fuctions"
   ]
  },
  {
   "cell_type": "code",
   "execution_count": null,
   "id": "f8c00da3",
   "metadata": {},
   "outputs": [],
   "source": [
    "x = -234\n",
    "y = 3.1345\n",
    "\n",
    "print( \"X is\", x,  \"and Y is\", y )"
   ]
  },
  {
   "cell_type": "code",
   "execution_count": null,
   "id": "1624a55f",
   "metadata": {},
   "outputs": [],
   "source": [
    "print( \"X is \" + str(x) + \" and Y is \" + str(y))"
   ]
  },
  {
   "cell_type": "markdown",
   "id": "7221f66f",
   "metadata": {},
   "source": [
    "## Comments"
   ]
  },
  {
   "cell_type": "markdown",
   "id": "2b6fb9d0",
   "metadata": {},
   "source": [
    "- A comment is begun by placing a # at the start of it and are automatically terminated by the return at the end of that line.\n",
    "- Comments are not \"compiled\" into the executable program but are used by the programmer to document the code in the source file only (the .py file). \n"
   ]
  },
  {
   "cell_type": "code",
   "execution_count": null,
   "id": "1b6a48a4",
   "metadata": {},
   "outputs": [],
   "source": [
    "# x will hold the minimum temperature (kelvin) allowed in the radiator\n",
    "x = -234      \n",
    "y = 3.1345    # y will be used to describe the percentage\n",
    "              # accuracy of the gaming strategy\n",
    "    "
   ]
  },
  {
   "cell_type": "markdown",
   "id": "a146a7fd",
   "metadata": {},
   "source": [
    "- Important note - a docstring is not a comment or a mutiline comment\n",
    "- The triple-quote syntax \"\"\" ... \"\"\" in normally only be used for docstrings     \n",
    "- this is a multiline string, not a multi-line comments.    \n",
    "- The only other place where we will use the triple quote syntax is to add our sample run at the bottom of our file. "
   ]
  },
  {
   "cell_type": "code",
   "execution_count": null,
   "id": "70ac7e3f",
   "metadata": {},
   "outputs": [],
   "source": []
  }
 ],
 "metadata": {
  "kernelspec": {
   "display_name": "Python 3",
   "language": "python",
   "name": "python3"
  },
  "language_info": {
   "codemirror_mode": {
    "name": "ipython",
    "version": 3
   },
   "file_extension": ".py",
   "mimetype": "text/x-python",
   "name": "python",
   "nbconvert_exporter": "python",
   "pygments_lexer": "ipython3",
   "version": "3.8.8"
  }
 },
 "nbformat": 4,
 "nbformat_minor": 5
}
