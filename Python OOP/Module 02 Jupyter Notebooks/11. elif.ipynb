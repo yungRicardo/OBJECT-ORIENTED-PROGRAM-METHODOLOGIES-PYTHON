{
 "cells": [
  {
   "cell_type": "markdown",
   "id": "4b38c4cd",
   "metadata": {},
   "source": [
    "## Mutually Exclusive Events: if/elif/else"
   ]
  },
  {
   "cell_type": "markdown",
   "id": "4c57fdb9",
   "metadata": {},
   "source": [
    "- A common control structure in Python is one in which a number of mutually exclusive conditions are expected each with its own consequence. \n",
    "- We can acheive this by inserting elif between an if statement and a final else.    \n",
    "- When a condition in the if or one of the elif lines is met, the block it controls is executed    \n",
    "- The program then continues by skipping to the end of the entire elif chain as well as the else statement. \n",
    "- If no condition is met, the else block is executed."
   ]
  },
  {
   "cell_type": "markdown",
   "id": "02db88a8",
   "metadata": {},
   "source": [
    "#### Here we demonstrate the use of elif"
   ]
  },
  {
   "cell_type": "code",
   "execution_count": 3,
   "id": "ff88bc2a",
   "metadata": {},
   "outputs": [
    {
     "name": "stdout",
     "output_type": "stream",
     "text": [
      "What is your diving depth in feet? 200\n",
      "You are down too deep!\n"
     ]
    }
   ],
   "source": [
    "\"\"\" compute atmospheric pressure based on diving depth \"\"\"\n",
    "\n",
    "user_str = input(\"What is your diving depth in feet? \")\n",
    "depth = int (user_str)\n",
    "\n",
    "if (depth < 33):\n",
    "    print(\"Use 2 atm for your calculation.\")\n",
    "elif (depth < 66):\n",
    "    print(\"Use 3 atm for your calculation.\")\n",
    "elif (depth < 99):\n",
    "    print(\"Use 4 atm for your calculation.\")\n",
    "elif (depth < 132):\n",
    "    print(\"Use 5 atm for your calculation.\")\n",
    "else:\n",
    "    print(\"You are down too deep!\")"
   ]
  },
  {
   "cell_type": "markdown",
   "id": "4c108df1",
   "metadata": {},
   "source": [
    "#### Here is the same logic with nested if statements\n",
    "- Which is more readible?"
   ]
  },
  {
   "cell_type": "code",
   "execution_count": null,
   "id": "e3c67f71",
   "metadata": {},
   "outputs": [],
   "source": [
    "if (depth < 33):\n",
    "    print(\"Use 2 atm for your calculation.\")\n",
    "else:\n",
    "    if (depth < 66):\n",
    "        print(\"Use 3 atm for your calculation.\")\n",
    "    else:\n",
    "        if (depth < 99):\n",
    "            print(\"Use 4 atm for your calculation.\")\n",
    "        else:\n",
    "            if (depth < 132):\n",
    "                print(\"Use 5 atm for your calculation.\")\n",
    "            else:\n",
    "                print(\"You are down too deep!\")"
   ]
  },
  {
   "cell_type": "markdown",
   "id": "331ac5ac",
   "metadata": {},
   "source": [
    "#### Nesting Combined with Mutual Exclusivity\n",
    "- If there is logic that is truly nested, then we would use progressive indentation."
   ]
  },
  {
   "cell_type": "code",
   "execution_count": 4,
   "id": "f46117d9",
   "metadata": {},
   "outputs": [
    {
     "name": "stdout",
     "output_type": "stream",
     "text": [
      "Does your state have  income tax (y or n)? y\n",
      "What is your annual income? 50000\n",
      "Tax owed is 11000.0\n"
     ]
    }
   ],
   "source": [
    "\"\"\" compute tax owed based on state and income \"\"\"\n",
    "\n",
    "state = input(\"Does your state have  income tax (y or n)? \")\n",
    "\n",
    "if (state == 'y'):\n",
    "    income = int(input( \"What is your annual income? \"))\n",
    "    if (income < 20000):\n",
    "        tax_rate = 0\n",
    "    elif (income < 40000):\n",
    "        tax_rate = .13\n",
    "    elif (income < 70000):\n",
    "        tax_rate = .22\n",
    "    else:\n",
    "        tax_rate = .34\n",
    "    tax_owed = income * tax_rate\n",
    "else:\n",
    "    tax_owed = 0\n",
    "\n",
    "print(f\"Tax owed is {tax_owed}\")"
   ]
  },
  {
   "cell_type": "code",
   "execution_count": null,
   "id": "7b6cc1ad",
   "metadata": {},
   "outputs": [],
   "source": []
  }
 ],
 "metadata": {
  "kernelspec": {
   "display_name": "Python 3",
   "language": "python",
   "name": "python3"
  },
  "language_info": {
   "codemirror_mode": {
    "name": "ipython",
    "version": 3
   },
   "file_extension": ".py",
   "mimetype": "text/x-python",
   "name": "python",
   "nbconvert_exporter": "python",
   "pygments_lexer": "ipython3",
   "version": "3.8.8"
  }
 },
 "nbformat": 4,
 "nbformat_minor": 5
}
