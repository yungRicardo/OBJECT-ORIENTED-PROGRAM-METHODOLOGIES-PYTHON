{
 "cells": [
  {
   "cell_type": "markdown",
   "metadata": {},
   "source": [
    "# Creating properties using decorators"
   ]
  },
  {
   "cell_type": "markdown",
   "metadata": {},
   "source": [
    "## Our initial class"
   ]
  },
  {
   "cell_type": "code",
   "execution_count": 1,
   "metadata": {},
   "outputs": [],
   "source": [
    "class dog():\n",
    "    def __init__(self):\n",
    "        self._pets_name = \"(undefined)\"\n",
    "        self._owners_name = \"(undefined)\"\n",
    "        self._weight = 0.0\n",
    "        self._number_of_limbs = 0"
   ]
  },
  {
   "cell_type": "code",
   "execution_count": 3,
   "metadata": {},
   "outputs": [
    {
     "data": {
      "text/plain": [
       "'(undefined)'"
      ]
     },
     "execution_count": 3,
     "metadata": {},
     "output_type": "execute_result"
    }
   ],
   "source": [
    "d = dog()\n",
    "d._pets_name"
   ]
  },
  {
   "cell_type": "markdown",
   "metadata": {},
   "source": [
    "### Create a property using a `decorator`"
   ]
  },
  {
   "cell_type": "code",
   "execution_count": 5,
   "metadata": {},
   "outputs": [],
   "source": [
    "class Dog():\n",
    "    '''Create a property using a decorator'''        \n",
    "\n",
    "    def __init__(self):\n",
    "        self._pets_name = \"(undefined)\"\n",
    "        self._owners_name = \"(undefined)\"\n",
    "        self._weight = 0.0\n",
    "        self._number_of_limbs = 0\n",
    "\n",
    "    @property\n",
    "    def pets_name(self):\n",
    "        return self._pets_name\n",
    "    \n",
    "    @pets_name.setter\n",
    "    def pets_name(self, new_name):\n",
    "        self._pets_name = new_name"
   ]
  },
  {
   "cell_type": "code",
   "execution_count": 6,
   "metadata": {},
   "outputs": [
    {
     "name": "stdout",
     "output_type": "stream",
     "text": [
      "Jerry of Kipling\n"
     ]
    }
   ],
   "source": [
    "my_dog = Dog()\n",
    "my_dog.pets_name = \"Jerry of Kipling\"\n",
    "print(my_dog.pets_name)"
   ]
  },
  {
   "cell_type": "code",
   "execution_count": 7,
   "metadata": {},
   "outputs": [
    {
     "data": {
      "text/plain": [
       "{'_pets_name': 'Jerry of Kipling',\n",
       " '_owners_name': '(undefined)',\n",
       " '_weight': 0.0,\n",
       " '_number_of_limbs': 0}"
      ]
     },
     "execution_count": 7,
     "metadata": {},
     "output_type": "execute_result"
    }
   ],
   "source": [
    "my_dog.__dict__"
   ]
  },
  {
   "cell_type": "markdown",
   "metadata": {},
   "source": [
    "We can protect weight from being negative by adding another property\n",
    "* Now if the user tries to set a negative weight, they will receive an error."
   ]
  },
  {
   "cell_type": "code",
   "execution_count": 8,
   "metadata": {},
   "outputs": [],
   "source": [
    "class dog():\n",
    "    def __init__(self):\n",
    "        self._pets_name = \"(undefined)\"\n",
    "        self._owners_name = \"(undefined)\"\n",
    "        self._weight = 0.0\n",
    "        self._number_of_limbs = 0    \n",
    "\n",
    "    # Create a property using a decorator       \n",
    "    @property\n",
    "    def pets_name(self):\n",
    "        return self._pets_name\n",
    "    \n",
    "    @pets_name.setter\n",
    "    def pets_name(self, new_name):\n",
    "        self._pets_name = new_name\n",
    "        \n",
    "\n",
    "    '''Add the weight property'''        \n",
    "\n",
    "    @property\n",
    "    def weight(self):\n",
    "        return  self._weight\n",
    "    \n",
    "    @weight.setter\n",
    "    def weight(self, new_weight):\n",
    "        if new_weight < 0:\n",
    "            raise ValueError\n",
    "        self._weight = new_weight"
   ]
  },
  {
   "cell_type": "code",
   "execution_count": 9,
   "metadata": {},
   "outputs": [],
   "source": [
    "my_dog = dog()"
   ]
  },
  {
   "cell_type": "code",
   "execution_count": 10,
   "metadata": {},
   "outputs": [
    {
     "name": "stdout",
     "output_type": "stream",
     "text": [
      "Weight:  100\n"
     ]
    }
   ],
   "source": [
    "my_dog.weight = 100\n",
    "print ('Weight: ', my_dog.weight)"
   ]
  },
  {
   "cell_type": "code",
   "execution_count": 11,
   "metadata": {},
   "outputs": [
    {
     "ename": "ValueError",
     "evalue": "",
     "output_type": "error",
     "traceback": [
      "\u001b[1;31m---------------------------------------------------------------------------\u001b[0m",
      "\u001b[1;31mValueError\u001b[0m                                Traceback (most recent call last)",
      "\u001b[1;32m<ipython-input-11-11b5d5670d9a>\u001b[0m in \u001b[0;36m<module>\u001b[1;34m\u001b[0m\n\u001b[1;32m----> 1\u001b[1;33m \u001b[0mmy_dog\u001b[0m\u001b[1;33m.\u001b[0m\u001b[0mweight\u001b[0m \u001b[1;33m=\u001b[0m \u001b[1;33m-\u001b[0m\u001b[1;36m5\u001b[0m\u001b[1;33m\u001b[0m\u001b[1;33m\u001b[0m\u001b[0m\n\u001b[0m",
      "\u001b[1;32m<ipython-input-8-ac06396e7ef0>\u001b[0m in \u001b[0;36mweight\u001b[1;34m(self, new_weight)\u001b[0m\n\u001b[0;32m     25\u001b[0m     \u001b[1;32mdef\u001b[0m \u001b[0mweight\u001b[0m\u001b[1;33m(\u001b[0m\u001b[0mself\u001b[0m\u001b[1;33m,\u001b[0m \u001b[0mnew_weight\u001b[0m\u001b[1;33m)\u001b[0m\u001b[1;33m:\u001b[0m\u001b[1;33m\u001b[0m\u001b[1;33m\u001b[0m\u001b[0m\n\u001b[0;32m     26\u001b[0m         \u001b[1;32mif\u001b[0m \u001b[0mnew_weight\u001b[0m \u001b[1;33m<\u001b[0m \u001b[1;36m0\u001b[0m\u001b[1;33m:\u001b[0m\u001b[1;33m\u001b[0m\u001b[1;33m\u001b[0m\u001b[0m\n\u001b[1;32m---> 27\u001b[1;33m             \u001b[1;32mraise\u001b[0m \u001b[0mValueError\u001b[0m\u001b[1;33m\u001b[0m\u001b[1;33m\u001b[0m\u001b[0m\n\u001b[0m\u001b[0;32m     28\u001b[0m         \u001b[0mself\u001b[0m\u001b[1;33m.\u001b[0m\u001b[0m_weight\u001b[0m \u001b[1;33m=\u001b[0m \u001b[0mnew_weight\u001b[0m\u001b[1;33m\u001b[0m\u001b[1;33m\u001b[0m\u001b[0m\n",
      "\u001b[1;31mValueError\u001b[0m: "
     ]
    }
   ],
   "source": [
    "my_dog.weight = -5"
   ]
  },
  {
   "cell_type": "code",
   "execution_count": 12,
   "metadata": {},
   "outputs": [],
   "source": [
    "class dog():\n",
    "    def __init__(self):\n",
    "        self._pets_name = \"(undefined)\"\n",
    "        self._owners_name = \"(undefined)\"\n",
    "        self._weight = 0.0\n",
    "        self._number_of_limbs = 0    \n",
    "\n",
    "    # Create a property using a decorator       \n",
    "    @property\n",
    "    def pets_name(self):\n",
    "        return self._pets_name\n",
    "    \n",
    "    @pets_name.setter\n",
    "    def pets_name(self, new_name):\n",
    "        self._pets_name = new_name\n",
    "        \n",
    "    # Add the weight property       \n",
    "    @property\n",
    "    def weight(self):\n",
    "        return  self._weight\n",
    "    \n",
    "    @weight.setter\n",
    "    def weight(self, new_weight):\n",
    "        if new_weight < 0:\n",
    "            raise ValueError\n",
    "        self._weight = new_weight      \n",
    "        \n",
    "        \n",
    "    \n",
    "    # Add the two properties    \n",
    "    @property\n",
    "    def number_of_limbs(self):\n",
    "        return self._number_of_limbs\n",
    "\n",
    "    @number_of_limbs.setter\n",
    "    def number_of_limbs(self, new_limbs):\n",
    "        if new_limbs < 0:\n",
    "            raise ValueError\n",
    "        self._number_of_limbs = new_limbs\n",
    "\n",
    "    @property\n",
    "    def owners_name(self):\n",
    "        return self._owners_name\n",
    "\n",
    "    @owners_name.setter\n",
    "    def owners_name(self, new_owners_name):\n",
    "        self._owners_name = new_owners_name    "
   ]
  },
  {
   "cell_type": "code",
   "execution_count": 13,
   "metadata": {},
   "outputs": [],
   "source": [
    "my_dog = dog()"
   ]
  },
  {
   "cell_type": "code",
   "execution_count": 14,
   "metadata": {},
   "outputs": [
    {
     "data": {
      "text/plain": [
       "{'_pets_name': '(undefined)',\n",
       " '_owners_name': '(undefined)',\n",
       " '_weight': 0.0,\n",
       " '_number_of_limbs': 0}"
      ]
     },
     "execution_count": 14,
     "metadata": {},
     "output_type": "execute_result"
    }
   ],
   "source": [
    "my_dog.__dict__"
   ]
  },
  {
   "cell_type": "markdown",
   "metadata": {},
   "source": [
    "Notice that `_number_of_limbs and _owners_name` have been defined"
   ]
  },
  {
   "cell_type": "markdown",
   "metadata": {},
   "source": [
    "Don't forget, the property includes both the getter and setter method."
   ]
  },
  {
   "cell_type": "code",
   "execution_count": 15,
   "metadata": {},
   "outputs": [],
   "source": [
    "my_dog.pets_name = 'Fido'\n",
    "my_dog.number_of_limbs = 4"
   ]
  },
  {
   "cell_type": "code",
   "execution_count": 16,
   "metadata": {},
   "outputs": [
    {
     "name": "stdout",
     "output_type": "stream",
     "text": [
      "Fido\n",
      "4\n"
     ]
    }
   ],
   "source": [
    "print(my_dog.pets_name)\n",
    "print(my_dog.number_of_limbs)"
   ]
  },
  {
   "cell_type": "code",
   "execution_count": null,
   "metadata": {},
   "outputs": [],
   "source": []
  }
 ],
 "metadata": {
  "kernelspec": {
   "display_name": "Python 3",
   "language": "python",
   "name": "python3"
  },
  "language_info": {
   "codemirror_mode": {
    "name": "ipython",
    "version": 3
   },
   "file_extension": ".py",
   "mimetype": "text/x-python",
   "name": "python",
   "nbconvert_exporter": "python",
   "pygments_lexer": "ipython3",
   "version": "3.8.8"
  }
 },
 "nbformat": 4,
 "nbformat_minor": 4
}
