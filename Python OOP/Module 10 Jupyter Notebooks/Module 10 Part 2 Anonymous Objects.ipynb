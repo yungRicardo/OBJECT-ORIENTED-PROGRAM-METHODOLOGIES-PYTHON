{
 "cells": [
  {
   "cell_type": "markdown",
   "metadata": {},
   "source": [
    "## Anonymous Objects   \n",
    "Objects without names"
   ]
  },
  {
   "cell_type": "code",
   "execution_count": null,
   "metadata": {},
   "outputs": [],
   "source": [
    "my_array = [0.2, 56.9, -33., 12, 0., 2., 4.8, \n",
    "      199.9, 73, -91.2, 35, 91, 0.002]\n",
    "\n",
    "student = [\"martin\", \"claudia\", \"sandra\", \"samuels\",\n",
    "      \"terry\", \"jack\", \"clark\", \"palmer\", \"abraham\", \"Mike\"]"
   ]
  },
  {
   "cell_type": "markdown",
   "metadata": {},
   "source": [
    "Incidentally, we can also create anonymous objects if we want to make one just to    \n",
    "send off to a method or function in an argument list, but don't need the object after the call.     \n",
    "For example:\n",
    "\n",
    "raw_dot(100, 40, Color(255, 255, 128)) \n",
    "\n",
    "\n",
    "This fictitious function call invokes a hypothetical anonymous Color object which we create just to send to draw_dot().  Perhaps we are drawing a tan-colored dot at location 100, 40 on the screen."
   ]
  },
  {
   "cell_type": "code",
   "execution_count": 12,
   "metadata": {},
   "outputs": [
    {
     "data": {
      "text/plain": [
       "' ---------- \\n    name: Guest, Student\\n    total points: 0.'"
      ]
     },
     "execution_count": 12,
     "metadata": {},
     "output_type": "execute_result"
    }
   ],
   "source": [
    "# We can also use anonymous objects to create an object that is returned by a function:\n",
    "\n",
    "def make_a_guest_student():\n",
    "    return Student(\"Guest\", \"Student\", 0) \n",
    "\n",
    "guest_student = make_a_guest_student()\n",
    "\n",
    "#print(guest_student)\n",
    "str(guest_student)\n"
   ]
  },
  {
   "cell_type": "code",
   "execution_count": 13,
   "metadata": {},
   "outputs": [
    {
     "name": "stdout",
     "output_type": "stream",
     "text": [
      " ---------- \n",
      "    name: Guest, Student\n",
      "    total points: 0.\n"
     ]
    }
   ],
   "source": [
    "print(str(guest_student))"
   ]
  },
  {
   "cell_type": "code",
   "execution_count": 10,
   "metadata": {},
   "outputs": [],
   "source": [
    "class Student:\n",
    "    # class (\"static\") attributes and intended constants\n",
    "    DEFAULT_NAME = \"zz-error\"\n",
    "    DEFAULT_POINTS = 0\n",
    "    MAX_POINTS = 30\n",
    "\n",
    "    # initializer method -------------------\n",
    "    def __init__(self,\n",
    "                 last=DEFAULT_NAME,\n",
    "                 first=DEFAULT_NAME,\n",
    "                 points=DEFAULT_POINTS):\n",
    "        # instance attributes\n",
    "\n",
    "        try:\n",
    "            self.last_name = last\n",
    "        except ValueError:\n",
    "            self._last_name = Student.DEFAULT_NAME\n",
    "\n",
    "        try:\n",
    "            self.first_name = first\n",
    "        except ValueError:\n",
    "            self._first_name = Student.DEFAULT_NAME\n",
    "\n",
    "        try:\n",
    "            self.total_points = points\n",
    "        except ValueError:\n",
    "            self._total_points = Student.DEFAULT_POINTS\n",
    "\n",
    "    # getter methods -------------------------------\n",
    "\n",
    "    @property\n",
    "    def last_name(self):\n",
    "        return self._last_name\n",
    "\n",
    "    @property\n",
    "    def first_name(self):\n",
    "        return self._first_name\n",
    "\n",
    "    @property\n",
    "    def total_points(self):\n",
    "        return self._total_points\n",
    "\n",
    "    # setter methods -------------------------------\n",
    "\n",
    "    @last_name.setter\n",
    "    def last_name(self, last):\n",
    "        if not self.valid_string(last):\n",
    "            raise ValueError\n",
    "        self._last_name = last\n",
    "\n",
    "    @first_name.setter\n",
    "    def first_name(self, first):\n",
    "        if not self.valid_string(first):\n",
    "            raise ValueError\n",
    "        self._first_name = first\n",
    "\n",
    "    @total_points.setter\n",
    "    def total_points(self, points):\n",
    "        if not self.valid_points(points):\n",
    "            raise ValueError\n",
    "        self._total_points = points\n",
    "\n",
    "    # output method  ----------------------------------------\n",
    "    def display(self, client_intro_str=\"--- STUDENT DATA ---\"):\n",
    "        print(client_intro_str + str(self))\n",
    "\n",
    "    # standard python stringizer ------------------------\n",
    "    def __str__(self):\n",
    "        return self.to_string()\n",
    "\n",
    "    # instance helpers -------------------------------\n",
    "    def to_string(self, optional_title=\" ---------- \"):\n",
    "        ret_str = (f\"{optional_title}\"\n",
    "                   f\"\\n    name: {self.last_name}, {self.first_name}\"\n",
    "                   f\"\\n    total points: {self.total_points}.\")\n",
    "        return ret_str\n",
    "\n",
    "    # static/class methods\n",
    "    @staticmethod\n",
    "    def valid_string(test_str):\n",
    "        if (len(test_str) > 0) and test_str[0].isalpha():\n",
    "            return True\n",
    "        return False\n",
    "\n",
    "    @classmethod\n",
    "    def valid_points(cls, test_points):\n",
    "        if 0 <= test_points <= cls.MAX_POINTS:\n",
    "            return False\n",
    "        return True\n",
    "\n",
    "    @staticmethod\n",
    "    def compare_strings_ignore_case(first_string, second_string):\n",
    "        \"\"\" returns -1 if first < second, lexicographically,\n",
    "            +1 if first > second, and 0 if same\n",
    "            this particular version based on last name only\n",
    "            (case insensitive) \"\"\"\n",
    "\n",
    "        fst_upper = first_string.upper()\n",
    "        scnd_upper = second_string.upper()\n",
    "        if fst_upper < scnd_upper:\n",
    "            return -1\n",
    "        if fst_upper > scnd_upper:\n",
    "            return 1\n",
    "        return 0\n",
    "\n",
    "\n",
    "# beginning of class StudentArrayUtilities definition ---------------\n",
    "class StudentArrayUtilities:\n",
    "    @classmethod\n",
    "    def print_array(cls, stud_array,\n",
    "                    optional_title=\"--- The Students -----------:\\n\"):\n",
    "        print(cls.to_string(stud_array, optional_title))\n",
    "\n",
    "    @classmethod\n",
    "    def array_sort(cls, data, array_size):\n",
    "        for k in range(array_size):\n",
    "            if not cls.float_largest_to_top(data, array_size - k):\n",
    "                return\n",
    "\n",
    "    # class stringizers ----------------------------------\n",
    "\n",
    "    @staticmethod\n",
    "    def to_string(stud_array,\n",
    "                  optional_title=\"--- The Students -----------:\\n\"):\n",
    "        ret_val = optional_title + \"\\n\"\n",
    "        for student in stud_array:\n",
    "            ret_val = ret_val + str(student) + \"\\n\"\n",
    "        return ret_val\n",
    "\n",
    "    @staticmethod\n",
    "    def float_largest_to_top(data, array_size):\n",
    "        changed = False\n",
    "\n",
    "        # notice we stop at array_size - 2 because of expr. k + 1 in loop\n",
    "        for k in range(array_size - 1):\n",
    "            if Student.compare_strings_ignore_case(\n",
    "                    data[k].last_name, data[k + 1].last_name) > 0:\n",
    "                data[k], data[k + 1] = data[k + 1], data[k]\n",
    "                changed = True\n",
    "\n",
    "        return changed"
   ]
  },
  {
   "cell_type": "code",
   "execution_count": 22,
   "metadata": {},
   "outputs": [],
   "source": [
    "my_students = \\\n",
    "         [\n",
    "            Student(\"smith\",\"fred\", 95),\n",
    "            Student(\"bauer\",\"jack\",123),\n",
    "            Student(\"jacobs\",\"carrie\", 195),\n",
    "            Student(\"renquist\",\"abe\",148),\n",
    "            Student(\"3ackson\",\"trevor\", 108),\n",
    "            Student(\"perry\",\"fred\",225),\n",
    "            Student(\"lewis\",\"frank\", 44),\n",
    "            Student(\"stollings\",\"pamela\",452)\n",
    "         ]"
   ]
  },
  {
   "cell_type": "code",
   "execution_count": 23,
   "metadata": {},
   "outputs": [
    {
     "name": "stdout",
     "output_type": "stream",
     "text": [
      " ---------- \n",
      "    name: smith, fred\n",
      "    total points: 95.\n",
      " ---------- \n",
      "    name: bauer, jack\n",
      "    total points: 123.\n",
      " ---------- \n",
      "    name: jacobs, carrie\n",
      "    total points: 195.\n",
      " ---------- \n",
      "    name: renquist, abe\n",
      "    total points: 148.\n",
      " ---------- \n",
      "    name: zz-error, trevor\n",
      "    total points: 108.\n",
      " ---------- \n",
      "    name: perry, fred\n",
      "    total points: 225.\n",
      " ---------- \n",
      "    name: lewis, frank\n",
      "    total points: 44.\n",
      " ---------- \n",
      "    name: stollings, pamela\n",
      "    total points: 452.\n"
     ]
    }
   ],
   "source": [
    "for stu in my_students:\n",
    "    print(stu)"
   ]
  },
  {
   "cell_type": "code",
   "execution_count": null,
   "metadata": {},
   "outputs": [],
   "source": []
  }
 ],
 "metadata": {
  "kernelspec": {
   "display_name": "Python 3",
   "language": "python",
   "name": "python3"
  },
  "language_info": {
   "codemirror_mode": {
    "name": "ipython",
    "version": 3
   },
   "file_extension": ".py",
   "mimetype": "text/x-python",
   "name": "python",
   "nbconvert_exporter": "python",
   "pygments_lexer": "ipython3",
   "version": "3.8.8"
  }
 },
 "nbformat": 4,
 "nbformat_minor": 4
}
