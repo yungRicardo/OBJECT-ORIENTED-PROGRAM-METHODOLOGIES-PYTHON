{
 "cells": [
  {
   "cell_type": "markdown",
   "id": "3ce87bda",
   "metadata": {},
   "source": [
    "See PEP 498 for an in depth discussion of f-strings https://www.python.org/dev/peps/pep-0498/"
   ]
  },
  {
   "cell_type": "markdown",
   "id": "d3deae98",
   "metadata": {},
   "source": [
    "## f-strings are a special type of string literial that allow you to format string in a variety of ways."
   ]
  },
  {
   "cell_type": "code",
   "execution_count": 3,
   "id": "2d08bbdd",
   "metadata": {},
   "outputs": [
    {
     "data": {
      "text/plain": [
       "'Hello World'"
      ]
     },
     "execution_count": 3,
     "metadata": {},
     "output_type": "execute_result"
    }
   ],
   "source": [
    "f'Hello World'"
   ]
  },
  {
   "cell_type": "markdown",
   "id": "8b90a1fa",
   "metadata": {},
   "source": [
    "or"
   ]
  },
  {
   "cell_type": "code",
   "execution_count": 4,
   "id": "ef54cd7b",
   "metadata": {},
   "outputs": [],
   "source": [
    "message = f'Hello World'"
   ]
  },
  {
   "cell_type": "code",
   "execution_count": 5,
   "id": "8d2448aa",
   "metadata": {},
   "outputs": [
    {
     "name": "stdout",
     "output_type": "stream",
     "text": [
      "Hello World\n"
     ]
    }
   ],
   "source": [
    "print(message)"
   ]
  },
  {
   "cell_type": "code",
   "execution_count": 6,
   "id": "8daef897",
   "metadata": {},
   "outputs": [
    {
     "name": "stdout",
     "output_type": "stream",
     "text": [
      "Hello Alice.\n"
     ]
    }
   ],
   "source": [
    "name = 'Alice'\n",
    "print(f'Hello {name}.')"
   ]
  },
  {
   "cell_type": "markdown",
   "id": "9e95a53a",
   "metadata": {},
   "source": [
    "or"
   ]
  },
  {
   "cell_type": "code",
   "execution_count": 7,
   "id": "a4a5ffe1",
   "metadata": {},
   "outputs": [
    {
     "name": "stdout",
     "output_type": "stream",
     "text": [
      "Hello Alice.\n"
     ]
    }
   ],
   "source": [
    "name = 'Alice'\n",
    "message = f'Hello {name}.'\n",
    "print(message)"
   ]
  },
  {
   "cell_type": "code",
   "execution_count": 9,
   "id": "9b8b0a91",
   "metadata": {},
   "outputs": [
    {
     "name": "stdout",
     "output_type": "stream",
     "text": [
      "It is currently 45 degrees\n"
     ]
    }
   ],
   "source": [
    "temperature = str(45)\n",
    "print(f'It is currently {temperature} degrees')"
   ]
  },
  {
   "cell_type": "markdown",
   "id": "fdbb1170",
   "metadata": {},
   "source": [
    "A placeholder is an expression"
   ]
  },
  {
   "cell_type": "code",
   "execution_count": 10,
   "id": "90bc8c27",
   "metadata": {},
   "outputs": [
    {
     "name": "stdout",
     "output_type": "stream",
     "text": [
      "the value is 12.\n"
     ]
    }
   ],
   "source": [
    "val = 10\n",
    "print(f'the value is {val + 2}.')"
   ]
  },
  {
   "cell_type": "markdown",
   "id": "2879eba8",
   "metadata": {},
   "source": [
    "Formatting Values    \n",
    "{placeholder:format-specifier}"
   ]
  },
  {
   "cell_type": "markdown",
   "id": "984532d2",
   "metadata": {},
   "source": [
    "### Rounding floating point numbers"
   ]
  },
  {
   "cell_type": "code",
   "execution_count": 11,
   "id": "106049ea",
   "metadata": {},
   "outputs": [
    {
     "name": "stdout",
     "output_type": "stream",
     "text": [
      "The monthly payment is 416.6666666666667\n"
     ]
    }
   ],
   "source": [
    "# This program prints a floating-point\n",
    "# number.\n",
    "amount_due = 5000.0\n",
    "monthly_payment = amount_due / 12\n",
    "print(f'The monthly payment is {monthly_payment}')"
   ]
  },
  {
   "cell_type": "markdown",
   "id": "d149d939",
   "metadata": {},
   "source": [
    "#### To format the float monthly_payment\n",
    "- .2f\n",
    " - .2 is a precsion designatior\n",
    " - The letter f is the float type designator\n",
    "- {monthly_payment:.2f}"
   ]
  },
  {
   "cell_type": "code",
   "execution_count": 12,
   "id": "33a0538f",
   "metadata": {},
   "outputs": [
    {
     "name": "stdout",
     "output_type": "stream",
     "text": [
      "The monthly payment is 416.67\n"
     ]
    }
   ],
   "source": [
    "# This program demonstrates how a floating-point\n",
    "# number can be formatted.\n",
    "amount_due = 5000.0\n",
    "monthly_payment = amount_due / 12\n",
    "print(f'The monthly payment is {monthly_payment:.2f}')"
   ]
  },
  {
   "cell_type": "code",
   "execution_count": 13,
   "id": "4fffc49e",
   "metadata": {},
   "outputs": [
    {
     "name": "stdout",
     "output_type": "stream",
     "text": [
      "The monthly payment is 416.67\n"
     ]
    }
   ],
   "source": [
    "val = f'The monthly payment is {monthly_payment:.2f}'\n",
    "print(val)"
   ]
  },
  {
   "cell_type": "code",
   "execution_count": 14,
   "id": "cd2c7142",
   "metadata": {},
   "outputs": [
    {
     "name": "stdout",
     "output_type": "stream",
     "text": [
      "3.141592653589793\n"
     ]
    }
   ],
   "source": [
    "from math import pi\n",
    "print(pi)"
   ]
  },
  {
   "cell_type": "markdown",
   "id": "52452bfe",
   "metadata": {},
   "source": [
    "#### Print pi to 3 decimal places\n",
    "- identifier:.3f\n",
    " - identifier is the name of the variable\n",
    " - . tells Python that we are formating after the . (Decimal Point)\n",
    " - 3 specifices printing 3 decimals places\n",
    " - f specifies that we are formatting a float"
   ]
  },
  {
   "cell_type": "code",
   "execution_count": 15,
   "id": "9cff0094",
   "metadata": {},
   "outputs": [
    {
     "name": "stdout",
     "output_type": "stream",
     "text": [
      "pi with full precision: 3.141592653589793\n",
      "pi rounded to 3 decimal places: 3.142\n"
     ]
    }
   ],
   "source": [
    "from math import pi\n",
    "print(f'pi with full precision: {pi}')\n",
    "print(f'pi rounded to 3 decimal places: {pi:.3f}')"
   ]
  },
  {
   "cell_type": "code",
   "execution_count": 16,
   "id": "7446af3e",
   "metadata": {},
   "outputs": [
    {
     "name": "stdout",
     "output_type": "stream",
     "text": [
      "1,234,567,890.12\n"
     ]
    }
   ],
   "source": [
    "number = 1234567890.12345\n",
    "print(f'{number:,.2f}')"
   ]
  },
  {
   "cell_type": "markdown",
   "id": "12e3fbe8",
   "metadata": {},
   "source": [
    "### How a floating-point number can be displayed as currency."
   ]
  },
  {
   "cell_type": "code",
   "execution_count": 17,
   "id": "6295f2c2",
   "metadata": {},
   "outputs": [
    {
     "name": "stdout",
     "output_type": "stream",
     "text": [
      "Your annual pay is $ 60,000.00\n"
     ]
    }
   ],
   "source": [
    "monthly_pay = 5000.0\n",
    "annual_pay = monthly_pay * 12\n",
    "print(f'Your annual pay is $ {annual_pay:,.2f}')"
   ]
  },
  {
   "cell_type": "markdown",
   "id": "01abc800",
   "metadata": {},
   "source": [
    "### Formatting a floating Point Number as a Percentage\n",
    "- The % symbol causes the number to be multiplied by 100 and displayed with a % sign following it.\n",
    "- If the number is an integer, it is coverted to a float"
   ]
  },
  {
   "cell_type": "markdown",
   "id": "29c70ca1",
   "metadata": {},
   "source": [
    "Default formatting"
   ]
  },
  {
   "cell_type": "code",
   "execution_count": 18,
   "id": "fbf9fed7",
   "metadata": {},
   "outputs": [
    {
     "name": "stdout",
     "output_type": "stream",
     "text": [
      "50.000000%\n"
     ]
    }
   ],
   "source": [
    "discount = .5\n",
    "print(f'{discount:%}')"
   ]
  },
  {
   "cell_type": "markdown",
   "id": "ae124881",
   "metadata": {},
   "source": [
    "Round to 2 decimal places"
   ]
  },
  {
   "cell_type": "code",
   "execution_count": 19,
   "id": "750ec231",
   "metadata": {},
   "outputs": [
    {
     "name": "stdout",
     "output_type": "stream",
     "text": [
      "50.00%\n"
     ]
    }
   ],
   "source": [
    "discount = .5\n",
    "print(f'{discount:.2%}')"
   ]
  },
  {
   "cell_type": "code",
   "execution_count": 20,
   "id": "53027f56",
   "metadata": {},
   "outputs": [
    {
     "name": "stdout",
     "output_type": "stream",
     "text": [
      "50%\n"
     ]
    }
   ],
   "source": [
    "discount = .50\n",
    "print(f'{discount:.0%}')"
   ]
  },
  {
   "cell_type": "markdown",
   "id": "9d589353",
   "metadata": {},
   "source": [
    "### Formatting using Scientific Notation\n",
    "- if you prefer to display floating-point number in scientific notation you can use the letter e or E instead of f"
   ]
  },
  {
   "cell_type": "code",
   "execution_count": null,
   "id": "71907764",
   "metadata": {},
   "outputs": [],
   "source": [
    "number = 12345.6789\n",
    "print(f'{number:e}')"
   ]
  },
  {
   "cell_type": "code",
   "execution_count": 21,
   "id": "18c7b093",
   "metadata": {},
   "outputs": [
    {
     "name": "stdout",
     "output_type": "stream",
     "text": [
      "1.23e+04\n"
     ]
    }
   ],
   "source": [
    "number = 12345.6789\n",
    "print(f'{number:.2e}')"
   ]
  },
  {
   "cell_type": "markdown",
   "id": "cab70ea9",
   "metadata": {},
   "source": [
    "### The format specifier  Formatting Integers\n",
    "- To format integers use the letter e or E instead of f\n",
    " - if you use E, the exponent will be signified with an E instead of e."
   ]
  },
  {
   "cell_type": "code",
   "execution_count": 22,
   "id": "ad848d05",
   "metadata": {},
   "outputs": [
    {
     "name": "stdout",
     "output_type": "stream",
     "text": [
      "1.234560E+05\n"
     ]
    }
   ],
   "source": [
    "number = 123456\n",
    "print(f'{number:E}')"
   ]
  },
  {
   "cell_type": "code",
   "execution_count": 25,
   "id": "1f115204",
   "metadata": {},
   "outputs": [
    {
     "name": "stdout",
     "output_type": "stream",
     "text": [
      "123457\n"
     ]
    }
   ],
   "source": [
    "number = 123456.5000001\n",
    "print(f'{number:.0f}')"
   ]
  },
  {
   "cell_type": "markdown",
   "id": "78c82018",
   "metadata": {},
   "source": [
    "#### Even though the number is an int, if you use f, it will be formatted as a float"
   ]
  },
  {
   "cell_type": "code",
   "execution_count": 29,
   "id": "b01dc6e6",
   "metadata": {},
   "outputs": [
    {
     "name": "stdout",
     "output_type": "stream",
     "text": [
      "123456.0000000000\n"
     ]
    }
   ],
   "source": [
    "number = 123456\n",
    "print(f'{number:.10f}')"
   ]
  },
  {
   "cell_type": "markdown",
   "id": "b500fde7",
   "metadata": {},
   "source": [
    "### Specifying a minimum field width"
   ]
  },
  {
   "cell_type": "markdown",
   "id": "feba31c4",
   "metadata": {},
   "source": [
    "The format specifier can also inlude a minimum fields width, which is the minimum number of spaces that should be used to display the value\n",
    "- The 10 is the format specifier"
   ]
  },
  {
   "cell_type": "code",
   "execution_count": 32,
   "id": "f32e8814",
   "metadata": {},
   "outputs": [
    {
     "name": "stdout",
     "output_type": "stream",
     "text": [
      "The number is    99\n"
     ]
    }
   ],
   "source": [
    "number = 99\n",
    "print(f'The number is {number:5}')"
   ]
  },
  {
   "cell_type": "markdown",
   "id": "b98802d2",
   "metadata": {},
   "source": [
    "- If the value is too large to fit in the specified width, the field width ia automatically extended"
   ]
  },
  {
   "cell_type": "markdown",
   "id": "09b1f338",
   "metadata": {},
   "source": [
    "The following displays a float with 2 decimal places, in a field 12 spaces wide\n",
    "- Note that the field width designator is written before the comma seperator"
   ]
  },
  {
   "cell_type": "code",
   "execution_count": 33,
   "id": "9cc59afa",
   "metadata": {},
   "outputs": [
    {
     "name": "stdout",
     "output_type": "stream",
     "text": [
      "The number is  12,345.68\n"
     ]
    }
   ],
   "source": [
    "number = 12345.6789\n",
    "print(f'The number is {number:10,.2f}')"
   ]
  },
  {
   "cell_type": "markdown",
   "id": "b43f793b",
   "metadata": {},
   "source": [
    "If we omit the , specifier"
   ]
  },
  {
   "cell_type": "code",
   "execution_count": 34,
   "id": "0c72fc9e",
   "metadata": {},
   "outputs": [
    {
     "name": "stdout",
     "output_type": "stream",
     "text": [
      "The number is   12345.68\n"
     ]
    }
   ],
   "source": [
    "number = 12345.6789\n",
    "print(f'The number is {number:10.2f}')"
   ]
  },
  {
   "cell_type": "markdown",
   "id": "4f1d94ac",
   "metadata": {},
   "source": [
    "### This program displays the following    \n",
    " - floating-point numbers in a column    \n",
    " - with their decimal points aligned.    "
   ]
  },
  {
   "cell_type": "code",
   "execution_count": 35,
   "id": "24ed4e02",
   "metadata": {},
   "outputs": [
    {
     "name": "stdout",
     "output_type": "stream",
     "text": [
      " 127.90\n",
      "3465.15\n",
      "   3.78\n",
      " 264.82\n",
      "  88.08\n",
      " 800.00\n",
      "Notice that all of the numbers are right adjusted within the space specified\n"
     ]
    }
   ],
   "source": [
    "num1 = 127.899\n",
    "num2 = 3465.148\n",
    "num3 = 3.776\n",
    "num4 = 264.821\n",
    "num5 = 88.081\n",
    "num6 = 799.999\n",
    "\n",
    "# Display each number in a field of 7 spaces\n",
    "# with 2 decimal places.\n",
    "print(f'{num1:7.2f}')\n",
    "print(f'{num2:7.2f}')\n",
    "print(f'{num3:7.2f}')\n",
    "print(f'{num4:7.2f}')\n",
    "print(f'{num5:7.2f}')\n",
    "print(f'{num6:7.2f}')\n",
    "print('Notice that all of the numbers are right adjusted within the space specified')"
   ]
  },
  {
   "cell_type": "markdown",
   "id": "796ada68",
   "metadata": {},
   "source": [
    "### This program displays the following    \n",
    " - floating-point numbers in **two columns**    \n",
    " - with their decimal points aligned. "
   ]
  },
  {
   "cell_type": "code",
   "execution_count": 36,
   "id": "8a2c5079",
   "metadata": {},
   "outputs": [
    {
     "name": "stdout",
     "output_type": "stream",
     "text": [
      " 127.90  3465.15\n",
      "   3.78   264.82\n",
      "  88.08   800.00\n"
     ]
    }
   ],
   "source": [
    "num1 = 127.899\n",
    "num2 = 3465.148\n",
    "num3 = 3.776\n",
    "num4 = 264.821\n",
    "num5 = 88.081\n",
    "num6 = 799.999\n",
    "\n",
    "# Display each number in a field of 7 spaces\n",
    "# with 2 decimal places.\n",
    "print(f'{num1:7.2f}  {num2:7.2f}')\n",
    "print(f'{num3:7.2f}  {num4:7.2f}')\n",
    "print(f'{num5:7.2f}  {num6:7.2f}')"
   ]
  },
  {
   "cell_type": "markdown",
   "id": "d39856c2",
   "metadata": {},
   "source": [
    "### Aligning Values\n",
    "- When a value is displayed in a field wider that the value, the value must be aligned to right, left, or center.\n",
    " - by default numbers are aligned to the right, characters to the left."
   ]
  },
  {
   "cell_type": "code",
   "execution_count": 37,
   "id": "4dc5991a",
   "metadata": {},
   "outputs": [
    {
     "name": "stdout",
     "output_type": "stream",
     "text": [
      "The number is         22\n",
      "The number is    1234567\n"
     ]
    }
   ],
   "source": [
    "num1 = 22\n",
    "num2 = 1234567\n",
    "print(f'The number is {num1:10}')\n",
    "print(f'The number is {num2:10}')"
   ]
  },
  {
   "cell_type": "code",
   "execution_count": null,
   "id": "fc52d7cf",
   "metadata": {},
   "outputs": [],
   "source": [
    "name1 = 'Jay'\n",
    "name2 = 'Alexandra'\n",
    "name3 = 1234\n",
    "print(f'Hello {name1:10}')\n",
    "print(f'Hello {name2:10}')\n",
    "print(f'{name3}')"
   ]
  },
  {
   "cell_type": "markdown",
   "id": "cac53646",
   "metadata": {},
   "source": [
    "#### There are three Alignment Designators    \n",
    "\\<  Left align the value    \n",
    "\\>  Right align the value    \n",
    "\\^  Center the value    "
   ]
  },
  {
   "cell_type": "markdown",
   "id": "6a7b4369",
   "metadata": {},
   "source": [
    "Here the number references an int    "
   ]
  },
  {
   "cell_type": "code",
   "execution_count": 50,
   "id": "8e16550b",
   "metadata": {},
   "outputs": [
    {
     "name": "stdout",
     "output_type": "stream",
     "text": [
      "12345     \n",
      "  12345   \n",
      "     12345\n"
     ]
    }
   ],
   "source": [
    "number = 12345\n",
    "print(f'{number:<10d}')\n",
    "print(f'{number:^10d}')\n",
    "print(f'{number:>10d}')"
   ]
  },
  {
   "cell_type": "markdown",
   "id": "b071b53b",
   "metadata": {},
   "source": [
    "Here the number references an float"
   ]
  },
  {
   "cell_type": "code",
   "execution_count": 51,
   "id": "0ed7fd8a",
   "metadata": {},
   "outputs": [
    {
     "name": "stdout",
     "output_type": "stream",
     "text": [
      "3.142               \n",
      "      3.141593      \n",
      "              3.1416\n"
     ]
    }
   ],
   "source": [
    "from math import pi\n",
    "number = pi\n",
    "print(f'{number:<20.3f}')\n",
    "print(f'{number:^20f}')\n",
    "print(f'{number:>20.4f}')"
   ]
  },
  {
   "cell_type": "markdown",
   "id": "3fa35c22",
   "metadata": {},
   "source": [
    "- Same as above but with no rounding"
   ]
  },
  {
   "cell_type": "code",
   "execution_count": 52,
   "id": "0977928b",
   "metadata": {},
   "outputs": [
    {
     "name": "stdout",
     "output_type": "stream",
     "text": [
      "3.141593            \n",
      "      3.141593      \n",
      "            3.141593\n"
     ]
    }
   ],
   "source": [
    "from math import pi\n",
    "number = pi\n",
    "print(f'{number:<20f}')\n",
    "print(f'{number:^20f}')\n",
    "print(f'{number:>20f}')"
   ]
  },
  {
   "cell_type": "markdown",
   "id": "dddc5441",
   "metadata": {},
   "source": [
    "#### Center Aligning Stings"
   ]
  },
  {
   "cell_type": "code",
   "execution_count": 53,
   "id": "49b5d1fe",
   "metadata": {},
   "outputs": [
    {
     "name": "stdout",
     "output_type": "stream",
     "text": [
      "***       Gordon       ***\n",
      "***     Washinton      ***\n",
      "***        Yang        ***\n",
      "***       Patel        ***\n",
      "***       Murphy       ***\n",
      "***    Subramanium     ***\n",
      "***       Hidaka       ***\n",
      "***This is a very long name used go demonstrate what happens when the string is longer than the specification***\n",
      "\n",
      "The field expands to accomodate the length of the string\n"
     ]
    }
   ],
   "source": [
    "name1 = 'Gordon'\n",
    "name2 = 'Washinton'\n",
    "name3 = 'Yang'\n",
    "name4 = 'Patel'\n",
    "name5 = 'Murphy'\n",
    "name6 = 'Subramanium'\n",
    "name7 = 'Hidaka'\n",
    "name8 = 'This is a very long name used go demonstrate what happens when the string is longer than the specification'\n",
    "print(f'***{name1:^20}***')\n",
    "print(f'***{name2:^20}***')\n",
    "print(f'***{name3:^20}***')\n",
    "print(f'***{name4:^20}***')\n",
    "print(f'***{name5:^20}***')\n",
    "print(f'***{name6:^20}***')\n",
    "print(f'***{name7:^20}***')\n",
    "print(f'***{name8:^20}***')\n",
    "print(f'\\nThe field expands to accomodate the length of the string')"
   ]
  },
  {
   "cell_type": "markdown",
   "id": "0452fd8b",
   "metadata": {},
   "source": [
    "### The order of the designators"
   ]
  },
  {
   "cell_type": "markdown",
   "id": "f76a6a7e",
   "metadata": {},
   "source": [
    "[alignment] [width] [,] [precision] [type]"
   ]
  },
  {
   "cell_type": "code",
   "execution_count": 54,
   "id": "8fd39e86",
   "metadata": {},
   "outputs": [
    {
     "name": "stdout",
     "output_type": "stream",
     "text": [
      " 1,125.73 \n"
     ]
    }
   ],
   "source": [
    "number = 1125.7349\n",
    "print(f'{number:^10,.2f}')"
   ]
  },
  {
   "cell_type": "markdown",
   "id": "3dee9d2a",
   "metadata": {},
   "source": [
    "### Concatination with f-strings"
   ]
  },
  {
   "cell_type": "code",
   "execution_count": 55,
   "id": "ddabd264",
   "metadata": {},
   "outputs": [
    {
     "name": "stdout",
     "output_type": "stream",
     "text": [
      "Employee Name: Abbie Lloyd,  Department: Sales,  Position: Manager\n"
     ]
    }
   ],
   "source": [
    "name = 'Abbie Lloyd'\n",
    "department = 'Sales'\n",
    "position = 'Manager'\n",
    "print(f'Employee Name: {name},  ' +\n",
    "      f'Department: {department},  ' +\n",
    "      f'Position: {position}')"
   ]
  },
  {
   "cell_type": "code",
   "execution_count": 56,
   "id": "75e0912c",
   "metadata": {},
   "outputs": [
    {
     "name": "stdout",
     "output_type": "stream",
     "text": [
      "Employee Name: Abbie Lloyd,  Department: Sales,  Position: Manager\n"
     ]
    }
   ],
   "source": [
    "name = 'Abbie Lloyd'\n",
    "department = 'Sales'\n",
    "position = 'Manager'\n",
    "print(f'Employee Name: {name},  '\n",
    "      f'Department: {department},  ' \n",
    "      f'Position: {position}')"
   ]
  },
  {
   "cell_type": "markdown",
   "id": "5ad278bd",
   "metadata": {},
   "source": [
    "What if we mix f-strings and strings?\n",
    "- The strings will be treated appropriately as ordinary strings"
   ]
  },
  {
   "cell_type": "code",
   "execution_count": 59,
   "id": "6e02141f",
   "metadata": {},
   "outputs": [
    {
     "name": "stdout",
     "output_type": "stream",
     "text": [
      "Employee Name: Abbie Lloyd,  Department: {department},  Position: Manager\n"
     ]
    }
   ],
   "source": [
    "print(f'Employee Name: {name},  '   +\n",
    "      'Department: {department},  ' +\n",
    "      f'Position: {position}')"
   ]
  },
  {
   "cell_type": "markdown",
   "id": "d8005d98",
   "metadata": {},
   "source": [
    "You can also use implicit concatination"
   ]
  },
  {
   "cell_type": "code",
   "execution_count": 58,
   "id": "ec7e1084",
   "metadata": {},
   "outputs": [
    {
     "name": "stdout",
     "output_type": "stream",
     "text": [
      "Employee Name: Abbie Lloyd,  Department: Sales,  Position: Manager\n"
     ]
    }
   ],
   "source": [
    "print(f'Employee Name: {name},  '\n",
    "      f'Department: {department},  '\n",
    "      f'Position: {position}')"
   ]
  },
  {
   "cell_type": "code",
   "execution_count": null,
   "id": "bf965126",
   "metadata": {},
   "outputs": [],
   "source": []
  }
 ],
 "metadata": {
  "kernelspec": {
   "display_name": "Python 3",
   "language": "python",
   "name": "python3"
  },
  "language_info": {
   "codemirror_mode": {
    "name": "ipython",
    "version": 3
   },
   "file_extension": ".py",
   "mimetype": "text/x-python",
   "name": "python",
   "nbconvert_exporter": "python",
   "pygments_lexer": "ipython3",
   "version": "3.8.8"
  }
 },
 "nbformat": 4,
 "nbformat_minor": 5
}
