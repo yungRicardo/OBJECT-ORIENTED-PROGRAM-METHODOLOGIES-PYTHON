{
 "cells": [
  {
   "cell_type": "markdown",
   "id": "00171674",
   "metadata": {},
   "source": [
    "## Lamba Functions\n",
    "- It can only contain expressions and can’t include statements in its body.\n",
    "- It is written as a single line of execution.\n",
    "- It can be immediately invoked (IIFE)"
   ]
  },
  {
   "cell_type": "code",
   "execution_count": null,
   "id": "b7390ea7",
   "metadata": {},
   "outputs": [],
   "source": [
    "lambda x: x + 1"
   ]
  },
  {
   "cell_type": "code",
   "execution_count": null,
   "id": "e13844ae",
   "metadata": {},
   "outputs": [],
   "source": [
    "(lambda x: x + 1)(2)"
   ]
  },
  {
   "cell_type": "code",
   "execution_count": null,
   "id": "883bdac8",
   "metadata": {},
   "outputs": [],
   "source": [
    "full_name = lambda first, last: f'Full name: {first.title()} {last.title()}'\n",
    "full_name('guido', 'van rossum')"
   ]
  },
  {
   "cell_type": "code",
   "execution_count": null,
   "id": "5f728336",
   "metadata": {},
   "outputs": [],
   "source": [
    "(lambda x, y: x + y)(2, 3)"
   ]
  },
  {
   "cell_type": "code",
   "execution_count": null,
   "id": "7e35a304",
   "metadata": {},
   "outputs": [],
   "source": [
    "type(lambda x, y: x + y)"
   ]
  },
  {
   "cell_type": "code",
   "execution_count": null,
   "id": "11d91f58",
   "metadata": {},
   "outputs": [],
   "source": [
    "adder = (lambda x, y: x + y)\n",
    "type(adder)"
   ]
  },
  {
   "cell_type": "markdown",
   "id": "0c802f61",
   "metadata": {},
   "source": [
    "adder(5,10)"
   ]
  },
  {
   "cell_type": "code",
   "execution_count": null,
   "id": "6f4446a3",
   "metadata": {},
   "outputs": [],
   "source": [
    "(lambda x: (x % 2 and 'odd' or 'even'))(3)"
   ]
  },
  {
   "cell_type": "code",
   "execution_count": null,
   "id": "f4f0075e",
   "metadata": {},
   "outputs": [],
   "source": [
    "0 and 'odd' or 'even'"
   ]
  },
  {
   "cell_type": "markdown",
   "id": "c4cf1978",
   "metadata": {},
   "source": [
    "#### Arguments"
   ]
  },
  {
   "cell_type": "markdown",
   "id": "29aa123d",
   "metadata": {},
   "source": [
    "- Positional arguments\n",
    "- Named arguments (sometimes called keyword arguments)\n",
    "- Variable list of arguments (often referred to as varargs)\n",
    "- Variable list of keyword arguments\n",
    "- Keyword-only arguments"
   ]
  },
  {
   "cell_type": "code",
   "execution_count": null,
   "id": "d4872205",
   "metadata": {},
   "outputs": [],
   "source": [
    "(lambda x, y, z: x + y + z)(1, 2, 3)"
   ]
  },
  {
   "cell_type": "code",
   "execution_count": null,
   "id": "72b63c2b",
   "metadata": {},
   "outputs": [],
   "source": [
    "(lambda x, y, z=3: x + y + z)(1, 2)"
   ]
  },
  {
   "cell_type": "code",
   "execution_count": null,
   "id": "6cc82a2e",
   "metadata": {},
   "outputs": [],
   "source": [
    "(lambda x, y, z=3: x + y + z)(1, y=2)"
   ]
  },
  {
   "cell_type": "code",
   "execution_count": null,
   "id": "02990035",
   "metadata": {},
   "outputs": [],
   "source": [
    "(lambda *args: sum(args))(1,2,3)"
   ]
  },
  {
   "cell_type": "code",
   "execution_count": null,
   "id": "065397c7",
   "metadata": {},
   "outputs": [],
   "source": [
    "(lambda **kwargs: sum(kwargs.values()))(one=1, two=2, three=3)"
   ]
  },
  {
   "cell_type": "code",
   "execution_count": null,
   "id": "ffe5f27d",
   "metadata": {},
   "outputs": [],
   "source": [
    "(lambda x, y=0, z=0: x + y + z)(1, y=2, z=3)"
   ]
  },
  {
   "cell_type": "code",
   "execution_count": null,
   "id": "490c0de2",
   "metadata": {},
   "outputs": [],
   "source": [
    "(lambda x, y=0, z=7: x + y + z)(1, y=2)"
   ]
  },
  {
   "cell_type": "code",
   "execution_count": null,
   "id": "850ed8e6",
   "metadata": {},
   "outputs": [],
   "source": []
  }
 ],
 "metadata": {
  "kernelspec": {
   "display_name": "Python 3",
   "language": "python",
   "name": "python3"
  },
  "language_info": {
   "codemirror_mode": {
    "name": "ipython",
    "version": 3
   },
   "file_extension": ".py",
   "mimetype": "text/x-python",
   "name": "python",
   "nbconvert_exporter": "python",
   "pygments_lexer": "ipython3",
   "version": "3.8.8"
  }
 },
 "nbformat": 4,
 "nbformat_minor": 5
}
