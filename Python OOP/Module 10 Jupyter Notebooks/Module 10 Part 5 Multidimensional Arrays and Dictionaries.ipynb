{
 "cells": [
  {
   "cell_type": "code",
   "execution_count": 1,
   "id": "0d77aa0d",
   "metadata": {},
   "outputs": [],
   "source": [
    "my_list = [4, 5, 6, 7]"
   ]
  },
  {
   "cell_type": "code",
   "execution_count": 2,
   "id": "f8e17dbc",
   "metadata": {},
   "outputs": [
    {
     "data": {
      "text/plain": [
       "6"
      ]
     },
     "execution_count": 2,
     "metadata": {},
     "output_type": "execute_result"
    }
   ],
   "source": [
    "my_list[2]"
   ]
  },
  {
   "cell_type": "markdown",
   "id": "7e46631d",
   "metadata": {},
   "source": [
    "### Here is a multidimenional array"
   ]
  },
  {
   "cell_type": "code",
   "execution_count": 3,
   "id": "9e1dc6d7",
   "metadata": {},
   "outputs": [],
   "source": [
    "my_list = [[4, 5, 6, 7], [1, 2, 3, 4], [2, 4, 6, 8]]"
   ]
  },
  {
   "cell_type": "markdown",
   "id": "43876984",
   "metadata": {},
   "source": [
    "#### To access the 3 in the middle"
   ]
  },
  {
   "cell_type": "code",
   "execution_count": 4,
   "id": "fb4e7fa8",
   "metadata": {},
   "outputs": [
    {
     "data": {
      "text/plain": [
       "[1, 2, 3, 4]"
      ]
     },
     "execution_count": 4,
     "metadata": {},
     "output_type": "execute_result"
    }
   ],
   "source": [
    "my_list[1]"
   ]
  },
  {
   "cell_type": "code",
   "execution_count": 5,
   "id": "477fcea9",
   "metadata": {},
   "outputs": [
    {
     "data": {
      "text/plain": [
       "3"
      ]
     },
     "execution_count": 5,
     "metadata": {},
     "output_type": "execute_result"
    }
   ],
   "source": [
    "my_list[1][2]"
   ]
  },
  {
   "cell_type": "markdown",
   "id": "008f7e4f",
   "metadata": {},
   "source": [
    "A dictionary of lists"
   ]
  },
  {
   "cell_type": "code",
   "execution_count": 6,
   "id": "f085c7ba",
   "metadata": {},
   "outputs": [
    {
     "ename": "KeyError",
     "evalue": "0",
     "output_type": "error",
     "traceback": [
      "\u001b[1;31m---------------------------------------------------------------------------\u001b[0m",
      "\u001b[1;31mKeyError\u001b[0m                                  Traceback (most recent call last)",
      "\u001b[1;32m<ipython-input-6-724ef36e2e36>\u001b[0m in \u001b[0;36m<module>\u001b[1;34m\u001b[0m\n\u001b[0;32m      1\u001b[0m \u001b[0mmy_dictionary\u001b[0m \u001b[1;33m=\u001b[0m \u001b[1;33m{\u001b[0m\u001b[1;36m1\u001b[0m\u001b[1;33m:\u001b[0m\u001b[1;34m\"red\"\u001b[0m\u001b[1;33m,\u001b[0m \u001b[1;36m2\u001b[0m\u001b[1;33m:\u001b[0m\u001b[1;34m\"blue\"\u001b[0m\u001b[1;33m,\u001b[0m \u001b[1;36m4\u001b[0m\u001b[1;33m:\u001b[0m\u001b[1;34m\"green\"\u001b[0m\u001b[1;33m}\u001b[0m\u001b[1;33m\u001b[0m\u001b[1;33m\u001b[0m\u001b[0m\n\u001b[1;32m----> 2\u001b[1;33m \u001b[0mmy_dictionary\u001b[0m\u001b[1;33m[\u001b[0m\u001b[1;36m0\u001b[0m\u001b[1;33m]\u001b[0m\u001b[1;33m\u001b[0m\u001b[1;33m\u001b[0m\u001b[0m\n\u001b[0m",
      "\u001b[1;31mKeyError\u001b[0m: 0"
     ]
    }
   ],
   "source": [
    "my_dictionary = {1:\"red\", 2:\"blue\", 4:\"green\"}\n",
    "my_dictionary[0]"
   ]
  },
  {
   "cell_type": "markdown",
   "id": "0d1ec5f4",
   "metadata": {},
   "source": [
    "#### Why didn't this work?    \n",
    "- dict objects are not indexable"
   ]
  },
  {
   "cell_type": "code",
   "execution_count": 7,
   "id": "12001657",
   "metadata": {},
   "outputs": [
    {
     "data": {
      "text/plain": [
       "'red'"
      ]
     },
     "execution_count": 7,
     "metadata": {},
     "output_type": "execute_result"
    }
   ],
   "source": [
    "my_dictionary[1]   # Where 1 is the key"
   ]
  },
  {
   "cell_type": "code",
   "execution_count": 8,
   "id": "04c8ef81",
   "metadata": {},
   "outputs": [],
   "source": [
    "units = {\n",
    "0: (\"Celsius\", \"C\"),\n",
    "1: (\"Fahrenheit\", \"F\"),\n",
    "2: (\"Kelvin\", \"K\"),\n",
    "}"
   ]
  },
  {
   "cell_type": "code",
   "execution_count": 9,
   "id": "49b32481",
   "metadata": {},
   "outputs": [
    {
     "data": {
      "text/plain": [
       "'Fahrenheit'"
      ]
     },
     "execution_count": 9,
     "metadata": {},
     "output_type": "execute_result"
    }
   ],
   "source": [
    "units[1][0]"
   ]
  },
  {
   "cell_type": "code",
   "execution_count": null,
   "id": "2b1487cd",
   "metadata": {},
   "outputs": [],
   "source": []
  }
 ],
 "metadata": {
  "kernelspec": {
   "display_name": "Python 3",
   "language": "python",
   "name": "python3"
  },
  "language_info": {
   "codemirror_mode": {
    "name": "ipython",
    "version": 3
   },
   "file_extension": ".py",
   "mimetype": "text/x-python",
   "name": "python",
   "nbconvert_exporter": "python",
   "pygments_lexer": "ipython3",
   "version": "3.8.8"
  }
 },
 "nbformat": 4,
 "nbformat_minor": 5
}
