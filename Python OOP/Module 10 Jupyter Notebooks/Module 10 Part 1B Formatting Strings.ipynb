{
 "cells": [
  {
   "cell_type": "markdown",
   "metadata": {},
   "source": [
    "## f-strings\n",
    "f-strings pay off when we want mixed output.  Our output can contain strings, numbers or any other objects without special syntax."
   ]
  },
  {
   "cell_type": "code",
   "execution_count": 1,
   "metadata": {},
   "outputs": [
    {
     "name": "stdout",
     "output_type": "stream",
     "text": [
      "Sudhaker has a Backpack that weights 23.5692 pounds, exactly!\n"
     ]
    }
   ],
   "source": [
    "person = \"Sudhaker\"\n",
    "thing = \"Backpack\"\n",
    "weight = 23.5692\n",
    "\n",
    "output_line = f\"{person} has a {thing} that weights {weight} pounds, exactly!\"\n",
    "print(output_line)"
   ]
  },
  {
   "cell_type": "code",
   "execution_count": 7,
   "metadata": {},
   "outputs": [
    {
     "name": "stdout",
     "output_type": "stream",
     "text": [
      "Sudhaker has a Backpack that weights 23.5692 pounds, exactly!\n",
      "0x22a5b8f0e30\n"
     ]
    }
   ],
   "source": [
    "person = \"Sudhaker\"\n",
    "thing = \"Backpack\"\n",
    "weight = 23.5692\n",
    "\n",
    "print(f\"{person} has a {thing} that weights {weight} pounds, exactly!\")\n",
    "print(hex(id(f\"{person} has a {thing} that weights {weight} pounds, exactly!\")))"
   ]
  },
  {
   "cell_type": "markdown",
   "metadata": {},
   "source": [
    "#### Here's a little example that uses a loop, one that we can \"grow\" to learn some of the features of numeric formatting.     \n",
    "The first iteration has nothing special -- just the numbers in a list printed in a vertical column:"
   ]
  },
  {
   "cell_type": "code",
   "execution_count": 8,
   "metadata": {},
   "outputs": [
    {
     "name": "stdout",
     "output_type": "stream",
     "text": [
      "item #0 is 77.5\n",
      "item #1 is 1092\n",
      "item #2 is 80\n",
      "item #3 is -78.111\n",
      "item #4 is 690\n",
      "item #5 is 1101.3\n",
      "item #6 is -3\n",
      "item #7 is 1515927\n",
      "item #8 is 0.0003\n"
     ]
    }
   ],
   "source": [
    "various_nums = [77.5, 1092, 80, -78.111, 690, 1101.3, -3,1515927, 0.0003]\n",
    "\n",
    "for index in range(len(various_nums)):\n",
    "   row_out = f\"item #{index} is {various_nums[index]}\"\n",
    "   print(row_out)"
   ]
  },
  {
   "cell_type": "markdown",
   "metadata": {},
   "source": [
    "#### The first thing we may want to do is make the negative numbers stand out by either\n",
    "\n",
    "1. adding a + in front of positive numbers or    \n",
    "2. forcing the - sign to move left of all the numbers."
   ]
  },
  {
   "cell_type": "code",
   "execution_count": 9,
   "metadata": {},
   "outputs": [
    {
     "name": "stdout",
     "output_type": "stream",
     "text": [
      "item #0 is +77.5\n",
      "item #1 is +1092\n",
      "item #2 is +80\n",
      "item #3 is -78.111\n",
      "item #4 is +690\n",
      "item #5 is +1101.3\n",
      "item #6 is -3\n",
      "item #7 is +1515927\n",
      "item #8 is +0.0003\n"
     ]
    }
   ],
   "source": [
    "for index in range(len(various_nums)):\n",
    "   row_out = f\"item #{index} is {various_nums[index]:+}\"\n",
    "   print(row_out)"
   ]
  },
  {
   "cell_type": "markdown",
   "metadata": {},
   "source": [
    "Please notice that the + is a literal character that we added"
   ]
  },
  {
   "cell_type": "markdown",
   "metadata": {},
   "source": [
    "If all those +s are too distracting, we opt for choice 2 and replace the '+' with a space, ' ', as in {: }."
   ]
  },
  {
   "cell_type": "code",
   "execution_count": 10,
   "metadata": {},
   "outputs": [
    {
     "name": "stdout",
     "output_type": "stream",
     "text": [
      "item #0 is  77.5\n",
      "item #1 is  1092\n",
      "item #2 is  80\n",
      "item #3 is -78.111\n",
      "item #4 is  690\n",
      "item #5 is  1101.3\n",
      "item #6 is -3\n",
      "item #7 is  1515927\n",
      "item #8 is  0.0003\n"
     ]
    }
   ],
   "source": [
    "for index in range(len(various_nums)):\n",
    "   row_out = f\"item #{index} is {various_nums[index]: }\"\n",
    "   print(row_out)"
   ]
  },
  {
   "cell_type": "markdown",
   "metadata": {},
   "source": [
    "Using Field Width to Align the Decimal Points"
   ]
  },
  {
   "cell_type": "code",
   "execution_count": 11,
   "metadata": {},
   "outputs": [
    {
     "name": "stdout",
     "output_type": "stream",
     "text": [
      "item #0 is   77.500\n",
      "item #1 is 1092.000\n",
      "item #2 is   80.000\n",
      "item #3 is  -78.111\n",
      "item #4 is  690.000\n",
      "item #5 is 1101.300\n",
      "item #6 is   -3.000\n",
      "item #7 is 1515927.000\n",
      "item #8 is    0.000\n"
     ]
    }
   ],
   "source": [
    "for index in range(len(various_nums)):\n",
    "   row_out = f\"item #{index} is {various_nums[index]:8.3f}\"\n",
    "   print(row_out)"
   ]
  },
  {
   "cell_type": "markdown",
   "metadata": {},
   "source": [
    "Oops ... almost. One of our numbers is too long to fit in 8 characters. We'll fix that by increasing the 8 to, say, 12:"
   ]
  },
  {
   "cell_type": "code",
   "execution_count": 15,
   "metadata": {},
   "outputs": [
    {
     "name": "stdout",
     "output_type": "stream",
     "text": [
      "item #0 is       77.500\n",
      "item #1 is     1092.000\n",
      "item #2 is       80.000\n",
      "item #3 is      -78.111\n",
      "item #4 is      690.000\n",
      "item #5 is     1101.300\n",
      "item #6 is       -3.000\n",
      "item #7 is  1515927.000\n",
      "item #8 is        0.000\n"
     ]
    }
   ],
   "source": [
    "for index in range(len(various_nums)):\n",
    "   row_out = f\"item #{index} is {various_nums[index]:12.3f}\"\n",
    "   print(row_out)"
   ]
  },
  {
   "cell_type": "markdown",
   "metadata": {},
   "source": [
    "### Money\n",
    "* Finally, we add some syntax to help print dollars and cents in typical formats.   \n",
    " * In fact, the first example is nothing new -- we apply what we learned above to get 2 decimal places of precision and throw the $ sign into the format string where we want it."
   ]
  },
  {
   "cell_type": "code",
   "execution_count": 16,
   "metadata": {},
   "outputs": [
    {
     "name": "stdout",
     "output_type": "stream",
     "text": [
      "item #0 costs $          77.50\n",
      "item #1 costs $        1092.00\n",
      "item #2 costs $          80.00\n",
      "item #3 costs $         -78.11\n",
      "item #4 costs $         690.00\n",
      "item #5 costs $        1101.30\n",
      "item #6 costs $          -3.00\n",
      "item #7 costs $     1515927.00\n",
      "item #8 costs $           0.00\n"
     ]
    }
   ],
   "source": [
    "for index in range(len(various_nums)):\n",
    "   row_out = f\"item #{index} costs ${various_nums[index]:15.2f}\"\n",
    "   print(row_out)"
   ]
  },
  {
   "cell_type": "markdown",
   "metadata": {},
   "source": [
    "We may want the $ to \"stick to\" the number better, and for that, we'll sacrafice the alignment of the decimal point by removing the width specifier, keeping only the precision of 2"
   ]
  },
  {
   "cell_type": "code",
   "execution_count": 23,
   "metadata": {},
   "outputs": [
    {
     "name": "stdout",
     "output_type": "stream",
     "text": [
      "item #0 costs $           77.50\n",
      "item #1 costs $         1092.00\n",
      "item #2 costs $           80.00\n",
      "item #3 costs $          -78.11\n",
      "item #4 costs $          690.00\n",
      "item #5 costs $         1101.30\n",
      "item #6 costs $           -3.00\n",
      "item #7 costs $      1515927.00\n",
      "item #8 costs $            0.00\n"
     ]
    }
   ],
   "source": [
    "for index in range(len(various_nums)):\n",
    "   row_out = f\"item #{index} costs $ {various_nums[index]:.2f}\"\n",
    "   print(row_out)"
   ]
  },
  {
   "cell_type": "markdown",
   "metadata": {},
   "source": [
    "### Commas    \n",
    "Would you prefer commas separators? We use the comma option in f-strings:"
   ]
  },
  {
   "cell_type": "code",
   "execution_count": 26,
   "metadata": {
    "scrolled": true
   },
   "outputs": [
    {
     "name": "stdout",
     "output_type": "stream",
     "text": [
      "item #0 costs $        77.50\n",
      "item #1 costs $     1,092.00\n",
      "item #2 costs $        80.00\n",
      "item #3 costs $       -78.11\n",
      "item #4 costs $       690.00\n",
      "item #5 costs $     1,101.30\n",
      "item #6 costs $        -3.00\n",
      "item #7 costs $ 1,515,927.00\n",
      "item #8 costs $         0.00\n"
     ]
    }
   ],
   "source": [
    "for index in range(len(various_nums)):\n",
    "   row_out = f\"item #{index} costs $ {various_nums[index]:12,.2f}\"\n",
    "   print(row_out)"
   ]
  },
  {
   "cell_type": "code",
   "execution_count": null,
   "metadata": {},
   "outputs": [],
   "source": []
  }
 ],
 "metadata": {
  "kernelspec": {
   "display_name": "Python 3",
   "language": "python",
   "name": "python3"
  },
  "language_info": {
   "codemirror_mode": {
    "name": "ipython",
    "version": 3
   },
   "file_extension": ".py",
   "mimetype": "text/x-python",
   "name": "python",
   "nbconvert_exporter": "python",
   "pygments_lexer": "ipython3",
   "version": "3.8.8"
  }
 },
 "nbformat": 4,
 "nbformat_minor": 4
}
