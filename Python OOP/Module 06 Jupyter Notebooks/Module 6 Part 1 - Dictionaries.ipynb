{
 "cells": [
  {
   "cell_type": "markdown",
   "metadata": {},
   "source": [
    "# Dictionaries"
   ]
  },
  {
   "cell_type": "markdown",
   "metadata": {},
   "source": [
    "The Python dict type consists of key:value pairs."
   ]
  },
  {
   "cell_type": "markdown",
   "metadata": {},
   "source": [
    "## Lets start out with a list whose items are tuples"
   ]
  },
  {
   "cell_type": "code",
   "execution_count": null,
   "metadata": {},
   "outputs": [],
   "source": [
    "people = [\n",
    "    (1112, \"robert disalvo\"),\n",
    "    (3001, \"janice blinoff\"),\n",
    "    (1234, \"gabor szabo\"),\n",
    "    (9123, \"mihir ali\")\n",
    "    ]"
   ]
  },
  {
   "cell_type": "code",
   "execution_count": null,
   "metadata": {},
   "outputs": [],
   "source": [
    "print(people)"
   ]
  },
  {
   "cell_type": "code",
   "execution_count": null,
   "metadata": {},
   "outputs": [],
   "source": [
    "print(people[1][0])"
   ]
  },
  {
   "cell_type": "markdown",
   "metadata": {},
   "source": [
    "## Let's search the list for a specific four-digit search key"
   ]
  },
  {
   "cell_type": "code",
   "execution_count": null,
   "metadata": {},
   "outputs": [],
   "source": [
    "search_key = int(input(\"Enter a four-digit search key: \"))\n",
    "\n",
    "found = False\n",
    "for item in people:   # Each item in the list is a tuple (key, value)\n",
    "    if (item[0] == search_key):\n",
    "        found = True\n",
    "        break"
   ]
  },
  {
   "cell_type": "markdown",
   "metadata": {},
   "source": [
    "## If the key is found print the key and the corresponding name\n",
    "* Otherwise ask if the user wants to add the new key to the list"
   ]
  },
  {
   "cell_type": "code",
   "execution_count": null,
   "metadata": {},
   "outputs": [],
   "source": [
    "if found:\n",
    "    print(f\"\\nI found {search_key} in our database with the name '{item[1]}'\")\n",
    "else:\n",
    "    ans = input(f\"\\n{search_key} is not in our database.  \"\n",
    "                f\"Would you like to add it Y/N? \")\n",
    "    if ans[0].upper() == 'Y':\n",
    "        name = input(f\"what name should we associate with {search_key}? \")\n",
    "        people.append((search_key, name))"
   ]
  },
  {
   "cell_type": "code",
   "execution_count": null,
   "metadata": {},
   "outputs": [],
   "source": [
    "people"
   ]
  },
  {
   "cell_type": "markdown",
   "metadata": {},
   "source": [
    "## This is the entire program for your study and experimentation:"
   ]
  },
  {
   "cell_type": "code",
   "execution_count": null,
   "metadata": {},
   "outputs": [],
   "source": [
    "people = [\n",
    "    (1112, \"robert disalvo\"),\n",
    "    (3001, \"janice blinoff\"),\n",
    "    (1234, \"estandia fromm\"),\n",
    "    (5192, \"gabor szabo\"),\n",
    "    (9123, \"mihir ali\")\n",
    "    ]\n",
    "\n",
    "search_key = int(input(\"Enter a four-digit search key: \"))\n",
    "\n",
    "found = False\n",
    "for item in people:\n",
    "    if item[0] == search_key:\n",
    "        found = True\n",
    "        break\n",
    "\n",
    "if found:\n",
    "    print(f\"\\nI found {search_key} in our database with the name '{item[1]}'\")\n",
    "else:\n",
    "    ans = input(f\"\\n{search_key} is not in our database.  \"\n",
    "                f\"Would you like to add it? \")\n",
    "    if ans[0].upper() == 'Y':\n",
    "        name = input(f\"what name should we associate with {search_key}? \")\n",
    "        people.append((search_key, name))\n",
    "\n",
    "print(f\"\\nthe list is currently: \\n{str(people)}\")"
   ]
  },
  {
   "cell_type": "markdown",
   "metadata": {},
   "source": [
    "### This kind of database search is common in our world.   \n",
    "* The data structure above has some weaknesses.  \n",
    " * For example it allows two individuals with the same id number.   \n",
    " * It run a lot of code to find the person from the people list.\n",
    " * The time that it takes to find a specific key is proportional to the number items in the list\n",
    " * Do we keep the list sorted, if so how do we \"insert\" new items?"
   ]
  },
  {
   "cell_type": "markdown",
   "metadata": {},
   "source": [
    "## Dictionaries consist of Key-Value Pairs"
   ]
  },
  {
   "cell_type": "markdown",
   "metadata": {},
   "source": [
    "The Python dict type looks much like a list of tuples (key, value)  \n",
    "* Every item in a dictionary is a pair, ***key : value***\n",
    "* The first item of the pair is always the key and it must be unique.  \n",
    " * You cannot have two items in a dictionary with the same key. \n",
    " * The key must be immutable. (a tuple could be used as a key but not a list -- tuples, as we know, are immutable, while lists are mutable.)\n",
    " * What happens if we attempt to add a key/value pair with a key that already exists?\n",
    "  * The value associated the the key is changed\n",
    "* The second part of the key/value pair is the **value**.  \n",
    " * The same value can appear in more than one key-value pair in the dictionary.  \n",
    " * The value can be any Python object type\n",
    " * The value can be mutable or immutable"
   ]
  },
  {
   "cell_type": "markdown",
   "metadata": {},
   "source": [
    "### You instantiate a dictionary using curly braces, { }, colons :, and commas, as follows:"
   ]
  },
  {
   "cell_type": "code",
   "execution_count": null,
   "metadata": {},
   "outputs": [],
   "source": [
    "people = {\n",
    "    1112: \"robert disalvo\",\n",
    "    3001: \"janice blinoff\",\n",
    "    1234: \"estandia fromm\",\n",
    "    5192: \"gabor szabo\",\n",
    "    9123: \"mihir ali\"\n",
    "    }\n",
    "\n",
    "# or\n",
    "\n",
    "working_dict = {}      # an empty dictionary object\n",
    "print(f\"The type of people is {type(people)}\")\n",
    "working_dict = dict()\n",
    "print(f\"The type of working_dict is {type(working_dict)}\")"
   ]
  },
  {
   "cell_type": "code",
   "execution_count": null,
   "metadata": {},
   "outputs": [],
   "source": [
    "# What does this give you?\n",
    "working = {2}\n",
    "print(f\"The type of working is {type(working)}\")"
   ]
  },
  {
   "cell_type": "markdown",
   "metadata": {},
   "source": [
    "### Back to dictionaries"
   ]
  },
  {
   "cell_type": "code",
   "execution_count": null,
   "metadata": {},
   "outputs": [],
   "source": [
    "people = {\n",
    "    1112: \"robert disalvo\",\n",
    "    3001: \"janice blinoff\",\n",
    "    1234: \"estandia fromm\",\n",
    "    5192: \"gabor szabo\",\n",
    "    9123: \"mihir ali\"\n",
    "    }\n",
    "working_dict = {}\n",
    "print('People ', people, '\\n')\n",
    "print('working_dict ', working_dict)"
   ]
  },
  {
   "cell_type": "markdown",
   "metadata": {},
   "source": [
    "You insert items (new pairs) into a dictionary using the brackets notation:"
   ]
  },
  {
   "cell_type": "code",
   "execution_count": null,
   "metadata": {},
   "outputs": [],
   "source": [
    "people[9998] = \"frank lewis\"      # inserts"
   ]
  },
  {
   "cell_type": "markdown",
   "metadata": {},
   "source": [
    "You access the value of an item in a dictionary using the brackets notation:"
   ]
  },
  {
   "cell_type": "code",
   "execution_count": null,
   "metadata": {},
   "outputs": [],
   "source": [
    "print(people[9998])  # the key is in the []"
   ]
  },
  {
   "cell_type": "markdown",
   "metadata": {},
   "source": [
    "You mutate an element already in a dictionary by changing its value (i.e., second component) using the bracket notation:"
   ]
  },
  {
   "cell_type": "code",
   "execution_count": null,
   "metadata": {},
   "outputs": [],
   "source": [
    "people[1112] = \"kimberly lewis\"   # overwrites"
   ]
  },
  {
   "cell_type": "code",
   "execution_count": null,
   "metadata": {},
   "outputs": [],
   "source": [
    "print(people[1112])  # remember 1112 is the key, not an index value"
   ]
  },
  {
   "cell_type": "markdown",
   "metadata": {},
   "source": [
    "You can not access a dictionary item by giving an index from 0 to the size of the dictionary like you do with a list or tuple."
   ]
  },
  {
   "cell_type": "code",
   "execution_count": null,
   "metadata": {},
   "outputs": [],
   "source": [
    "# wrong -- will raise (throw) a runtime \"KeyError\" exception\n",
    "print (\"The first two items in the dictionarly are NOT \",\n",
    "        people[0],\" and \", people[1] )"
   ]
  },
  {
   "cell_type": "markdown",
   "metadata": {},
   "source": [
    "What does KeyError mean in this case?"
   ]
  },
  {
   "cell_type": "markdown",
   "metadata": {},
   "source": [
    "Instead, dictionaries are accessed only through the key in the pair -- even if that key is not an int."
   ]
  },
  {
   "cell_type": "code",
   "execution_count": null,
   "metadata": {},
   "outputs": [],
   "source": [
    "working_dict = {\n",
    "    \"AB 709\"  : \"charter schools (vetoed)\",\n",
    "    \"AB 2009\" : \"CSU Campuses (vetoed)\",\n",
    "    \"AB 2329\" : \"computer education (signed)\",\n",
    "    \"SB 799\"  : \"reserive limitation (in process)\"\n",
    "    }\n",
    "   \n",
    "working_dict[\"AB 2548\"] = \"new accountability system  (in process)\"\n",
    "print(working_dict[\"AB 2009\"])"
   ]
  },
  {
   "cell_type": "markdown",
   "metadata": {},
   "source": [
    "Here we are going to loop through the tuple we created earlier"
   ]
  },
  {
   "cell_type": "code",
   "execution_count": null,
   "metadata": {},
   "outputs": [],
   "source": [
    "people = {\n",
    "    1112: \"robert disalvo\",\n",
    "    3001: \"janice blinoff\",\n",
    "    1234: \"estandia fromm\",\n",
    "    5192: \"gabor szabo\",\n",
    "    9123: \"mihir ali\"\n",
    "    }\n",
    "\n",
    "for key in people:\n",
    "    print(key)"
   ]
  },
  {
   "cell_type": "markdown",
   "metadata": {},
   "source": [
    "You can loop through dictionaries, but what you get when using the for loop **for item in my_dictionary:** statement, is **an item** not a key/pair, but the **key** -- from the key:value pair. You can use the key to get the value."
   ]
  },
  {
   "cell_type": "markdown",
   "metadata": {},
   "source": [
    "Refactor the ID/Name Example from a tuple to a dict\n",
    "\n",
    "Now we'll see how to write the search_key example from the previous section using dictionaries rather than a list of tuples."
   ]
  },
  {
   "cell_type": "code",
   "execution_count": null,
   "metadata": {},
   "outputs": [],
   "source": [
    "# a list of tuples\n",
    "people = [\n",
    "    (1112, \"robert disalvo\"),\n",
    "    (3001, \"janice blinoff\"),\n",
    "    (1234, \"estandia fromm\"),\n",
    "    (5192, \"gabor szabo\"),\n",
    "    (9123, \"mihir ali\")\n",
    "    ]"
   ]
  },
  {
   "cell_type": "markdown",
   "metadata": {},
   "source": [
    "If we run the following **for loop** what will be the output?    \n",
    "* people is a list of tuples"
   ]
  },
  {
   "cell_type": "code",
   "execution_count": null,
   "metadata": {
    "scrolled": false
   },
   "outputs": [],
   "source": [
    "for item in people:\n",
    "    print(item)"
   ]
  },
  {
   "cell_type": "code",
   "execution_count": null,
   "metadata": {},
   "outputs": [],
   "source": [
    "# a dict, the key in an int (imutable) and the value is a string\n",
    "people = {\n",
    "    1112: \"robert disalvo\",\n",
    "    3001: \"janice blinoff\",\n",
    "    1234: \"estandia fromm\",\n",
    "    5192: \"gabor szabo\",\n",
    "    9123: \"mihir ali\"\n",
    "    }"
   ]
  },
  {
   "cell_type": "markdown",
   "metadata": {},
   "source": [
    "If we run the following for loop what will be the output?    \n",
    "* people is now a dict"
   ]
  },
  {
   "cell_type": "code",
   "execution_count": null,
   "metadata": {
    "scrolled": false
   },
   "outputs": [],
   "source": [
    "for item in people:\n",
    "    print(item)"
   ]
  },
  {
   "cell_type": "markdown",
   "metadata": {},
   "source": [
    "We get only the **key**"
   ]
  },
  {
   "cell_type": "markdown",
   "metadata": {},
   "source": [
    "But we can use the **key** to get the **value**"
   ]
  },
  {
   "cell_type": "code",
   "execution_count": null,
   "metadata": {},
   "outputs": [],
   "source": [
    "for key in people:\n",
    "    print(key, people[key])"
   ]
  },
  {
   "cell_type": "markdown",
   "metadata": {},
   "source": [
    "## the values() method"
   ]
  },
  {
   "cell_type": "code",
   "execution_count": null,
   "metadata": {},
   "outputs": [],
   "source": [
    "for item in people.values():\n",
    "    print(item)"
   ]
  },
  {
   "cell_type": "markdown",
   "metadata": {},
   "source": [
    "Next  we will see how to write the search_key example from the previous section using dictionaries rather than a list of tuples."
   ]
  },
  {
   "cell_type": "code",
   "execution_count": 2,
   "metadata": {},
   "outputs": [],
   "source": [
    "people = {\n",
    "    1112: \"robert disalvo\",\n",
    "    3001: \"janice blinoff\",\n",
    "    1234: \"estandia fromm\",\n",
    "    5192: \"gabor szabo\",\n",
    "    9123: \"mihir ali\"\n",
    "    }"
   ]
  },
  {
   "cell_type": "code",
   "execution_count": 4,
   "metadata": {},
   "outputs": [
    {
     "name": "stdout",
     "output_type": "stream",
     "text": [
      "Enter a four-digit search key: 5000\n",
      "\n",
      "5000 is not in our database.  Would you like to add it (Y/N)? yes\n",
      "what name should we associate with 5000? Gary Stillman\n"
     ]
    }
   ],
   "source": [
    "search_key = int(input(\"Enter a four-digit search key: \"))\n",
    "\n",
    "if search_key in people:\n",
    "    print(f\"\\nI found {search_key} in our database \"\n",
    "          f\"with the name '{people[search_key]}'\")\n",
    "else:\n",
    "    ans = input(f\"\\n{search_key} is not in our database.  \"\n",
    "                f\"Would you like to add it (Y/N)? \")\n",
    "    if ans[0].upper() == 'Y':\n",
    "        name = input(f\"what name should we associate with {search_key}? \")   \n",
    "        people[search_key] = name"
   ]
  },
  {
   "cell_type": "markdown",
   "metadata": {},
   "source": [
    "We can print the dictionary by simply using print()"
   ]
  },
  {
   "cell_type": "code",
   "execution_count": 5,
   "metadata": {},
   "outputs": [
    {
     "name": "stdout",
     "output_type": "stream",
     "text": [
      "{1112: 'robert disalvo', 3001: 'janice blinoff', 1234: 'estandia fromm', 5192: 'gabor szabo', 9123: 'mihir ali', 5000: 'Gary Stillman'}\n"
     ]
    }
   ],
   "source": [
    "print(people)"
   ]
  },
  {
   "cell_type": "markdown",
   "metadata": {},
   "source": [
    "How do you think that \"Magic\" happened? **Remember**, print() prints strings"
   ]
  },
  {
   "cell_type": "markdown",
   "metadata": {},
   "source": [
    "Anonymous Objects"
   ]
  },
  {
   "cell_type": "markdown",
   "metadata": {},
   "source": [
    "What is {1112: 'robert disalvo', 3001: 'janice blinoff', 1234: 'estandia fromm', 5192: 'gabor szabo', 9123: 'mihir ali'} \n",
    "called?"
   ]
  },
  {
   "cell_type": "code",
   "execution_count": 6,
   "metadata": {},
   "outputs": [
    {
     "data": {
      "text/plain": [
       "\"type = <class 'dict'>\""
      ]
     },
     "execution_count": 6,
     "metadata": {},
     "output_type": "execute_result"
    }
   ],
   "source": [
    "f\"type = {type({1112: 'robert disalvo', 3001: 'janice blinoff', 1234: 'estandia fromm', 5192: 'gabor szabo', 9123: 'mihir ali'})}\""
   ]
  },
  {
   "cell_type": "code",
   "execution_count": 7,
   "metadata": {},
   "outputs": [
    {
     "data": {
      "text/plain": [
       "'id = 0x1e790417b00'"
      ]
     },
     "execution_count": 7,
     "metadata": {},
     "output_type": "execute_result"
    }
   ],
   "source": [
    "f\"id = {hex(id({1112: 'robert disalvo', 3001: 'janice blinoff', 1234: 'estandia fromm', 5192: 'gabor szabo', 9123: 'mihir ali'}))}\""
   ]
  },
  {
   "cell_type": "markdown",
   "metadata": {},
   "source": [
    "There is no identifier (variable name) referencing (pointing to the dict object"
   ]
  },
  {
   "cell_type": "markdown",
   "metadata": {},
   "source": [
    "## We can also refactor our program using try/except"
   ]
  },
  {
   "cell_type": "code",
   "execution_count": 9,
   "metadata": {},
   "outputs": [
    {
     "name": "stdout",
     "output_type": "stream",
     "text": [
      "Enter a four-digit search key: 3000\n",
      "\n",
      "3000 is not in our database.  Would you like to add it? y\n",
      "what name should we associate with 3000? Jane Smith\n",
      "\n",
      "the dictionary is currently: \n",
      "{1112: 'robert disalvo', 3001: 'janice blinoff', 1234: 'estandia fromm', 5192: 'gabor szabo', 9123: 'mihir ali', 3000: 'Jane Smith'}\n"
     ]
    }
   ],
   "source": [
    "people = {\n",
    "    1112: \"robert disalvo\",\n",
    "    3001: \"janice blinoff\",\n",
    "    1234: \"estandia fromm\",\n",
    "    5192: \"gabor szabo\",\n",
    "    9123: \"mihir ali\"\n",
    "    }\n",
    "\n",
    "search_key = int(input(\"Enter a four-digit search key: \"))\n",
    "\n",
    "try:\n",
    "    name = people[search_key]\n",
    "    print(f\"\\nI found {search_key} in our database \"\n",
    "          f\"with the name '{name}'\")\n",
    "except KeyError:\n",
    "    ans = input(f\"\\n{search_key} is not in our database.  \"\n",
    "                f\"Would you like to add it? \")\n",
    "    if ans[0].upper() == 'Y':\n",
    "        name = input(f\"what name should we associate with {search_key}? \")\n",
    "        people[search_key] = name\n",
    "\n",
    "print(f\"\\nthe dictionary is currently: \\n{str(people)}\")"
   ]
  },
  {
   "cell_type": "markdown",
   "metadata": {},
   "source": [
    "Not only did this reduce our code by one statement, but it also captured name during the test (if it the key was found), so we wouldn't have to access the dictionary in our first print statement. Both the test key in dict and val = dict[key] are expensive method calls."
   ]
  },
  {
   "cell_type": "markdown",
   "metadata": {},
   "source": [
    "## Further operations involving Dictionaries"
   ]
  },
  {
   "cell_type": "markdown",
   "metadata": {},
   "source": [
    "### in Operator"
   ]
  },
  {
   "cell_type": "markdown",
   "metadata": {},
   "source": [
    "Consider a simple dict"
   ]
  },
  {
   "cell_type": "code",
   "execution_count": 10,
   "metadata": {},
   "outputs": [],
   "source": [
    "my_dictionary = {\"first\" : 1, \"second\" : 2.2, \"third\" : \"THREE\"}"
   ]
  },
  {
   "cell_type": "markdown",
   "metadata": {},
   "source": [
    "The **in** Operator\n",
    "* searches the dict to determine if the key provided is in the dict"
   ]
  },
  {
   "cell_type": "code",
   "execution_count": 11,
   "metadata": {},
   "outputs": [
    {
     "name": "stdout",
     "output_type": "stream",
     "text": [
      "Key Found? True\n",
      "Key Found? False\n",
      "\n"
     ]
    }
   ],
   "source": [
    "search_key = \"second\"\n",
    "print(\"Key Found?\", search_key in my_dictionary)\n",
    "search_key = \"sdf\"\n",
    "print(\"Key Found?\", search_key in my_dictionary)\n",
    "print()"
   ]
  },
  {
   "cell_type": "markdown",
   "metadata": {},
   "source": [
    "The Bracket ([...]) Operator"
   ]
  },
  {
   "cell_type": "code",
   "execution_count": 12,
   "metadata": {},
   "outputs": [
    {
     "name": "stdout",
     "output_type": "stream",
     "text": [
      "Value corresponding to the key second is 2.2\n",
      "Value corresponding to the key third is THREE\n"
     ]
    }
   ],
   "source": [
    "my_dictionary = {\"first\" : 1, \"second\" : 2.2, \"third\" : \"THREE\"}\n",
    "\n",
    "search_key = \"second\"\n",
    "print(f\"Value corresponding to the key {search_key} is {my_dictionary[search_key]}\")\n",
    "search_key = \"third\"\n",
    "print(f\"Value corresponding to the key {search_key} is {my_dictionary[search_key]}\")"
   ]
  },
  {
   "cell_type": "markdown",
   "metadata": {},
   "source": [
    "## Looping through a Dictionary"
   ]
  },
  {
   "cell_type": "markdown",
   "metadata": {},
   "source": [
    "Looping through a dict type is slightly different than looping through a list or str type. The key in each dict item is the thing over which we loop."
   ]
  },
  {
   "cell_type": "code",
   "execution_count": 13,
   "metadata": {},
   "outputs": [
    {
     "name": "stdout",
     "output_type": "stream",
     "text": [
      "first\n",
      "second\n",
      "third\n"
     ]
    }
   ],
   "source": [
    "for key in my_dictionary:\n",
    "    print(key) "
   ]
  },
  {
   "cell_type": "markdown",
   "metadata": {},
   "source": [
    "We cannot guarantee the order that our loop produces. Dictionaries, unlike lists, strings and tuples, are not ordered.  \n",
    "* We can force a sort in our for loop, however, by calling sorted() on my_dictionary (this doesn't affect the actual order of the items in the dictionary) by using sorted() to sort the key in my_dictionary."
   ]
  },
  {
   "cell_type": "code",
   "execution_count": 15,
   "metadata": {},
   "outputs": [
    {
     "name": "stdout",
     "output_type": "stream",
     "text": [
      "first\n",
      "second\n",
      "third\n"
     ]
    }
   ],
   "source": [
    "for key in sorted(my_dictionary):\n",
    "    print(key)"
   ]
  },
  {
   "cell_type": "code",
   "execution_count": 16,
   "metadata": {},
   "outputs": [
    {
     "data": {
      "text/plain": [
       "['first', 'second', 'third']"
      ]
     },
     "execution_count": 16,
     "metadata": {},
     "output_type": "execute_result"
    }
   ],
   "source": [
    "sorted(my_dictionary)"
   ]
  },
  {
   "cell_type": "markdown",
   "metadata": {},
   "source": [
    "Keep in mind, we are **not sorting** the dict, we are merely sorting the keys\n",
    "* This has nothing to do with the actual order of the key/value pairs in the dict."
   ]
  },
  {
   "cell_type": "markdown",
   "metadata": {},
   "source": [
    "However, be careful: the only reason we got \"first\" before \"second\" was due to alphabetical ordering of the str type. Throw a \"fourth\" key into the list and things get crazy again:"
   ]
  },
  {
   "cell_type": "code",
   "execution_count": 18,
   "metadata": {},
   "outputs": [
    {
     "name": "stdout",
     "output_type": "stream",
     "text": [
      "first\n",
      "fourth\n",
      "second\n",
      "third\n"
     ]
    }
   ],
   "source": [
    "my_dictionary = {\"first\" : 1, \"second\" : 2.2, \"third\" : \"THREE\",\n",
    "                    \"fourth\" : 44.44}\n",
    "for key in sorted(my_dictionary):\n",
    "    print(key)"
   ]
  },
  {
   "cell_type": "markdown",
   "metadata": {},
   "source": [
    "How did that work?"
   ]
  },
  {
   "cell_type": "code",
   "execution_count": 19,
   "metadata": {},
   "outputs": [
    {
     "name": "stdout",
     "output_type": "stream",
     "text": [
      "first\n",
      "second\n",
      "third\n",
      "fourth\n"
     ]
    }
   ],
   "source": [
    "for var in my_dictionary:\n",
    "    print(var)"
   ]
  },
  {
   "cell_type": "code",
   "execution_count": 20,
   "metadata": {},
   "outputs": [
    {
     "name": "stdout",
     "output_type": "stream",
     "text": [
      "first\n",
      "fourth\n",
      "second\n",
      "third\n"
     ]
    }
   ],
   "source": [
    "for var in sorted(my_dictionary):\n",
    "    print(var)"
   ]
  },
  {
   "cell_type": "markdown",
   "metadata": {},
   "source": [
    "### A quick example of 3 important dict methods"
   ]
  },
  {
   "cell_type": "markdown",
   "metadata": {},
   "source": [
    "#### The items() method"
   ]
  },
  {
   "cell_type": "code",
   "execution_count": 21,
   "metadata": {},
   "outputs": [
    {
     "data": {
      "text/plain": [
       "dict_items([('apple', 'red'), ('bananna', 'yellow'), ('lime', 'green')])"
      ]
     },
     "execution_count": 21,
     "metadata": {},
     "output_type": "execute_result"
    }
   ],
   "source": [
    "fruit = {\"apple\":\"red\", \"bananna\":\"yellow\", \"lime\":\"green\"}\n",
    "fruit.items()"
   ]
  },
  {
   "cell_type": "markdown",
   "metadata": {},
   "source": [
    "#### keys() method"
   ]
  },
  {
   "cell_type": "code",
   "execution_count": 22,
   "metadata": {},
   "outputs": [
    {
     "data": {
      "text/plain": [
       "dict_keys(['apple', 'bananna', 'lime'])"
      ]
     },
     "execution_count": 22,
     "metadata": {},
     "output_type": "execute_result"
    }
   ],
   "source": [
    "fruit = {\"apple\":\"red\", \"bananna\":\"yellow\", \"lime\":\"green\"}\n",
    "fruit.keys()"
   ]
  },
  {
   "cell_type": "markdown",
   "metadata": {},
   "source": [
    "#### the values() method"
   ]
  },
  {
   "cell_type": "code",
   "execution_count": 23,
   "metadata": {},
   "outputs": [
    {
     "data": {
      "text/plain": [
       "dict_values(['red', 'yellow', 'green'])"
      ]
     },
     "execution_count": 23,
     "metadata": {},
     "output_type": "execute_result"
    }
   ],
   "source": [
    "fruit = {\"apple\":\"red\", \"bananna\":\"yellow\", \"lime\":\"green\"}\n",
    "fruit.values()"
   ]
  },
  {
   "cell_type": "code",
   "execution_count": 24,
   "metadata": {},
   "outputs": [
    {
     "name": "stdout",
     "output_type": "stream",
     "text": [
      "{'first': ('apples', 'oranges')}\n"
     ]
    }
   ],
   "source": [
    "dict1 = {\"first\": (\"apples\", \"oranges\")}\n",
    "print(dict1)"
   ]
  },
  {
   "cell_type": "code",
   "execution_count": 25,
   "metadata": {},
   "outputs": [
    {
     "data": {
      "text/plain": [
       "'oranges'"
      ]
     },
     "execution_count": 25,
     "metadata": {},
     "output_type": "execute_result"
    }
   ],
   "source": [
    "dict1['first'][1]"
   ]
  },
  {
   "cell_type": "markdown",
   "metadata": {},
   "source": [
    "Do not use dict if you need an ordering. There is another type that you can use when such predictability is required: **OrderedDict** (imported with the collections module).  We will not be using **OrderedDict** in this class."
   ]
  },
  {
   "cell_type": "markdown",
   "metadata": {},
   "source": [
    "The items() method"
   ]
  },
  {
   "cell_type": "markdown",
   "metadata": {},
   "source": [
    "For more flexibility, you can turn the dictionary into a list of pairs (tuples) using the items() method which produces such a list."
   ]
  },
  {
   "cell_type": "code",
   "execution_count": 26,
   "metadata": {},
   "outputs": [
    {
     "name": "stdout",
     "output_type": "stream",
     "text": [
      "('first', 1)\n",
      "('second', 2.2)\n",
      "('third', 'THREE')\n",
      "('fourth', 44.44)\n"
     ]
    }
   ],
   "source": [
    "for two_tuple in my_dictionary.items():\n",
    "    print(two_tuple)"
   ]
  },
  {
   "cell_type": "markdown",
   "metadata": {},
   "source": [
    "items() gives you a way to pull out both keys and values in a single loop:"
   ]
  },
  {
   "cell_type": "code",
   "execution_count": 30,
   "metadata": {},
   "outputs": [
    {
     "name": "stdout",
     "output_type": "stream",
     "text": [
      "first 1\n",
      "<class 'str'> <class 'int'>\n",
      "second 2.2\n",
      "<class 'str'> <class 'float'>\n",
      "third THREE\n",
      "<class 'str'> <class 'str'>\n",
      "fourth 44.44\n",
      "<class 'str'> <class 'float'>\n"
     ]
    }
   ],
   "source": [
    "for my_key, my_val in  my_dictionary.items():\n",
    "    print(my_key, my_val)\n",
    "    print(type(my_key), type(my_val))"
   ]
  },
  {
   "cell_type": "markdown",
   "metadata": {},
   "source": [
    "### Quick Summary of the basic dict methods"
   ]
  },
  {
   "cell_type": "markdown",
   "metadata": {},
   "source": [
    "keys()"
   ]
  },
  {
   "cell_type": "code",
   "execution_count": 28,
   "metadata": {},
   "outputs": [
    {
     "data": {
      "text/plain": [
       "dict_keys(['first', 'second', 'third', 'fourth'])"
      ]
     },
     "execution_count": 28,
     "metadata": {},
     "output_type": "execute_result"
    }
   ],
   "source": [
    "my_dictionary.keys()"
   ]
  },
  {
   "cell_type": "markdown",
   "metadata": {},
   "source": [
    "values()"
   ]
  },
  {
   "cell_type": "code",
   "execution_count": 31,
   "metadata": {},
   "outputs": [
    {
     "data": {
      "text/plain": [
       "dict_values([1, 2.2, 'THREE', 44.44])"
      ]
     },
     "execution_count": 31,
     "metadata": {},
     "output_type": "execute_result"
    }
   ],
   "source": [
    "my_dictionary.values()"
   ]
  },
  {
   "cell_type": "markdown",
   "metadata": {},
   "source": [
    "items()"
   ]
  },
  {
   "cell_type": "code",
   "execution_count": 32,
   "metadata": {},
   "outputs": [
    {
     "data": {
      "text/plain": [
       "dict_items([('first', 1), ('second', 2.2), ('third', 'THREE'), ('fourth', 44.44)])"
      ]
     },
     "execution_count": 32,
     "metadata": {},
     "output_type": "execute_result"
    }
   ],
   "source": [
    "my_dictionary.items()"
   ]
  },
  {
   "cell_type": "code",
   "execution_count": null,
   "metadata": {},
   "outputs": [],
   "source": []
  }
 ],
 "metadata": {
  "kernelspec": {
   "display_name": "Python 3",
   "language": "python",
   "name": "python3"
  },
  "language_info": {
   "codemirror_mode": {
    "name": "ipython",
    "version": 3
   },
   "file_extension": ".py",
   "mimetype": "text/x-python",
   "name": "python",
   "nbconvert_exporter": "python",
   "pygments_lexer": "ipython3",
   "version": "3.8.8"
  }
 },
 "nbformat": 4,
 "nbformat_minor": 2
}
