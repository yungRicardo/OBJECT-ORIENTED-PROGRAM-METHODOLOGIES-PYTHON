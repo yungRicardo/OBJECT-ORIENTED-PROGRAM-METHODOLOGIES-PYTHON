{
 "cells": [
  {
   "cell_type": "markdown",
   "id": "09e25d92",
   "metadata": {},
   "source": [
    "## Iterative Bubble Sort"
   ]
  },
  {
   "cell_type": "code",
   "execution_count": 1,
   "id": "5abcd179",
   "metadata": {
    "scrolled": true
   },
   "outputs": [
    {
     "name": "stdout",
     "output_type": "stream",
     "text": [
      "New Loop!\n",
      "List at start of loop [5, 2, 6, 4, 1, 3]\n",
      "[2, 5, 6, 4, 1, 3]\n",
      "[2, 5, 4, 6, 1, 3]\n",
      "[2, 5, 4, 1, 6, 3]\n",
      "[2, 5, 4, 1, 3, 6]\n",
      "New Loop!\n",
      "List at start of loop [2, 5, 4, 1, 3, 6]\n",
      "[2, 4, 5, 1, 3, 6]\n",
      "[2, 4, 1, 5, 3, 6]\n",
      "[2, 4, 1, 3, 5, 6]\n",
      "New Loop!\n",
      "List at start of loop [2, 4, 1, 3, 5, 6]\n",
      "[2, 1, 4, 3, 5, 6]\n",
      "[2, 1, 3, 4, 5, 6]\n",
      "New Loop!\n",
      "List at start of loop [2, 1, 3, 4, 5, 6]\n",
      "[1, 2, 3, 4, 5, 6]\n",
      "New Loop!\n",
      "List at start of loop [1, 2, 3, 4, 5, 6]\n"
     ]
    }
   ],
   "source": [
    "list = [5, 2, 6, 4, 1, 3]\n",
    "\n",
    "changed = True\n",
    "\n",
    "while changed:\n",
    "    print(\"New Loop!\")\n",
    "    changed = False\n",
    "    print(f\"List at start of loop {list}\")\n",
    "    for i in range(0,len(list) - 1):\n",
    "        # print(list, i)\n",
    "        if list[i] > list[i + 1]:\n",
    "            (list[i+1], list[i]) = (list[i], list[i + 1])\n",
    "            changed = True\n",
    "            print(list)"
   ]
  }
 ],
 "metadata": {
  "kernelspec": {
   "display_name": "Python 3",
   "language": "python",
   "name": "python3"
  },
  "language_info": {
   "codemirror_mode": {
    "name": "ipython",
    "version": 3
   },
   "file_extension": ".py",
   "mimetype": "text/x-python",
   "name": "python",
   "nbconvert_exporter": "python",
   "pygments_lexer": "ipython3",
   "version": "3.8.8"
  }
 },
 "nbformat": 4,
 "nbformat_minor": 5
}
