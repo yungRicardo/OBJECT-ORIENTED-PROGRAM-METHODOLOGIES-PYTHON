{
 "cells": [
  {
   "cell_type": "markdown",
   "id": "dfe93e62",
   "metadata": {},
   "source": [
    "### In the Modules 1 and 2 we used this kind of construction without much explanation"
   ]
  },
  {
   "cell_type": "code",
   "execution_count": null,
   "id": "b2dc734a",
   "metadata": {},
   "outputs": [],
   "source": [
    "def main():\n",
    "    print(\"hi\")\n",
    "\n",
    "if __name__ == \"__main__\":\n",
    "    main()"
   ]
  },
  {
   "cell_type": "markdown",
   "id": "0e9496c5",
   "metadata": {},
   "source": [
    "- When you \"Run\" a Python module from the command line or from the \"run\" menu item in most IDE's, the interpreter sets a special variable called __name__ to \"__main__\".  \n",
    "- You can check the variable \\_\\_name\\_\\_ and then call the function main() if \\_\\_name\\_\\_ == \"\\_\\_main\\_\\_\".  "
   ]
  },
  {
   "cell_type": "code",
   "execution_count": 1,
   "id": "d5ae188a",
   "metadata": {},
   "outputs": [
    {
     "data": {
      "text/plain": [
       "'__main__'"
      ]
     },
     "execution_count": 1,
     "metadata": {},
     "output_type": "execute_result"
    }
   ],
   "source": [
    "__name__"
   ]
  },
  {
   "cell_type": "code",
   "execution_count": 2,
   "id": "6b3ccb1a",
   "metadata": {},
   "outputs": [
    {
     "name": "stdout",
     "output_type": "stream",
     "text": [
      "STEM Center\\ Temperature Project\n",
      "Mike Murphy\n"
     ]
    }
   ],
   "source": [
    "\"\"\"This module provides a function that prints the STEM Center application header\"\"\"\n",
    "\n",
    "def print_header():\n",
    "    \"\"\"\n",
    "    Print a header\n",
    "    \"\"\"\n",
    "    print(\"STEM Center\\ Temperature Project\")\n",
    "    print(\"Mike Murphy\")\n",
    "\n",
    "def main():\n",
    "    \"\"\"\n",
    "    This is the init test for for this module, the print_header finction is only executed when\n",
    "    the module is run directly, not when it is imported into another module\n",
    "    \"\"\"\n",
    "    print_header()\n",
    "\n",
    "if __name__ == \"__main__\":\n",
    "    \"\"\"\n",
    "    Is this module executed directly\n",
    "    __name__ == \"__main__\" \n",
    "    \n",
    "    or is it imported into another module\n",
    "    __name__ == \"name of the importing module\" \n",
    "     \n",
    "    This code block is only executed when the module is run directly by Python, not \n",
    "    as a result of being imported into another modulecode is main and to only execute in this context.\n",
    "    \"\"\"\n",
    "    main()"
   ]
  },
  {
   "cell_type": "code",
   "execution_count": null,
   "id": "2466e1b2",
   "metadata": {},
   "outputs": [],
   "source": []
  }
 ],
 "metadata": {
  "kernelspec": {
   "display_name": "Python 3 (ipykernel)",
   "language": "python",
   "name": "python3"
  },
  "language_info": {
   "codemirror_mode": {
    "name": "ipython",
    "version": 3
   },
   "file_extension": ".py",
   "mimetype": "text/x-python",
   "name": "python",
   "nbconvert_exporter": "python",
   "pygments_lexer": "ipython3",
   "version": "3.11.5"
  }
 },
 "nbformat": 4,
 "nbformat_minor": 5
}
