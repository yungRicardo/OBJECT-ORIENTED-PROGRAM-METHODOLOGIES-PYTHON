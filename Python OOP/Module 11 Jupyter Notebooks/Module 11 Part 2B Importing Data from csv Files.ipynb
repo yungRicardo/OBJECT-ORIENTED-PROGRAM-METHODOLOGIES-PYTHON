{
 "cells": [
  {
   "cell_type": "code",
   "execution_count": null,
   "id": "3ca5861f",
   "metadata": {},
   "outputs": [],
   "source": [
    "import pandas as pd"
   ]
  },
  {
   "cell_type": "markdown",
   "id": "ae9421ba",
   "metadata": {},
   "source": [
    "### Create the DataFrame from a csv file"
   ]
  },
  {
   "cell_type": "code",
   "execution_count": null,
   "id": "ce1408f2",
   "metadata": {},
   "outputs": [],
   "source": [
    "age_height = pd.read_csv(\"kids-height-final.csv\")"
   ]
  },
  {
   "cell_type": "markdown",
   "id": "f92fefdc",
   "metadata": {},
   "source": [
    "Display the first 5 rows"
   ]
  },
  {
   "cell_type": "code",
   "execution_count": null,
   "id": "09e36466",
   "metadata": {},
   "outputs": [],
   "source": [
    "age_height.head()"
   ]
  },
  {
   "cell_type": "markdown",
   "id": "ea128a5b",
   "metadata": {},
   "source": [
    "This looks better than the list of tuples from the last example because at least we have the column names properly setup.  The row index still isn't looking right though."
   ]
  },
  {
   "cell_type": "code",
   "execution_count": null,
   "id": "a075c934",
   "metadata": {},
   "outputs": [],
   "source": []
  }
 ],
 "metadata": {
  "kernelspec": {
   "display_name": "Python 3",
   "language": "python",
   "name": "python3"
  },
  "language_info": {
   "codemirror_mode": {
    "name": "ipython",
    "version": 3
   },
   "file_extension": ".py",
   "mimetype": "text/x-python",
   "name": "python",
   "nbconvert_exporter": "python",
   "pygments_lexer": "ipython3",
   "version": "3.8.8"
  }
 },
 "nbformat": 4,
 "nbformat_minor": 5
}
