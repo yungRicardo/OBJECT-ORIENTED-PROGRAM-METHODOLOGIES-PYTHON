{
 "cells": [
  {
   "cell_type": "markdown",
   "id": "b6c46a99",
   "metadata": {},
   "source": [
    "All the examples in 11.2 for importing data have shown problems with getting row index correct, and in some cases even the column names.  We'll see how we can change either the column names or row index after the DataFrame has been created.\n",
    "\n",
    "Taking the example from Module 11 - 2A where there is neither a proper column or row index, we can fix that performimg the following steps."
   ]
  },
  {
   "cell_type": "code",
   "execution_count": null,
   "id": "dfd48bdc",
   "metadata": {},
   "outputs": [],
   "source": [
    "import pandas as pd\n",
    "ages_heights = [(\"Age\",\"Daniel\",\"Anthony\",\"Jose\",\"Andrew\",\"Michael\",\"Jacob\",\"Alyssa\",\"Emily\",\"Ashley\",\"Samantha\",\"Jessica\",\"Jennifer\"),\n",
    "(\"2yr\",80,79,86,87,86,84,83,83,79,86,83,85),\n",
    "(\"5yr\",109,114,114,110,105,113,115,114,105,109,103,107),\n",
    "(\"10yr\",144,141,141,149,144,135,126,137,136,139,144,132),\n",
    "(\"15yr\",179,172,180,166,172,168,160,161,167,158,164,168)]"
   ]
  },
  {
   "cell_type": "code",
   "execution_count": null,
   "id": "9a5b35a3",
   "metadata": {},
   "outputs": [],
   "source": [
    "type(ages_heights)\n",
    "type(ages_heights[1])\n",
    "ah_frame = pd.DataFrame(ages_heights)\n",
    "ah_frame.head()"
   ]
  },
  {
   "cell_type": "markdown",
   "id": "873d45a0",
   "metadata": {},
   "source": [
    "## Assign column names from first element of ages_heights (a tuple of strings)"
   ]
  },
  {
   "cell_type": "code",
   "execution_count": null,
   "id": "784f259f",
   "metadata": {},
   "outputs": [],
   "source": [
    "ah_frame.columns = ages_heights[0]\n",
    "ah_frame.head()"
   ]
  },
  {
   "cell_type": "markdown",
   "id": "c94fc366",
   "metadata": {},
   "source": [
    "Great, the columns are no longer numbers, but there is a duplicate row, just below the column names."
   ]
  },
  {
   "cell_type": "markdown",
   "id": "994a053b",
   "metadata": {},
   "source": [
    "## We can easily drop that row with:"
   ]
  },
  {
   "cell_type": "code",
   "execution_count": null,
   "id": "76aa96bb",
   "metadata": {},
   "outputs": [],
   "source": [
    "ah_frame.drop(ah_frame.index[0], inplace=True)\n",
    "ah_frame.head()"
   ]
  },
  {
   "cell_type": "markdown",
   "id": "268c0aa3",
   "metadata": {},
   "source": [
    "Ok, we're half way there, now to the index."
   ]
  },
  {
   "cell_type": "markdown",
   "id": "1ad65c15",
   "metadata": {},
   "source": [
    "## We can set the index from a column itself by using the \"set_index()\" method:"
   ]
  },
  {
   "cell_type": "code",
   "execution_count": null,
   "id": "ec5592fc",
   "metadata": {},
   "outputs": [],
   "source": [
    "ah_frame.set_index('Age', inplace=True)\n",
    "ah_frame.head()"
   ]
  },
  {
   "cell_type": "markdown",
   "id": "8f6867f6",
   "metadata": {},
   "source": [
    "Now this is exactly what we want.  We have columns which have names, not numbers.  We have a index for the rows which correspond to ages. "
   ]
  },
  {
   "cell_type": "markdown",
   "id": "f7306b71",
   "metadata": {},
   "source": [
    "## We've gotten data into a Pandas DataFrame, now we'll look at how to get data out of a DataFrame."
   ]
  },
  {
   "cell_type": "code",
   "execution_count": null,
   "id": "d9ed4475",
   "metadata": {},
   "outputs": [],
   "source": []
  }
 ],
 "metadata": {
  "kernelspec": {
   "display_name": "Python 3",
   "language": "python",
   "name": "python3"
  },
  "language_info": {
   "codemirror_mode": {
    "name": "ipython",
    "version": 3
   },
   "file_extension": ".py",
   "mimetype": "text/x-python",
   "name": "python",
   "nbconvert_exporter": "python",
   "pygments_lexer": "ipython3",
   "version": "3.8.8"
  }
 },
 "nbformat": 4,
 "nbformat_minor": 5
}
