{
 "cells": [
  {
   "cell_type": "markdown",
   "id": "5182241b",
   "metadata": {},
   "source": [
    "## Review\n",
    "During this module, we learned two fundamental skills in pandas: \n",
    "- how to load data and \n",
    "- how to make data look the way you want.  \n",
    "\n",
    "It might have felt like drinking from a fire hose so feel free to review or come to Zoom lab to fill in any gaps.  \n",
    "\n",
    "If you want to learn more about Pandas, there are many tutorials and guides available.\n",
    "- pandas.org official provides excellent tutorials videos https://pandas.pydata.org/docs/getting_started/intro_tutorials/index.html.    \n",
    "    \n",
    "Experimenting is the best way to learn and some other important features of pandas is plotting your data https://pandas.pydata.org/docs/getting_started/intro_tutorials/04_plotting.html    \n",
    "    \n",
    "Running Statistical Calculations https://pandas.pydata.org/docs/getting_started/intro_tutorials/06_calculate_statistics.html"
   ]
  },
  {
   "cell_type": "code",
   "execution_count": null,
   "id": "12cfe7d1",
   "metadata": {},
   "outputs": [],
   "source": []
  }
 ],
 "metadata": {
  "kernelspec": {
   "display_name": "Python 3",
   "language": "python",
   "name": "python3"
  },
  "language_info": {
   "codemirror_mode": {
    "name": "ipython",
    "version": 3
   },
   "file_extension": ".py",
   "mimetype": "text/x-python",
   "name": "python",
   "nbconvert_exporter": "python",
   "pygments_lexer": "ipython3",
   "version": "3.8.8"
  }
 },
 "nbformat": 4,
 "nbformat_minor": 5
}
