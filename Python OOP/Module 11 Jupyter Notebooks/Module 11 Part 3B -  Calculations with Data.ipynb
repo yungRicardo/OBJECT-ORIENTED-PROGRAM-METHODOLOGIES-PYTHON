{
 "cells": [
  {
   "cell_type": "markdown",
   "id": "0004a04e",
   "metadata": {},
   "source": [
    "## What if you want to find:\n",
    "- the average number in your data.  \n",
    "- or the maximum?\n",
    "- Or you want to calculate some statistics.  Here are some examples to do that."
   ]
  },
  {
   "cell_type": "markdown",
   "id": "b34b98dd",
   "metadata": {},
   "source": [
    "## Min, Max and Average\n",
    "- Using the same country data set from Part 3A, you can get the larges country by population, using the \"max()\" method and getting the data at that location."
   ]
  },
  {
   "cell_type": "code",
   "execution_count": null,
   "id": "5b964915",
   "metadata": {},
   "outputs": [],
   "source": [
    "import pandas as pd\n",
    "myDataFrame = pd.read_csv(\"https://psme.foothill.edu/~20033409@ad.fhda.edu/cs3a/nations.csv\")"
   ]
  },
  {
   "cell_type": "code",
   "execution_count": null,
   "id": "d9231927",
   "metadata": {},
   "outputs": [],
   "source": [
    "#  returns the max of all the population\n",
    "myDataFrame[\"population\"].max()"
   ]
  },
  {
   "cell_type": "markdown",
   "id": "02486891",
   "metadata": {},
   "source": [
    "## What country is this? what year?, etc.  \n",
    " - The second method \"idxmax()\" returns the index (row number) of the value    \n",
    " - which then you can feed into the \"loc\" method to find out all the details."
   ]
  },
  {
   "cell_type": "code",
   "execution_count": null,
   "id": "71dcb120",
   "metadata": {},
   "outputs": [],
   "source": [
    "myDataFrame.loc[myDataFrame['population'].idxmax()]"
   ]
  },
  {
   "cell_type": "markdown",
   "id": "b01bf53f",
   "metadata": {},
   "source": [
    "Let's find the average (arithmetic mean) life expectancy in the East Asia & Pacific region.   \n",
    "- To do this \n",
    " - we need to combine multiple queries, including only looking at life expectancy from a certain region,   \n",
    " - then calculate the average for the latest year (2014) that data is available.    \n",
    "- In this example we use the \"query()\" method since it will make the query look much cleaner."
   ]
  },
  {
   "cell_type": "code",
   "execution_count": null,
   "id": "32164924",
   "metadata": {},
   "outputs": [],
   "source": [
    "myDataFrame.query(\"(region == 'East Asia & Pacific') and (year == 2014)\")[\"life_expect\"].mean()"
   ]
  },
  {
   "cell_type": "markdown",
   "id": "a56da6ff",
   "metadata": {},
   "source": [
    "If you look into the data, some of the life_expect numbers are missing.    \n",
    "- Pandas handles that fine and just gives the mean (average) where it's available.   \n",
    "    \n",
    "Let's assume that we posit that high income countries will have a higher life expectancy than lower income countries.  We can test this easily, using the following one-liner:"
   ]
  },
  {
   "cell_type": "code",
   "execution_count": null,
   "id": "50760465",
   "metadata": {},
   "outputs": [],
   "source": [
    "myDataFrame.query(\"(region == 'East Asia & Pacific') and (income == 'High income')\")[\"life_expect\"].mean() > \\\n",
    "    myDataFrame.query(\"(region == 'East Asia & Pacific') and (income == 'Low income')\")[\"life_expect\"].mean()"
   ]
  },
  {
   "cell_type": "markdown",
   "id": "57c740f6",
   "metadata": {},
   "source": [
    "Note: this doesn't tell us anything about statistical significance, just that life expectancy is higher in high income countries compared to low income countries (in East Asia).   \n",
    " - Pandas and Python has a suite of tools to perform statistical calculations.  \n",
    " - Here's a useful video on YouTube that covers statistics https://www.youtube.com/watch?v=eMOA1pPVUc4"
   ]
  },
  {
   "cell_type": "markdown",
   "id": "2295be31",
   "metadata": {},
   "source": [
    "## Custom Functions"
   ]
  },
  {
   "cell_type": "markdown",
   "id": "a497d5b4",
   "metadata": {},
   "source": [
    "Notice in our data, there is a line for GDP per Capita but what if you want the raw GDP number?     \n",
    "- You can calculate that using a lambda function.  \n",
    "- We want the number in Billions of dollars (10^9 dollars) so it's easier to understand.    \n",
    "- Check to make sure everything looks ok too."
   ]
  },
  {
   "cell_type": "code",
   "execution_count": null,
   "id": "8a31cc24",
   "metadata": {},
   "outputs": [],
   "source": [
    "myDataFrame[\"GDP (Billions)\"] = myDataFrame.apply(lambda x: x['gdp_percap'] * x['population'] * 10**-9,axis=1)"
   ]
  },
  {
   "cell_type": "code",
   "execution_count": null,
   "id": "5ba6ed7d",
   "metadata": {},
   "outputs": [],
   "source": [
    "myDataFrame.query(\"year == 2014\")[[\"country\",\"income\",\"population\",\"gdp_percap\", \"GDP (Billions)\"]]"
   ]
  },
  {
   "cell_type": "markdown",
   "id": "7360adf4",
   "metadata": {},
   "source": [
    "For more on lambda fuction https://www.youtube.com/watch?v=Ob9rY6PQMfI"
   ]
  },
  {
   "cell_type": "code",
   "execution_count": null,
   "id": "38c43aa1",
   "metadata": {},
   "outputs": [],
   "source": []
  }
 ],
 "metadata": {
  "kernelspec": {
   "display_name": "Python 3",
   "language": "python",
   "name": "python3"
  },
  "language_info": {
   "codemirror_mode": {
    "name": "ipython",
    "version": 3
   },
   "file_extension": ".py",
   "mimetype": "text/x-python",
   "name": "python",
   "nbconvert_exporter": "python",
   "pygments_lexer": "ipython3",
   "version": "3.8.8"
  }
 },
 "nbformat": 4,
 "nbformat_minor": 5
}
