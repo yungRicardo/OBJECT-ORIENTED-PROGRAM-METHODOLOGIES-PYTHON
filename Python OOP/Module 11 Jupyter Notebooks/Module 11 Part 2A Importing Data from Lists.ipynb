{
 "cells": [
  {
   "cell_type": "markdown",
   "id": "d6a79d01",
   "metadata": {},
   "source": [
    "## Importing Data from Lists\n",
    "As you saw in the previous page, Pandas can load data directly from a web-hosted CSV file.  \n",
    "\n",
    "There are many other ways to get data into a DataFrame that we'll explore in the following pages.  \n",
    "\n",
    "All these examples will show how to import the height and age data into the DataFrame."
   ]
  },
  {
   "cell_type": "code",
   "execution_count": null,
   "id": "272b25bd",
   "metadata": {},
   "outputs": [],
   "source": [
    "import pandas as pd"
   ]
  },
  {
   "cell_type": "markdown",
   "id": "c7b2fd0c",
   "metadata": {},
   "source": [
    "### The source data is a list of tuples"
   ]
  },
  {
   "cell_type": "code",
   "execution_count": null,
   "id": "fd2711e7",
   "metadata": {},
   "outputs": [],
   "source": [
    "ages_heights = [(\"Age\",\"Daniel\",\"Anthony\",\"Jose\",\"Andrew\",\"Michael\",\"Jacob\",\"Alyssa\",\"Emily\",\"Ashley\",\"Samantha\",\"Jessica\",\"Jennifer\"),\n",
    "(\"2yr\",80,79,86,87,86,84,83,83,79,86,83,85),\n",
    "(\"5yr\",109,114,114,110,105,113,115,114,105,109,103,107),\n",
    "(\"10yr\",144,141,141,149,144,135,126,137,136,139,144,132),\n",
    "(\"15yr\",179,172,180,166,172,168,160,161,167,158,164,168)]"
   ]
  },
  {
   "cell_type": "code",
   "execution_count": null,
   "id": "63d0a84b",
   "metadata": {},
   "outputs": [],
   "source": [
    "type(ages_heights)"
   ]
  },
  {
   "cell_type": "code",
   "execution_count": null,
   "id": "2b467737",
   "metadata": {},
   "outputs": [],
   "source": [
    "type(ages_heights[1])"
   ]
  },
  {
   "cell_type": "markdown",
   "id": "839ca32d",
   "metadata": {},
   "source": [
    "### Create a DataFrame named ah_frame"
   ]
  },
  {
   "cell_type": "code",
   "execution_count": null,
   "id": "03bb8287",
   "metadata": {},
   "outputs": [],
   "source": [
    "ah_frame = pd.DataFrame(ages_heights)"
   ]
  },
  {
   "cell_type": "markdown",
   "id": "5f936b2e",
   "metadata": {},
   "source": [
    "#### Output the first 5 rows uses the default headers"
   ]
  },
  {
   "cell_type": "code",
   "execution_count": null,
   "id": "df9e5bea",
   "metadata": {},
   "outputs": [],
   "source": [
    "ah_frame.head()"
   ]
  },
  {
   "cell_type": "markdown",
   "id": "45ca7599",
   "metadata": {},
   "source": [
    "This results in a DataFrame like we expect, but   \n",
    "- this DataFrame has a row of numbers abd a row of colums\n",
    "    \n",
    "We will fix these two problems later."
   ]
  },
  {
   "cell_type": "code",
   "execution_count": null,
   "id": "46ded061",
   "metadata": {},
   "outputs": [],
   "source": []
  }
 ],
 "metadata": {
  "kernelspec": {
   "display_name": "Python 3",
   "language": "python",
   "name": "python3"
  },
  "language_info": {
   "codemirror_mode": {
    "name": "ipython",
    "version": 3
   },
   "file_extension": ".py",
   "mimetype": "text/x-python",
   "name": "python",
   "nbconvert_exporter": "python",
   "pygments_lexer": "ipython3",
   "version": "3.8.8"
  }
 },
 "nbformat": 4,
 "nbformat_minor": 5
}
