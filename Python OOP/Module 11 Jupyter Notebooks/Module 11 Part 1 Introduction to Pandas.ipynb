{
 "cells": [
  {
   "cell_type": "markdown",
   "id": "a84af0d6",
   "metadata": {},
   "source": [
    "## Where we are\n",
    "- This module will sound different from previous ones because it is a more direct lesson about a Python package called Pandas and will directly relate to the lab work you've been doing. So far, our labs have been looking at temperature data and organizing them using Python.  Python is a very popular language for performing these activities and Pandas is an exceptional package to assist you .  In Module 11 we'll show you how to use Pandas to organize similar data and in Lab 11 you will put Pandas into practice."
   ]
  },
  {
   "cell_type": "code",
   "execution_count": 2,
   "id": "213bac1c",
   "metadata": {},
   "outputs": [
    {
     "data": {
      "text/html": [
       "<div>\n",
       "<style scoped>\n",
       "    .dataframe tbody tr th:only-of-type {\n",
       "        vertical-align: middle;\n",
       "    }\n",
       "\n",
       "    .dataframe tbody tr th {\n",
       "        vertical-align: top;\n",
       "    }\n",
       "\n",
       "    .dataframe thead th {\n",
       "        text-align: right;\n",
       "    }\n",
       "</style>\n",
       "<table border=\"1\" class=\"dataframe\">\n",
       "  <thead>\n",
       "    <tr style=\"text-align: right;\">\n",
       "      <th></th>\n",
       "      <th>Age</th>\n",
       "      <th>Daniel</th>\n",
       "      <th>Anthony</th>\n",
       "      <th>Jose</th>\n",
       "      <th>Andrew</th>\n",
       "      <th>Michael</th>\n",
       "      <th>Jacob</th>\n",
       "      <th>Alyssa</th>\n",
       "      <th>Emily</th>\n",
       "      <th>Ashley</th>\n",
       "      <th>Samantha</th>\n",
       "      <th>Jessica</th>\n",
       "      <th>Jennifer</th>\n",
       "    </tr>\n",
       "  </thead>\n",
       "  <tbody>\n",
       "    <tr>\n",
       "      <th>0</th>\n",
       "      <td>2yr</td>\n",
       "      <td>80</td>\n",
       "      <td>79</td>\n",
       "      <td>86</td>\n",
       "      <td>87</td>\n",
       "      <td>86</td>\n",
       "      <td>84</td>\n",
       "      <td>83</td>\n",
       "      <td>83</td>\n",
       "      <td>79</td>\n",
       "      <td>86</td>\n",
       "      <td>83</td>\n",
       "      <td>85</td>\n",
       "    </tr>\n",
       "    <tr>\n",
       "      <th>1</th>\n",
       "      <td>5yr</td>\n",
       "      <td>109</td>\n",
       "      <td>114</td>\n",
       "      <td>114</td>\n",
       "      <td>110</td>\n",
       "      <td>105</td>\n",
       "      <td>113</td>\n",
       "      <td>115</td>\n",
       "      <td>114</td>\n",
       "      <td>105</td>\n",
       "      <td>109</td>\n",
       "      <td>103</td>\n",
       "      <td>107</td>\n",
       "    </tr>\n",
       "    <tr>\n",
       "      <th>2</th>\n",
       "      <td>10yr</td>\n",
       "      <td>144</td>\n",
       "      <td>141</td>\n",
       "      <td>141</td>\n",
       "      <td>149</td>\n",
       "      <td>144</td>\n",
       "      <td>135</td>\n",
       "      <td>126</td>\n",
       "      <td>137</td>\n",
       "      <td>136</td>\n",
       "      <td>139</td>\n",
       "      <td>144</td>\n",
       "      <td>132</td>\n",
       "    </tr>\n",
       "    <tr>\n",
       "      <th>3</th>\n",
       "      <td>15yr</td>\n",
       "      <td>179</td>\n",
       "      <td>172</td>\n",
       "      <td>180</td>\n",
       "      <td>166</td>\n",
       "      <td>172</td>\n",
       "      <td>168</td>\n",
       "      <td>160</td>\n",
       "      <td>161</td>\n",
       "      <td>167</td>\n",
       "      <td>158</td>\n",
       "      <td>164</td>\n",
       "      <td>168</td>\n",
       "    </tr>\n",
       "  </tbody>\n",
       "</table>\n",
       "</div>"
      ],
      "text/plain": [
       "    Age  Daniel  Anthony  Jose  Andrew  Michael  Jacob  Alyssa  Emily  Ashley  \\\n",
       "0   2yr      80       79    86      87       86     84      83     83      79   \n",
       "1   5yr     109      114   114     110      105    113     115    114     105   \n",
       "2  10yr     144      141   141     149      144    135     126    137     136   \n",
       "3  15yr     179      172   180     166      172    168     160    161     167   \n",
       "\n",
       "   Samantha  Jessica  Jennifer  \n",
       "0        86       83        85  \n",
       "1       109      103       107  \n",
       "2       139      144       132  \n",
       "3       158      164       168  "
      ]
     },
     "execution_count": 2,
     "metadata": {},
     "output_type": "execute_result"
    }
   ],
   "source": [
    "import pandas as pd\n",
    "kids_heights = pd.read_csv(\"http://psme.foothill.edu/~20033409@ad.fhda.edu/cs3a/kids-height-final.csv\")\n",
    "kids_heights"
   ]
  },
  {
   "cell_type": "code",
   "execution_count": 5,
   "id": "633d3bef",
   "metadata": {},
   "outputs": [
    {
     "data": {
      "text/plain": [
       "pandas.core.frame.DataFrame"
      ]
     },
     "execution_count": 5,
     "metadata": {},
     "output_type": "execute_result"
    }
   ],
   "source": [
    "type(kids_heights)"
   ]
  },
  {
   "cell_type": "code",
   "execution_count": 9,
   "id": "3231ea9a",
   "metadata": {},
   "outputs": [
    {
     "data": {
      "text/plain": [
       "0     80\n",
       "1    109\n",
       "2    144\n",
       "3    179\n",
       "Name: Daniel, dtype: int64"
      ]
     },
     "execution_count": 9,
     "metadata": {},
     "output_type": "execute_result"
    }
   ],
   "source": [
    "kids_heights[\"Daniel\"]"
   ]
  },
  {
   "cell_type": "code",
   "execution_count": 10,
   "id": "f66f4e51",
   "metadata": {},
   "outputs": [
    {
     "data": {
      "text/plain": [
       "pandas.core.series.Series"
      ]
     },
     "execution_count": 10,
     "metadata": {},
     "output_type": "execute_result"
    }
   ],
   "source": [
    "type(kids_heights[\"Daniel\"])"
   ]
  },
  {
   "cell_type": "code",
   "execution_count": null,
   "id": "d446a1c1",
   "metadata": {},
   "outputs": [],
   "source": []
  }
 ],
 "metadata": {
  "kernelspec": {
   "display_name": "Python 3",
   "language": "python",
   "name": "python3"
  },
  "language_info": {
   "codemirror_mode": {
    "name": "ipython",
    "version": 3
   },
   "file_extension": ".py",
   "mimetype": "text/x-python",
   "name": "python",
   "nbconvert_exporter": "python",
   "pygments_lexer": "ipython3",
   "version": "3.8.8"
  }
 },
 "nbformat": 4,
 "nbformat_minor": 5
}
