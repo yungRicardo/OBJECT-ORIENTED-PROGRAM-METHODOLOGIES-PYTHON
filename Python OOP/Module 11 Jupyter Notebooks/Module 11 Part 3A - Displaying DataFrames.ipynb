{
 "cells": [
  {
   "cell_type": "markdown",
   "id": "dad1673c",
   "metadata": {},
   "source": [
    "## Intrduction to Getting Data From a DataFrame"
   ]
  },
  {
   "cell_type": "markdown",
   "id": "705d4bcc",
   "metadata": {},
   "source": [
    "Each time we wanted to display our DataFrame we used the \"head()\" method.  \n",
    "- This will display the first 5 rows and all the columns.    \n",
    "- In our case, our data is only 5 columns so it's somewhat redundant    \n",
    "- but if you have lots of data (say the Titanic data from 11.1) you'll probably want to only display as much as your screen can handle.    \n",
    "- Further, what if you don't want all the columns?  What if you want data that fits a certain criteria?"
   ]
  },
  {
   "cell_type": "markdown",
   "id": "9e69f46c",
   "metadata": {},
   "source": [
    "## For this part of the module, we'll use a data set of nations and various statistics "
   ]
  },
  {
   "cell_type": "code",
   "execution_count": null,
   "id": "642b8a8e",
   "metadata": {},
   "outputs": [],
   "source": [
    "import pandas as pd\n",
    "myDataFrame = pd.read_csv(\"https://psme.foothill.edu/~20033409@ad.fhda.edu/cs3a/nations.csv\")"
   ]
  },
  {
   "cell_type": "markdown",
   "id": "091901c8",
   "metadata": {},
   "source": [
    "You can also use the data from the 11.2 examples if you like, but there's more data in the nations.csv file so you'll have more interesting queries to run.  I suggest trying both."
   ]
  },
  {
   "cell_type": "markdown",
   "id": "e49d9cd1",
   "metadata": {},
   "source": [
    "## Getting a Column or Two..."
   ]
  },
  {
   "cell_type": "markdown",
   "id": "99f586d3",
   "metadata": {},
   "source": [
    "Remember from the Introduction page in this module    \n",
    "- A Pandas DataFrame is a composed of Series, if you get a single column from a DataFrame, you actually get a series.   \n",
    "- You get a column by putting the column name in quotes and brackets after the DataFrame variable name. "
   ]
  },
  {
   "cell_type": "markdown",
   "id": "af2801ed",
   "metadata": {},
   "source": [
    "If you want multiple columns, you can pass the DataFrame a list of columns. Note: this will give you back a new DataFrame not a Series, since a Series can be only one column wide."
   ]
  },
  {
   "cell_type": "code",
   "execution_count": null,
   "id": "c67842e7",
   "metadata": {},
   "outputs": [],
   "source": [
    "myDataFrame[\"country\"]  # this gives you a Series type"
   ]
  },
  {
   "cell_type": "markdown",
   "id": "50b998bd",
   "metadata": {},
   "source": [
    "That's great, but notice that the years are not in order (nor are the countries because Afghanistan comes before Andorra).  To sort, add \"sort_by\" and sort by country and year:"
   ]
  },
  {
   "cell_type": "code",
   "execution_count": null,
   "id": "229cccf7",
   "metadata": {},
   "outputs": [],
   "source": [
    "myDataFrame[[\"year\",\"country\",\"population\"]].sort_values([\"country\",\"year\"]) "
   ]
  },
  {
   "cell_type": "markdown",
   "id": "c679a3f7",
   "metadata": {},
   "source": [
    "## Getting Data of a Certain Value"
   ]
  },
  {
   "cell_type": "markdown",
   "id": "746a7466",
   "metadata": {},
   "source": [
    "What if you want to get all the data for (Republic of) Ireland or you want to get all the values for all the countries after 2010, you can filter out data using the a conditional in brackets:"
   ]
  },
  {
   "cell_type": "code",
   "execution_count": null,
   "id": "12cfe081",
   "metadata": {},
   "outputs": [],
   "source": [
    "myDataFrame[myDataFrame[\"country\"] == \"Ireland\"].sort_values(\"year\")\n",
    "myDataFrame[myDataFrame[\"year\"] > 2010].sort_values(\"country\")"
   ]
  },
  {
   "cell_type": "markdown",
   "id": "1b7f7155",
   "metadata": {},
   "source": [
    "I'll let you test these for yourself and play around."
   ]
  },
  {
   "cell_type": "markdown",
   "id": "5cb9ca94",
   "metadata": {},
   "source": [
    "Limiting the Amount of Data Displayed"
   ]
  },
  {
   "cell_type": "markdown",
   "id": "968cc1f3",
   "metadata": {},
   "source": [
    "We've used \"head()\" and you can also use \"tail()\".  \n",
    "- Those give you the first 5 and last 5 values from the DataFrame, respectively and \n",
    "- you can change the default 5 to a custom number like 20 easily: head(20) and/or tail(10)\n",
    "- You can also slice the data by using a bracket just like a list.  For example, you want to get the data 5-20 or some middle values.  You can use a number separated by colons in the brackets."
   ]
  },
  {
   "cell_type": "code",
   "execution_count": null,
   "id": "a4853e20",
   "metadata": {},
   "outputs": [],
   "source": [
    "myDataFrame.head(10)"
   ]
  },
  {
   "cell_type": "code",
   "execution_count": null,
   "id": "69e600e7",
   "metadata": {},
   "outputs": [],
   "source": [
    "myDataFrame.tail(20)"
   ]
  },
  {
   "cell_type": "code",
   "execution_count": null,
   "id": "386bbd22",
   "metadata": {},
   "outputs": [],
   "source": [
    "myDataFrame[5:20]"
   ]
  },
  {
   "cell_type": "code",
   "execution_count": null,
   "id": "e5a03871",
   "metadata": {},
   "outputs": [],
   "source": []
  }
 ],
 "metadata": {
  "kernelspec": {
   "display_name": "Python 3",
   "language": "python",
   "name": "python3"
  },
  "language_info": {
   "codemirror_mode": {
    "name": "ipython",
    "version": 3
   },
   "file_extension": ".py",
   "mimetype": "text/x-python",
   "name": "python",
   "nbconvert_exporter": "python",
   "pygments_lexer": "ipython3",
   "version": "3.8.8"
  }
 },
 "nbformat": 4,
 "nbformat_minor": 5
}
