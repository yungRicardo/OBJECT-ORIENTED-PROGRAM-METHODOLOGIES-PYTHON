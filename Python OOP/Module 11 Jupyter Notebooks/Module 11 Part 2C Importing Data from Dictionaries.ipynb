{
 "cells": [
  {
   "cell_type": "code",
   "execution_count": null,
   "id": "c956e502",
   "metadata": {},
   "outputs": [],
   "source": [
    "import pandas as pd"
   ]
  },
  {
   "cell_type": "markdown",
   "id": "11239c1b",
   "metadata": {},
   "source": [
    "Create the dict object"
   ]
  },
  {
   "cell_type": "code",
   "execution_count": null,
   "id": "302d7273",
   "metadata": {},
   "outputs": [],
   "source": [
    "ages_heights = {'Daniel': [80, 109, 144, 179],\n",
    " 'Anthony': [79, 114, 141, 172],\n",
    " 'Jose': [86, 114, 141, 180],\n",
    " 'Andrew': [87, 110, 149, 166],\n",
    " 'Michael': [86, 105, 144, 172],\n",
    " 'Jacob': [84, 113, 135, 168],\n",
    " 'Alyssa': [83, 115, 126, 160],\n",
    " 'Emily': [83, 114, 137, 161],\n",
    " 'Ashley': [79, 105, 136, 167],\n",
    " 'Samantha': [86, 109, 139, 158],\n",
    " 'Jessica': [83, 103, 144, 164],\n",
    " 'Jennifer': [85, 107, 132, 168]}"
   ]
  },
  {
   "cell_type": "markdown",
   "id": "bdced491",
   "metadata": {},
   "source": [
    "Verify that ages_height is a dict"
   ]
  },
  {
   "cell_type": "code",
   "execution_count": null,
   "id": "505ce0e9",
   "metadata": {},
   "outputs": [],
   "source": [
    "type(ages_heights)"
   ]
  },
  {
   "cell_type": "markdown",
   "id": "3ffb2d29",
   "metadata": {},
   "source": [
    "The valuses in the dict are lists"
   ]
  },
  {
   "cell_type": "code",
   "execution_count": null,
   "id": "66852414",
   "metadata": {},
   "outputs": [],
   "source": [
    "type(ages_heights[\"Daniel\"])"
   ]
  },
  {
   "cell_type": "markdown",
   "id": "d8164414",
   "metadata": {},
   "source": [
    "### Create the DataFrame"
   ]
  },
  {
   "cell_type": "code",
   "execution_count": null,
   "id": "e981d75f",
   "metadata": {},
   "outputs": [],
   "source": [
    "ah_frame = pd.DataFrame(ages_heights)"
   ]
  },
  {
   "cell_type": "markdown",
   "id": "318f51cc",
   "metadata": {},
   "source": [
    "Display the first 5 entries"
   ]
  },
  {
   "cell_type": "code",
   "execution_count": null,
   "id": "af22ce64",
   "metadata": {},
   "outputs": [],
   "source": [
    "ah_frame.head()"
   ]
  },
  {
   "cell_type": "markdown",
   "id": "85b702e0",
   "metadata": {},
   "source": [
    "This is identical to importing from CSV.  We got column names but not a row index"
   ]
  },
  {
   "cell_type": "code",
   "execution_count": null,
   "id": "25c50fed",
   "metadata": {},
   "outputs": [],
   "source": []
  }
 ],
 "metadata": {
  "kernelspec": {
   "display_name": "Python 3",
   "language": "python",
   "name": "python3"
  },
  "language_info": {
   "codemirror_mode": {
    "name": "ipython",
    "version": 3
   },
   "file_extension": ".py",
   "mimetype": "text/x-python",
   "name": "python",
   "nbconvert_exporter": "python",
   "pygments_lexer": "ipython3",
   "version": "3.8.8"
  }
 },
 "nbformat": 4,
 "nbformat_minor": 5
}
